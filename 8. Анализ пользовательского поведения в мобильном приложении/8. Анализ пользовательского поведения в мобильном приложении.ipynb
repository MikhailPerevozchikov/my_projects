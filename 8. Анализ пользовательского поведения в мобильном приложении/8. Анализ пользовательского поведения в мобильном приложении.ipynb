{
 "cells": [
  {
   "cell_type": "markdown",
   "metadata": {},
   "source": [
    "***Откройте файл с данными и изучите общую информацию***"
   ]
  },
  {
   "cell_type": "code",
   "execution_count": 1,
   "metadata": {},
   "outputs": [],
   "source": [
    "#импортируем библиотеки\n",
    "import numpy as np\n",
    "import pandas as pd\n",
    "import datetime as dt\n",
    "import matplotlib.pyplot as plt\n",
    "import seaborn as sns\n",
    "import plotly.express as px\n",
    "from plotly import graph_objects as gr\n",
    "import math as mth\n",
    "from scipy import stats as st"
   ]
  },
  {
   "cell_type": "code",
   "execution_count": 2,
   "metadata": {},
   "outputs": [],
   "source": [
    "df = pd.read_csv('/datasets/logs_exp.csv', sep='\\t')"
   ]
  },
  {
   "cell_type": "code",
   "execution_count": 3,
   "metadata": {},
   "outputs": [
    {
     "data": {
      "text/html": [
       "<div>\n",
       "<style scoped>\n",
       "    .dataframe tbody tr th:only-of-type {\n",
       "        vertical-align: middle;\n",
       "    }\n",
       "\n",
       "    .dataframe tbody tr th {\n",
       "        vertical-align: top;\n",
       "    }\n",
       "\n",
       "    .dataframe thead th {\n",
       "        text-align: right;\n",
       "    }\n",
       "</style>\n",
       "<table border=\"1\" class=\"dataframe\">\n",
       "  <thead>\n",
       "    <tr style=\"text-align: right;\">\n",
       "      <th></th>\n",
       "      <th>EventName</th>\n",
       "      <th>DeviceIDHash</th>\n",
       "      <th>EventTimestamp</th>\n",
       "      <th>ExpId</th>\n",
       "    </tr>\n",
       "  </thead>\n",
       "  <tbody>\n",
       "    <tr>\n",
       "      <th>0</th>\n",
       "      <td>MainScreenAppear</td>\n",
       "      <td>4575588528974610257</td>\n",
       "      <td>1564029816</td>\n",
       "      <td>246</td>\n",
       "    </tr>\n",
       "    <tr>\n",
       "      <th>1</th>\n",
       "      <td>MainScreenAppear</td>\n",
       "      <td>7416695313311560658</td>\n",
       "      <td>1564053102</td>\n",
       "      <td>246</td>\n",
       "    </tr>\n",
       "    <tr>\n",
       "      <th>2</th>\n",
       "      <td>PaymentScreenSuccessful</td>\n",
       "      <td>3518123091307005509</td>\n",
       "      <td>1564054127</td>\n",
       "      <td>248</td>\n",
       "    </tr>\n",
       "    <tr>\n",
       "      <th>3</th>\n",
       "      <td>CartScreenAppear</td>\n",
       "      <td>3518123091307005509</td>\n",
       "      <td>1564054127</td>\n",
       "      <td>248</td>\n",
       "    </tr>\n",
       "    <tr>\n",
       "      <th>4</th>\n",
       "      <td>PaymentScreenSuccessful</td>\n",
       "      <td>6217807653094995999</td>\n",
       "      <td>1564055322</td>\n",
       "      <td>248</td>\n",
       "    </tr>\n",
       "    <tr>\n",
       "      <th>...</th>\n",
       "      <td>...</td>\n",
       "      <td>...</td>\n",
       "      <td>...</td>\n",
       "      <td>...</td>\n",
       "    </tr>\n",
       "    <tr>\n",
       "      <th>244121</th>\n",
       "      <td>MainScreenAppear</td>\n",
       "      <td>4599628364049201812</td>\n",
       "      <td>1565212345</td>\n",
       "      <td>247</td>\n",
       "    </tr>\n",
       "    <tr>\n",
       "      <th>244122</th>\n",
       "      <td>MainScreenAppear</td>\n",
       "      <td>5849806612437486590</td>\n",
       "      <td>1565212439</td>\n",
       "      <td>246</td>\n",
       "    </tr>\n",
       "    <tr>\n",
       "      <th>244123</th>\n",
       "      <td>MainScreenAppear</td>\n",
       "      <td>5746969938801999050</td>\n",
       "      <td>1565212483</td>\n",
       "      <td>246</td>\n",
       "    </tr>\n",
       "    <tr>\n",
       "      <th>244124</th>\n",
       "      <td>MainScreenAppear</td>\n",
       "      <td>5746969938801999050</td>\n",
       "      <td>1565212498</td>\n",
       "      <td>246</td>\n",
       "    </tr>\n",
       "    <tr>\n",
       "      <th>244125</th>\n",
       "      <td>OffersScreenAppear</td>\n",
       "      <td>5746969938801999050</td>\n",
       "      <td>1565212517</td>\n",
       "      <td>246</td>\n",
       "    </tr>\n",
       "  </tbody>\n",
       "</table>\n",
       "<p>244126 rows × 4 columns</p>\n",
       "</div>"
      ],
      "text/plain": [
       "                      EventName         DeviceIDHash  EventTimestamp  ExpId\n",
       "0              MainScreenAppear  4575588528974610257      1564029816    246\n",
       "1              MainScreenAppear  7416695313311560658      1564053102    246\n",
       "2       PaymentScreenSuccessful  3518123091307005509      1564054127    248\n",
       "3              CartScreenAppear  3518123091307005509      1564054127    248\n",
       "4       PaymentScreenSuccessful  6217807653094995999      1564055322    248\n",
       "...                         ...                  ...             ...    ...\n",
       "244121         MainScreenAppear  4599628364049201812      1565212345    247\n",
       "244122         MainScreenAppear  5849806612437486590      1565212439    246\n",
       "244123         MainScreenAppear  5746969938801999050      1565212483    246\n",
       "244124         MainScreenAppear  5746969938801999050      1565212498    246\n",
       "244125       OffersScreenAppear  5746969938801999050      1565212517    246\n",
       "\n",
       "[244126 rows x 4 columns]"
      ]
     },
     "execution_count": 3,
     "metadata": {},
     "output_type": "execute_result"
    }
   ],
   "source": [
    "df"
   ]
  },
  {
   "cell_type": "code",
   "execution_count": 4,
   "metadata": {},
   "outputs": [
    {
     "name": "stdout",
     "output_type": "stream",
     "text": [
      "<class 'pandas.core.frame.DataFrame'>\n",
      "RangeIndex: 244126 entries, 0 to 244125\n",
      "Data columns (total 4 columns):\n",
      " #   Column          Non-Null Count   Dtype \n",
      "---  ------          --------------   ----- \n",
      " 0   EventName       244126 non-null  object\n",
      " 1   DeviceIDHash    244126 non-null  int64 \n",
      " 2   EventTimestamp  244126 non-null  int64 \n",
      " 3   ExpId           244126 non-null  int64 \n",
      "dtypes: int64(3), object(1)\n",
      "memory usage: 7.5+ MB\n"
     ]
    }
   ],
   "source": [
    "df.info()"
   ]
  },
  {
   "cell_type": "code",
   "execution_count": 5,
   "metadata": {},
   "outputs": [
    {
     "data": {
      "text/html": [
       "<div>\n",
       "<style scoped>\n",
       "    .dataframe tbody tr th:only-of-type {\n",
       "        vertical-align: middle;\n",
       "    }\n",
       "\n",
       "    .dataframe tbody tr th {\n",
       "        vertical-align: top;\n",
       "    }\n",
       "\n",
       "    .dataframe thead th {\n",
       "        text-align: right;\n",
       "    }\n",
       "</style>\n",
       "<table border=\"1\" class=\"dataframe\">\n",
       "  <thead>\n",
       "    <tr style=\"text-align: right;\">\n",
       "      <th></th>\n",
       "      <th>DeviceIDHash</th>\n",
       "      <th>EventTimestamp</th>\n",
       "      <th>ExpId</th>\n",
       "    </tr>\n",
       "  </thead>\n",
       "  <tbody>\n",
       "    <tr>\n",
       "      <th>count</th>\n",
       "      <td>2.441260e+05</td>\n",
       "      <td>2.441260e+05</td>\n",
       "      <td>244126.000000</td>\n",
       "    </tr>\n",
       "    <tr>\n",
       "      <th>mean</th>\n",
       "      <td>4.627568e+18</td>\n",
       "      <td>1.564914e+09</td>\n",
       "      <td>247.022296</td>\n",
       "    </tr>\n",
       "    <tr>\n",
       "      <th>std</th>\n",
       "      <td>2.642425e+18</td>\n",
       "      <td>1.771343e+05</td>\n",
       "      <td>0.824434</td>\n",
       "    </tr>\n",
       "    <tr>\n",
       "      <th>min</th>\n",
       "      <td>6.888747e+15</td>\n",
       "      <td>1.564030e+09</td>\n",
       "      <td>246.000000</td>\n",
       "    </tr>\n",
       "    <tr>\n",
       "      <th>25%</th>\n",
       "      <td>2.372212e+18</td>\n",
       "      <td>1.564757e+09</td>\n",
       "      <td>246.000000</td>\n",
       "    </tr>\n",
       "    <tr>\n",
       "      <th>50%</th>\n",
       "      <td>4.623192e+18</td>\n",
       "      <td>1.564919e+09</td>\n",
       "      <td>247.000000</td>\n",
       "    </tr>\n",
       "    <tr>\n",
       "      <th>75%</th>\n",
       "      <td>6.932517e+18</td>\n",
       "      <td>1.565075e+09</td>\n",
       "      <td>248.000000</td>\n",
       "    </tr>\n",
       "    <tr>\n",
       "      <th>max</th>\n",
       "      <td>9.222603e+18</td>\n",
       "      <td>1.565213e+09</td>\n",
       "      <td>248.000000</td>\n",
       "    </tr>\n",
       "  </tbody>\n",
       "</table>\n",
       "</div>"
      ],
      "text/plain": [
       "       DeviceIDHash  EventTimestamp          ExpId\n",
       "count  2.441260e+05    2.441260e+05  244126.000000\n",
       "mean   4.627568e+18    1.564914e+09     247.022296\n",
       "std    2.642425e+18    1.771343e+05       0.824434\n",
       "min    6.888747e+15    1.564030e+09     246.000000\n",
       "25%    2.372212e+18    1.564757e+09     246.000000\n",
       "50%    4.623192e+18    1.564919e+09     247.000000\n",
       "75%    6.932517e+18    1.565075e+09     248.000000\n",
       "max    9.222603e+18    1.565213e+09     248.000000"
      ]
     },
     "execution_count": 5,
     "metadata": {},
     "output_type": "execute_result"
    }
   ],
   "source": [
    "df.describe()"
   ]
  },
  {
   "cell_type": "markdown",
   "metadata": {},
   "source": [
    "В данных пропусков нет"
   ]
  },
  {
   "cell_type": "markdown",
   "metadata": {},
   "source": [
    "***Подготовка данных***"
   ]
  },
  {
   "cell_type": "code",
   "execution_count": 6,
   "metadata": {},
   "outputs": [
    {
     "data": {
      "text/html": [
       "<div>\n",
       "<style scoped>\n",
       "    .dataframe tbody tr th:only-of-type {\n",
       "        vertical-align: middle;\n",
       "    }\n",
       "\n",
       "    .dataframe tbody tr th {\n",
       "        vertical-align: top;\n",
       "    }\n",
       "\n",
       "    .dataframe thead th {\n",
       "        text-align: right;\n",
       "    }\n",
       "</style>\n",
       "<table border=\"1\" class=\"dataframe\">\n",
       "  <thead>\n",
       "    <tr style=\"text-align: right;\">\n",
       "      <th></th>\n",
       "      <th>event</th>\n",
       "      <th>user</th>\n",
       "      <th>timestamp</th>\n",
       "      <th>group</th>\n",
       "    </tr>\n",
       "  </thead>\n",
       "  <tbody>\n",
       "    <tr>\n",
       "      <th>0</th>\n",
       "      <td>MainScreenAppear</td>\n",
       "      <td>4575588528974610257</td>\n",
       "      <td>1564029816</td>\n",
       "      <td>246</td>\n",
       "    </tr>\n",
       "    <tr>\n",
       "      <th>1</th>\n",
       "      <td>MainScreenAppear</td>\n",
       "      <td>7416695313311560658</td>\n",
       "      <td>1564053102</td>\n",
       "      <td>246</td>\n",
       "    </tr>\n",
       "    <tr>\n",
       "      <th>2</th>\n",
       "      <td>PaymentScreenSuccessful</td>\n",
       "      <td>3518123091307005509</td>\n",
       "      <td>1564054127</td>\n",
       "      <td>248</td>\n",
       "    </tr>\n",
       "    <tr>\n",
       "      <th>3</th>\n",
       "      <td>CartScreenAppear</td>\n",
       "      <td>3518123091307005509</td>\n",
       "      <td>1564054127</td>\n",
       "      <td>248</td>\n",
       "    </tr>\n",
       "    <tr>\n",
       "      <th>4</th>\n",
       "      <td>PaymentScreenSuccessful</td>\n",
       "      <td>6217807653094995999</td>\n",
       "      <td>1564055322</td>\n",
       "      <td>248</td>\n",
       "    </tr>\n",
       "  </tbody>\n",
       "</table>\n",
       "</div>"
      ],
      "text/plain": [
       "                     event                 user   timestamp  group\n",
       "0         MainScreenAppear  4575588528974610257  1564029816    246\n",
       "1         MainScreenAppear  7416695313311560658  1564053102    246\n",
       "2  PaymentScreenSuccessful  3518123091307005509  1564054127    248\n",
       "3         CartScreenAppear  3518123091307005509  1564054127    248\n",
       "4  PaymentScreenSuccessful  6217807653094995999  1564055322    248"
      ]
     },
     "execution_count": 6,
     "metadata": {},
     "output_type": "execute_result"
    }
   ],
   "source": [
    "#переименуем стоблцы\n",
    "df.columns=['event', 'user', 'timestamp', 'group']\n",
    "df.head()"
   ]
  },
  {
   "cell_type": "code",
   "execution_count": 7,
   "metadata": {},
   "outputs": [
    {
     "data": {
      "text/html": [
       "<div>\n",
       "<style scoped>\n",
       "    .dataframe tbody tr th:only-of-type {\n",
       "        vertical-align: middle;\n",
       "    }\n",
       "\n",
       "    .dataframe tbody tr th {\n",
       "        vertical-align: top;\n",
       "    }\n",
       "\n",
       "    .dataframe thead th {\n",
       "        text-align: right;\n",
       "    }\n",
       "</style>\n",
       "<table border=\"1\" class=\"dataframe\">\n",
       "  <thead>\n",
       "    <tr style=\"text-align: right;\">\n",
       "      <th></th>\n",
       "      <th>event</th>\n",
       "      <th>user</th>\n",
       "      <th>timestamp</th>\n",
       "      <th>group</th>\n",
       "    </tr>\n",
       "  </thead>\n",
       "  <tbody>\n",
       "    <tr>\n",
       "      <th>0</th>\n",
       "      <td>MainScreenAppear</td>\n",
       "      <td>4575588528974610257</td>\n",
       "      <td>1564029816</td>\n",
       "      <td>A1</td>\n",
       "    </tr>\n",
       "    <tr>\n",
       "      <th>1</th>\n",
       "      <td>MainScreenAppear</td>\n",
       "      <td>7416695313311560658</td>\n",
       "      <td>1564053102</td>\n",
       "      <td>A1</td>\n",
       "    </tr>\n",
       "    <tr>\n",
       "      <th>2</th>\n",
       "      <td>PaymentScreenSuccessful</td>\n",
       "      <td>3518123091307005509</td>\n",
       "      <td>1564054127</td>\n",
       "      <td>B</td>\n",
       "    </tr>\n",
       "    <tr>\n",
       "      <th>3</th>\n",
       "      <td>CartScreenAppear</td>\n",
       "      <td>3518123091307005509</td>\n",
       "      <td>1564054127</td>\n",
       "      <td>B</td>\n",
       "    </tr>\n",
       "    <tr>\n",
       "      <th>4</th>\n",
       "      <td>PaymentScreenSuccessful</td>\n",
       "      <td>6217807653094995999</td>\n",
       "      <td>1564055322</td>\n",
       "      <td>B</td>\n",
       "    </tr>\n",
       "    <tr>\n",
       "      <th>...</th>\n",
       "      <td>...</td>\n",
       "      <td>...</td>\n",
       "      <td>...</td>\n",
       "      <td>...</td>\n",
       "    </tr>\n",
       "    <tr>\n",
       "      <th>244121</th>\n",
       "      <td>MainScreenAppear</td>\n",
       "      <td>4599628364049201812</td>\n",
       "      <td>1565212345</td>\n",
       "      <td>A2</td>\n",
       "    </tr>\n",
       "    <tr>\n",
       "      <th>244122</th>\n",
       "      <td>MainScreenAppear</td>\n",
       "      <td>5849806612437486590</td>\n",
       "      <td>1565212439</td>\n",
       "      <td>A1</td>\n",
       "    </tr>\n",
       "    <tr>\n",
       "      <th>244123</th>\n",
       "      <td>MainScreenAppear</td>\n",
       "      <td>5746969938801999050</td>\n",
       "      <td>1565212483</td>\n",
       "      <td>A1</td>\n",
       "    </tr>\n",
       "    <tr>\n",
       "      <th>244124</th>\n",
       "      <td>MainScreenAppear</td>\n",
       "      <td>5746969938801999050</td>\n",
       "      <td>1565212498</td>\n",
       "      <td>A1</td>\n",
       "    </tr>\n",
       "    <tr>\n",
       "      <th>244125</th>\n",
       "      <td>OffersScreenAppear</td>\n",
       "      <td>5746969938801999050</td>\n",
       "      <td>1565212517</td>\n",
       "      <td>A1</td>\n",
       "    </tr>\n",
       "  </tbody>\n",
       "</table>\n",
       "<p>244126 rows × 4 columns</p>\n",
       "</div>"
      ],
      "text/plain": [
       "                          event                 user   timestamp group\n",
       "0              MainScreenAppear  4575588528974610257  1564029816    A1\n",
       "1              MainScreenAppear  7416695313311560658  1564053102    A1\n",
       "2       PaymentScreenSuccessful  3518123091307005509  1564054127     B\n",
       "3              CartScreenAppear  3518123091307005509  1564054127     B\n",
       "4       PaymentScreenSuccessful  6217807653094995999  1564055322     B\n",
       "...                         ...                  ...         ...   ...\n",
       "244121         MainScreenAppear  4599628364049201812  1565212345    A2\n",
       "244122         MainScreenAppear  5849806612437486590  1565212439    A1\n",
       "244123         MainScreenAppear  5746969938801999050  1565212483    A1\n",
       "244124         MainScreenAppear  5746969938801999050  1565212498    A1\n",
       "244125       OffersScreenAppear  5746969938801999050  1565212517    A1\n",
       "\n",
       "[244126 rows x 4 columns]"
      ]
     },
     "execution_count": 7,
     "metadata": {},
     "output_type": "execute_result"
    }
   ],
   "source": [
    "#меняем название групп на более читабельные - А1 и А2 (контрольные группы)  и В экспериментальную\n",
    "def group_name(gr):\n",
    "    if gr==246:\n",
    "        return 'A1'\n",
    "    elif gr==247:\n",
    "        return 'A2'\n",
    "    elif gr==248:\n",
    "        return 'B'\n",
    "    else:\n",
    "        return 'mistake'\n",
    "\n",
    "df['group'] = df['group'].apply(group_name)\n",
    "df"
   ]
  },
  {
   "cell_type": "code",
   "execution_count": 8,
   "metadata": {},
   "outputs": [],
   "source": [
    "#меняем тип данных\n",
    "df['timestamp'] = pd.to_datetime(df['timestamp'], unit='s')\n",
    "df['user'] = df['user'].astype(str)\n",
    "df['group'] = df['group'].astype(str)"
   ]
  },
  {
   "cell_type": "code",
   "execution_count": 9,
   "metadata": {},
   "outputs": [
    {
     "data": {
      "text/plain": [
       "413"
      ]
     },
     "execution_count": 9,
     "metadata": {},
     "output_type": "execute_result"
    }
   ],
   "source": [
    "#проверка дубликатов\n",
    "df.duplicated().sum()"
   ]
  },
  {
   "cell_type": "code",
   "execution_count": 10,
   "metadata": {},
   "outputs": [],
   "source": [
    "#удаляем дубликаты\n",
    "df = df.drop_duplicates()"
   ]
  },
  {
   "cell_type": "code",
   "execution_count": 11,
   "metadata": {},
   "outputs": [
    {
     "name": "stderr",
     "output_type": "stream",
     "text": [
      "/tmp/ipykernel_391/1163230718.py:2: SettingWithCopyWarning: \n",
      "A value is trying to be set on a copy of a slice from a DataFrame.\n",
      "Try using .loc[row_indexer,col_indexer] = value instead\n",
      "\n",
      "See the caveats in the documentation: https://pandas.pydata.org/pandas-docs/stable/user_guide/indexing.html#returning-a-view-versus-a-copy\n",
      "  df['datetime'] = pd.to_datetime(df['timestamp'], unit='s')\n"
     ]
    },
    {
     "data": {
      "text/html": [
       "<div>\n",
       "<style scoped>\n",
       "    .dataframe tbody tr th:only-of-type {\n",
       "        vertical-align: middle;\n",
       "    }\n",
       "\n",
       "    .dataframe tbody tr th {\n",
       "        vertical-align: top;\n",
       "    }\n",
       "\n",
       "    .dataframe thead th {\n",
       "        text-align: right;\n",
       "    }\n",
       "</style>\n",
       "<table border=\"1\" class=\"dataframe\">\n",
       "  <thead>\n",
       "    <tr style=\"text-align: right;\">\n",
       "      <th></th>\n",
       "      <th>event</th>\n",
       "      <th>user</th>\n",
       "      <th>timestamp</th>\n",
       "      <th>group</th>\n",
       "      <th>datetime</th>\n",
       "    </tr>\n",
       "  </thead>\n",
       "  <tbody>\n",
       "    <tr>\n",
       "      <th>0</th>\n",
       "      <td>MainScreenAppear</td>\n",
       "      <td>4575588528974610257</td>\n",
       "      <td>2019-07-25 04:43:36</td>\n",
       "      <td>A1</td>\n",
       "      <td>2019-07-25 04:43:36</td>\n",
       "    </tr>\n",
       "    <tr>\n",
       "      <th>1</th>\n",
       "      <td>MainScreenAppear</td>\n",
       "      <td>7416695313311560658</td>\n",
       "      <td>2019-07-25 11:11:42</td>\n",
       "      <td>A1</td>\n",
       "      <td>2019-07-25 11:11:42</td>\n",
       "    </tr>\n",
       "    <tr>\n",
       "      <th>2</th>\n",
       "      <td>PaymentScreenSuccessful</td>\n",
       "      <td>3518123091307005509</td>\n",
       "      <td>2019-07-25 11:28:47</td>\n",
       "      <td>B</td>\n",
       "      <td>2019-07-25 11:28:47</td>\n",
       "    </tr>\n",
       "    <tr>\n",
       "      <th>3</th>\n",
       "      <td>CartScreenAppear</td>\n",
       "      <td>3518123091307005509</td>\n",
       "      <td>2019-07-25 11:28:47</td>\n",
       "      <td>B</td>\n",
       "      <td>2019-07-25 11:28:47</td>\n",
       "    </tr>\n",
       "    <tr>\n",
       "      <th>4</th>\n",
       "      <td>PaymentScreenSuccessful</td>\n",
       "      <td>6217807653094995999</td>\n",
       "      <td>2019-07-25 11:48:42</td>\n",
       "      <td>B</td>\n",
       "      <td>2019-07-25 11:48:42</td>\n",
       "    </tr>\n",
       "    <tr>\n",
       "      <th>...</th>\n",
       "      <td>...</td>\n",
       "      <td>...</td>\n",
       "      <td>...</td>\n",
       "      <td>...</td>\n",
       "      <td>...</td>\n",
       "    </tr>\n",
       "    <tr>\n",
       "      <th>244121</th>\n",
       "      <td>MainScreenAppear</td>\n",
       "      <td>4599628364049201812</td>\n",
       "      <td>2019-08-07 21:12:25</td>\n",
       "      <td>A2</td>\n",
       "      <td>2019-08-07 21:12:25</td>\n",
       "    </tr>\n",
       "    <tr>\n",
       "      <th>244122</th>\n",
       "      <td>MainScreenAppear</td>\n",
       "      <td>5849806612437486590</td>\n",
       "      <td>2019-08-07 21:13:59</td>\n",
       "      <td>A1</td>\n",
       "      <td>2019-08-07 21:13:59</td>\n",
       "    </tr>\n",
       "    <tr>\n",
       "      <th>244123</th>\n",
       "      <td>MainScreenAppear</td>\n",
       "      <td>5746969938801999050</td>\n",
       "      <td>2019-08-07 21:14:43</td>\n",
       "      <td>A1</td>\n",
       "      <td>2019-08-07 21:14:43</td>\n",
       "    </tr>\n",
       "    <tr>\n",
       "      <th>244124</th>\n",
       "      <td>MainScreenAppear</td>\n",
       "      <td>5746969938801999050</td>\n",
       "      <td>2019-08-07 21:14:58</td>\n",
       "      <td>A1</td>\n",
       "      <td>2019-08-07 21:14:58</td>\n",
       "    </tr>\n",
       "    <tr>\n",
       "      <th>244125</th>\n",
       "      <td>OffersScreenAppear</td>\n",
       "      <td>5746969938801999050</td>\n",
       "      <td>2019-08-07 21:15:17</td>\n",
       "      <td>A1</td>\n",
       "      <td>2019-08-07 21:15:17</td>\n",
       "    </tr>\n",
       "  </tbody>\n",
       "</table>\n",
       "<p>243713 rows × 5 columns</p>\n",
       "</div>"
      ],
      "text/plain": [
       "                          event                 user           timestamp  \\\n",
       "0              MainScreenAppear  4575588528974610257 2019-07-25 04:43:36   \n",
       "1              MainScreenAppear  7416695313311560658 2019-07-25 11:11:42   \n",
       "2       PaymentScreenSuccessful  3518123091307005509 2019-07-25 11:28:47   \n",
       "3              CartScreenAppear  3518123091307005509 2019-07-25 11:28:47   \n",
       "4       PaymentScreenSuccessful  6217807653094995999 2019-07-25 11:48:42   \n",
       "...                         ...                  ...                 ...   \n",
       "244121         MainScreenAppear  4599628364049201812 2019-08-07 21:12:25   \n",
       "244122         MainScreenAppear  5849806612437486590 2019-08-07 21:13:59   \n",
       "244123         MainScreenAppear  5746969938801999050 2019-08-07 21:14:43   \n",
       "244124         MainScreenAppear  5746969938801999050 2019-08-07 21:14:58   \n",
       "244125       OffersScreenAppear  5746969938801999050 2019-08-07 21:15:17   \n",
       "\n",
       "       group            datetime  \n",
       "0         A1 2019-07-25 04:43:36  \n",
       "1         A1 2019-07-25 11:11:42  \n",
       "2          B 2019-07-25 11:28:47  \n",
       "3          B 2019-07-25 11:28:47  \n",
       "4          B 2019-07-25 11:48:42  \n",
       "...      ...                 ...  \n",
       "244121    A2 2019-08-07 21:12:25  \n",
       "244122    A1 2019-08-07 21:13:59  \n",
       "244123    A1 2019-08-07 21:14:43  \n",
       "244124    A1 2019-08-07 21:14:58  \n",
       "244125    A1 2019-08-07 21:15:17  \n",
       "\n",
       "[243713 rows x 5 columns]"
      ]
     },
     "execution_count": 11,
     "metadata": {},
     "output_type": "execute_result"
    }
   ],
   "source": [
    "#добавляем столбец даты и времени\n",
    "df['datetime'] = pd.to_datetime(df['timestamp'], unit='s')\n",
    "df"
   ]
  },
  {
   "cell_type": "code",
   "execution_count": 12,
   "metadata": {
    "scrolled": true
   },
   "outputs": [
    {
     "name": "stderr",
     "output_type": "stream",
     "text": [
      "/tmp/ipykernel_391/367095172.py:2: SettingWithCopyWarning: \n",
      "A value is trying to be set on a copy of a slice from a DataFrame.\n",
      "Try using .loc[row_indexer,col_indexer] = value instead\n",
      "\n",
      "See the caveats in the documentation: https://pandas.pydata.org/pandas-docs/stable/user_guide/indexing.html#returning-a-view-versus-a-copy\n",
      "  df['date'] = df['datetime'].dt.date\n"
     ]
    },
    {
     "data": {
      "text/html": [
       "<div>\n",
       "<style scoped>\n",
       "    .dataframe tbody tr th:only-of-type {\n",
       "        vertical-align: middle;\n",
       "    }\n",
       "\n",
       "    .dataframe tbody tr th {\n",
       "        vertical-align: top;\n",
       "    }\n",
       "\n",
       "    .dataframe thead th {\n",
       "        text-align: right;\n",
       "    }\n",
       "</style>\n",
       "<table border=\"1\" class=\"dataframe\">\n",
       "  <thead>\n",
       "    <tr style=\"text-align: right;\">\n",
       "      <th></th>\n",
       "      <th>event</th>\n",
       "      <th>user</th>\n",
       "      <th>timestamp</th>\n",
       "      <th>group</th>\n",
       "      <th>datetime</th>\n",
       "      <th>date</th>\n",
       "    </tr>\n",
       "  </thead>\n",
       "  <tbody>\n",
       "    <tr>\n",
       "      <th>0</th>\n",
       "      <td>MainScreenAppear</td>\n",
       "      <td>4575588528974610257</td>\n",
       "      <td>2019-07-25 04:43:36</td>\n",
       "      <td>A1</td>\n",
       "      <td>2019-07-25 04:43:36</td>\n",
       "      <td>2019-07-25</td>\n",
       "    </tr>\n",
       "    <tr>\n",
       "      <th>1</th>\n",
       "      <td>MainScreenAppear</td>\n",
       "      <td>7416695313311560658</td>\n",
       "      <td>2019-07-25 11:11:42</td>\n",
       "      <td>A1</td>\n",
       "      <td>2019-07-25 11:11:42</td>\n",
       "      <td>2019-07-25</td>\n",
       "    </tr>\n",
       "    <tr>\n",
       "      <th>2</th>\n",
       "      <td>PaymentScreenSuccessful</td>\n",
       "      <td>3518123091307005509</td>\n",
       "      <td>2019-07-25 11:28:47</td>\n",
       "      <td>B</td>\n",
       "      <td>2019-07-25 11:28:47</td>\n",
       "      <td>2019-07-25</td>\n",
       "    </tr>\n",
       "    <tr>\n",
       "      <th>3</th>\n",
       "      <td>CartScreenAppear</td>\n",
       "      <td>3518123091307005509</td>\n",
       "      <td>2019-07-25 11:28:47</td>\n",
       "      <td>B</td>\n",
       "      <td>2019-07-25 11:28:47</td>\n",
       "      <td>2019-07-25</td>\n",
       "    </tr>\n",
       "    <tr>\n",
       "      <th>4</th>\n",
       "      <td>PaymentScreenSuccessful</td>\n",
       "      <td>6217807653094995999</td>\n",
       "      <td>2019-07-25 11:48:42</td>\n",
       "      <td>B</td>\n",
       "      <td>2019-07-25 11:48:42</td>\n",
       "      <td>2019-07-25</td>\n",
       "    </tr>\n",
       "    <tr>\n",
       "      <th>...</th>\n",
       "      <td>...</td>\n",
       "      <td>...</td>\n",
       "      <td>...</td>\n",
       "      <td>...</td>\n",
       "      <td>...</td>\n",
       "      <td>...</td>\n",
       "    </tr>\n",
       "    <tr>\n",
       "      <th>244121</th>\n",
       "      <td>MainScreenAppear</td>\n",
       "      <td>4599628364049201812</td>\n",
       "      <td>2019-08-07 21:12:25</td>\n",
       "      <td>A2</td>\n",
       "      <td>2019-08-07 21:12:25</td>\n",
       "      <td>2019-08-07</td>\n",
       "    </tr>\n",
       "    <tr>\n",
       "      <th>244122</th>\n",
       "      <td>MainScreenAppear</td>\n",
       "      <td>5849806612437486590</td>\n",
       "      <td>2019-08-07 21:13:59</td>\n",
       "      <td>A1</td>\n",
       "      <td>2019-08-07 21:13:59</td>\n",
       "      <td>2019-08-07</td>\n",
       "    </tr>\n",
       "    <tr>\n",
       "      <th>244123</th>\n",
       "      <td>MainScreenAppear</td>\n",
       "      <td>5746969938801999050</td>\n",
       "      <td>2019-08-07 21:14:43</td>\n",
       "      <td>A1</td>\n",
       "      <td>2019-08-07 21:14:43</td>\n",
       "      <td>2019-08-07</td>\n",
       "    </tr>\n",
       "    <tr>\n",
       "      <th>244124</th>\n",
       "      <td>MainScreenAppear</td>\n",
       "      <td>5746969938801999050</td>\n",
       "      <td>2019-08-07 21:14:58</td>\n",
       "      <td>A1</td>\n",
       "      <td>2019-08-07 21:14:58</td>\n",
       "      <td>2019-08-07</td>\n",
       "    </tr>\n",
       "    <tr>\n",
       "      <th>244125</th>\n",
       "      <td>OffersScreenAppear</td>\n",
       "      <td>5746969938801999050</td>\n",
       "      <td>2019-08-07 21:15:17</td>\n",
       "      <td>A1</td>\n",
       "      <td>2019-08-07 21:15:17</td>\n",
       "      <td>2019-08-07</td>\n",
       "    </tr>\n",
       "  </tbody>\n",
       "</table>\n",
       "<p>243713 rows × 6 columns</p>\n",
       "</div>"
      ],
      "text/plain": [
       "                          event                 user           timestamp  \\\n",
       "0              MainScreenAppear  4575588528974610257 2019-07-25 04:43:36   \n",
       "1              MainScreenAppear  7416695313311560658 2019-07-25 11:11:42   \n",
       "2       PaymentScreenSuccessful  3518123091307005509 2019-07-25 11:28:47   \n",
       "3              CartScreenAppear  3518123091307005509 2019-07-25 11:28:47   \n",
       "4       PaymentScreenSuccessful  6217807653094995999 2019-07-25 11:48:42   \n",
       "...                         ...                  ...                 ...   \n",
       "244121         MainScreenAppear  4599628364049201812 2019-08-07 21:12:25   \n",
       "244122         MainScreenAppear  5849806612437486590 2019-08-07 21:13:59   \n",
       "244123         MainScreenAppear  5746969938801999050 2019-08-07 21:14:43   \n",
       "244124         MainScreenAppear  5746969938801999050 2019-08-07 21:14:58   \n",
       "244125       OffersScreenAppear  5746969938801999050 2019-08-07 21:15:17   \n",
       "\n",
       "       group            datetime        date  \n",
       "0         A1 2019-07-25 04:43:36  2019-07-25  \n",
       "1         A1 2019-07-25 11:11:42  2019-07-25  \n",
       "2          B 2019-07-25 11:28:47  2019-07-25  \n",
       "3          B 2019-07-25 11:28:47  2019-07-25  \n",
       "4          B 2019-07-25 11:48:42  2019-07-25  \n",
       "...      ...                 ...         ...  \n",
       "244121    A2 2019-08-07 21:12:25  2019-08-07  \n",
       "244122    A1 2019-08-07 21:13:59  2019-08-07  \n",
       "244123    A1 2019-08-07 21:14:43  2019-08-07  \n",
       "244124    A1 2019-08-07 21:14:58  2019-08-07  \n",
       "244125    A1 2019-08-07 21:15:17  2019-08-07  \n",
       "\n",
       "[243713 rows x 6 columns]"
      ]
     },
     "execution_count": 12,
     "metadata": {},
     "output_type": "execute_result"
    }
   ],
   "source": [
    "#добавляем столбец с датой\n",
    "df['date'] = df['datetime'].dt.date\n",
    "df"
   ]
  },
  {
   "cell_type": "markdown",
   "metadata": {},
   "source": [
    "Проверим данные на отсутствие пересечения пользователей. Применим метод intersect1d для поиска пересечений массивов"
   ]
  },
  {
   "cell_type": "code",
   "execution_count": 13,
   "metadata": {},
   "outputs": [],
   "source": [
    "both_a1_a2 = np.intersect1d(df.query('group == \"A1\"')['user'].unique(), df.query('group == \"A2\"')['user'].unique())"
   ]
  },
  {
   "cell_type": "code",
   "execution_count": 14,
   "metadata": {},
   "outputs": [],
   "source": [
    "both_a1_b = np.intersect1d(df.query('group == \"A1\"')['user'].unique(), df.query('group == \"B\"')['user'].unique())"
   ]
  },
  {
   "cell_type": "code",
   "execution_count": 15,
   "metadata": {},
   "outputs": [],
   "source": [
    "both_a2_b = np.intersect1d(df.query('group == \"A2\"')['user'].unique(), df.query('group == \"B\"')['user'].unique())"
   ]
  },
  {
   "cell_type": "code",
   "execution_count": 16,
   "metadata": {},
   "outputs": [
    {
     "data": {
      "text/html": [
       "<div>\n",
       "<style scoped>\n",
       "    .dataframe tbody tr th:only-of-type {\n",
       "        vertical-align: middle;\n",
       "    }\n",
       "\n",
       "    .dataframe tbody tr th {\n",
       "        vertical-align: top;\n",
       "    }\n",
       "\n",
       "    .dataframe thead th {\n",
       "        text-align: right;\n",
       "    }\n",
       "</style>\n",
       "<table border=\"1\" class=\"dataframe\">\n",
       "  <thead>\n",
       "    <tr style=\"text-align: right;\">\n",
       "      <th></th>\n",
       "      <th>event</th>\n",
       "      <th>user</th>\n",
       "      <th>timestamp</th>\n",
       "      <th>group</th>\n",
       "      <th>datetime</th>\n",
       "      <th>date</th>\n",
       "    </tr>\n",
       "  </thead>\n",
       "  <tbody>\n",
       "    <tr>\n",
       "      <th>0</th>\n",
       "      <td>MainScreenAppear</td>\n",
       "      <td>4575588528974610257</td>\n",
       "      <td>2019-07-25 04:43:36</td>\n",
       "      <td>A1</td>\n",
       "      <td>2019-07-25 04:43:36</td>\n",
       "      <td>2019-07-25</td>\n",
       "    </tr>\n",
       "    <tr>\n",
       "      <th>1</th>\n",
       "      <td>MainScreenAppear</td>\n",
       "      <td>7416695313311560658</td>\n",
       "      <td>2019-07-25 11:11:42</td>\n",
       "      <td>A1</td>\n",
       "      <td>2019-07-25 11:11:42</td>\n",
       "      <td>2019-07-25</td>\n",
       "    </tr>\n",
       "    <tr>\n",
       "      <th>2</th>\n",
       "      <td>PaymentScreenSuccessful</td>\n",
       "      <td>3518123091307005509</td>\n",
       "      <td>2019-07-25 11:28:47</td>\n",
       "      <td>B</td>\n",
       "      <td>2019-07-25 11:28:47</td>\n",
       "      <td>2019-07-25</td>\n",
       "    </tr>\n",
       "    <tr>\n",
       "      <th>3</th>\n",
       "      <td>CartScreenAppear</td>\n",
       "      <td>3518123091307005509</td>\n",
       "      <td>2019-07-25 11:28:47</td>\n",
       "      <td>B</td>\n",
       "      <td>2019-07-25 11:28:47</td>\n",
       "      <td>2019-07-25</td>\n",
       "    </tr>\n",
       "    <tr>\n",
       "      <th>4</th>\n",
       "      <td>PaymentScreenSuccessful</td>\n",
       "      <td>6217807653094995999</td>\n",
       "      <td>2019-07-25 11:48:42</td>\n",
       "      <td>B</td>\n",
       "      <td>2019-07-25 11:48:42</td>\n",
       "      <td>2019-07-25</td>\n",
       "    </tr>\n",
       "    <tr>\n",
       "      <th>...</th>\n",
       "      <td>...</td>\n",
       "      <td>...</td>\n",
       "      <td>...</td>\n",
       "      <td>...</td>\n",
       "      <td>...</td>\n",
       "      <td>...</td>\n",
       "    </tr>\n",
       "    <tr>\n",
       "      <th>244121</th>\n",
       "      <td>MainScreenAppear</td>\n",
       "      <td>4599628364049201812</td>\n",
       "      <td>2019-08-07 21:12:25</td>\n",
       "      <td>A2</td>\n",
       "      <td>2019-08-07 21:12:25</td>\n",
       "      <td>2019-08-07</td>\n",
       "    </tr>\n",
       "    <tr>\n",
       "      <th>244122</th>\n",
       "      <td>MainScreenAppear</td>\n",
       "      <td>5849806612437486590</td>\n",
       "      <td>2019-08-07 21:13:59</td>\n",
       "      <td>A1</td>\n",
       "      <td>2019-08-07 21:13:59</td>\n",
       "      <td>2019-08-07</td>\n",
       "    </tr>\n",
       "    <tr>\n",
       "      <th>244123</th>\n",
       "      <td>MainScreenAppear</td>\n",
       "      <td>5746969938801999050</td>\n",
       "      <td>2019-08-07 21:14:43</td>\n",
       "      <td>A1</td>\n",
       "      <td>2019-08-07 21:14:43</td>\n",
       "      <td>2019-08-07</td>\n",
       "    </tr>\n",
       "    <tr>\n",
       "      <th>244124</th>\n",
       "      <td>MainScreenAppear</td>\n",
       "      <td>5746969938801999050</td>\n",
       "      <td>2019-08-07 21:14:58</td>\n",
       "      <td>A1</td>\n",
       "      <td>2019-08-07 21:14:58</td>\n",
       "      <td>2019-08-07</td>\n",
       "    </tr>\n",
       "    <tr>\n",
       "      <th>244125</th>\n",
       "      <td>OffersScreenAppear</td>\n",
       "      <td>5746969938801999050</td>\n",
       "      <td>2019-08-07 21:15:17</td>\n",
       "      <td>A1</td>\n",
       "      <td>2019-08-07 21:15:17</td>\n",
       "      <td>2019-08-07</td>\n",
       "    </tr>\n",
       "  </tbody>\n",
       "</table>\n",
       "<p>243713 rows × 6 columns</p>\n",
       "</div>"
      ],
      "text/plain": [
       "                          event                 user           timestamp  \\\n",
       "0              MainScreenAppear  4575588528974610257 2019-07-25 04:43:36   \n",
       "1              MainScreenAppear  7416695313311560658 2019-07-25 11:11:42   \n",
       "2       PaymentScreenSuccessful  3518123091307005509 2019-07-25 11:28:47   \n",
       "3              CartScreenAppear  3518123091307005509 2019-07-25 11:28:47   \n",
       "4       PaymentScreenSuccessful  6217807653094995999 2019-07-25 11:48:42   \n",
       "...                         ...                  ...                 ...   \n",
       "244121         MainScreenAppear  4599628364049201812 2019-08-07 21:12:25   \n",
       "244122         MainScreenAppear  5849806612437486590 2019-08-07 21:13:59   \n",
       "244123         MainScreenAppear  5746969938801999050 2019-08-07 21:14:43   \n",
       "244124         MainScreenAppear  5746969938801999050 2019-08-07 21:14:58   \n",
       "244125       OffersScreenAppear  5746969938801999050 2019-08-07 21:15:17   \n",
       "\n",
       "       group            datetime        date  \n",
       "0         A1 2019-07-25 04:43:36  2019-07-25  \n",
       "1         A1 2019-07-25 11:11:42  2019-07-25  \n",
       "2          B 2019-07-25 11:28:47  2019-07-25  \n",
       "3          B 2019-07-25 11:28:47  2019-07-25  \n",
       "4          B 2019-07-25 11:48:42  2019-07-25  \n",
       "...      ...                 ...         ...  \n",
       "244121    A2 2019-08-07 21:12:25  2019-08-07  \n",
       "244122    A1 2019-08-07 21:13:59  2019-08-07  \n",
       "244123    A1 2019-08-07 21:14:43  2019-08-07  \n",
       "244124    A1 2019-08-07 21:14:58  2019-08-07  \n",
       "244125    A1 2019-08-07 21:15:17  2019-08-07  \n",
       "\n",
       "[243713 rows x 6 columns]"
      ]
     },
     "execution_count": 16,
     "metadata": {},
     "output_type": "execute_result"
    }
   ],
   "source": [
    "df_filtered = df[~df['user'].isin([both_a1_a2, both_a1_b, both_a2_b])]\n",
    "df_filtered"
   ]
  },
  {
   "cell_type": "markdown",
   "metadata": {},
   "source": [
    "Пересечений пользователей не обнаружено"
   ]
  },
  {
   "cell_type": "markdown",
   "metadata": {},
   "source": [
    "***Изучение и проверка данных***"
   ]
  },
  {
   "cell_type": "markdown",
   "metadata": {},
   "source": [
    "**Сколько всего событий в логе?**"
   ]
  },
  {
   "cell_type": "code",
   "execution_count": 17,
   "metadata": {},
   "outputs": [
    {
     "data": {
      "text/plain": [
       "243713"
      ]
     },
     "execution_count": 17,
     "metadata": {},
     "output_type": "execute_result"
    }
   ],
   "source": [
    "df['event'].count()"
   ]
  },
  {
   "cell_type": "code",
   "execution_count": 18,
   "metadata": {},
   "outputs": [
    {
     "data": {
      "text/plain": [
       "MainScreenAppear           119101\n",
       "OffersScreenAppear          46808\n",
       "CartScreenAppear            42668\n",
       "PaymentScreenSuccessful     34118\n",
       "Tutorial                     1018\n",
       "Name: event, dtype: int64"
      ]
     },
     "execution_count": 18,
     "metadata": {},
     "output_type": "execute_result"
    }
   ],
   "source": [
    "df['event'].value_counts()"
   ]
  },
  {
   "cell_type": "markdown",
   "metadata": {},
   "source": [
    "**Сколько всего пользователей в логе?**"
   ]
  },
  {
   "cell_type": "code",
   "execution_count": 19,
   "metadata": {},
   "outputs": [
    {
     "data": {
      "text/plain": [
       "7551"
      ]
     },
     "execution_count": 19,
     "metadata": {},
     "output_type": "execute_result"
    }
   ],
   "source": [
    "users = df['user'].nunique()\n",
    "users"
   ]
  },
  {
   "cell_type": "markdown",
   "metadata": {},
   "source": [
    "**Сколько в среднем событий приходится на пользователя?**"
   ]
  },
  {
   "cell_type": "code",
   "execution_count": 20,
   "metadata": {},
   "outputs": [
    {
     "data": {
      "text/plain": [
       "32.3"
      ]
     },
     "execution_count": 20,
     "metadata": {},
     "output_type": "execute_result"
    }
   ],
   "source": [
    "events_per_users = ((df['event'].count()) / (users))\n",
    "events_per_users.round(1)"
   ]
  },
  {
   "cell_type": "markdown",
   "metadata": {},
   "source": [
    "**Данными за какой период вы располагаете? Данными за какой период времени вы располагаете на самом деле?**"
   ]
  },
  {
   "cell_type": "code",
   "execution_count": 21,
   "metadata": {},
   "outputs": [
    {
     "data": {
      "text/plain": [
       "Timestamp('2019-07-25 04:43:36')"
      ]
     },
     "execution_count": 21,
     "metadata": {},
     "output_type": "execute_result"
    }
   ],
   "source": [
    "#минимальная дата\n",
    "df['datetime'].min()"
   ]
  },
  {
   "cell_type": "code",
   "execution_count": 22,
   "metadata": {},
   "outputs": [
    {
     "data": {
      "text/plain": [
       "Timestamp('2019-08-07 21:15:17')"
      ]
     },
     "execution_count": 22,
     "metadata": {},
     "output_type": "execute_result"
    }
   ],
   "source": [
    "#максимальная дата\n",
    "df['datetime'].max()"
   ]
  },
  {
   "cell_type": "code",
   "execution_count": 23,
   "metadata": {},
   "outputs": [
    {
     "data": {
      "text/plain": [
       "Timedelta('13 days 16:31:41')"
      ]
     },
     "execution_count": 23,
     "metadata": {},
     "output_type": "execute_result"
    }
   ],
   "source": [
    "#период данных\n",
    "df['datetime'].max() - df['datetime'].min()"
   ]
  },
  {
   "cell_type": "code",
   "execution_count": 24,
   "metadata": {},
   "outputs": [
    {
     "data": {
      "image/png": "[encoded data removed]",
      "text/plain": [
       "<Figure size 1080x288 with 1 Axes>"
      ]
     },
     "metadata": {
      "needs_background": "light"
     },
     "output_type": "display_data"
    }
   ],
   "source": [
    "plt.figure(figsize=(15,4))\n",
    "plt.hist(df['datetime'], bins=100) \n",
    "plt.xlabel('Время')\n",
    "plt.grid()\n",
    "plt.ylabel('Количество событий')\n",
    "plt.title('Распределение событий по времени');"
   ]
  },
  {
   "cell_type": "markdown",
   "metadata": {},
   "source": [
    "По гистограмме видим что в июле событий практически нет, а в августе их много и они цикличны. Скорее всего, данные для анализа наиболее полные в августе. Данные за июль отбросим как неполные "
   ]
  },
  {
   "cell_type": "code",
   "execution_count": 25,
   "metadata": {},
   "outputs": [
    {
     "data": {
      "text/html": [
       "<div>\n",
       "<style scoped>\n",
       "    .dataframe tbody tr th:only-of-type {\n",
       "        vertical-align: middle;\n",
       "    }\n",
       "\n",
       "    .dataframe tbody tr th {\n",
       "        vertical-align: top;\n",
       "    }\n",
       "\n",
       "    .dataframe thead th {\n",
       "        text-align: right;\n",
       "    }\n",
       "</style>\n",
       "<table border=\"1\" class=\"dataframe\">\n",
       "  <thead>\n",
       "    <tr style=\"text-align: right;\">\n",
       "      <th></th>\n",
       "      <th>event</th>\n",
       "      <th>user</th>\n",
       "      <th>timestamp</th>\n",
       "      <th>group</th>\n",
       "      <th>datetime</th>\n",
       "      <th>date</th>\n",
       "    </tr>\n",
       "  </thead>\n",
       "  <tbody>\n",
       "    <tr>\n",
       "      <th>0</th>\n",
       "      <td>Tutorial</td>\n",
       "      <td>3737462046622621720</td>\n",
       "      <td>2019-08-01 00:07:28</td>\n",
       "      <td>A1</td>\n",
       "      <td>2019-08-01 00:07:28</td>\n",
       "      <td>2019-08-01</td>\n",
       "    </tr>\n",
       "    <tr>\n",
       "      <th>1</th>\n",
       "      <td>MainScreenAppear</td>\n",
       "      <td>3737462046622621720</td>\n",
       "      <td>2019-08-01 00:08:00</td>\n",
       "      <td>A1</td>\n",
       "      <td>2019-08-01 00:08:00</td>\n",
       "      <td>2019-08-01</td>\n",
       "    </tr>\n",
       "    <tr>\n",
       "      <th>2</th>\n",
       "      <td>MainScreenAppear</td>\n",
       "      <td>3737462046622621720</td>\n",
       "      <td>2019-08-01 00:08:55</td>\n",
       "      <td>A1</td>\n",
       "      <td>2019-08-01 00:08:55</td>\n",
       "      <td>2019-08-01</td>\n",
       "    </tr>\n",
       "    <tr>\n",
       "      <th>3</th>\n",
       "      <td>OffersScreenAppear</td>\n",
       "      <td>3737462046622621720</td>\n",
       "      <td>2019-08-01 00:08:58</td>\n",
       "      <td>A1</td>\n",
       "      <td>2019-08-01 00:08:58</td>\n",
       "      <td>2019-08-01</td>\n",
       "    </tr>\n",
       "    <tr>\n",
       "      <th>4</th>\n",
       "      <td>MainScreenAppear</td>\n",
       "      <td>1433840883824088890</td>\n",
       "      <td>2019-08-01 00:08:59</td>\n",
       "      <td>A2</td>\n",
       "      <td>2019-08-01 00:08:59</td>\n",
       "      <td>2019-08-01</td>\n",
       "    </tr>\n",
       "    <tr>\n",
       "      <th>...</th>\n",
       "      <td>...</td>\n",
       "      <td>...</td>\n",
       "      <td>...</td>\n",
       "      <td>...</td>\n",
       "      <td>...</td>\n",
       "      <td>...</td>\n",
       "    </tr>\n",
       "    <tr>\n",
       "      <th>240882</th>\n",
       "      <td>MainScreenAppear</td>\n",
       "      <td>4599628364049201812</td>\n",
       "      <td>2019-08-07 21:12:25</td>\n",
       "      <td>A2</td>\n",
       "      <td>2019-08-07 21:12:25</td>\n",
       "      <td>2019-08-07</td>\n",
       "    </tr>\n",
       "    <tr>\n",
       "      <th>240883</th>\n",
       "      <td>MainScreenAppear</td>\n",
       "      <td>5849806612437486590</td>\n",
       "      <td>2019-08-07 21:13:59</td>\n",
       "      <td>A1</td>\n",
       "      <td>2019-08-07 21:13:59</td>\n",
       "      <td>2019-08-07</td>\n",
       "    </tr>\n",
       "    <tr>\n",
       "      <th>240884</th>\n",
       "      <td>MainScreenAppear</td>\n",
       "      <td>5746969938801999050</td>\n",
       "      <td>2019-08-07 21:14:43</td>\n",
       "      <td>A1</td>\n",
       "      <td>2019-08-07 21:14:43</td>\n",
       "      <td>2019-08-07</td>\n",
       "    </tr>\n",
       "    <tr>\n",
       "      <th>240885</th>\n",
       "      <td>MainScreenAppear</td>\n",
       "      <td>5746969938801999050</td>\n",
       "      <td>2019-08-07 21:14:58</td>\n",
       "      <td>A1</td>\n",
       "      <td>2019-08-07 21:14:58</td>\n",
       "      <td>2019-08-07</td>\n",
       "    </tr>\n",
       "    <tr>\n",
       "      <th>240886</th>\n",
       "      <td>OffersScreenAppear</td>\n",
       "      <td>5746969938801999050</td>\n",
       "      <td>2019-08-07 21:15:17</td>\n",
       "      <td>A1</td>\n",
       "      <td>2019-08-07 21:15:17</td>\n",
       "      <td>2019-08-07</td>\n",
       "    </tr>\n",
       "  </tbody>\n",
       "</table>\n",
       "<p>240887 rows × 6 columns</p>\n",
       "</div>"
      ],
      "text/plain": [
       "                     event                 user           timestamp group  \\\n",
       "0                 Tutorial  3737462046622621720 2019-08-01 00:07:28    A1   \n",
       "1         MainScreenAppear  3737462046622621720 2019-08-01 00:08:00    A1   \n",
       "2         MainScreenAppear  3737462046622621720 2019-08-01 00:08:55    A1   \n",
       "3       OffersScreenAppear  3737462046622621720 2019-08-01 00:08:58    A1   \n",
       "4         MainScreenAppear  1433840883824088890 2019-08-01 00:08:59    A2   \n",
       "...                    ...                  ...                 ...   ...   \n",
       "240882    MainScreenAppear  4599628364049201812 2019-08-07 21:12:25    A2   \n",
       "240883    MainScreenAppear  5849806612437486590 2019-08-07 21:13:59    A1   \n",
       "240884    MainScreenAppear  5746969938801999050 2019-08-07 21:14:43    A1   \n",
       "240885    MainScreenAppear  5746969938801999050 2019-08-07 21:14:58    A1   \n",
       "240886  OffersScreenAppear  5746969938801999050 2019-08-07 21:15:17    A1   \n",
       "\n",
       "                  datetime        date  \n",
       "0      2019-08-01 00:07:28  2019-08-01  \n",
       "1      2019-08-01 00:08:00  2019-08-01  \n",
       "2      2019-08-01 00:08:55  2019-08-01  \n",
       "3      2019-08-01 00:08:58  2019-08-01  \n",
       "4      2019-08-01 00:08:59  2019-08-01  \n",
       "...                    ...         ...  \n",
       "240882 2019-08-07 21:12:25  2019-08-07  \n",
       "240883 2019-08-07 21:13:59  2019-08-07  \n",
       "240884 2019-08-07 21:14:43  2019-08-07  \n",
       "240885 2019-08-07 21:14:58  2019-08-07  \n",
       "240886 2019-08-07 21:15:17  2019-08-07  \n",
       "\n",
       "[240887 rows x 6 columns]"
      ]
     },
     "execution_count": 25,
     "metadata": {},
     "output_type": "execute_result"
    }
   ],
   "source": [
    "#делаем срез по данным\n",
    "df = df.loc[df['datetime'] >= '2019-08-01 00:00:00'].reset_index(drop=True)\n",
    "df.sort_values(by='datetime')"
   ]
  },
  {
   "cell_type": "markdown",
   "metadata": {},
   "source": [
    "**Много ли событий и пользователей вы потеряли, отбросив старые данные?**"
   ]
  },
  {
   "cell_type": "code",
   "execution_count": 26,
   "metadata": {},
   "outputs": [
    {
     "data": {
      "text/plain": [
       "240887"
      ]
     },
     "execution_count": 26,
     "metadata": {},
     "output_type": "execute_result"
    }
   ],
   "source": [
    "#новые события\n",
    "new_events = df['event'].count()\n",
    "new_events"
   ]
  },
  {
   "cell_type": "code",
   "execution_count": 27,
   "metadata": {},
   "outputs": [
    {
     "data": {
      "text/plain": [
       "2826"
      ]
     },
     "execution_count": 27,
     "metadata": {},
     "output_type": "execute_result"
    }
   ],
   "source": [
    "#разница в количестве событий, до среза было 243713 событий\n",
    "243713 - new_events"
   ]
  },
  {
   "cell_type": "code",
   "execution_count": 28,
   "metadata": {},
   "outputs": [
    {
     "data": {
      "text/plain": [
       "7534"
      ]
     },
     "execution_count": 28,
     "metadata": {},
     "output_type": "execute_result"
    }
   ],
   "source": [
    "#новые пользователи\n",
    "new_users = df['user'].nunique()\n",
    "new_users"
   ]
  },
  {
   "cell_type": "code",
   "execution_count": 29,
   "metadata": {},
   "outputs": [
    {
     "data": {
      "text/plain": [
       "17"
      ]
     },
     "execution_count": 29,
     "metadata": {},
     "output_type": "execute_result"
    }
   ],
   "source": [
    "#разница пользователей\n",
    "users - new_users"
   ]
  },
  {
   "cell_type": "markdown",
   "metadata": {},
   "source": [
    "Вывод: отбросив данные всего потеряли 2826 событий и 17 юзеров, что является небольшой долей"
   ]
  },
  {
   "cell_type": "markdown",
   "metadata": {},
   "source": [
    "**Проверьте, что у вас есть пользователи из всех трёх экспериментальных групп**"
   ]
  },
  {
   "cell_type": "code",
   "execution_count": 30,
   "metadata": {},
   "outputs": [
    {
     "data": {
      "text/plain": [
       "B     84563\n",
       "A1    79302\n",
       "A2    77022\n",
       "Name: group, dtype: int64"
      ]
     },
     "execution_count": 30,
     "metadata": {},
     "output_type": "execute_result"
    }
   ],
   "source": [
    "df['group'].value_counts()"
   ]
  },
  {
   "cell_type": "code",
   "execution_count": 31,
   "metadata": {},
   "outputs": [
    {
     "data": {
      "text/plain": [
       "group\n",
       "A1    2484\n",
       "A2    2513\n",
       "B     2537\n",
       "Name: user, dtype: int64"
      ]
     },
     "execution_count": 31,
     "metadata": {},
     "output_type": "execute_result"
    }
   ],
   "source": [
    "df.groupby('group')['user'].nunique()"
   ]
  },
  {
   "cell_type": "markdown",
   "metadata": {},
   "source": [
    "Пользователи есть из всех трех экспериментальных групп"
   ]
  },
  {
   "cell_type": "markdown",
   "metadata": {},
   "source": [
    "***Изучение воронки событий***"
   ]
  },
  {
   "cell_type": "markdown",
   "metadata": {},
   "source": [
    "**Посмотрите, какие события есть в логах, как часто они встречаются. Отсортируйте события по частоте**"
   ]
  },
  {
   "cell_type": "code",
   "execution_count": 32,
   "metadata": {},
   "outputs": [
    {
     "data": {
      "text/plain": [
       "MainScreenAppear           117328\n",
       "OffersScreenAppear          46333\n",
       "CartScreenAppear            42303\n",
       "PaymentScreenSuccessful     33918\n",
       "Tutorial                     1005\n",
       "Name: event, dtype: int64"
      ]
     },
     "execution_count": 32,
     "metadata": {},
     "output_type": "execute_result"
    }
   ],
   "source": [
    "df['event'].value_counts()"
   ]
  },
  {
   "cell_type": "markdown",
   "metadata": {},
   "source": [
    "**Посчитайте, сколько пользователей совершали каждое из этих событий. Отсортируйте события по числу пользователей. Посчитайте долю пользователей, которые хоть раз совершали событие**"
   ]
  },
  {
   "cell_type": "code",
   "execution_count": 33,
   "metadata": {},
   "outputs": [
    {
     "data": {
      "text/html": [
       "<div>\n",
       "<style scoped>\n",
       "    .dataframe tbody tr th:only-of-type {\n",
       "        vertical-align: middle;\n",
       "    }\n",
       "\n",
       "    .dataframe tbody tr th {\n",
       "        vertical-align: top;\n",
       "    }\n",
       "\n",
       "    .dataframe thead th {\n",
       "        text-align: right;\n",
       "    }\n",
       "</style>\n",
       "<table border=\"1\" class=\"dataframe\">\n",
       "  <thead>\n",
       "    <tr style=\"text-align: right;\">\n",
       "      <th></th>\n",
       "      <th>event</th>\n",
       "      <th>number_of_events</th>\n",
       "      <th>users</th>\n",
       "    </tr>\n",
       "  </thead>\n",
       "  <tbody>\n",
       "    <tr>\n",
       "      <th>0</th>\n",
       "      <td>MainScreenAppear</td>\n",
       "      <td>117328</td>\n",
       "      <td>7419</td>\n",
       "    </tr>\n",
       "    <tr>\n",
       "      <th>1</th>\n",
       "      <td>OffersScreenAppear</td>\n",
       "      <td>46333</td>\n",
       "      <td>4593</td>\n",
       "    </tr>\n",
       "    <tr>\n",
       "      <th>2</th>\n",
       "      <td>CartScreenAppear</td>\n",
       "      <td>42303</td>\n",
       "      <td>3734</td>\n",
       "    </tr>\n",
       "    <tr>\n",
       "      <th>3</th>\n",
       "      <td>PaymentScreenSuccessful</td>\n",
       "      <td>33918</td>\n",
       "      <td>3539</td>\n",
       "    </tr>\n",
       "    <tr>\n",
       "      <th>4</th>\n",
       "      <td>Tutorial</td>\n",
       "      <td>1005</td>\n",
       "      <td>840</td>\n",
       "    </tr>\n",
       "  </tbody>\n",
       "</table>\n",
       "</div>"
      ],
      "text/plain": [
       "                     event  number_of_events  users\n",
       "0         MainScreenAppear            117328   7419\n",
       "1       OffersScreenAppear             46333   4593\n",
       "2         CartScreenAppear             42303   3734\n",
       "3  PaymentScreenSuccessful             33918   3539\n",
       "4                 Tutorial              1005    840"
      ]
     },
     "execution_count": 33,
     "metadata": {},
     "output_type": "execute_result"
    }
   ],
   "source": [
    "events_users = df.groupby('event').agg({'event':'count', 'user':'nunique'}).sort_values(by='user', ascending=False)\n",
    "events_users.columns = ['number_of_events', 'users']\n",
    "events_users = events_users.reset_index()\n",
    "events_users"
   ]
  },
  {
   "cell_type": "code",
   "execution_count": 34,
   "metadata": {},
   "outputs": [
    {
     "data": {
      "text/html": [
       "<div>\n",
       "<style scoped>\n",
       "    .dataframe tbody tr th:only-of-type {\n",
       "        vertical-align: middle;\n",
       "    }\n",
       "\n",
       "    .dataframe tbody tr th {\n",
       "        vertical-align: top;\n",
       "    }\n",
       "\n",
       "    .dataframe thead th {\n",
       "        text-align: right;\n",
       "    }\n",
       "</style>\n",
       "<table border=\"1\" class=\"dataframe\">\n",
       "  <thead>\n",
       "    <tr style=\"text-align: right;\">\n",
       "      <th></th>\n",
       "      <th>event</th>\n",
       "      <th>number_of_events</th>\n",
       "      <th>users</th>\n",
       "      <th>share_of_users1</th>\n",
       "    </tr>\n",
       "  </thead>\n",
       "  <tbody>\n",
       "    <tr>\n",
       "      <th>0</th>\n",
       "      <td>MainScreenAppear</td>\n",
       "      <td>117328</td>\n",
       "      <td>7419</td>\n",
       "      <td>98.47</td>\n",
       "    </tr>\n",
       "    <tr>\n",
       "      <th>1</th>\n",
       "      <td>OffersScreenAppear</td>\n",
       "      <td>46333</td>\n",
       "      <td>4593</td>\n",
       "      <td>60.96</td>\n",
       "    </tr>\n",
       "    <tr>\n",
       "      <th>2</th>\n",
       "      <td>CartScreenAppear</td>\n",
       "      <td>42303</td>\n",
       "      <td>3734</td>\n",
       "      <td>49.56</td>\n",
       "    </tr>\n",
       "    <tr>\n",
       "      <th>3</th>\n",
       "      <td>PaymentScreenSuccessful</td>\n",
       "      <td>33918</td>\n",
       "      <td>3539</td>\n",
       "      <td>46.97</td>\n",
       "    </tr>\n",
       "    <tr>\n",
       "      <th>4</th>\n",
       "      <td>Tutorial</td>\n",
       "      <td>1005</td>\n",
       "      <td>840</td>\n",
       "      <td>11.15</td>\n",
       "    </tr>\n",
       "  </tbody>\n",
       "</table>\n",
       "</div>"
      ],
      "text/plain": [
       "                     event  number_of_events  users  share_of_users1\n",
       "0         MainScreenAppear            117328   7419            98.47\n",
       "1       OffersScreenAppear             46333   4593            60.96\n",
       "2         CartScreenAppear             42303   3734            49.56\n",
       "3  PaymentScreenSuccessful             33918   3539            46.97\n",
       "4                 Tutorial              1005    840            11.15"
      ]
     },
     "execution_count": 34,
     "metadata": {},
     "output_type": "execute_result"
    }
   ],
   "source": [
    "#доля пользователей, которые хоть раз совершали событие\n",
    "events_users['share_of_users1'] = (events_users['users'] / new_users * 100).round(2) # доля хотя бы раз совершивших событие\n",
    "events_users"
   ]
  },
  {
   "cell_type": "markdown",
   "metadata": {},
   "source": [
    "**Предположите, в каком порядке происходят события. Все ли они выстраиваются в последовательную цепочку? Их не нужно учитывать при расчёте воронки**"
   ]
  },
  {
   "cell_type": "code",
   "execution_count": 35,
   "metadata": {},
   "outputs": [
    {
     "data": {
      "text/plain": [
       "MainScreenAppear           117328\n",
       "OffersScreenAppear          46333\n",
       "CartScreenAppear            42303\n",
       "PaymentScreenSuccessful     33918\n",
       "Tutorial                     1005\n",
       "Name: event, dtype: int64"
      ]
     },
     "execution_count": 35,
     "metadata": {},
     "output_type": "execute_result"
    }
   ],
   "source": [
    "df['event'].value_counts()"
   ]
  },
  {
   "cell_type": "markdown",
   "metadata": {},
   "source": [
    "Названия столбцов\n",
    "1. MainScreenAppear - Появление главного экрана\n",
    "2. OffersScreenAppear - Появление экрана предложений\n",
    "3. CartScreenAppear - Появление экрана корзины\n",
    "4. PaymentScreenSuccessful - Экран платеж успешен\n",
    "5. Tutorial - Руководство пользователя"
   ]
  },
  {
   "cell_type": "markdown",
   "metadata": {},
   "source": [
    "Предположение: исходя из названий столбцов и последовательного уменьшения количеств событий, можно предположить что первые 4 события - типичная воронка действий пользователя (зашел на главный экран - выбрал предложение - добавил в корзину - оплатил)\n",
    "Лишнее здесь только руководство пользователя, оно не является в данном случае нужным событием для исследования поведения пользователя"
   ]
  },
  {
   "cell_type": "markdown",
   "metadata": {},
   "source": [
    "**По воронке событий посчитайте, какая доля пользователей проходит на следующий шаг воронки (от числа пользователей на предыдущем). То есть для последовательности событий A → B → C посчитайте отношение числа пользователей с событием B к количеству пользователей с событием A, а также отношение числа пользователей с событием C к количеству пользователей с событием B**"
   ]
  },
  {
   "cell_type": "code",
   "execution_count": 36,
   "metadata": {
    "scrolled": false
   },
   "outputs": [
    {
     "name": "stderr",
     "output_type": "stream",
     "text": [
      "/opt/conda/lib/python3.9/site-packages/pandas/core/indexing.py:1637: SettingWithCopyWarning: \n",
      "A value is trying to be set on a copy of a slice from a DataFrame\n",
      "\n",
      "See the caveats in the documentation: https://pandas.pydata.org/pandas-docs/stable/user_guide/indexing.html#returning-a-view-versus-a-copy\n",
      "  self._setitem_single_block(indexer, value, name)\n"
     ]
    },
    {
     "data": {
      "text/html": [
       "<div>\n",
       "<style scoped>\n",
       "    .dataframe tbody tr th:only-of-type {\n",
       "        vertical-align: middle;\n",
       "    }\n",
       "\n",
       "    .dataframe tbody tr th {\n",
       "        vertical-align: top;\n",
       "    }\n",
       "\n",
       "    .dataframe thead th {\n",
       "        text-align: right;\n",
       "    }\n",
       "</style>\n",
       "<table border=\"1\" class=\"dataframe\">\n",
       "  <thead>\n",
       "    <tr style=\"text-align: right;\">\n",
       "      <th></th>\n",
       "      <th>event</th>\n",
       "      <th>number_of_events</th>\n",
       "      <th>users</th>\n",
       "      <th>share_of_users1</th>\n",
       "      <th>conversion</th>\n",
       "    </tr>\n",
       "  </thead>\n",
       "  <tbody>\n",
       "    <tr>\n",
       "      <th>0</th>\n",
       "      <td>MainScreenAppear</td>\n",
       "      <td>117328</td>\n",
       "      <td>7419</td>\n",
       "      <td>98.47</td>\n",
       "      <td>100</td>\n",
       "    </tr>\n",
       "    <tr>\n",
       "      <th>1</th>\n",
       "      <td>OffersScreenAppear</td>\n",
       "      <td>46333</td>\n",
       "      <td>4593</td>\n",
       "      <td>60.96</td>\n",
       "      <td>39</td>\n",
       "    </tr>\n",
       "    <tr>\n",
       "      <th>2</th>\n",
       "      <td>CartScreenAppear</td>\n",
       "      <td>42303</td>\n",
       "      <td>3734</td>\n",
       "      <td>49.56</td>\n",
       "      <td>91</td>\n",
       "    </tr>\n",
       "    <tr>\n",
       "      <th>3</th>\n",
       "      <td>PaymentScreenSuccessful</td>\n",
       "      <td>33918</td>\n",
       "      <td>3539</td>\n",
       "      <td>46.97</td>\n",
       "      <td>80</td>\n",
       "    </tr>\n",
       "    <tr>\n",
       "      <th>4</th>\n",
       "      <td>Tutorial</td>\n",
       "      <td>1005</td>\n",
       "      <td>840</td>\n",
       "      <td>11.15</td>\n",
       "      <td>3</td>\n",
       "    </tr>\n",
       "  </tbody>\n",
       "</table>\n",
       "</div>"
      ],
      "text/plain": [
       "                     event  number_of_events  users  share_of_users1  \\\n",
       "0         MainScreenAppear            117328   7419            98.47   \n",
       "1       OffersScreenAppear             46333   4593            60.96   \n",
       "2         CartScreenAppear             42303   3734            49.56   \n",
       "3  PaymentScreenSuccessful             33918   3539            46.97   \n",
       "4                 Tutorial              1005    840            11.15   \n",
       "\n",
       "   conversion  \n",
       "0         100  \n",
       "1          39  \n",
       "2          91  \n",
       "3          80  \n",
       "4           3  "
      ]
     },
     "metadata": {},
     "output_type": "display_data"
    }
   ],
   "source": [
    "#считаем конверсию относительно каждого предыдущего этапа\n",
    "events_users['conversion'] = 0\n",
    "for i in range(0, len(events_users['share_of_users1'])):\n",
    "    if i == 0:\n",
    "        events_users['conversion'].iloc[i] = 100\n",
    "    else:\n",
    "        events_users['conversion'].iloc[i] = round(int(events_users['number_of_events'].iloc[i]) / int(events_users['number_of_events'].iloc[i-1]), 2)*100\n",
    "display(events_users)"
   ]
  },
  {
   "cell_type": "markdown",
   "metadata": {},
   "source": [
    "**На каком шаге теряете больше всего пользователей?**"
   ]
  },
  {
   "cell_type": "markdown",
   "metadata": {},
   "source": [
    "Больше всего теряем пользователей на переходе с этапа MainScreenAppear на OffersScreenAppear, конверсия всего 39%. Что-то не так со окном предложений"
   ]
  },
  {
   "cell_type": "markdown",
   "metadata": {},
   "source": [
    "**Какая доля пользователей доходит от первого события до оплаты?**"
   ]
  },
  {
   "cell_type": "code",
   "execution_count": 37,
   "metadata": {},
   "outputs": [
    {
     "data": {
      "text/html": [
       "<div>\n",
       "<style scoped>\n",
       "    .dataframe tbody tr th:only-of-type {\n",
       "        vertical-align: middle;\n",
       "    }\n",
       "\n",
       "    .dataframe tbody tr th {\n",
       "        vertical-align: top;\n",
       "    }\n",
       "\n",
       "    .dataframe thead th {\n",
       "        text-align: right;\n",
       "    }\n",
       "</style>\n",
       "<table border=\"1\" class=\"dataframe\">\n",
       "  <thead>\n",
       "    <tr style=\"text-align: right;\">\n",
       "      <th></th>\n",
       "      <th>event</th>\n",
       "      <th>number_of_events</th>\n",
       "      <th>users</th>\n",
       "      <th>share_of_users1</th>\n",
       "      <th>conversion</th>\n",
       "    </tr>\n",
       "  </thead>\n",
       "  <tbody>\n",
       "    <tr>\n",
       "      <th>0</th>\n",
       "      <td>MainScreenAppear</td>\n",
       "      <td>117328</td>\n",
       "      <td>7419</td>\n",
       "      <td>98.47</td>\n",
       "      <td>100</td>\n",
       "    </tr>\n",
       "    <tr>\n",
       "      <th>1</th>\n",
       "      <td>OffersScreenAppear</td>\n",
       "      <td>46333</td>\n",
       "      <td>4593</td>\n",
       "      <td>60.96</td>\n",
       "      <td>39</td>\n",
       "    </tr>\n",
       "    <tr>\n",
       "      <th>2</th>\n",
       "      <td>CartScreenAppear</td>\n",
       "      <td>42303</td>\n",
       "      <td>3734</td>\n",
       "      <td>49.56</td>\n",
       "      <td>91</td>\n",
       "    </tr>\n",
       "    <tr>\n",
       "      <th>3</th>\n",
       "      <td>PaymentScreenSuccessful</td>\n",
       "      <td>33918</td>\n",
       "      <td>3539</td>\n",
       "      <td>46.97</td>\n",
       "      <td>80</td>\n",
       "    </tr>\n",
       "  </tbody>\n",
       "</table>\n",
       "</div>"
      ],
      "text/plain": [
       "                     event  number_of_events  users  share_of_users1  \\\n",
       "0         MainScreenAppear            117328   7419            98.47   \n",
       "1       OffersScreenAppear             46333   4593            60.96   \n",
       "2         CartScreenAppear             42303   3734            49.56   \n",
       "3  PaymentScreenSuccessful             33918   3539            46.97   \n",
       "\n",
       "   conversion  \n",
       "0         100  \n",
       "1          39  \n",
       "2          91  \n",
       "3          80  "
      ]
     },
     "execution_count": 37,
     "metadata": {},
     "output_type": "execute_result"
    }
   ],
   "source": [
    "#исключаем tutorial\n",
    "events_users= events_users[events_users['event']!='Tutorial']\n",
    "events_users"
   ]
  },
  {
   "cell_type": "code",
   "execution_count": 38,
   "metadata": {},
   "outputs": [
    {
     "data": {
      "text/plain": [
       "47.70184661005526"
      ]
     },
     "execution_count": 38,
     "metadata": {},
     "output_type": "execute_result"
    }
   ],
   "source": [
    "payment_conversion = (events_users['users'].iloc[3]/events_users['users'].iloc[0]*100)\n",
    "payment_conversion"
   ]
  },
  {
   "cell_type": "markdown",
   "metadata": {},
   "source": [
    "***Изучите результаты эксперимента***"
   ]
  },
  {
   "cell_type": "markdown",
   "metadata": {},
   "source": [
    "**Сколько пользователей в каждой экспериментальной группе?**"
   ]
  },
  {
   "cell_type": "code",
   "execution_count": 39,
   "metadata": {},
   "outputs": [
    {
     "data": {
      "text/plain": [
       "group\n",
       "A1    2484\n",
       "A2    2513\n",
       "B     2537\n",
       "Name: user, dtype: int64"
      ]
     },
     "execution_count": 39,
     "metadata": {},
     "output_type": "execute_result"
    }
   ],
   "source": [
    "df.groupby('group')['user'].nunique()"
   ]
  },
  {
   "cell_type": "markdown",
   "metadata": {},
   "source": [
    "**Есть 2 контрольные группы для А/А-эксперимента, чтобы проверить корректность всех механизмов и расчётов. Проверьте, находят ли статистические критерии разницу между выборками 246 и 247**"
   ]
  },
  {
   "cell_type": "code",
   "execution_count": 40,
   "metadata": {},
   "outputs": [
    {
     "data": {
      "text/plain": [
       "group\n",
       "A1       2484\n",
       "A2       2513\n",
       "B        2537\n",
       "A1+A2    4997\n",
       "Name: user, dtype: int64"
      ]
     },
     "execution_count": 40,
     "metadata": {},
     "output_type": "execute_result"
    }
   ],
   "source": [
    "#создаем общий датафрейм с группами по пользователям\n",
    "users_in_group = df.groupby('group')['user'].nunique()\n",
    "users_in_group['A1+A2'] = users_in_group['A1'] + users_in_group['A2']\n",
    "users_in_group"
   ]
  },
  {
   "cell_type": "markdown",
   "metadata": {},
   "source": [
    "Группы распределены равномерно"
   ]
  },
  {
   "cell_type": "markdown",
   "metadata": {},
   "source": [
    "**Выберите самое популярное событие**"
   ]
  },
  {
   "cell_type": "code",
   "execution_count": 41,
   "metadata": {},
   "outputs": [
    {
     "data": {
      "text/html": [
       "<div>\n",
       "<style scoped>\n",
       "    .dataframe tbody tr th:only-of-type {\n",
       "        vertical-align: middle;\n",
       "    }\n",
       "\n",
       "    .dataframe tbody tr th {\n",
       "        vertical-align: top;\n",
       "    }\n",
       "\n",
       "    .dataframe thead th {\n",
       "        text-align: right;\n",
       "    }\n",
       "</style>\n",
       "<table border=\"1\" class=\"dataframe\">\n",
       "  <thead>\n",
       "    <tr style=\"text-align: right;\">\n",
       "      <th>group</th>\n",
       "      <th>event</th>\n",
       "      <th>A1</th>\n",
       "      <th>A2</th>\n",
       "      <th>B</th>\n",
       "      <th>A1+A2</th>\n",
       "      <th>all</th>\n",
       "      <th>part_A1</th>\n",
       "      <th>part_A2</th>\n",
       "      <th>part_B</th>\n",
       "      <th>part_A1+A2</th>\n",
       "    </tr>\n",
       "  </thead>\n",
       "  <tbody>\n",
       "    <tr>\n",
       "      <th>0</th>\n",
       "      <td>MainScreenAppear</td>\n",
       "      <td>2450</td>\n",
       "      <td>2476</td>\n",
       "      <td>2493</td>\n",
       "      <td>4926</td>\n",
       "      <td>7419</td>\n",
       "      <td>98.63</td>\n",
       "      <td>98.53</td>\n",
       "      <td>98.27</td>\n",
       "      <td>98.58</td>\n",
       "    </tr>\n",
       "    <tr>\n",
       "      <th>1</th>\n",
       "      <td>OffersScreenAppear</td>\n",
       "      <td>1542</td>\n",
       "      <td>1520</td>\n",
       "      <td>1531</td>\n",
       "      <td>3062</td>\n",
       "      <td>4593</td>\n",
       "      <td>62.08</td>\n",
       "      <td>60.49</td>\n",
       "      <td>60.35</td>\n",
       "      <td>61.28</td>\n",
       "    </tr>\n",
       "    <tr>\n",
       "      <th>2</th>\n",
       "      <td>CartScreenAppear</td>\n",
       "      <td>1266</td>\n",
       "      <td>1238</td>\n",
       "      <td>1230</td>\n",
       "      <td>2504</td>\n",
       "      <td>3734</td>\n",
       "      <td>50.97</td>\n",
       "      <td>49.26</td>\n",
       "      <td>48.48</td>\n",
       "      <td>50.11</td>\n",
       "    </tr>\n",
       "    <tr>\n",
       "      <th>3</th>\n",
       "      <td>PaymentScreenSuccessful</td>\n",
       "      <td>1200</td>\n",
       "      <td>1158</td>\n",
       "      <td>1181</td>\n",
       "      <td>2358</td>\n",
       "      <td>3539</td>\n",
       "      <td>48.31</td>\n",
       "      <td>46.08</td>\n",
       "      <td>46.55</td>\n",
       "      <td>47.19</td>\n",
       "    </tr>\n",
       "  </tbody>\n",
       "</table>\n",
       "</div>"
      ],
      "text/plain": [
       "group                    event    A1    A2     B  A1+A2   all  part_A1  \\\n",
       "0             MainScreenAppear  2450  2476  2493   4926  7419    98.63   \n",
       "1           OffersScreenAppear  1542  1520  1531   3062  4593    62.08   \n",
       "2             CartScreenAppear  1266  1238  1230   2504  3734    50.97   \n",
       "3      PaymentScreenSuccessful  1200  1158  1181   2358  3539    48.31   \n",
       "\n",
       "group  part_A2  part_B  part_A1+A2  \n",
       "0        98.53   98.27       98.58  \n",
       "1        60.49   60.35       61.28  \n",
       "2        49.26   48.48       50.11  \n",
       "3        46.08   46.55       47.19  "
      ]
     },
     "execution_count": 41,
     "metadata": {},
     "output_type": "execute_result"
    }
   ],
   "source": [
    "#составим таблицу распределения событий по группам и с долями по событиям\n",
    "#исключим событие Tutorial как ненужное\n",
    "event_group_test = df[df['event']!='Tutorial'].pivot_table(\n",
    "    index='event', \n",
    "    columns='group', \n",
    "    values='user',\n",
    "    aggfunc='nunique').sort_values(by='A1', ascending=False)\n",
    "\n",
    "event_group_test = event_group_test.reset_index()\n",
    "event_group_test['A1+A2'] = event_group_test['A1'] + event_group_test['A2']\n",
    "event_group_test['all'] = event_group_test['A1+A2'] + event_group_test['B']\n",
    "\n",
    "event_group_test['part_A1'] = (event_group_test['A1'] / users_in_group['A1'] * 100).round(2)\n",
    "event_group_test['part_A2'] = (event_group_test['A2'] / users_in_group['A2'] * 100).round(2)\n",
    "event_group_test['part_B'] = (event_group_test['B'] / users_in_group['B'] * 100).round(2)\n",
    "event_group_test['part_A1+A2'] = ((event_group_test['A1'] + event_group_test['A2']) / \\\n",
    "                                  (users_in_group['A1'] + users_in_group['A2']) * 100).round(2)\n",
    "\n",
    "event_group_test"
   ]
  },
  {
   "cell_type": "markdown",
   "metadata": {},
   "source": [
    "Самое поулярное событие MainScreenAppear "
   ]
  },
  {
   "cell_type": "markdown",
   "metadata": {},
   "source": [
    "Для удобства создадим функцию для проведения тестов:"
   ]
  },
  {
   "cell_type": "code",
   "execution_count": 42,
   "metadata": {},
   "outputs": [
    {
     "name": "stdout",
     "output_type": "stream",
     "text": [
      "MainScreenAppear p-значение: 0.7570597232046099\n",
      "Не получилось отвергнуть нулевую гипотезу, нет оснований считать доли разными\n",
      "\n",
      "OffersScreenAppear p-значение: 0.2480954578522181\n",
      "Не получилось отвергнуть нулевую гипотезу, нет оснований считать доли разными\n",
      "\n",
      "CartScreenAppear p-значение: 0.22883372237997213\n",
      "Не получилось отвергнуть нулевую гипотезу, нет оснований считать доли разными\n",
      "\n",
      "PaymentScreenSuccessful p-значение: 0.11456679313141849\n",
      "Не получилось отвергнуть нулевую гипотезу, нет оснований считать доли разными\n",
      "\n"
     ]
    }
   ],
   "source": [
    "def ab_test(group1, group2, alpha):\n",
    "    for i in event_group_test.index:\n",
    "        p1 = event_group_test[group1][i] / users_in_group[group1]\n",
    "        # пропорция успехов во второй группе:\n",
    "        p2 = event_group_test[group2][i] / users_in_group[group2]\n",
    "        # пропорция успехов в комбинированном датасете:\n",
    "        p_combined = ((event_group_test[group1][i] + event_group_test[group2][i]) / \n",
    "                      (users_in_group[group1] + users_in_group[group2]))\n",
    "        # разница пропорций в датасетах\n",
    "        difference = p1 - p2\n",
    "        # считаем статистику в отклонениях стандартного нормального распределения\n",
    "        z_value = difference / mth.sqrt(p_combined * (1 - p_combined) * \n",
    "                                        (1/users_in_group[group1] + 1/users_in_group[group2]))\n",
    "        # задаем стандартное нормальное распределение (среднее 0, ст.отклонение 1)\n",
    "        distr = st.norm(0, 1) \n",
    "        p_value = (1 - distr.cdf(abs(z_value))) * 2\n",
    "        print('{} p-значение: {}'.format(event_group_test['event'][i], p_value))\n",
    "        if (p_value < alpha):\n",
    "            print(\"Отвергаем нулевую гипотезу: между долями есть значимая разница\")\n",
    "        else:\n",
    "            print(\"Не получилось отвергнуть нулевую гипотезу, нет оснований считать доли разными\")\n",
    "        print('')\n",
    "        \n",
    "ab_test(\"A1\", \"A2\", 0.01)"
   ]
  },
  {
   "cell_type": "markdown",
   "metadata": {},
   "source": [
    "Выберем уровень статистической значимости в 1%"
   ]
  },
  {
   "cell_type": "code",
   "execution_count": 43,
   "metadata": {},
   "outputs": [
    {
     "name": "stdout",
     "output_type": "stream",
     "text": [
      "MainScreenAppear p-значение: 0.2949721933554552\n",
      "Не получилось отвергнуть нулевую гипотезу, нет оснований считать доли разными\n",
      "\n",
      "OffersScreenAppear p-значение: 0.20836205402738917\n",
      "Не получилось отвергнуть нулевую гипотезу, нет оснований считать доли разными\n",
      "\n",
      "CartScreenAppear p-значение: 0.07842923237520116\n",
      "Не получилось отвергнуть нулевую гипотезу, нет оснований считать доли разными\n",
      "\n",
      "PaymentScreenSuccessful p-значение: 0.2122553275697796\n",
      "Не получилось отвергнуть нулевую гипотезу, нет оснований считать доли разными\n",
      "\n"
     ]
    }
   ],
   "source": [
    "#A1/B тест\n",
    "ab_test(\"A1\", \"B\", 0.01)"
   ]
  },
  {
   "cell_type": "code",
   "execution_count": 44,
   "metadata": {},
   "outputs": [
    {
     "name": "stdout",
     "output_type": "stream",
     "text": [
      "MainScreenAppear p-значение: 0.4587053616621515\n",
      "Не получилось отвергнуть нулевую гипотезу, нет оснований считать доли разными\n",
      "\n",
      "OffersScreenAppear p-значение: 0.9197817830592261\n",
      "Не получилось отвергнуть нулевую гипотезу, нет оснований считать доли разными\n",
      "\n",
      "CartScreenAppear p-значение: 0.5786197879539783\n",
      "Не получилось отвергнуть нулевую гипотезу, нет оснований считать доли разными\n",
      "\n",
      "PaymentScreenSuccessful p-значение: 0.7373415053803964\n",
      "Не получилось отвергнуть нулевую гипотезу, нет оснований считать доли разными\n",
      "\n"
     ]
    }
   ],
   "source": [
    "#A2/B тест\n",
    "ab_test(\"A2\", \"B\", 0.01)"
   ]
  },
  {
   "cell_type": "code",
   "execution_count": 45,
   "metadata": {
    "scrolled": true
   },
   "outputs": [
    {
     "name": "stdout",
     "output_type": "stream",
     "text": [
      "MainScreenAppear p-значение: 0.29424526837179577\n",
      "Не получилось отвергнуть нулевую гипотезу, нет оснований считать доли разными\n",
      "\n",
      "OffersScreenAppear p-значение: 0.43425549655188256\n",
      "Не получилось отвергнуть нулевую гипотезу, нет оснований считать доли разными\n",
      "\n",
      "CartScreenAppear p-значение: 0.18175875284404386\n",
      "Не получилось отвергнуть нулевую гипотезу, нет оснований считать доли разными\n",
      "\n",
      "PaymentScreenSuccessful p-значение: 0.6004294282308704\n",
      "Не получилось отвергнуть нулевую гипотезу, нет оснований считать доли разными\n",
      "\n"
     ]
    }
   ],
   "source": [
    "#A1+A2/B тест\n",
    "ab_test(\"A1+A2\", \"B\", 0.01)"
   ]
  },
  {
   "cell_type": "markdown",
   "metadata": {},
   "source": [
    "<div class=\"alert alert-info\"> A1/А2 тест - 4 проверки\n",
    "A1/B тест - 4 проверки\n",
    "A2/B тест - 4 проверки\n",
    "A1+A2/B тест - 4 проверки\n",
    "Во всех проверках результат \"Не получилось отвергнуть нулевую гипотезу, нет оснований считать доли разными\" Значит можно повысить уровень статистической значимости до 5% </div>"
   ]
  },
  {
   "cell_type": "code",
   "execution_count": 46,
   "metadata": {},
   "outputs": [
    {
     "name": "stdout",
     "output_type": "stream",
     "text": [
      "MainScreenAppear p-значение: 0.2949721933554552\n",
      "Не получилось отвергнуть нулевую гипотезу, нет оснований считать доли разными\n",
      "\n",
      "OffersScreenAppear p-значение: 0.20836205402738917\n",
      "Не получилось отвергнуть нулевую гипотезу, нет оснований считать доли разными\n",
      "\n",
      "CartScreenAppear p-значение: 0.07842923237520116\n",
      "Не получилось отвергнуть нулевую гипотезу, нет оснований считать доли разными\n",
      "\n",
      "PaymentScreenSuccessful p-значение: 0.2122553275697796\n",
      "Не получилось отвергнуть нулевую гипотезу, нет оснований считать доли разными\n",
      "\n"
     ]
    }
   ],
   "source": [
    "#A1/B тест\n",
    "ab_test(\"A1\", \"B\", 0.05)"
   ]
  },
  {
   "cell_type": "code",
   "execution_count": 47,
   "metadata": {},
   "outputs": [
    {
     "name": "stdout",
     "output_type": "stream",
     "text": [
      "MainScreenAppear p-значение: 0.4587053616621515\n",
      "Не получилось отвергнуть нулевую гипотезу, нет оснований считать доли разными\n",
      "\n",
      "OffersScreenAppear p-значение: 0.9197817830592261\n",
      "Не получилось отвергнуть нулевую гипотезу, нет оснований считать доли разными\n",
      "\n",
      "CartScreenAppear p-значение: 0.5786197879539783\n",
      "Не получилось отвергнуть нулевую гипотезу, нет оснований считать доли разными\n",
      "\n",
      "PaymentScreenSuccessful p-значение: 0.7373415053803964\n",
      "Не получилось отвергнуть нулевую гипотезу, нет оснований считать доли разными\n",
      "\n"
     ]
    }
   ],
   "source": [
    "#A2/B тест\n",
    "ab_test(\"A2\", \"B\", 0.05)"
   ]
  },
  {
   "cell_type": "code",
   "execution_count": 48,
   "metadata": {},
   "outputs": [
    {
     "name": "stdout",
     "output_type": "stream",
     "text": [
      "MainScreenAppear p-значение: 0.29424526837179577\n",
      "Не получилось отвергнуть нулевую гипотезу, нет оснований считать доли разными\n",
      "\n",
      "OffersScreenAppear p-значение: 0.43425549655188256\n",
      "Не получилось отвергнуть нулевую гипотезу, нет оснований считать доли разными\n",
      "\n",
      "CartScreenAppear p-значение: 0.18175875284404386\n",
      "Не получилось отвергнуть нулевую гипотезу, нет оснований считать доли разными\n",
      "\n",
      "PaymentScreenSuccessful p-значение: 0.6004294282308704\n",
      "Не получилось отвергнуть нулевую гипотезу, нет оснований считать доли разными\n",
      "\n"
     ]
    }
   ],
   "source": [
    "#A1+A2/B тест\n",
    "ab_test(\"A1+A2\", \"B\", 0.05)"
   ]
  },
  {
   "cell_type": "markdown",
   "metadata": {},
   "source": [
    "Достаточно применить уровень статистической значимости в 5%"
   ]
  },
  {
   "cell_type": "markdown",
   "metadata": {},
   "source": [
    "<div class=\"alert alert-info\"> Скорректируем уровень альфа с учетом проведенных проверок\n",
    "Возьмем уровень альфа в 0,05 (5%). Мы проводим 4 сравнения. Применим поправку методом Шидака, чтобы не снидать мощность теста. альфа = 1 - (1 - 0.05)^(1/4) = 0.0127  Итого расчет с учетом поправки:</div>"
   ]
  },
  {
   "cell_type": "code",
   "execution_count": 49,
   "metadata": {},
   "outputs": [
    {
     "name": "stdout",
     "output_type": "stream",
     "text": [
      "MainScreenAppear p-значение: 0.2949721933554552\n",
      "Не получилось отвергнуть нулевую гипотезу, нет оснований считать доли разными\n",
      "\n",
      "OffersScreenAppear p-значение: 0.20836205402738917\n",
      "Не получилось отвергнуть нулевую гипотезу, нет оснований считать доли разными\n",
      "\n",
      "CartScreenAppear p-значение: 0.07842923237520116\n",
      "Не получилось отвергнуть нулевую гипотезу, нет оснований считать доли разными\n",
      "\n",
      "PaymentScreenSuccessful p-значение: 0.2122553275697796\n",
      "Не получилось отвергнуть нулевую гипотезу, нет оснований считать доли разными\n",
      "\n"
     ]
    }
   ],
   "source": [
    "#A1/B тест\n",
    "ab_test(\"A1\", \"B\", 0.0127)"
   ]
  },
  {
   "cell_type": "code",
   "execution_count": 50,
   "metadata": {},
   "outputs": [
    {
     "name": "stdout",
     "output_type": "stream",
     "text": [
      "MainScreenAppear p-значение: 0.4587053616621515\n",
      "Не получилось отвергнуть нулевую гипотезу, нет оснований считать доли разными\n",
      "\n",
      "OffersScreenAppear p-значение: 0.9197817830592261\n",
      "Не получилось отвергнуть нулевую гипотезу, нет оснований считать доли разными\n",
      "\n",
      "CartScreenAppear p-значение: 0.5786197879539783\n",
      "Не получилось отвергнуть нулевую гипотезу, нет оснований считать доли разными\n",
      "\n",
      "PaymentScreenSuccessful p-значение: 0.7373415053803964\n",
      "Не получилось отвергнуть нулевую гипотезу, нет оснований считать доли разными\n",
      "\n"
     ]
    }
   ],
   "source": [
    "#A2/B тест\n",
    "ab_test(\"A2\", \"B\", 0.0127)"
   ]
  },
  {
   "cell_type": "code",
   "execution_count": 51,
   "metadata": {},
   "outputs": [
    {
     "name": "stdout",
     "output_type": "stream",
     "text": [
      "MainScreenAppear p-значение: 0.29424526837179577\n",
      "Не получилось отвергнуть нулевую гипотезу, нет оснований считать доли разными\n",
      "\n",
      "OffersScreenAppear p-значение: 0.43425549655188256\n",
      "Не получилось отвергнуть нулевую гипотезу, нет оснований считать доли разными\n",
      "\n",
      "CartScreenAppear p-значение: 0.18175875284404386\n",
      "Не получилось отвергнуть нулевую гипотезу, нет оснований считать доли разными\n",
      "\n",
      "PaymentScreenSuccessful p-значение: 0.6004294282308704\n",
      "Не получилось отвергнуть нулевую гипотезу, нет оснований считать доли разными\n",
      "\n"
     ]
    }
   ],
   "source": [
    "#A1+A2/B тест\n",
    "ab_test(\"A1+A2\", \"B\", 0.0127)"
   ]
  },
  {
   "cell_type": "code",
   "execution_count": 52,
   "metadata": {},
   "outputs": [
    {
     "name": "stdout",
     "output_type": "stream",
     "text": [
      "MainScreenAppear p-значение: 0.7570597232046099\n",
      "Не получилось отвергнуть нулевую гипотезу, нет оснований считать доли разными\n",
      "\n",
      "OffersScreenAppear p-значение: 0.2480954578522181\n",
      "Не получилось отвергнуть нулевую гипотезу, нет оснований считать доли разными\n",
      "\n",
      "CartScreenAppear p-значение: 0.22883372237997213\n",
      "Не получилось отвергнуть нулевую гипотезу, нет оснований считать доли разными\n",
      "\n",
      "PaymentScreenSuccessful p-значение: 0.11456679313141849\n",
      "Не получилось отвергнуть нулевую гипотезу, нет оснований считать доли разными\n",
      "\n"
     ]
    }
   ],
   "source": [
    "#A1/A2 тест\n",
    "ab_test(\"A1\", \"A2\", 0.0127)"
   ]
  },
  {
   "cell_type": "markdown",
   "metadata": {},
   "source": [
    "Вывод: В результате A/A/B эксперемента значимой разницы между группами не выявлено. Тестирование успешно - изменение шрифта не повлияло на поведение пользователей"
   ]
  }
 ],
 "metadata": {
  "ExecuteTimeLog": [
   {
    "duration": 352,
    "start_time": "2023-02-13T16:17:04.842Z"
   },
   {
    "duration": 1087,
    "start_time": "2023-02-13T16:17:56.060Z"
   },
   {
    "duration": 108,
    "start_time": "2023-02-13T16:18:52.749Z"
   },
   {
    "duration": 715,
    "start_time": "2023-02-13T16:19:09.916Z"
   },
   {
    "duration": 13,
    "start_time": "2023-02-13T16:19:24.523Z"
   },
   {
    "duration": 22,
    "start_time": "2023-02-13T16:19:36.796Z"
   },
   {
    "duration": 44,
    "start_time": "2023-02-13T16:19:47.942Z"
   },
   {
    "duration": 8,
    "start_time": "2023-02-13T16:21:18.938Z"
   },
   {
    "duration": 283,
    "start_time": "2023-02-13T16:28:40.787Z"
   },
   {
    "duration": 89,
    "start_time": "2023-02-13T16:29:12.450Z"
   },
   {
    "duration": 130,
    "start_time": "2023-02-13T16:29:38.714Z"
   },
   {
    "duration": 72,
    "start_time": "2023-02-13T16:31:24.400Z"
   },
   {
    "duration": 33,
    "start_time": "2023-02-13T16:32:06.919Z"
   },
   {
    "duration": 1191,
    "start_time": "2023-02-13T16:32:29.194Z"
   },
   {
    "duration": 141,
    "start_time": "2023-02-13T16:32:30.387Z"
   },
   {
    "duration": 13,
    "start_time": "2023-02-13T16:32:30.530Z"
   },
   {
    "duration": 36,
    "start_time": "2023-02-13T16:32:30.545Z"
   },
   {
    "duration": 73,
    "start_time": "2023-02-13T16:32:30.583Z"
   },
   {
    "duration": 8,
    "start_time": "2023-02-13T16:32:30.657Z"
   },
   {
    "duration": 311,
    "start_time": "2023-02-13T16:32:30.667Z"
   },
   {
    "duration": 101,
    "start_time": "2023-02-13T16:32:30.980Z"
   },
   {
    "duration": 134,
    "start_time": "2023-02-13T16:32:31.083Z"
   },
   {
    "duration": 24,
    "start_time": "2023-02-13T16:32:31.219Z"
   },
   {
    "duration": 3,
    "start_time": "2023-02-13T16:33:00.300Z"
   },
   {
    "duration": 73,
    "start_time": "2023-02-13T16:33:05.219Z"
   },
   {
    "duration": 21,
    "start_time": "2023-02-13T16:37:45.569Z"
   },
   {
    "duration": 38,
    "start_time": "2023-02-13T16:39:07.550Z"
   },
   {
    "duration": 34,
    "start_time": "2023-02-13T16:39:22.484Z"
   },
   {
    "duration": 5,
    "start_time": "2023-02-13T16:41:34.324Z"
   },
   {
    "duration": 5,
    "start_time": "2023-02-13T16:42:10.266Z"
   },
   {
    "duration": 11,
    "start_time": "2023-02-13T16:42:40.571Z"
   },
   {
    "duration": 10,
    "start_time": "2023-02-13T16:42:46.258Z"
   },
   {
    "duration": 11,
    "start_time": "2023-02-13T16:42:50.082Z"
   },
   {
    "duration": 13,
    "start_time": "2023-02-13T16:43:10.618Z"
   },
   {
    "duration": 6,
    "start_time": "2023-02-13T17:01:25.615Z"
   },
   {
    "duration": 4,
    "start_time": "2023-02-13T17:01:37.952Z"
   },
   {
    "duration": 5,
    "start_time": "2023-02-13T17:01:41.760Z"
   },
   {
    "duration": 6,
    "start_time": "2023-02-13T17:02:41.335Z"
   },
   {
    "duration": 376,
    "start_time": "2023-02-13T17:04:55.768Z"
   },
   {
    "duration": 285,
    "start_time": "2023-02-13T17:05:47.432Z"
   },
   {
    "duration": 124,
    "start_time": "2023-02-13T17:09:36.100Z"
   },
   {
    "duration": 10,
    "start_time": "2023-02-13T17:12:29.241Z"
   },
   {
    "duration": 12,
    "start_time": "2023-02-13T17:12:34.817Z"
   },
   {
    "duration": 55,
    "start_time": "2023-02-13T17:13:13.890Z"
   },
   {
    "duration": 38,
    "start_time": "2023-02-13T17:14:02.679Z"
   },
   {
    "duration": 37,
    "start_time": "2023-02-13T17:14:07.968Z"
   },
   {
    "duration": 135,
    "start_time": "2023-02-13T17:15:45.118Z"
   },
   {
    "duration": 4,
    "start_time": "2023-02-13T17:16:29.669Z"
   },
   {
    "duration": 11,
    "start_time": "2023-02-13T17:18:17.588Z"
   },
   {
    "duration": 1343,
    "start_time": "2023-02-13T17:19:20.456Z"
   },
   {
    "duration": 159,
    "start_time": "2023-02-13T17:19:21.801Z"
   },
   {
    "duration": 13,
    "start_time": "2023-02-13T17:19:21.962Z"
   },
   {
    "duration": 28,
    "start_time": "2023-02-13T17:19:21.977Z"
   },
   {
    "duration": 50,
    "start_time": "2023-02-13T17:19:22.007Z"
   },
   {
    "duration": 7,
    "start_time": "2023-02-13T17:19:22.059Z"
   },
   {
    "duration": 341,
    "start_time": "2023-02-13T17:19:22.068Z"
   },
   {
    "duration": 111,
    "start_time": "2023-02-13T17:19:22.412Z"
   },
   {
    "duration": 142,
    "start_time": "2023-02-13T17:19:22.525Z"
   },
   {
    "duration": 37,
    "start_time": "2023-02-13T17:19:22.670Z"
   },
   {
    "duration": 91,
    "start_time": "2023-02-13T17:19:22.709Z"
   },
   {
    "duration": 12,
    "start_time": "2023-02-13T17:19:22.802Z"
   },
   {
    "duration": 27,
    "start_time": "2023-02-13T17:19:22.816Z"
   },
   {
    "duration": 67,
    "start_time": "2023-02-13T17:19:22.845Z"
   },
   {
    "duration": 18,
    "start_time": "2023-02-13T17:19:22.914Z"
   },
   {
    "duration": 12,
    "start_time": "2023-02-13T17:19:22.934Z"
   },
   {
    "duration": 15,
    "start_time": "2023-02-13T17:19:22.947Z"
   },
   {
    "duration": 8,
    "start_time": "2023-02-13T17:19:22.964Z"
   },
   {
    "duration": 447,
    "start_time": "2023-02-13T17:19:22.975Z"
   },
   {
    "duration": 124,
    "start_time": "2023-02-13T17:19:23.424Z"
   },
   {
    "duration": 12,
    "start_time": "2023-02-13T17:19:23.550Z"
   },
   {
    "duration": 4,
    "start_time": "2023-02-13T17:19:23.564Z"
   },
   {
    "duration": 61,
    "start_time": "2023-02-13T17:19:23.571Z"
   },
   {
    "duration": 3,
    "start_time": "2023-02-13T17:19:23.635Z"
   },
   {
    "duration": 3,
    "start_time": "2023-02-13T17:19:44.226Z"
   },
   {
    "duration": 29,
    "start_time": "2023-02-13T17:21:39.993Z"
   },
   {
    "duration": 66,
    "start_time": "2023-02-13T17:22:42.483Z"
   },
   {
    "duration": 26,
    "start_time": "2023-02-13T17:25:01.380Z"
   },
   {
    "duration": 85,
    "start_time": "2023-02-13T17:30:59.288Z"
   },
   {
    "duration": 85,
    "start_time": "2023-02-13T17:31:04.718Z"
   },
   {
    "duration": 83,
    "start_time": "2023-02-13T17:31:40.846Z"
   },
   {
    "duration": 82,
    "start_time": "2023-02-13T17:33:04.558Z"
   },
   {
    "duration": 15,
    "start_time": "2023-02-13T17:35:44.388Z"
   },
   {
    "duration": 5,
    "start_time": "2023-02-13T17:40:20.871Z"
   },
   {
    "duration": 6,
    "start_time": "2023-02-13T17:40:45.158Z"
   },
   {
    "duration": 25,
    "start_time": "2023-02-13T17:41:08.413Z"
   },
   {
    "duration": 1415,
    "start_time": "2023-02-14T05:59:35.061Z"
   },
   {
    "duration": 719,
    "start_time": "2023-02-14T05:59:36.478Z"
   },
   {
    "duration": 13,
    "start_time": "2023-02-14T05:59:37.199Z"
   },
   {
    "duration": 21,
    "start_time": "2023-02-14T05:59:37.214Z"
   },
   {
    "duration": 42,
    "start_time": "2023-02-14T05:59:37.237Z"
   },
   {
    "duration": 8,
    "start_time": "2023-02-14T05:59:37.281Z"
   },
   {
    "duration": 363,
    "start_time": "2023-02-14T05:59:37.290Z"
   },
   {
    "duration": 97,
    "start_time": "2023-02-14T05:59:37.655Z"
   },
   {
    "duration": 124,
    "start_time": "2023-02-14T05:59:37.753Z"
   },
   {
    "duration": 30,
    "start_time": "2023-02-14T05:59:37.880Z"
   },
   {
    "duration": 73,
    "start_time": "2023-02-14T05:59:37.911Z"
   },
   {
    "duration": 27,
    "start_time": "2023-02-14T05:59:37.985Z"
   },
   {
    "duration": 20,
    "start_time": "2023-02-14T05:59:38.013Z"
   },
   {
    "duration": 40,
    "start_time": "2023-02-14T05:59:38.035Z"
   },
   {
    "duration": 10,
    "start_time": "2023-02-14T05:59:38.077Z"
   },
   {
    "duration": 21,
    "start_time": "2023-02-14T05:59:38.089Z"
   },
   {
    "duration": 5,
    "start_time": "2023-02-14T05:59:38.112Z"
   },
   {
    "duration": 15,
    "start_time": "2023-02-14T05:59:38.119Z"
   },
   {
    "duration": 364,
    "start_time": "2023-02-14T05:59:38.136Z"
   },
   {
    "duration": 111,
    "start_time": "2023-02-14T05:59:38.501Z"
   },
   {
    "duration": 11,
    "start_time": "2023-02-14T05:59:38.614Z"
   },
   {
    "duration": 4,
    "start_time": "2023-02-14T05:59:38.626Z"
   },
   {
    "duration": 39,
    "start_time": "2023-02-14T05:59:38.632Z"
   },
   {
    "duration": 3,
    "start_time": "2023-02-14T05:59:38.672Z"
   },
   {
    "duration": 53,
    "start_time": "2023-02-14T05:59:38.677Z"
   },
   {
    "duration": 63,
    "start_time": "2023-02-14T05:59:38.732Z"
   },
   {
    "duration": 25,
    "start_time": "2023-02-14T05:59:38.797Z"
   },
   {
    "duration": 95,
    "start_time": "2023-02-14T05:59:38.825Z"
   },
   {
    "duration": 10,
    "start_time": "2023-02-14T05:59:38.921Z"
   },
   {
    "duration": 23,
    "start_time": "2023-02-14T05:59:38.933Z"
   },
   {
    "duration": 5,
    "start_time": "2023-02-14T06:06:48.053Z"
   },
   {
    "duration": 20,
    "start_time": "2023-02-14T06:06:57.190Z"
   },
   {
    "duration": 1736,
    "start_time": "2023-02-14T06:07:15.942Z"
   },
   {
    "duration": 1595,
    "start_time": "2023-02-14T06:08:04.935Z"
   },
   {
    "duration": 1630,
    "start_time": "2023-02-14T06:09:14.880Z"
   },
   {
    "duration": 12,
    "start_time": "2023-02-14T06:09:54.473Z"
   },
   {
    "duration": 152,
    "start_time": "2023-02-14T06:16:48.196Z"
   },
   {
    "duration": 5,
    "start_time": "2023-02-14T06:19:35.270Z"
   },
   {
    "duration": 4,
    "start_time": "2023-02-14T06:20:20.167Z"
   },
   {
    "duration": 4,
    "start_time": "2023-02-14T06:21:23.321Z"
   },
   {
    "duration": 11,
    "start_time": "2023-02-14T06:25:02.627Z"
   },
   {
    "duration": 66,
    "start_time": "2023-02-14T06:25:25.491Z"
   },
   {
    "duration": 4,
    "start_time": "2023-02-14T06:26:28.732Z"
   },
   {
    "duration": 1226,
    "start_time": "2023-02-14T07:04:09.239Z"
   },
   {
    "duration": 146,
    "start_time": "2023-02-14T07:04:10.467Z"
   },
   {
    "duration": 12,
    "start_time": "2023-02-14T07:04:10.615Z"
   },
   {
    "duration": 19,
    "start_time": "2023-02-14T07:04:10.629Z"
   },
   {
    "duration": 61,
    "start_time": "2023-02-14T07:04:10.649Z"
   },
   {
    "duration": 7,
    "start_time": "2023-02-14T07:04:10.711Z"
   },
   {
    "duration": 344,
    "start_time": "2023-02-14T07:04:10.720Z"
   },
   {
    "duration": 91,
    "start_time": "2023-02-14T07:04:11.065Z"
   },
   {
    "duration": 122,
    "start_time": "2023-02-14T07:04:11.158Z"
   },
   {
    "duration": 34,
    "start_time": "2023-02-14T07:04:11.282Z"
   },
   {
    "duration": 74,
    "start_time": "2023-02-14T07:04:11.317Z"
   },
   {
    "duration": 11,
    "start_time": "2023-02-14T07:04:11.410Z"
   },
   {
    "duration": 23,
    "start_time": "2023-02-14T07:04:11.422Z"
   },
   {
    "duration": 41,
    "start_time": "2023-02-14T07:04:11.447Z"
   },
   {
    "duration": 25,
    "start_time": "2023-02-14T07:04:11.489Z"
   },
   {
    "duration": 5,
    "start_time": "2023-02-14T07:04:11.516Z"
   },
   {
    "duration": 3,
    "start_time": "2023-02-14T07:04:11.523Z"
   },
   {
    "duration": 4,
    "start_time": "2023-02-14T07:04:11.528Z"
   },
   {
    "duration": 372,
    "start_time": "2023-02-14T07:04:11.534Z"
   },
   {
    "duration": 103,
    "start_time": "2023-02-14T07:04:11.907Z"
   },
   {
    "duration": 11,
    "start_time": "2023-02-14T07:04:12.012Z"
   },
   {
    "duration": 4,
    "start_time": "2023-02-14T07:04:12.025Z"
   },
   {
    "duration": 39,
    "start_time": "2023-02-14T07:04:12.030Z"
   },
   {
    "duration": 3,
    "start_time": "2023-02-14T07:04:12.071Z"
   },
   {
    "duration": 53,
    "start_time": "2023-02-14T07:04:12.076Z"
   },
   {
    "duration": 64,
    "start_time": "2023-02-14T07:04:12.130Z"
   },
   {
    "duration": 23,
    "start_time": "2023-02-14T07:04:12.209Z"
   },
   {
    "duration": 93,
    "start_time": "2023-02-14T07:04:12.234Z"
   },
   {
    "duration": 10,
    "start_time": "2023-02-14T07:04:12.328Z"
   },
   {
    "duration": 20,
    "start_time": "2023-02-14T07:04:12.339Z"
   },
   {
    "duration": 16,
    "start_time": "2023-02-14T07:04:12.361Z"
   },
   {
    "duration": 4,
    "start_time": "2023-02-14T07:04:12.378Z"
   },
   {
    "duration": 85,
    "start_time": "2023-02-14T07:04:12.384Z"
   },
   {
    "duration": 67,
    "start_time": "2023-02-14T07:05:13.515Z"
   },
   {
    "duration": 1769,
    "start_time": "2023-02-14T07:08:28.068Z"
   },
   {
    "duration": 61,
    "start_time": "2023-02-14T07:11:24.191Z"
   },
   {
    "duration": 1266,
    "start_time": "2023-02-14T07:11:31.225Z"
   },
   {
    "duration": 184,
    "start_time": "2023-02-14T07:11:32.493Z"
   },
   {
    "duration": 14,
    "start_time": "2023-02-14T07:11:32.678Z"
   },
   {
    "duration": 38,
    "start_time": "2023-02-14T07:11:32.694Z"
   },
   {
    "duration": 46,
    "start_time": "2023-02-14T07:11:32.734Z"
   },
   {
    "duration": 8,
    "start_time": "2023-02-14T07:11:32.781Z"
   },
   {
    "duration": 79,
    "start_time": "2023-02-14T07:11:32.790Z"
   },
   {
    "duration": 218,
    "start_time": "2023-02-14T07:11:32.870Z"
   },
   {
    "duration": 98,
    "start_time": "2023-02-14T07:11:33.090Z"
   },
   {
    "duration": 138,
    "start_time": "2023-02-14T07:11:33.189Z"
   },
   {
    "duration": 27,
    "start_time": "2023-02-14T07:11:33.329Z"
   },
   {
    "duration": 112,
    "start_time": "2023-02-14T07:11:33.358Z"
   },
   {
    "duration": 12,
    "start_time": "2023-02-14T07:11:33.472Z"
   },
   {
    "duration": 46,
    "start_time": "2023-02-14T07:11:33.488Z"
   },
   {
    "duration": 50,
    "start_time": "2023-02-14T07:11:33.535Z"
   },
   {
    "duration": 11,
    "start_time": "2023-02-14T07:11:33.587Z"
   },
   {
    "duration": 32,
    "start_time": "2023-02-14T07:11:33.600Z"
   },
   {
    "duration": 7,
    "start_time": "2023-02-14T07:11:33.634Z"
   },
   {
    "duration": 15,
    "start_time": "2023-02-14T07:11:33.642Z"
   },
   {
    "duration": 366,
    "start_time": "2023-02-14T07:11:33.659Z"
   },
   {
    "duration": 93,
    "start_time": "2023-02-14T07:11:34.027Z"
   },
   {
    "duration": 19,
    "start_time": "2023-02-14T07:11:34.121Z"
   },
   {
    "duration": 8,
    "start_time": "2023-02-14T07:11:34.142Z"
   },
   {
    "duration": 40,
    "start_time": "2023-02-14T07:11:34.151Z"
   },
   {
    "duration": 4,
    "start_time": "2023-02-14T07:11:34.192Z"
   },
   {
    "duration": 30,
    "start_time": "2023-02-14T07:11:34.210Z"
   },
   {
    "duration": 81,
    "start_time": "2023-02-14T07:11:34.242Z"
   },
   {
    "duration": 21,
    "start_time": "2023-02-14T07:11:34.325Z"
   },
   {
    "duration": 94,
    "start_time": "2023-02-14T07:11:34.347Z"
   },
   {
    "duration": 10,
    "start_time": "2023-02-14T07:11:34.443Z"
   },
   {
    "duration": 21,
    "start_time": "2023-02-14T07:11:34.454Z"
   },
   {
    "duration": 44,
    "start_time": "2023-02-14T07:11:34.477Z"
   },
   {
    "duration": 6,
    "start_time": "2023-02-14T07:11:34.523Z"
   },
   {
    "duration": 64,
    "start_time": "2023-02-14T07:11:34.530Z"
   },
   {
    "duration": 107,
    "start_time": "2023-02-14T07:13:23.072Z"
   },
   {
    "duration": 51,
    "start_time": "2023-02-14T07:13:57.049Z"
   },
   {
    "duration": 1196,
    "start_time": "2023-02-14T07:14:06.549Z"
   },
   {
    "duration": 144,
    "start_time": "2023-02-14T07:14:07.746Z"
   },
   {
    "duration": 13,
    "start_time": "2023-02-14T07:14:07.891Z"
   },
   {
    "duration": 22,
    "start_time": "2023-02-14T07:14:07.906Z"
   },
   {
    "duration": 40,
    "start_time": "2023-02-14T07:14:07.930Z"
   },
   {
    "duration": 6,
    "start_time": "2023-02-14T07:14:07.972Z"
   },
   {
    "duration": 73,
    "start_time": "2023-02-14T07:14:07.979Z"
   },
   {
    "duration": 200,
    "start_time": "2023-02-14T07:14:08.053Z"
   },
   {
    "duration": 92,
    "start_time": "2023-02-14T07:14:08.254Z"
   },
   {
    "duration": 110,
    "start_time": "2023-02-14T07:14:08.348Z"
   },
   {
    "duration": 21,
    "start_time": "2023-02-14T07:14:08.460Z"
   },
   {
    "duration": 80,
    "start_time": "2023-02-14T07:14:08.483Z"
   },
   {
    "duration": 11,
    "start_time": "2023-02-14T07:14:08.564Z"
   },
   {
    "duration": 34,
    "start_time": "2023-02-14T07:14:08.578Z"
   },
   {
    "duration": 38,
    "start_time": "2023-02-14T07:14:08.614Z"
   },
   {
    "duration": 12,
    "start_time": "2023-02-14T07:14:08.653Z"
   },
   {
    "duration": 8,
    "start_time": "2023-02-14T07:14:08.667Z"
   },
   {
    "duration": 5,
    "start_time": "2023-02-14T07:14:08.677Z"
   },
   {
    "duration": 31,
    "start_time": "2023-02-14T07:14:08.684Z"
   },
   {
    "duration": 367,
    "start_time": "2023-02-14T07:14:08.717Z"
   },
   {
    "duration": 98,
    "start_time": "2023-02-14T07:14:09.085Z"
   },
   {
    "duration": 11,
    "start_time": "2023-02-14T07:14:09.184Z"
   },
   {
    "duration": 14,
    "start_time": "2023-02-14T07:14:09.197Z"
   },
   {
    "duration": 38,
    "start_time": "2023-02-14T07:14:09.212Z"
   },
   {
    "duration": 3,
    "start_time": "2023-02-14T07:14:09.252Z"
   },
   {
    "duration": 19,
    "start_time": "2023-02-14T07:14:09.257Z"
   },
   {
    "duration": 84,
    "start_time": "2023-02-14T07:14:09.278Z"
   },
   {
    "duration": 19,
    "start_time": "2023-02-14T07:14:09.364Z"
   },
   {
    "duration": 93,
    "start_time": "2023-02-14T07:14:09.385Z"
   },
   {
    "duration": 10,
    "start_time": "2023-02-14T07:14:09.480Z"
   },
   {
    "duration": 32,
    "start_time": "2023-02-14T07:14:09.491Z"
   },
   {
    "duration": 15,
    "start_time": "2023-02-14T07:14:09.525Z"
   },
   {
    "duration": 4,
    "start_time": "2023-02-14T07:14:09.542Z"
   },
   {
    "duration": 81,
    "start_time": "2023-02-14T07:14:09.548Z"
   },
   {
    "duration": 54,
    "start_time": "2023-02-14T07:14:30.544Z"
   },
   {
    "duration": 1246,
    "start_time": "2023-02-14T07:14:41.836Z"
   },
   {
    "duration": 155,
    "start_time": "2023-02-14T07:14:43.084Z"
   },
   {
    "duration": 13,
    "start_time": "2023-02-14T07:14:43.240Z"
   },
   {
    "duration": 18,
    "start_time": "2023-02-14T07:14:43.254Z"
   },
   {
    "duration": 66,
    "start_time": "2023-02-14T07:14:43.274Z"
   },
   {
    "duration": 9,
    "start_time": "2023-02-14T07:14:43.341Z"
   },
   {
    "duration": 78,
    "start_time": "2023-02-14T07:14:43.351Z"
   },
   {
    "duration": 203,
    "start_time": "2023-02-14T07:14:43.431Z"
   },
   {
    "duration": 94,
    "start_time": "2023-02-14T07:14:43.636Z"
   },
   {
    "duration": 112,
    "start_time": "2023-02-14T07:14:43.732Z"
   },
   {
    "duration": 23,
    "start_time": "2023-02-14T07:14:43.845Z"
   },
   {
    "duration": 82,
    "start_time": "2023-02-14T07:14:43.869Z"
   },
   {
    "duration": 11,
    "start_time": "2023-02-14T07:14:43.952Z"
   },
   {
    "duration": 20,
    "start_time": "2023-02-14T07:14:43.966Z"
   },
   {
    "duration": 59,
    "start_time": "2023-02-14T07:14:43.987Z"
   },
   {
    "duration": 11,
    "start_time": "2023-02-14T07:14:44.047Z"
   },
   {
    "duration": 6,
    "start_time": "2023-02-14T07:14:44.060Z"
   },
   {
    "duration": 5,
    "start_time": "2023-02-14T07:14:44.067Z"
   },
   {
    "duration": 6,
    "start_time": "2023-02-14T07:14:44.073Z"
   },
   {
    "duration": 357,
    "start_time": "2023-02-14T07:14:44.080Z"
   },
   {
    "duration": 97,
    "start_time": "2023-02-14T07:14:44.439Z"
   },
   {
    "duration": 11,
    "start_time": "2023-02-14T07:14:44.538Z"
   },
   {
    "duration": 8,
    "start_time": "2023-02-14T07:14:44.550Z"
   },
   {
    "duration": 39,
    "start_time": "2023-02-14T07:14:44.560Z"
   },
   {
    "duration": 4,
    "start_time": "2023-02-14T07:14:44.609Z"
   },
   {
    "duration": 21,
    "start_time": "2023-02-14T07:14:44.614Z"
   },
   {
    "duration": 78,
    "start_time": "2023-02-14T07:14:44.637Z"
   },
   {
    "duration": 22,
    "start_time": "2023-02-14T07:14:44.717Z"
   },
   {
    "duration": 104,
    "start_time": "2023-02-14T07:14:44.740Z"
   },
   {
    "duration": 10,
    "start_time": "2023-02-14T07:14:44.845Z"
   },
   {
    "duration": 20,
    "start_time": "2023-02-14T07:14:44.856Z"
   },
   {
    "duration": 34,
    "start_time": "2023-02-14T07:14:44.877Z"
   },
   {
    "duration": 4,
    "start_time": "2023-02-14T07:14:44.912Z"
   },
   {
    "duration": 66,
    "start_time": "2023-02-14T07:14:44.918Z"
   },
   {
    "duration": 69,
    "start_time": "2023-02-14T07:17:00.851Z"
   },
   {
    "duration": 241,
    "start_time": "2023-02-14T07:20:29.837Z"
   },
   {
    "duration": 146,
    "start_time": "2023-02-14T07:21:42.086Z"
   },
   {
    "duration": 22,
    "start_time": "2023-02-14T07:33:02.302Z"
   },
   {
    "duration": 6,
    "start_time": "2023-02-14T07:33:26.079Z"
   },
   {
    "duration": 21,
    "start_time": "2023-02-14T07:33:37.023Z"
   },
   {
    "duration": 11,
    "start_time": "2023-02-14T07:46:01.346Z"
   },
   {
    "duration": 14,
    "start_time": "2023-02-14T07:46:09.657Z"
   },
   {
    "duration": 1271,
    "start_time": "2023-02-14T07:46:54.103Z"
   },
   {
    "duration": 143,
    "start_time": "2023-02-14T07:46:55.376Z"
   },
   {
    "duration": 14,
    "start_time": "2023-02-14T07:46:55.521Z"
   },
   {
    "duration": 26,
    "start_time": "2023-02-14T07:46:55.536Z"
   },
   {
    "duration": 53,
    "start_time": "2023-02-14T07:46:55.563Z"
   },
   {
    "duration": 7,
    "start_time": "2023-02-14T07:46:55.617Z"
   },
   {
    "duration": 57,
    "start_time": "2023-02-14T07:46:55.626Z"
   },
   {
    "duration": 203,
    "start_time": "2023-02-14T07:46:55.685Z"
   },
   {
    "duration": 89,
    "start_time": "2023-02-14T07:46:55.889Z"
   },
   {
    "duration": 113,
    "start_time": "2023-02-14T07:46:55.980Z"
   },
   {
    "duration": 23,
    "start_time": "2023-02-14T07:46:56.095Z"
   },
   {
    "duration": 73,
    "start_time": "2023-02-14T07:46:56.120Z"
   },
   {
    "duration": 22,
    "start_time": "2023-02-14T07:46:56.194Z"
   },
   {
    "duration": 28,
    "start_time": "2023-02-14T07:46:56.217Z"
   },
   {
    "duration": 37,
    "start_time": "2023-02-14T07:46:56.246Z"
   },
   {
    "duration": 32,
    "start_time": "2023-02-14T07:46:56.285Z"
   },
   {
    "duration": 6,
    "start_time": "2023-02-14T07:46:56.318Z"
   },
   {
    "duration": 5,
    "start_time": "2023-02-14T07:46:56.326Z"
   },
   {
    "duration": 5,
    "start_time": "2023-02-14T07:46:56.332Z"
   },
   {
    "duration": 395,
    "start_time": "2023-02-14T07:46:56.339Z"
   },
   {
    "duration": 106,
    "start_time": "2023-02-14T07:46:56.738Z"
   },
   {
    "duration": 11,
    "start_time": "2023-02-14T07:46:56.846Z"
   },
   {
    "duration": 7,
    "start_time": "2023-02-14T07:46:56.858Z"
   },
   {
    "duration": 60,
    "start_time": "2023-02-14T07:46:56.866Z"
   },
   {
    "duration": 3,
    "start_time": "2023-02-14T07:46:56.928Z"
   },
   {
    "duration": 20,
    "start_time": "2023-02-14T07:46:56.933Z"
   },
   {
    "duration": 78,
    "start_time": "2023-02-14T07:46:56.955Z"
   },
   {
    "duration": 21,
    "start_time": "2023-02-14T07:46:57.036Z"
   },
   {
    "duration": 99,
    "start_time": "2023-02-14T07:46:57.059Z"
   },
   {
    "duration": 10,
    "start_time": "2023-02-14T07:46:57.159Z"
   },
   {
    "duration": 20,
    "start_time": "2023-02-14T07:46:57.170Z"
   },
   {
    "duration": 29,
    "start_time": "2023-02-14T07:46:57.192Z"
   },
   {
    "duration": 4,
    "start_time": "2023-02-14T07:46:57.223Z"
   },
   {
    "duration": 66,
    "start_time": "2023-02-14T07:46:57.228Z"
   },
   {
    "duration": 62,
    "start_time": "2023-02-14T07:46:57.311Z"
   },
   {
    "duration": 168,
    "start_time": "2023-02-14T07:46:57.375Z"
   },
   {
    "duration": 118,
    "start_time": "2023-02-14T07:46:57.545Z"
   },
   {
    "duration": 1256,
    "start_time": "2023-02-14T07:55:08.489Z"
   },
   {
    "duration": 157,
    "start_time": "2023-02-14T07:55:09.747Z"
   },
   {
    "duration": 16,
    "start_time": "2023-02-14T07:55:09.905Z"
   },
   {
    "duration": 20,
    "start_time": "2023-02-14T07:55:09.923Z"
   },
   {
    "duration": 43,
    "start_time": "2023-02-14T07:55:09.945Z"
   },
   {
    "duration": 26,
    "start_time": "2023-02-14T07:55:09.989Z"
   },
   {
    "duration": 69,
    "start_time": "2023-02-14T07:55:10.017Z"
   },
   {
    "duration": 188,
    "start_time": "2023-02-14T07:55:10.088Z"
   },
   {
    "duration": 91,
    "start_time": "2023-02-14T07:55:10.278Z"
   },
   {
    "duration": 115,
    "start_time": "2023-02-14T07:55:10.372Z"
   },
   {
    "duration": 28,
    "start_time": "2023-02-14T07:55:10.488Z"
   },
   {
    "duration": 79,
    "start_time": "2023-02-14T07:55:10.518Z"
   },
   {
    "duration": 17,
    "start_time": "2023-02-14T07:55:10.599Z"
   },
   {
    "duration": 22,
    "start_time": "2023-02-14T07:55:10.617Z"
   },
   {
    "duration": 56,
    "start_time": "2023-02-14T07:55:10.640Z"
   },
   {
    "duration": 13,
    "start_time": "2023-02-14T07:55:10.697Z"
   },
   {
    "duration": 15,
    "start_time": "2023-02-14T07:55:10.711Z"
   },
   {
    "duration": 10,
    "start_time": "2023-02-14T07:55:10.728Z"
   },
   {
    "duration": 14,
    "start_time": "2023-02-14T07:55:10.739Z"
   },
   {
    "duration": 346,
    "start_time": "2023-02-14T07:55:10.755Z"
   },
   {
    "duration": 98,
    "start_time": "2023-02-14T07:55:11.103Z"
   },
   {
    "duration": 18,
    "start_time": "2023-02-14T07:55:11.202Z"
   },
   {
    "duration": 10,
    "start_time": "2023-02-14T07:55:11.222Z"
   },
   {
    "duration": 45,
    "start_time": "2023-02-14T07:55:11.233Z"
   },
   {
    "duration": 4,
    "start_time": "2023-02-14T07:55:11.280Z"
   },
   {
    "duration": 35,
    "start_time": "2023-02-14T07:55:11.286Z"
   },
   {
    "duration": 68,
    "start_time": "2023-02-14T07:55:11.322Z"
   },
   {
    "duration": 30,
    "start_time": "2023-02-14T07:55:11.393Z"
   },
   {
    "duration": 89,
    "start_time": "2023-02-14T07:55:11.425Z"
   },
   {
    "duration": 8,
    "start_time": "2023-02-14T07:55:11.516Z"
   },
   {
    "duration": 20,
    "start_time": "2023-02-14T07:55:11.526Z"
   },
   {
    "duration": 14,
    "start_time": "2023-02-14T07:55:11.547Z"
   },
   {
    "duration": 3,
    "start_time": "2023-02-14T07:55:11.563Z"
   },
   {
    "duration": 89,
    "start_time": "2023-02-14T07:55:11.568Z"
   },
   {
    "duration": 71,
    "start_time": "2023-02-14T07:55:11.658Z"
   },
   {
    "duration": 156,
    "start_time": "2023-02-14T07:55:11.730Z"
   },
   {
    "duration": 10,
    "start_time": "2023-02-14T07:55:11.888Z"
   },
   {
    "duration": 9,
    "start_time": "2023-02-14T08:02:12.612Z"
   },
   {
    "duration": 10,
    "start_time": "2023-02-14T08:03:13.021Z"
   },
   {
    "duration": 9,
    "start_time": "2023-02-14T08:03:55.021Z"
   },
   {
    "duration": 1198,
    "start_time": "2023-02-14T08:06:25.818Z"
   },
   {
    "duration": 145,
    "start_time": "2023-02-14T08:06:27.018Z"
   },
   {
    "duration": 12,
    "start_time": "2023-02-14T08:06:27.165Z"
   },
   {
    "duration": 18,
    "start_time": "2023-02-14T08:06:27.179Z"
   },
   {
    "duration": 53,
    "start_time": "2023-02-14T08:06:27.198Z"
   },
   {
    "duration": 7,
    "start_time": "2023-02-14T08:06:27.253Z"
   },
   {
    "duration": 71,
    "start_time": "2023-02-14T08:06:27.262Z"
   },
   {
    "duration": 190,
    "start_time": "2023-02-14T08:06:27.334Z"
   },
   {
    "duration": 97,
    "start_time": "2023-02-14T08:06:27.526Z"
   },
   {
    "duration": 118,
    "start_time": "2023-02-14T08:06:27.625Z"
   },
   {
    "duration": 22,
    "start_time": "2023-02-14T08:06:27.744Z"
   },
   {
    "duration": 82,
    "start_time": "2023-02-14T08:06:27.768Z"
   },
   {
    "duration": 11,
    "start_time": "2023-02-14T08:06:27.852Z"
   },
   {
    "duration": 45,
    "start_time": "2023-02-14T08:06:27.865Z"
   },
   {
    "duration": 40,
    "start_time": "2023-02-14T08:06:27.911Z"
   },
   {
    "duration": 12,
    "start_time": "2023-02-14T08:06:27.953Z"
   },
   {
    "duration": 8,
    "start_time": "2023-02-14T08:06:27.966Z"
   },
   {
    "duration": 7,
    "start_time": "2023-02-14T08:06:27.976Z"
   },
   {
    "duration": 27,
    "start_time": "2023-02-14T08:06:27.984Z"
   },
   {
    "duration": 352,
    "start_time": "2023-02-14T08:06:28.012Z"
   },
   {
    "duration": 99,
    "start_time": "2023-02-14T08:06:28.365Z"
   },
   {
    "duration": 12,
    "start_time": "2023-02-14T08:06:28.465Z"
   },
   {
    "duration": 6,
    "start_time": "2023-02-14T08:06:28.478Z"
   },
   {
    "duration": 54,
    "start_time": "2023-02-14T08:06:28.485Z"
   },
   {
    "duration": 3,
    "start_time": "2023-02-14T08:06:28.541Z"
   },
   {
    "duration": 22,
    "start_time": "2023-02-14T08:06:28.545Z"
   },
   {
    "duration": 74,
    "start_time": "2023-02-14T08:06:28.568Z"
   },
   {
    "duration": 20,
    "start_time": "2023-02-14T08:06:28.645Z"
   },
   {
    "duration": 96,
    "start_time": "2023-02-14T08:06:28.667Z"
   },
   {
    "duration": 11,
    "start_time": "2023-02-14T08:06:28.764Z"
   },
   {
    "duration": 36,
    "start_time": "2023-02-14T08:06:28.776Z"
   },
   {
    "duration": 15,
    "start_time": "2023-02-14T08:06:28.814Z"
   },
   {
    "duration": 5,
    "start_time": "2023-02-14T08:06:28.830Z"
   },
   {
    "duration": 88,
    "start_time": "2023-02-14T08:06:28.836Z"
   },
   {
    "duration": 59,
    "start_time": "2023-02-14T08:06:28.926Z"
   },
   {
    "duration": 163,
    "start_time": "2023-02-14T08:06:28.987Z"
   },
   {
    "duration": 12,
    "start_time": "2023-02-14T08:06:29.152Z"
   },
   {
    "duration": 13,
    "start_time": "2023-02-14T08:06:29.166Z"
   },
   {
    "duration": 8,
    "start_time": "2023-02-14T08:06:29.180Z"
   },
   {
    "duration": 27,
    "start_time": "2023-02-14T08:06:29.189Z"
   },
   {
    "duration": 10,
    "start_time": "2023-02-14T08:06:29.218Z"
   },
   {
    "duration": 11,
    "start_time": "2023-02-14T08:06:29.229Z"
   },
   {
    "duration": 11,
    "start_time": "2023-02-14T08:06:29.242Z"
   },
   {
    "duration": 114,
    "start_time": "2023-02-14T08:09:17.177Z"
   },
   {
    "duration": 1253,
    "start_time": "2023-02-14T08:19:26.242Z"
   },
   {
    "duration": 143,
    "start_time": "2023-02-14T08:19:27.497Z"
   },
   {
    "duration": 14,
    "start_time": "2023-02-14T08:19:27.641Z"
   },
   {
    "duration": 20,
    "start_time": "2023-02-14T08:19:27.657Z"
   },
   {
    "duration": 53,
    "start_time": "2023-02-14T08:19:27.678Z"
   },
   {
    "duration": 7,
    "start_time": "2023-02-14T08:19:27.732Z"
   },
   {
    "duration": 60,
    "start_time": "2023-02-14T08:19:27.740Z"
   },
   {
    "duration": 192,
    "start_time": "2023-02-14T08:19:27.802Z"
   },
   {
    "duration": 91,
    "start_time": "2023-02-14T08:19:27.995Z"
   },
   {
    "duration": 111,
    "start_time": "2023-02-14T08:19:28.088Z"
   },
   {
    "duration": 24,
    "start_time": "2023-02-14T08:19:28.201Z"
   },
   {
    "duration": 85,
    "start_time": "2023-02-14T08:19:28.226Z"
   },
   {
    "duration": 11,
    "start_time": "2023-02-14T08:19:28.313Z"
   },
   {
    "duration": 20,
    "start_time": "2023-02-14T08:19:28.326Z"
   },
   {
    "duration": 40,
    "start_time": "2023-02-14T08:19:28.347Z"
   },
   {
    "duration": 13,
    "start_time": "2023-02-14T08:19:28.409Z"
   },
   {
    "duration": 5,
    "start_time": "2023-02-14T08:19:28.424Z"
   },
   {
    "duration": 5,
    "start_time": "2023-02-14T08:19:28.431Z"
   },
   {
    "duration": 5,
    "start_time": "2023-02-14T08:19:28.438Z"
   },
   {
    "duration": 373,
    "start_time": "2023-02-14T08:19:28.444Z"
   },
   {
    "duration": 97,
    "start_time": "2023-02-14T08:19:28.819Z"
   },
   {
    "duration": 10,
    "start_time": "2023-02-14T08:19:28.918Z"
   },
   {
    "duration": 4,
    "start_time": "2023-02-14T08:19:28.930Z"
   },
   {
    "duration": 40,
    "start_time": "2023-02-14T08:19:28.936Z"
   },
   {
    "duration": 3,
    "start_time": "2023-02-14T08:19:28.977Z"
   },
   {
    "duration": 37,
    "start_time": "2023-02-14T08:19:28.982Z"
   },
   {
    "duration": 61,
    "start_time": "2023-02-14T08:19:29.020Z"
   },
   {
    "duration": 30,
    "start_time": "2023-02-14T08:19:29.084Z"
   },
   {
    "duration": 83,
    "start_time": "2023-02-14T08:19:29.115Z"
   },
   {
    "duration": 29,
    "start_time": "2023-02-14T08:19:29.200Z"
   },
   {
    "duration": 25,
    "start_time": "2023-02-14T08:19:29.231Z"
   },
   {
    "duration": 16,
    "start_time": "2023-02-14T08:19:29.257Z"
   },
   {
    "duration": 4,
    "start_time": "2023-02-14T08:19:29.274Z"
   },
   {
    "duration": 72,
    "start_time": "2023-02-14T08:19:29.279Z"
   },
   {
    "duration": 66,
    "start_time": "2023-02-14T08:19:29.353Z"
   },
   {
    "duration": 155,
    "start_time": "2023-02-14T08:19:29.420Z"
   },
   {
    "duration": 11,
    "start_time": "2023-02-14T08:19:29.576Z"
   },
   {
    "duration": 23,
    "start_time": "2023-02-14T08:19:29.588Z"
   },
   {
    "duration": 7,
    "start_time": "2023-02-14T08:19:29.613Z"
   },
   {
    "duration": 10,
    "start_time": "2023-02-14T08:19:29.621Z"
   },
   {
    "duration": 9,
    "start_time": "2023-02-14T08:19:29.632Z"
   },
   {
    "duration": 7,
    "start_time": "2023-02-14T08:19:29.643Z"
   },
   {
    "duration": 11,
    "start_time": "2023-02-14T08:19:29.651Z"
   },
   {
    "duration": 1206,
    "start_time": "2023-02-14T09:25:38.655Z"
   },
   {
    "duration": 164,
    "start_time": "2023-02-14T09:25:39.863Z"
   },
   {
    "duration": 15,
    "start_time": "2023-02-14T09:25:40.029Z"
   },
   {
    "duration": 22,
    "start_time": "2023-02-14T09:25:40.048Z"
   },
   {
    "duration": 46,
    "start_time": "2023-02-14T09:25:40.072Z"
   },
   {
    "duration": 32,
    "start_time": "2023-02-14T09:25:40.120Z"
   },
   {
    "duration": 57,
    "start_time": "2023-02-14T09:25:40.153Z"
   },
   {
    "duration": 183,
    "start_time": "2023-02-14T09:25:40.211Z"
   },
   {
    "duration": 96,
    "start_time": "2023-02-14T09:25:40.396Z"
   },
   {
    "duration": 118,
    "start_time": "2023-02-14T09:25:40.494Z"
   },
   {
    "duration": 36,
    "start_time": "2023-02-14T09:25:40.613Z"
   },
   {
    "duration": 84,
    "start_time": "2023-02-14T09:25:40.650Z"
   },
   {
    "duration": 13,
    "start_time": "2023-02-14T09:25:40.748Z"
   },
   {
    "duration": 42,
    "start_time": "2023-02-14T09:25:40.763Z"
   },
   {
    "duration": 66,
    "start_time": "2023-02-14T09:25:40.806Z"
   },
   {
    "duration": 15,
    "start_time": "2023-02-14T09:25:40.873Z"
   },
   {
    "duration": 9,
    "start_time": "2023-02-14T09:25:40.890Z"
   },
   {
    "duration": 8,
    "start_time": "2023-02-14T09:25:40.900Z"
   },
   {
    "duration": 6,
    "start_time": "2023-02-14T09:25:40.909Z"
   },
   {
    "duration": 412,
    "start_time": "2023-02-14T09:25:40.917Z"
   },
   {
    "duration": 101,
    "start_time": "2023-02-14T09:25:41.331Z"
   },
   {
    "duration": 17,
    "start_time": "2023-02-14T09:25:41.434Z"
   },
   {
    "duration": 5,
    "start_time": "2023-02-14T09:25:41.453Z"
   },
   {
    "duration": 53,
    "start_time": "2023-02-14T09:25:41.460Z"
   },
   {
    "duration": 4,
    "start_time": "2023-02-14T09:25:41.515Z"
   },
   {
    "duration": 23,
    "start_time": "2023-02-14T09:25:41.549Z"
   },
   {
    "duration": 79,
    "start_time": "2023-02-14T09:25:41.574Z"
   },
   {
    "duration": 24,
    "start_time": "2023-02-14T09:25:41.656Z"
   },
   {
    "duration": 101,
    "start_time": "2023-02-14T09:25:41.681Z"
   },
   {
    "duration": 9,
    "start_time": "2023-02-14T09:25:41.784Z"
   },
   {
    "duration": 25,
    "start_time": "2023-02-14T09:25:41.794Z"
   },
   {
    "duration": 37,
    "start_time": "2023-02-14T09:25:41.821Z"
   },
   {
    "duration": 4,
    "start_time": "2023-02-14T09:25:41.860Z"
   },
   {
    "duration": 67,
    "start_time": "2023-02-14T09:25:41.865Z"
   },
   {
    "duration": 73,
    "start_time": "2023-02-14T09:25:41.934Z"
   },
   {
    "duration": 167,
    "start_time": "2023-02-14T09:25:42.009Z"
   },
   {
    "duration": 11,
    "start_time": "2023-02-14T09:25:42.178Z"
   },
   {
    "duration": 20,
    "start_time": "2023-02-14T09:25:42.190Z"
   },
   {
    "duration": 12,
    "start_time": "2023-02-14T09:25:42.212Z"
   },
   {
    "duration": 27,
    "start_time": "2023-02-14T09:25:42.225Z"
   },
   {
    "duration": 7,
    "start_time": "2023-02-14T09:25:42.254Z"
   },
   {
    "duration": 9,
    "start_time": "2023-02-14T09:25:42.263Z"
   },
   {
    "duration": 10,
    "start_time": "2023-02-14T09:25:42.273Z"
   },
   {
    "duration": 48,
    "start_time": "2023-02-14T10:12:29.283Z"
   },
   {
    "duration": 1460,
    "start_time": "2023-02-14T10:12:46.186Z"
   },
   {
    "duration": 880,
    "start_time": "2023-02-14T10:12:47.649Z"
   },
   {
    "duration": 13,
    "start_time": "2023-02-14T10:12:48.531Z"
   },
   {
    "duration": 30,
    "start_time": "2023-02-14T10:12:48.546Z"
   },
   {
    "duration": 49,
    "start_time": "2023-02-14T10:12:48.582Z"
   },
   {
    "duration": 7,
    "start_time": "2023-02-14T10:12:48.633Z"
   },
   {
    "duration": 88,
    "start_time": "2023-02-14T10:12:48.641Z"
   },
   {
    "duration": 195,
    "start_time": "2023-02-14T10:12:48.730Z"
   },
   {
    "duration": 108,
    "start_time": "2023-02-14T10:12:48.926Z"
   },
   {
    "duration": 136,
    "start_time": "2023-02-14T10:12:49.036Z"
   },
   {
    "duration": 24,
    "start_time": "2023-02-14T10:12:49.180Z"
   },
   {
    "duration": 102,
    "start_time": "2023-02-14T10:12:49.206Z"
   },
   {
    "duration": 377,
    "start_time": "2023-02-14T10:12:49.310Z"
   },
   {
    "duration": 0,
    "start_time": "2023-02-14T10:12:49.689Z"
   },
   {
    "duration": 0,
    "start_time": "2023-02-14T10:12:49.690Z"
   },
   {
    "duration": 0,
    "start_time": "2023-02-14T10:12:49.691Z"
   },
   {
    "duration": 0,
    "start_time": "2023-02-14T10:12:49.692Z"
   },
   {
    "duration": 0,
    "start_time": "2023-02-14T10:12:49.693Z"
   },
   {
    "duration": 0,
    "start_time": "2023-02-14T10:12:49.694Z"
   },
   {
    "duration": 0,
    "start_time": "2023-02-14T10:12:49.695Z"
   },
   {
    "duration": 0,
    "start_time": "2023-02-14T10:12:49.696Z"
   },
   {
    "duration": 0,
    "start_time": "2023-02-14T10:12:49.698Z"
   },
   {
    "duration": 0,
    "start_time": "2023-02-14T10:12:49.699Z"
   },
   {
    "duration": 0,
    "start_time": "2023-02-14T10:12:49.700Z"
   },
   {
    "duration": 0,
    "start_time": "2023-02-14T10:12:49.702Z"
   },
   {
    "duration": 0,
    "start_time": "2023-02-14T10:12:49.703Z"
   },
   {
    "duration": 0,
    "start_time": "2023-02-14T10:12:49.704Z"
   },
   {
    "duration": 0,
    "start_time": "2023-02-14T10:12:49.706Z"
   },
   {
    "duration": 0,
    "start_time": "2023-02-14T10:12:49.707Z"
   },
   {
    "duration": 0,
    "start_time": "2023-02-14T10:12:49.708Z"
   },
   {
    "duration": 0,
    "start_time": "2023-02-14T10:12:49.709Z"
   },
   {
    "duration": 0,
    "start_time": "2023-02-14T10:12:49.710Z"
   },
   {
    "duration": 0,
    "start_time": "2023-02-14T10:12:49.713Z"
   },
   {
    "duration": 0,
    "start_time": "2023-02-14T10:12:49.714Z"
   },
   {
    "duration": 0,
    "start_time": "2023-02-14T10:12:49.715Z"
   },
   {
    "duration": 0,
    "start_time": "2023-02-14T10:12:49.716Z"
   },
   {
    "duration": 0,
    "start_time": "2023-02-14T10:12:49.718Z"
   },
   {
    "duration": 0,
    "start_time": "2023-02-14T10:12:49.718Z"
   },
   {
    "duration": 0,
    "start_time": "2023-02-14T10:12:49.720Z"
   },
   {
    "duration": 0,
    "start_time": "2023-02-14T10:12:49.721Z"
   },
   {
    "duration": 0,
    "start_time": "2023-02-14T10:12:49.722Z"
   },
   {
    "duration": 0,
    "start_time": "2023-02-14T10:12:49.723Z"
   },
   {
    "duration": 0,
    "start_time": "2023-02-14T10:12:49.725Z"
   },
   {
    "duration": 0,
    "start_time": "2023-02-14T10:12:49.725Z"
   },
   {
    "duration": 68,
    "start_time": "2023-02-14T10:14:12.722Z"
   },
   {
    "duration": 56,
    "start_time": "2023-02-14T10:19:32.680Z"
   },
   {
    "duration": 178,
    "start_time": "2023-02-14T10:20:14.607Z"
   },
   {
    "duration": 58,
    "start_time": "2023-02-14T10:20:46.976Z"
   },
   {
    "duration": 62,
    "start_time": "2023-02-14T10:21:48.617Z"
   },
   {
    "duration": 58,
    "start_time": "2023-02-14T10:22:13.993Z"
   },
   {
    "duration": 14,
    "start_time": "2023-02-14T10:23:29.154Z"
   },
   {
    "duration": 9,
    "start_time": "2023-02-14T10:24:28.789Z"
   },
   {
    "duration": 37,
    "start_time": "2023-02-14T10:24:45.102Z"
   },
   {
    "duration": 1297,
    "start_time": "2023-02-14T10:29:35.930Z"
   },
   {
    "duration": 183,
    "start_time": "2023-02-14T10:29:37.229Z"
   },
   {
    "duration": 14,
    "start_time": "2023-02-14T10:29:37.413Z"
   },
   {
    "duration": 51,
    "start_time": "2023-02-14T10:29:37.429Z"
   },
   {
    "duration": 57,
    "start_time": "2023-02-14T10:29:37.484Z"
   },
   {
    "duration": 14,
    "start_time": "2023-02-14T10:29:37.543Z"
   },
   {
    "duration": 92,
    "start_time": "2023-02-14T10:29:37.572Z"
   },
   {
    "duration": 179,
    "start_time": "2023-02-14T10:29:37.666Z"
   },
   {
    "duration": 107,
    "start_time": "2023-02-14T10:29:37.847Z"
   },
   {
    "duration": 135,
    "start_time": "2023-02-14T10:29:37.956Z"
   },
   {
    "duration": 26,
    "start_time": "2023-02-14T10:29:38.093Z"
   },
   {
    "duration": 143,
    "start_time": "2023-02-14T10:29:38.121Z"
   },
   {
    "duration": 132,
    "start_time": "2023-02-14T10:29:38.266Z"
   },
   {
    "duration": 106,
    "start_time": "2023-02-14T10:29:38.400Z"
   },
   {
    "duration": 90,
    "start_time": "2023-02-14T10:29:38.509Z"
   },
   {
    "duration": 40,
    "start_time": "2023-02-14T10:29:38.601Z"
   },
   {
    "duration": 34,
    "start_time": "2023-02-14T10:29:38.642Z"
   },
   {
    "duration": 37,
    "start_time": "2023-02-14T10:29:38.678Z"
   },
   {
    "duration": 67,
    "start_time": "2023-02-14T10:29:38.717Z"
   },
   {
    "duration": 15,
    "start_time": "2023-02-14T10:29:38.786Z"
   },
   {
    "duration": 6,
    "start_time": "2023-02-14T10:29:38.802Z"
   },
   {
    "duration": 8,
    "start_time": "2023-02-14T10:29:38.810Z"
   },
   {
    "duration": 7,
    "start_time": "2023-02-14T10:29:38.820Z"
   },
   {
    "duration": 419,
    "start_time": "2023-02-14T10:29:38.829Z"
   },
   {
    "duration": 72,
    "start_time": "2023-02-14T10:29:39.256Z"
   },
   {
    "duration": 29,
    "start_time": "2023-02-14T10:29:39.330Z"
   },
   {
    "duration": 12,
    "start_time": "2023-02-14T10:29:39.360Z"
   },
   {
    "duration": 50,
    "start_time": "2023-02-14T10:29:39.378Z"
   },
   {
    "duration": 4,
    "start_time": "2023-02-14T10:29:39.429Z"
   },
   {
    "duration": 39,
    "start_time": "2023-02-14T10:29:39.435Z"
   },
   {
    "duration": 127,
    "start_time": "2023-02-14T10:29:39.484Z"
   },
   {
    "duration": 36,
    "start_time": "2023-02-14T10:29:39.613Z"
   },
   {
    "duration": 131,
    "start_time": "2023-02-14T10:29:39.651Z"
   },
   {
    "duration": 12,
    "start_time": "2023-02-14T10:29:39.792Z"
   },
   {
    "duration": 31,
    "start_time": "2023-02-14T10:29:39.806Z"
   },
   {
    "duration": 30,
    "start_time": "2023-02-14T10:29:39.839Z"
   },
   {
    "duration": 23,
    "start_time": "2023-02-14T10:29:39.871Z"
   },
   {
    "duration": 68,
    "start_time": "2023-02-14T10:29:39.895Z"
   },
   {
    "duration": 73,
    "start_time": "2023-02-14T10:29:39.966Z"
   },
   {
    "duration": 179,
    "start_time": "2023-02-14T10:29:40.041Z"
   },
   {
    "duration": 12,
    "start_time": "2023-02-14T10:29:40.222Z"
   },
   {
    "duration": 36,
    "start_time": "2023-02-14T10:29:40.236Z"
   },
   {
    "duration": 24,
    "start_time": "2023-02-14T10:29:40.281Z"
   },
   {
    "duration": 33,
    "start_time": "2023-02-14T10:29:40.307Z"
   },
   {
    "duration": 13,
    "start_time": "2023-02-14T10:29:40.342Z"
   },
   {
    "duration": 47,
    "start_time": "2023-02-14T10:29:40.358Z"
   },
   {
    "duration": 22,
    "start_time": "2023-02-14T10:29:40.406Z"
   },
   {
    "duration": 8,
    "start_time": "2023-02-14T10:30:05.063Z"
   },
   {
    "duration": 43,
    "start_time": "2023-02-14T10:31:07.224Z"
   },
   {
    "duration": 29,
    "start_time": "2023-02-14T10:31:41.082Z"
   },
   {
    "duration": 29,
    "start_time": "2023-02-14T10:31:46.082Z"
   },
   {
    "duration": 47,
    "start_time": "2023-02-14T10:31:51.744Z"
   },
   {
    "duration": 111,
    "start_time": "2023-02-14T10:33:32.227Z"
   },
   {
    "duration": 12,
    "start_time": "2023-02-14T10:33:50.604Z"
   },
   {
    "duration": 1328,
    "start_time": "2023-02-14T10:34:21.337Z"
   },
   {
    "duration": 198,
    "start_time": "2023-02-14T10:34:22.668Z"
   },
   {
    "duration": 18,
    "start_time": "2023-02-14T10:34:22.868Z"
   },
   {
    "duration": 22,
    "start_time": "2023-02-14T10:34:22.888Z"
   },
   {
    "duration": 56,
    "start_time": "2023-02-14T10:34:22.912Z"
   },
   {
    "duration": 10,
    "start_time": "2023-02-14T10:34:22.971Z"
   },
   {
    "duration": 88,
    "start_time": "2023-02-14T10:34:22.985Z"
   },
   {
    "duration": 224,
    "start_time": "2023-02-14T10:34:23.080Z"
   },
   {
    "duration": 110,
    "start_time": "2023-02-14T10:34:23.307Z"
   },
   {
    "duration": 163,
    "start_time": "2023-02-14T10:34:23.420Z"
   },
   {
    "duration": 31,
    "start_time": "2023-02-14T10:34:23.586Z"
   },
   {
    "duration": 115,
    "start_time": "2023-02-14T10:34:23.619Z"
   },
   {
    "duration": 138,
    "start_time": "2023-02-14T10:34:23.736Z"
   },
   {
    "duration": 69,
    "start_time": "2023-02-14T10:34:23.876Z"
   },
   {
    "duration": 69,
    "start_time": "2023-02-14T10:34:23.947Z"
   },
   {
    "duration": 56,
    "start_time": "2023-02-14T10:34:24.017Z"
   },
   {
    "duration": 36,
    "start_time": "2023-02-14T10:34:24.077Z"
   },
   {
    "duration": 20,
    "start_time": "2023-02-14T10:34:24.115Z"
   },
   {
    "duration": 81,
    "start_time": "2023-02-14T10:34:24.137Z"
   },
   {
    "duration": 71,
    "start_time": "2023-02-14T10:34:24.221Z"
   },
   {
    "duration": 16,
    "start_time": "2023-02-14T10:34:24.296Z"
   },
   {
    "duration": 9,
    "start_time": "2023-02-14T10:34:24.314Z"
   },
   {
    "duration": 5,
    "start_time": "2023-02-14T10:34:24.325Z"
   },
   {
    "duration": 39,
    "start_time": "2023-02-14T10:34:24.332Z"
   },
   {
    "duration": 420,
    "start_time": "2023-02-14T10:34:24.374Z"
   },
   {
    "duration": 90,
    "start_time": "2023-02-14T10:34:24.797Z"
   },
   {
    "duration": 13,
    "start_time": "2023-02-14T10:34:24.889Z"
   },
   {
    "duration": 6,
    "start_time": "2023-02-14T10:34:24.905Z"
   },
   {
    "duration": 67,
    "start_time": "2023-02-14T10:34:24.912Z"
   },
   {
    "duration": 5,
    "start_time": "2023-02-14T10:34:24.981Z"
   },
   {
    "duration": 23,
    "start_time": "2023-02-14T10:34:24.987Z"
   },
   {
    "duration": 91,
    "start_time": "2023-02-14T10:34:25.012Z"
   },
   {
    "duration": 22,
    "start_time": "2023-02-14T10:34:25.105Z"
   },
   {
    "duration": 121,
    "start_time": "2023-02-14T10:34:25.129Z"
   },
   {
    "duration": 13,
    "start_time": "2023-02-14T10:34:25.253Z"
   },
   {
    "duration": 54,
    "start_time": "2023-02-14T10:34:25.267Z"
   },
   {
    "duration": 20,
    "start_time": "2023-02-14T10:34:25.322Z"
   },
   {
    "duration": 5,
    "start_time": "2023-02-14T10:34:25.343Z"
   },
   {
    "duration": 129,
    "start_time": "2023-02-14T10:34:25.350Z"
   },
   {
    "duration": 99,
    "start_time": "2023-02-14T10:34:25.481Z"
   },
   {
    "duration": 195,
    "start_time": "2023-02-14T10:34:25.581Z"
   },
   {
    "duration": 15,
    "start_time": "2023-02-14T10:34:25.778Z"
   },
   {
    "duration": 9,
    "start_time": "2023-02-14T10:34:25.795Z"
   },
   {
    "duration": 9,
    "start_time": "2023-02-14T10:34:25.805Z"
   },
   {
    "duration": 14,
    "start_time": "2023-02-14T10:34:25.816Z"
   },
   {
    "duration": 63,
    "start_time": "2023-02-14T10:34:25.832Z"
   },
   {
    "duration": 9,
    "start_time": "2023-02-14T10:34:25.897Z"
   },
   {
    "duration": 12,
    "start_time": "2023-02-14T10:34:25.908Z"
   },
   {
    "duration": 1365,
    "start_time": "2023-02-14T10:45:14.658Z"
   },
   {
    "duration": 1311,
    "start_time": "2023-02-14T10:45:31.344Z"
   },
   {
    "duration": 162,
    "start_time": "2023-02-14T10:45:32.657Z"
   },
   {
    "duration": 15,
    "start_time": "2023-02-14T10:45:32.820Z"
   },
   {
    "duration": 20,
    "start_time": "2023-02-14T10:45:32.853Z"
   },
   {
    "duration": 49,
    "start_time": "2023-02-14T10:45:32.875Z"
   },
   {
    "duration": 28,
    "start_time": "2023-02-14T10:45:32.926Z"
   },
   {
    "duration": 58,
    "start_time": "2023-02-14T10:45:32.956Z"
   },
   {
    "duration": 172,
    "start_time": "2023-02-14T10:45:33.016Z"
   },
   {
    "duration": 101,
    "start_time": "2023-02-14T10:45:33.190Z"
   },
   {
    "duration": 129,
    "start_time": "2023-02-14T10:45:33.293Z"
   },
   {
    "duration": 34,
    "start_time": "2023-02-14T10:45:33.424Z"
   },
   {
    "duration": 109,
    "start_time": "2023-02-14T10:45:33.460Z"
   },
   {
    "duration": 128,
    "start_time": "2023-02-14T10:45:33.571Z"
   },
   {
    "duration": 66,
    "start_time": "2023-02-14T10:45:33.701Z"
   },
   {
    "duration": 61,
    "start_time": "2023-02-14T10:45:33.768Z"
   },
   {
    "duration": 1381,
    "start_time": "2023-02-14T10:45:33.830Z"
   },
   {
    "duration": 14,
    "start_time": "2023-02-14T10:45:35.214Z"
   },
   {
    "duration": 43,
    "start_time": "2023-02-14T10:45:35.230Z"
   },
   {
    "duration": 62,
    "start_time": "2023-02-14T10:45:35.275Z"
   },
   {
    "duration": 14,
    "start_time": "2023-02-14T10:45:35.339Z"
   },
   {
    "duration": 16,
    "start_time": "2023-02-14T10:45:35.355Z"
   },
   {
    "duration": 11,
    "start_time": "2023-02-14T10:45:35.373Z"
   },
   {
    "duration": 6,
    "start_time": "2023-02-14T10:45:35.386Z"
   },
   {
    "duration": 415,
    "start_time": "2023-02-14T10:45:35.394Z"
   },
   {
    "duration": 75,
    "start_time": "2023-02-14T10:45:35.811Z"
   },
   {
    "duration": 15,
    "start_time": "2023-02-14T10:45:35.888Z"
   },
   {
    "duration": 10,
    "start_time": "2023-02-14T10:45:35.905Z"
   },
   {
    "duration": 64,
    "start_time": "2023-02-14T10:45:35.918Z"
   },
   {
    "duration": 4,
    "start_time": "2023-02-14T10:45:35.983Z"
   },
   {
    "duration": 30,
    "start_time": "2023-02-14T10:45:35.989Z"
   },
   {
    "duration": 84,
    "start_time": "2023-02-14T10:45:36.021Z"
   },
   {
    "duration": 24,
    "start_time": "2023-02-14T10:45:36.107Z"
   },
   {
    "duration": 107,
    "start_time": "2023-02-14T10:45:36.134Z"
   },
   {
    "duration": 10,
    "start_time": "2023-02-14T10:45:36.254Z"
   },
   {
    "duration": 34,
    "start_time": "2023-02-14T10:45:36.266Z"
   },
   {
    "duration": 24,
    "start_time": "2023-02-14T10:45:36.302Z"
   },
   {
    "duration": 5,
    "start_time": "2023-02-14T10:45:36.328Z"
   },
   {
    "duration": 82,
    "start_time": "2023-02-14T10:45:36.334Z"
   },
   {
    "duration": 80,
    "start_time": "2023-02-14T10:45:36.418Z"
   },
   {
    "duration": 181,
    "start_time": "2023-02-14T10:45:36.501Z"
   },
   {
    "duration": 15,
    "start_time": "2023-02-14T10:45:36.683Z"
   },
   {
    "duration": 26,
    "start_time": "2023-02-14T10:45:36.700Z"
   },
   {
    "duration": 9,
    "start_time": "2023-02-14T10:45:36.727Z"
   },
   {
    "duration": 22,
    "start_time": "2023-02-14T10:45:36.737Z"
   },
   {
    "duration": 17,
    "start_time": "2023-02-14T10:45:36.761Z"
   },
   {
    "duration": 24,
    "start_time": "2023-02-14T10:45:36.780Z"
   },
   {
    "duration": 21,
    "start_time": "2023-02-14T10:45:36.807Z"
   },
   {
    "duration": 1304,
    "start_time": "2023-02-14T10:47:44.406Z"
   },
   {
    "duration": 163,
    "start_time": "2023-02-14T10:47:45.712Z"
   },
   {
    "duration": 14,
    "start_time": "2023-02-14T10:47:45.877Z"
   },
   {
    "duration": 34,
    "start_time": "2023-02-14T10:47:45.893Z"
   },
   {
    "duration": 61,
    "start_time": "2023-02-14T10:47:45.929Z"
   },
   {
    "duration": 7,
    "start_time": "2023-02-14T10:47:45.992Z"
   },
   {
    "duration": 84,
    "start_time": "2023-02-14T10:47:46.001Z"
   },
   {
    "duration": 167,
    "start_time": "2023-02-14T10:47:46.086Z"
   },
   {
    "duration": 108,
    "start_time": "2023-02-14T10:47:46.255Z"
   },
   {
    "duration": 133,
    "start_time": "2023-02-14T10:47:46.364Z"
   },
   {
    "duration": 24,
    "start_time": "2023-02-14T10:47:46.498Z"
   },
   {
    "duration": 100,
    "start_time": "2023-02-14T10:47:46.524Z"
   },
   {
    "duration": 114,
    "start_time": "2023-02-14T10:47:46.626Z"
   },
   {
    "duration": 71,
    "start_time": "2023-02-14T10:47:46.743Z"
   },
   {
    "duration": 71,
    "start_time": "2023-02-14T10:47:46.816Z"
   },
   {
    "duration": 1687,
    "start_time": "2023-02-14T10:47:46.889Z"
   },
   {
    "duration": 13,
    "start_time": "2023-02-14T10:47:48.578Z"
   },
   {
    "duration": 58,
    "start_time": "2023-02-14T10:47:48.593Z"
   },
   {
    "duration": 67,
    "start_time": "2023-02-14T10:47:48.653Z"
   },
   {
    "duration": 18,
    "start_time": "2023-02-14T10:47:48.722Z"
   },
   {
    "duration": 79,
    "start_time": "2023-02-14T10:47:48.742Z"
   },
   {
    "duration": 32,
    "start_time": "2023-02-14T10:47:48.823Z"
   },
   {
    "duration": 24,
    "start_time": "2023-02-14T10:47:48.856Z"
   },
   {
    "duration": 395,
    "start_time": "2023-02-14T10:47:48.882Z"
   },
   {
    "duration": 77,
    "start_time": "2023-02-14T10:47:49.293Z"
   },
   {
    "duration": 14,
    "start_time": "2023-02-14T10:47:49.372Z"
   },
   {
    "duration": 148,
    "start_time": "2023-02-14T10:47:49.388Z"
   },
   {
    "duration": 98,
    "start_time": "2023-02-14T10:47:49.539Z"
   },
   {
    "duration": 3,
    "start_time": "2023-02-14T10:47:49.639Z"
   },
   {
    "duration": 45,
    "start_time": "2023-02-14T10:47:49.644Z"
   },
   {
    "duration": 106,
    "start_time": "2023-02-14T10:47:49.691Z"
   },
   {
    "duration": 33,
    "start_time": "2023-02-14T10:47:49.800Z"
   },
   {
    "duration": 187,
    "start_time": "2023-02-14T10:47:49.836Z"
   },
   {
    "duration": 12,
    "start_time": "2023-02-14T10:47:50.025Z"
   },
   {
    "duration": 67,
    "start_time": "2023-02-14T10:47:50.039Z"
   },
   {
    "duration": 54,
    "start_time": "2023-02-14T10:47:50.107Z"
   },
   {
    "duration": 32,
    "start_time": "2023-02-14T10:47:50.163Z"
   },
   {
    "duration": 73,
    "start_time": "2023-02-14T10:47:50.197Z"
   },
   {
    "duration": 62,
    "start_time": "2023-02-14T10:47:50.272Z"
   },
   {
    "duration": 202,
    "start_time": "2023-02-14T10:47:50.336Z"
   },
   {
    "duration": 20,
    "start_time": "2023-02-14T10:47:50.542Z"
   },
   {
    "duration": 42,
    "start_time": "2023-02-14T10:47:50.564Z"
   },
   {
    "duration": 40,
    "start_time": "2023-02-14T10:47:50.609Z"
   },
   {
    "duration": 43,
    "start_time": "2023-02-14T10:47:50.650Z"
   },
   {
    "duration": 23,
    "start_time": "2023-02-14T10:47:50.695Z"
   },
   {
    "duration": 16,
    "start_time": "2023-02-14T10:47:50.720Z"
   },
   {
    "duration": 33,
    "start_time": "2023-02-14T10:47:50.737Z"
   },
   {
    "duration": 42,
    "start_time": "2023-02-14T11:13:33.675Z"
   },
   {
    "duration": 1247,
    "start_time": "2023-02-14T11:14:14.115Z"
   },
   {
    "duration": 177,
    "start_time": "2023-02-14T11:14:15.365Z"
   },
   {
    "duration": 18,
    "start_time": "2023-02-14T11:14:15.543Z"
   },
   {
    "duration": 20,
    "start_time": "2023-02-14T11:14:15.563Z"
   },
   {
    "duration": 47,
    "start_time": "2023-02-14T11:14:15.585Z"
   },
   {
    "duration": 24,
    "start_time": "2023-02-14T11:14:15.634Z"
   },
   {
    "duration": 59,
    "start_time": "2023-02-14T11:14:15.660Z"
   },
   {
    "duration": 177,
    "start_time": "2023-02-14T11:14:15.721Z"
   },
   {
    "duration": 103,
    "start_time": "2023-02-14T11:14:15.900Z"
   },
   {
    "duration": 124,
    "start_time": "2023-02-14T11:14:16.004Z"
   },
   {
    "duration": 28,
    "start_time": "2023-02-14T11:14:16.130Z"
   },
   {
    "duration": 96,
    "start_time": "2023-02-14T11:14:16.160Z"
   },
   {
    "duration": 123,
    "start_time": "2023-02-14T11:14:16.257Z"
   },
   {
    "duration": 76,
    "start_time": "2023-02-14T11:14:16.383Z"
   },
   {
    "duration": 68,
    "start_time": "2023-02-14T11:14:16.461Z"
   },
   {
    "duration": 1423,
    "start_time": "2023-02-14T11:14:16.531Z"
   },
   {
    "duration": 13,
    "start_time": "2023-02-14T11:14:17.955Z"
   },
   {
    "duration": 32,
    "start_time": "2023-02-14T11:14:17.970Z"
   },
   {
    "duration": 51,
    "start_time": "2023-02-14T11:14:18.003Z"
   },
   {
    "duration": 13,
    "start_time": "2023-02-14T11:14:18.056Z"
   },
   {
    "duration": 26,
    "start_time": "2023-02-14T11:14:18.070Z"
   },
   {
    "duration": 11,
    "start_time": "2023-02-14T11:14:18.097Z"
   },
   {
    "duration": 5,
    "start_time": "2023-02-14T11:14:18.110Z"
   },
   {
    "duration": 376,
    "start_time": "2023-02-14T11:14:18.117Z"
   },
   {
    "duration": 80,
    "start_time": "2023-02-14T11:14:18.494Z"
   },
   {
    "duration": 13,
    "start_time": "2023-02-14T11:14:18.575Z"
   },
   {
    "duration": 14,
    "start_time": "2023-02-14T11:14:18.590Z"
   },
   {
    "duration": 52,
    "start_time": "2023-02-14T11:14:18.606Z"
   },
   {
    "duration": 4,
    "start_time": "2023-02-14T11:14:18.659Z"
   },
   {
    "duration": 26,
    "start_time": "2023-02-14T11:14:18.664Z"
   },
   {
    "duration": 70,
    "start_time": "2023-02-14T11:14:18.692Z"
   },
   {
    "duration": 23,
    "start_time": "2023-02-14T11:14:18.764Z"
   },
   {
    "duration": 97,
    "start_time": "2023-02-14T11:14:18.789Z"
   },
   {
    "duration": 9,
    "start_time": "2023-02-14T11:14:18.888Z"
   },
   {
    "duration": 25,
    "start_time": "2023-02-14T11:14:18.898Z"
   },
   {
    "duration": 33,
    "start_time": "2023-02-14T11:14:18.925Z"
   },
   {
    "duration": 41,
    "start_time": "2023-02-14T11:14:18.960Z"
   },
   {
    "duration": 5,
    "start_time": "2023-02-14T11:14:19.003Z"
   },
   {
    "duration": 88,
    "start_time": "2023-02-14T11:14:19.010Z"
   },
   {
    "duration": 68,
    "start_time": "2023-02-14T11:14:19.100Z"
   },
   {
    "duration": 156,
    "start_time": "2023-02-14T11:14:19.172Z"
   },
   {
    "duration": 12,
    "start_time": "2023-02-14T11:14:19.330Z"
   },
   {
    "duration": 8,
    "start_time": "2023-02-14T11:14:19.354Z"
   },
   {
    "duration": 8,
    "start_time": "2023-02-14T11:14:19.364Z"
   },
   {
    "duration": 13,
    "start_time": "2023-02-14T11:14:19.374Z"
   },
   {
    "duration": 9,
    "start_time": "2023-02-14T11:14:19.389Z"
   },
   {
    "duration": 10,
    "start_time": "2023-02-14T11:14:19.400Z"
   },
   {
    "duration": 46,
    "start_time": "2023-02-14T11:14:19.412Z"
   },
   {
    "duration": 9,
    "start_time": "2023-02-14T11:14:41.454Z"
   },
   {
    "duration": 1334,
    "start_time": "2023-02-14T11:14:57.031Z"
   },
   {
    "duration": 160,
    "start_time": "2023-02-14T11:14:58.367Z"
   },
   {
    "duration": 14,
    "start_time": "2023-02-14T11:14:58.528Z"
   },
   {
    "duration": 20,
    "start_time": "2023-02-14T11:14:58.554Z"
   },
   {
    "duration": 47,
    "start_time": "2023-02-14T11:14:58.576Z"
   },
   {
    "duration": 8,
    "start_time": "2023-02-14T11:14:58.625Z"
   },
   {
    "duration": 57,
    "start_time": "2023-02-14T11:14:58.654Z"
   },
   {
    "duration": 177,
    "start_time": "2023-02-14T11:14:58.713Z"
   },
   {
    "duration": 95,
    "start_time": "2023-02-14T11:14:58.892Z"
   },
   {
    "duration": 118,
    "start_time": "2023-02-14T11:14:58.990Z"
   },
   {
    "duration": 24,
    "start_time": "2023-02-14T11:14:59.109Z"
   },
   {
    "duration": 92,
    "start_time": "2023-02-14T11:14:59.134Z"
   },
   {
    "duration": 116,
    "start_time": "2023-02-14T11:14:59.228Z"
   },
   {
    "duration": 64,
    "start_time": "2023-02-14T11:14:59.346Z"
   },
   {
    "duration": 78,
    "start_time": "2023-02-14T11:14:59.411Z"
   },
   {
    "duration": 1411,
    "start_time": "2023-02-14T11:14:59.491Z"
   },
   {
    "duration": 12,
    "start_time": "2023-02-14T11:15:00.904Z"
   },
   {
    "duration": 43,
    "start_time": "2023-02-14T11:15:00.918Z"
   },
   {
    "duration": 52,
    "start_time": "2023-02-14T11:15:00.963Z"
   },
   {
    "duration": 14,
    "start_time": "2023-02-14T11:15:01.017Z"
   },
   {
    "duration": 49,
    "start_time": "2023-02-14T11:15:01.033Z"
   },
   {
    "duration": 28,
    "start_time": "2023-02-14T11:15:01.083Z"
   },
   {
    "duration": 31,
    "start_time": "2023-02-14T11:15:01.113Z"
   },
   {
    "duration": 419,
    "start_time": "2023-02-14T11:15:01.145Z"
   },
   {
    "duration": 67,
    "start_time": "2023-02-14T11:15:01.566Z"
   },
   {
    "duration": 26,
    "start_time": "2023-02-14T11:15:01.635Z"
   },
   {
    "duration": 24,
    "start_time": "2023-02-14T11:15:01.662Z"
   },
   {
    "duration": 53,
    "start_time": "2023-02-14T11:15:01.689Z"
   },
   {
    "duration": 3,
    "start_time": "2023-02-14T11:15:01.744Z"
   },
   {
    "duration": 40,
    "start_time": "2023-02-14T11:15:01.748Z"
   },
   {
    "duration": 82,
    "start_time": "2023-02-14T11:15:01.789Z"
   },
   {
    "duration": 33,
    "start_time": "2023-02-14T11:15:01.873Z"
   },
   {
    "duration": 108,
    "start_time": "2023-02-14T11:15:01.908Z"
   },
   {
    "duration": 10,
    "start_time": "2023-02-14T11:15:02.018Z"
   },
   {
    "duration": 78,
    "start_time": "2023-02-14T11:15:02.029Z"
   },
   {
    "duration": 94,
    "start_time": "2023-02-14T11:15:02.109Z"
   },
   {
    "duration": 50,
    "start_time": "2023-02-14T11:15:02.205Z"
   },
   {
    "duration": 13,
    "start_time": "2023-02-14T11:15:02.256Z"
   },
   {
    "duration": 94,
    "start_time": "2023-02-14T11:15:02.270Z"
   },
   {
    "duration": 62,
    "start_time": "2023-02-14T11:15:02.365Z"
   },
   {
    "duration": 172,
    "start_time": "2023-02-14T11:15:02.429Z"
   },
   {
    "duration": 11,
    "start_time": "2023-02-14T11:15:02.602Z"
   },
   {
    "duration": 31,
    "start_time": "2023-02-14T11:15:02.615Z"
   },
   {
    "duration": 18,
    "start_time": "2023-02-14T11:15:02.648Z"
   },
   {
    "duration": 52,
    "start_time": "2023-02-14T11:15:02.668Z"
   },
   {
    "duration": 16,
    "start_time": "2023-02-14T11:15:02.722Z"
   },
   {
    "duration": 16,
    "start_time": "2023-02-14T11:15:02.740Z"
   },
   {
    "duration": 12,
    "start_time": "2023-02-14T11:15:02.757Z"
   },
   {
    "duration": 10,
    "start_time": "2023-02-14T11:15:56.032Z"
   },
   {
    "duration": 120,
    "start_time": "2023-02-14T11:34:36.427Z"
   },
   {
    "duration": 44,
    "start_time": "2023-02-14T11:35:08.140Z"
   },
   {
    "duration": 29,
    "start_time": "2023-02-14T11:36:32.243Z"
   },
   {
    "duration": 18,
    "start_time": "2023-02-14T11:37:49.397Z"
   },
   {
    "duration": 18,
    "start_time": "2023-02-14T11:38:05.764Z"
   },
   {
    "duration": 14,
    "start_time": "2023-02-14T11:41:39.430Z"
   },
   {
    "duration": 1304,
    "start_time": "2023-02-15T09:07:09.905Z"
   },
   {
    "duration": 148,
    "start_time": "2023-02-15T09:07:11.211Z"
   },
   {
    "duration": 14,
    "start_time": "2023-02-15T09:07:11.361Z"
   },
   {
    "duration": 21,
    "start_time": "2023-02-15T09:07:11.376Z"
   },
   {
    "duration": 62,
    "start_time": "2023-02-15T09:07:11.399Z"
   },
   {
    "duration": 7,
    "start_time": "2023-02-15T09:07:11.463Z"
   },
   {
    "duration": 67,
    "start_time": "2023-02-15T09:07:11.472Z"
   },
   {
    "duration": 170,
    "start_time": "2023-02-15T09:07:11.541Z"
   },
   {
    "duration": 91,
    "start_time": "2023-02-15T09:07:11.712Z"
   },
   {
    "duration": 117,
    "start_time": "2023-02-15T09:07:11.805Z"
   },
   {
    "duration": 26,
    "start_time": "2023-02-15T09:07:11.923Z"
   },
   {
    "duration": 97,
    "start_time": "2023-02-15T09:07:11.951Z"
   },
   {
    "duration": 109,
    "start_time": "2023-02-15T09:07:12.049Z"
   },
   {
    "duration": 68,
    "start_time": "2023-02-15T09:07:12.160Z"
   },
   {
    "duration": 59,
    "start_time": "2023-02-15T09:07:12.230Z"
   },
   {
    "duration": 1399,
    "start_time": "2023-02-15T09:07:12.291Z"
   },
   {
    "duration": 11,
    "start_time": "2023-02-15T09:07:13.692Z"
   },
   {
    "duration": 38,
    "start_time": "2023-02-15T09:07:13.705Z"
   },
   {
    "duration": 42,
    "start_time": "2023-02-15T09:07:13.744Z"
   },
   {
    "duration": 12,
    "start_time": "2023-02-15T09:07:13.787Z"
   },
   {
    "duration": 8,
    "start_time": "2023-02-15T09:07:13.801Z"
   },
   {
    "duration": 20,
    "start_time": "2023-02-15T09:07:13.811Z"
   },
   {
    "duration": 10,
    "start_time": "2023-02-15T09:07:13.832Z"
   },
   {
    "duration": 404,
    "start_time": "2023-02-15T09:07:13.843Z"
   },
   {
    "duration": 64,
    "start_time": "2023-02-15T09:07:14.248Z"
   },
   {
    "duration": 19,
    "start_time": "2023-02-15T09:07:14.314Z"
   },
   {
    "duration": 7,
    "start_time": "2023-02-15T09:07:14.335Z"
   },
   {
    "duration": 40,
    "start_time": "2023-02-15T09:07:14.343Z"
   },
   {
    "duration": 3,
    "start_time": "2023-02-15T09:07:14.385Z"
   },
   {
    "duration": 39,
    "start_time": "2023-02-15T09:07:14.389Z"
   },
   {
    "duration": 65,
    "start_time": "2023-02-15T09:07:14.429Z"
   },
   {
    "duration": 34,
    "start_time": "2023-02-15T09:07:14.495Z"
   },
   {
    "duration": 90,
    "start_time": "2023-02-15T09:07:14.531Z"
   },
   {
    "duration": 11,
    "start_time": "2023-02-15T09:07:14.626Z"
   },
   {
    "duration": 27,
    "start_time": "2023-02-15T09:07:14.638Z"
   },
   {
    "duration": 16,
    "start_time": "2023-02-15T09:07:14.667Z"
   },
   {
    "duration": 10,
    "start_time": "2023-02-15T09:07:14.685Z"
   },
   {
    "duration": 7,
    "start_time": "2023-02-15T09:07:14.697Z"
   },
   {
    "duration": 60,
    "start_time": "2023-02-15T09:07:14.727Z"
   },
   {
    "duration": 76,
    "start_time": "2023-02-15T09:07:14.789Z"
   },
   {
    "duration": 159,
    "start_time": "2023-02-15T09:07:14.869Z"
   },
   {
    "duration": 12,
    "start_time": "2023-02-15T09:07:15.029Z"
   },
   {
    "duration": 13,
    "start_time": "2023-02-15T09:07:15.043Z"
   },
   {
    "duration": 8,
    "start_time": "2023-02-15T09:07:15.058Z"
   },
   {
    "duration": 17,
    "start_time": "2023-02-15T09:07:15.069Z"
   },
   {
    "duration": 15,
    "start_time": "2023-02-15T09:07:15.087Z"
   },
   {
    "duration": 30,
    "start_time": "2023-02-15T09:07:15.103Z"
   },
   {
    "duration": 9,
    "start_time": "2023-02-15T09:07:15.134Z"
   },
   {
    "duration": 14,
    "start_time": "2023-02-15T09:07:15.144Z"
   },
   {
    "duration": 49,
    "start_time": "2023-02-15T11:28:21.088Z"
   },
   {
    "duration": 1354,
    "start_time": "2023-02-15T11:28:30.205Z"
   },
   {
    "duration": 755,
    "start_time": "2023-02-15T11:28:31.561Z"
   },
   {
    "duration": 13,
    "start_time": "2023-02-15T11:28:32.318Z"
   },
   {
    "duration": 21,
    "start_time": "2023-02-15T11:28:32.333Z"
   },
   {
    "duration": 45,
    "start_time": "2023-02-15T11:28:32.355Z"
   },
   {
    "duration": 7,
    "start_time": "2023-02-15T11:28:32.402Z"
   },
   {
    "duration": 71,
    "start_time": "2023-02-15T11:28:32.410Z"
   },
   {
    "duration": 168,
    "start_time": "2023-02-15T11:28:32.483Z"
   },
   {
    "duration": 86,
    "start_time": "2023-02-15T11:28:32.653Z"
   },
   {
    "duration": 125,
    "start_time": "2023-02-15T11:28:32.742Z"
   },
   {
    "duration": 22,
    "start_time": "2023-02-15T11:28:32.869Z"
   },
   {
    "duration": 92,
    "start_time": "2023-02-15T11:28:32.892Z"
   },
   {
    "duration": 121,
    "start_time": "2023-02-15T11:28:32.986Z"
   },
   {
    "duration": 75,
    "start_time": "2023-02-15T11:28:33.109Z"
   },
   {
    "duration": 69,
    "start_time": "2023-02-15T11:28:33.186Z"
   },
   {
    "duration": 1371,
    "start_time": "2023-02-15T11:28:33.257Z"
   },
   {
    "duration": 12,
    "start_time": "2023-02-15T11:28:34.629Z"
   },
   {
    "duration": 36,
    "start_time": "2023-02-15T11:28:34.642Z"
   },
   {
    "duration": 46,
    "start_time": "2023-02-15T11:28:34.679Z"
   },
   {
    "duration": 13,
    "start_time": "2023-02-15T11:28:34.727Z"
   },
   {
    "duration": 4,
    "start_time": "2023-02-15T11:28:34.754Z"
   },
   {
    "duration": 8,
    "start_time": "2023-02-15T11:28:34.760Z"
   },
   {
    "duration": 10,
    "start_time": "2023-02-15T11:28:34.769Z"
   },
   {
    "duration": 410,
    "start_time": "2023-02-15T11:28:34.781Z"
   },
   {
    "duration": 87,
    "start_time": "2023-02-15T11:28:35.193Z"
   },
   {
    "duration": 15,
    "start_time": "2023-02-15T11:28:35.281Z"
   },
   {
    "duration": 8,
    "start_time": "2023-02-15T11:28:35.297Z"
   },
   {
    "duration": 59,
    "start_time": "2023-02-15T11:28:35.308Z"
   },
   {
    "duration": 3,
    "start_time": "2023-02-15T11:28:35.368Z"
   },
   {
    "duration": 32,
    "start_time": "2023-02-15T11:28:35.373Z"
   },
   {
    "duration": 78,
    "start_time": "2023-02-15T11:28:35.407Z"
   },
   {
    "duration": 28,
    "start_time": "2023-02-15T11:28:35.486Z"
   },
   {
    "duration": 105,
    "start_time": "2023-02-15T11:28:35.515Z"
   },
   {
    "duration": 10,
    "start_time": "2023-02-15T11:28:35.621Z"
   },
   {
    "duration": 38,
    "start_time": "2023-02-15T11:28:35.633Z"
   },
   {
    "duration": 21,
    "start_time": "2023-02-15T11:28:35.673Z"
   },
   {
    "duration": 9,
    "start_time": "2023-02-15T11:28:35.695Z"
   },
   {
    "duration": 137,
    "start_time": "2023-02-15T11:28:35.705Z"
   },
   {
    "duration": 0,
    "start_time": "2023-02-15T11:28:35.844Z"
   },
   {
    "duration": 0,
    "start_time": "2023-02-15T11:28:35.846Z"
   },
   {
    "duration": 0,
    "start_time": "2023-02-15T11:28:35.853Z"
   },
   {
    "duration": 0,
    "start_time": "2023-02-15T11:28:35.854Z"
   },
   {
    "duration": 0,
    "start_time": "2023-02-15T11:28:35.855Z"
   },
   {
    "duration": 0,
    "start_time": "2023-02-15T11:28:35.856Z"
   },
   {
    "duration": 0,
    "start_time": "2023-02-15T11:28:35.857Z"
   },
   {
    "duration": 0,
    "start_time": "2023-02-15T11:28:35.859Z"
   },
   {
    "duration": 0,
    "start_time": "2023-02-15T11:28:35.860Z"
   },
   {
    "duration": 0,
    "start_time": "2023-02-15T11:28:35.861Z"
   },
   {
    "duration": 0,
    "start_time": "2023-02-15T11:28:35.862Z"
   },
   {
    "duration": 4,
    "start_time": "2023-02-15T11:29:48.389Z"
   },
   {
    "duration": 1291,
    "start_time": "2023-02-15T11:29:56.063Z"
   },
   {
    "duration": 165,
    "start_time": "2023-02-15T11:29:57.356Z"
   },
   {
    "duration": 17,
    "start_time": "2023-02-15T11:29:57.523Z"
   },
   {
    "duration": 29,
    "start_time": "2023-02-15T11:29:57.542Z"
   },
   {
    "duration": 51,
    "start_time": "2023-02-15T11:29:57.573Z"
   },
   {
    "duration": 7,
    "start_time": "2023-02-15T11:29:57.626Z"
   },
   {
    "duration": 66,
    "start_time": "2023-02-15T11:29:57.654Z"
   },
   {
    "duration": 225,
    "start_time": "2023-02-15T11:29:57.722Z"
   },
   {
    "duration": 100,
    "start_time": "2023-02-15T11:29:57.954Z"
   },
   {
    "duration": 115,
    "start_time": "2023-02-15T11:29:58.056Z"
   },
   {
    "duration": 23,
    "start_time": "2023-02-15T11:29:58.172Z"
   },
   {
    "duration": 92,
    "start_time": "2023-02-15T11:29:58.196Z"
   },
   {
    "duration": 120,
    "start_time": "2023-02-15T11:29:58.290Z"
   },
   {
    "duration": 69,
    "start_time": "2023-02-15T11:29:58.412Z"
   },
   {
    "duration": 62,
    "start_time": "2023-02-15T11:29:58.483Z"
   },
   {
    "duration": 1321,
    "start_time": "2023-02-15T11:29:58.557Z"
   },
   {
    "duration": 14,
    "start_time": "2023-02-15T11:29:59.880Z"
   },
   {
    "duration": 24,
    "start_time": "2023-02-15T11:29:59.895Z"
   },
   {
    "duration": 59,
    "start_time": "2023-02-15T11:29:59.921Z"
   },
   {
    "duration": 13,
    "start_time": "2023-02-15T11:29:59.981Z"
   },
   {
    "duration": 9,
    "start_time": "2023-02-15T11:29:59.995Z"
   },
   {
    "duration": 16,
    "start_time": "2023-02-15T11:30:00.005Z"
   },
   {
    "duration": 11,
    "start_time": "2023-02-15T11:30:00.023Z"
   },
   {
    "duration": 378,
    "start_time": "2023-02-15T11:30:00.035Z"
   },
   {
    "duration": 76,
    "start_time": "2023-02-15T11:30:00.415Z"
   },
   {
    "duration": 13,
    "start_time": "2023-02-15T11:30:00.492Z"
   },
   {
    "duration": 18,
    "start_time": "2023-02-15T11:30:00.506Z"
   },
   {
    "duration": 51,
    "start_time": "2023-02-15T11:30:00.529Z"
   },
   {
    "duration": 4,
    "start_time": "2023-02-15T11:30:00.582Z"
   },
   {
    "duration": 36,
    "start_time": "2023-02-15T11:30:00.588Z"
   },
   {
    "duration": 93,
    "start_time": "2023-02-15T11:30:00.626Z"
   },
   {
    "duration": 24,
    "start_time": "2023-02-15T11:30:00.720Z"
   },
   {
    "duration": 126,
    "start_time": "2023-02-15T11:30:00.746Z"
   },
   {
    "duration": 10,
    "start_time": "2023-02-15T11:30:00.874Z"
   },
   {
    "duration": 42,
    "start_time": "2023-02-15T11:30:00.886Z"
   },
   {
    "duration": 31,
    "start_time": "2023-02-15T11:30:00.930Z"
   },
   {
    "duration": 20,
    "start_time": "2023-02-15T11:30:00.963Z"
   },
   {
    "duration": 20,
    "start_time": "2023-02-15T11:30:00.984Z"
   },
   {
    "duration": 89,
    "start_time": "2023-02-15T11:30:01.006Z"
   },
   {
    "duration": 76,
    "start_time": "2023-02-15T11:30:01.097Z"
   },
   {
    "duration": 160,
    "start_time": "2023-02-15T11:30:01.175Z"
   },
   {
    "duration": 18,
    "start_time": "2023-02-15T11:30:01.337Z"
   },
   {
    "duration": 50,
    "start_time": "2023-02-15T11:30:01.357Z"
   },
   {
    "duration": 47,
    "start_time": "2023-02-15T11:30:01.408Z"
   },
   {
    "duration": 41,
    "start_time": "2023-02-15T11:30:01.457Z"
   },
   {
    "duration": 39,
    "start_time": "2023-02-15T11:30:01.500Z"
   },
   {
    "duration": 11,
    "start_time": "2023-02-15T11:30:01.541Z"
   },
   {
    "duration": 35,
    "start_time": "2023-02-15T11:30:01.554Z"
   },
   {
    "duration": 39,
    "start_time": "2023-02-15T11:30:01.590Z"
   },
   {
    "duration": 12,
    "start_time": "2023-02-15T11:43:42.492Z"
   },
   {
    "duration": 1187,
    "start_time": "2023-02-16T08:19:53.336Z"
   },
   {
    "duration": 514,
    "start_time": "2023-02-16T08:19:54.525Z"
   },
   {
    "duration": 13,
    "start_time": "2023-02-16T08:19:55.041Z"
   },
   {
    "duration": 23,
    "start_time": "2023-02-16T08:19:55.055Z"
   },
   {
    "duration": 52,
    "start_time": "2023-02-16T08:19:55.080Z"
   },
   {
    "duration": 18,
    "start_time": "2023-02-16T08:19:55.134Z"
   },
   {
    "duration": 58,
    "start_time": "2023-02-16T08:19:55.154Z"
   },
   {
    "duration": 234,
    "start_time": "2023-02-16T08:19:55.214Z"
   },
   {
    "duration": 84,
    "start_time": "2023-02-16T08:19:55.450Z"
   },
   {
    "duration": 117,
    "start_time": "2023-02-16T08:19:55.535Z"
   },
   {
    "duration": 23,
    "start_time": "2023-02-16T08:19:55.653Z"
   },
   {
    "duration": 98,
    "start_time": "2023-02-16T08:19:55.678Z"
   },
   {
    "duration": 101,
    "start_time": "2023-02-16T08:19:55.777Z"
   },
   {
    "duration": 54,
    "start_time": "2023-02-16T08:19:55.882Z"
   },
   {
    "duration": 55,
    "start_time": "2023-02-16T08:19:55.948Z"
   },
   {
    "duration": 1410,
    "start_time": "2023-02-16T08:19:56.005Z"
   },
   {
    "duration": 13,
    "start_time": "2023-02-16T08:19:57.416Z"
   },
   {
    "duration": 37,
    "start_time": "2023-02-16T08:19:57.430Z"
   },
   {
    "duration": 42,
    "start_time": "2023-02-16T08:19:57.468Z"
   },
   {
    "duration": 13,
    "start_time": "2023-02-16T08:19:57.512Z"
   },
   {
    "duration": 27,
    "start_time": "2023-02-16T08:19:57.527Z"
   },
   {
    "duration": 6,
    "start_time": "2023-02-16T08:19:57.555Z"
   },
   {
    "duration": 8,
    "start_time": "2023-02-16T08:19:57.563Z"
   },
   {
    "duration": 394,
    "start_time": "2023-02-16T08:19:57.573Z"
   },
   {
    "duration": 66,
    "start_time": "2023-02-16T08:19:57.969Z"
   },
   {
    "duration": 21,
    "start_time": "2023-02-16T08:19:58.036Z"
   },
   {
    "duration": 9,
    "start_time": "2023-02-16T08:19:58.059Z"
   },
   {
    "duration": 41,
    "start_time": "2023-02-16T08:19:58.070Z"
   },
   {
    "duration": 4,
    "start_time": "2023-02-16T08:19:58.113Z"
   },
   {
    "duration": 49,
    "start_time": "2023-02-16T08:19:58.119Z"
   },
   {
    "duration": 63,
    "start_time": "2023-02-16T08:19:58.170Z"
   },
   {
    "duration": 33,
    "start_time": "2023-02-16T08:19:58.235Z"
   },
   {
    "duration": 99,
    "start_time": "2023-02-16T08:19:58.270Z"
   },
   {
    "duration": 9,
    "start_time": "2023-02-16T08:19:58.371Z"
   },
   {
    "duration": 26,
    "start_time": "2023-02-16T08:19:58.382Z"
   },
   {
    "duration": 15,
    "start_time": "2023-02-16T08:19:58.410Z"
   },
   {
    "duration": 10,
    "start_time": "2023-02-16T08:19:58.449Z"
   },
   {
    "duration": 6,
    "start_time": "2023-02-16T08:19:58.460Z"
   },
   {
    "duration": 82,
    "start_time": "2023-02-16T08:19:58.467Z"
   },
   {
    "duration": 62,
    "start_time": "2023-02-16T08:19:58.551Z"
   },
   {
    "duration": 167,
    "start_time": "2023-02-16T08:19:58.618Z"
   },
   {
    "duration": 11,
    "start_time": "2023-02-16T08:19:58.787Z"
   },
   {
    "duration": 10,
    "start_time": "2023-02-16T08:19:58.800Z"
   },
   {
    "duration": 7,
    "start_time": "2023-02-16T08:19:58.812Z"
   },
   {
    "duration": 29,
    "start_time": "2023-02-16T08:19:58.821Z"
   },
   {
    "duration": 8,
    "start_time": "2023-02-16T08:19:58.852Z"
   },
   {
    "duration": 9,
    "start_time": "2023-02-16T08:19:58.862Z"
   },
   {
    "duration": 7,
    "start_time": "2023-02-16T08:19:58.873Z"
   },
   {
    "duration": 14,
    "start_time": "2023-02-16T08:19:58.881Z"
   },
   {
    "duration": 46,
    "start_time": "2023-02-16T09:38:21.326Z"
   },
   {
    "duration": 1429,
    "start_time": "2023-02-16T09:38:28.335Z"
   },
   {
    "duration": 508,
    "start_time": "2023-02-16T09:38:29.766Z"
   },
   {
    "duration": 12,
    "start_time": "2023-02-16T09:38:30.276Z"
   },
   {
    "duration": 40,
    "start_time": "2023-02-16T09:38:30.289Z"
   },
   {
    "duration": 57,
    "start_time": "2023-02-16T09:38:30.331Z"
   },
   {
    "duration": 7,
    "start_time": "2023-02-16T09:38:30.389Z"
   },
   {
    "duration": 77,
    "start_time": "2023-02-16T09:38:30.397Z"
   },
   {
    "duration": 151,
    "start_time": "2023-02-16T09:38:30.476Z"
   },
   {
    "duration": 96,
    "start_time": "2023-02-16T09:38:30.629Z"
   },
   {
    "duration": 114,
    "start_time": "2023-02-16T09:38:30.726Z"
   },
   {
    "duration": 24,
    "start_time": "2023-02-16T09:38:30.841Z"
   },
   {
    "duration": 119,
    "start_time": "2023-02-16T09:38:30.866Z"
   },
   {
    "duration": 101,
    "start_time": "2023-02-16T09:38:30.986Z"
   },
   {
    "duration": 60,
    "start_time": "2023-02-16T09:38:31.090Z"
   },
   {
    "duration": 72,
    "start_time": "2023-02-16T09:38:31.152Z"
   },
   {
    "duration": 1270,
    "start_time": "2023-02-16T09:38:31.226Z"
   },
   {
    "duration": 12,
    "start_time": "2023-02-16T09:38:32.497Z"
   },
   {
    "duration": 29,
    "start_time": "2023-02-16T09:38:32.510Z"
   },
   {
    "duration": 51,
    "start_time": "2023-02-16T09:38:32.541Z"
   },
   {
    "duration": 12,
    "start_time": "2023-02-16T09:38:32.594Z"
   },
   {
    "duration": 40,
    "start_time": "2023-02-16T09:38:32.607Z"
   },
   {
    "duration": 27,
    "start_time": "2023-02-16T09:38:32.649Z"
   },
   {
    "duration": 39,
    "start_time": "2023-02-16T09:38:32.677Z"
   },
   {
    "duration": 352,
    "start_time": "2023-02-16T09:38:32.718Z"
   },
   {
    "duration": 73,
    "start_time": "2023-02-16T09:38:33.072Z"
   },
   {
    "duration": 12,
    "start_time": "2023-02-16T09:38:33.146Z"
   },
   {
    "duration": 30,
    "start_time": "2023-02-16T09:38:33.159Z"
   },
   {
    "duration": 70,
    "start_time": "2023-02-16T09:38:33.190Z"
   },
   {
    "duration": 4,
    "start_time": "2023-02-16T09:38:33.262Z"
   },
   {
    "duration": 56,
    "start_time": "2023-02-16T09:38:33.268Z"
   },
   {
    "duration": 96,
    "start_time": "2023-02-16T09:38:33.326Z"
   },
   {
    "duration": 21,
    "start_time": "2023-02-16T09:38:33.424Z"
   },
   {
    "duration": 106,
    "start_time": "2023-02-16T09:38:33.447Z"
   },
   {
    "duration": 9,
    "start_time": "2023-02-16T09:38:33.554Z"
   },
   {
    "duration": 39,
    "start_time": "2023-02-16T09:38:33.565Z"
   },
   {
    "duration": 32,
    "start_time": "2023-02-16T09:38:33.606Z"
   },
   {
    "duration": 22,
    "start_time": "2023-02-16T09:38:33.640Z"
   },
   {
    "duration": 21,
    "start_time": "2023-02-16T09:38:33.664Z"
   },
   {
    "duration": 94,
    "start_time": "2023-02-16T09:38:33.686Z"
   },
   {
    "duration": 59,
    "start_time": "2023-02-16T09:38:33.782Z"
   },
   {
    "duration": 159,
    "start_time": "2023-02-16T09:38:33.845Z"
   },
   {
    "duration": 12,
    "start_time": "2023-02-16T09:38:34.006Z"
   },
   {
    "duration": 61,
    "start_time": "2023-02-16T09:38:34.019Z"
   },
   {
    "duration": 45,
    "start_time": "2023-02-16T09:38:34.082Z"
   },
   {
    "duration": 38,
    "start_time": "2023-02-16T09:38:34.128Z"
   },
   {
    "duration": 22,
    "start_time": "2023-02-16T09:38:34.167Z"
   },
   {
    "duration": 43,
    "start_time": "2023-02-16T09:38:34.191Z"
   },
   {
    "duration": 28,
    "start_time": "2023-02-16T09:38:34.236Z"
   },
   {
    "duration": 45,
    "start_time": "2023-02-16T09:38:34.266Z"
   },
   {
    "duration": 17,
    "start_time": "2023-02-16T09:38:34.315Z"
   },
   {
    "duration": 1237,
    "start_time": "2023-02-16T09:40:05.367Z"
   },
   {
    "duration": 153,
    "start_time": "2023-02-16T09:40:06.606Z"
   },
   {
    "duration": 12,
    "start_time": "2023-02-16T09:40:06.761Z"
   },
   {
    "duration": 28,
    "start_time": "2023-02-16T09:40:06.775Z"
   },
   {
    "duration": 43,
    "start_time": "2023-02-16T09:40:06.805Z"
   },
   {
    "duration": 6,
    "start_time": "2023-02-16T09:40:06.850Z"
   },
   {
    "duration": 70,
    "start_time": "2023-02-16T09:40:06.858Z"
   },
   {
    "duration": 155,
    "start_time": "2023-02-16T09:40:06.930Z"
   },
   {
    "duration": 82,
    "start_time": "2023-02-16T09:40:07.086Z"
   },
   {
    "duration": 116,
    "start_time": "2023-02-16T09:40:07.171Z"
   },
   {
    "duration": 20,
    "start_time": "2023-02-16T09:40:07.292Z"
   },
   {
    "duration": 86,
    "start_time": "2023-02-16T09:40:07.314Z"
   },
   {
    "duration": 102,
    "start_time": "2023-02-16T09:40:07.401Z"
   },
   {
    "duration": 54,
    "start_time": "2023-02-16T09:40:07.504Z"
   },
   {
    "duration": 68,
    "start_time": "2023-02-16T09:40:07.560Z"
   },
   {
    "duration": 1290,
    "start_time": "2023-02-16T09:40:07.629Z"
   },
   {
    "duration": 12,
    "start_time": "2023-02-16T09:40:08.920Z"
   },
   {
    "duration": 29,
    "start_time": "2023-02-16T09:40:08.933Z"
   },
   {
    "duration": 57,
    "start_time": "2023-02-16T09:40:08.964Z"
   },
   {
    "duration": 13,
    "start_time": "2023-02-16T09:40:09.023Z"
   },
   {
    "duration": 12,
    "start_time": "2023-02-16T09:40:09.037Z"
   },
   {
    "duration": 10,
    "start_time": "2023-02-16T09:40:09.050Z"
   },
   {
    "duration": 7,
    "start_time": "2023-02-16T09:40:09.062Z"
   },
   {
    "duration": 380,
    "start_time": "2023-02-16T09:40:09.071Z"
   },
   {
    "duration": 78,
    "start_time": "2023-02-16T09:40:09.452Z"
   },
   {
    "duration": 14,
    "start_time": "2023-02-16T09:40:09.531Z"
   },
   {
    "duration": 9,
    "start_time": "2023-02-16T09:40:09.546Z"
   },
   {
    "duration": 50,
    "start_time": "2023-02-16T09:40:09.558Z"
   },
   {
    "duration": 4,
    "start_time": "2023-02-16T09:40:09.609Z"
   },
   {
    "duration": 23,
    "start_time": "2023-02-16T09:40:09.614Z"
   },
   {
    "duration": 77,
    "start_time": "2023-02-16T09:40:09.638Z"
   },
   {
    "duration": 23,
    "start_time": "2023-02-16T09:40:09.717Z"
   },
   {
    "duration": 103,
    "start_time": "2023-02-16T09:40:09.742Z"
   },
   {
    "duration": 10,
    "start_time": "2023-02-16T09:40:09.847Z"
   },
   {
    "duration": 35,
    "start_time": "2023-02-16T09:40:09.859Z"
   },
   {
    "duration": 15,
    "start_time": "2023-02-16T09:40:09.896Z"
   },
   {
    "duration": 8,
    "start_time": "2023-02-16T09:40:09.913Z"
   },
   {
    "duration": 6,
    "start_time": "2023-02-16T09:40:09.923Z"
   },
   {
    "duration": 96,
    "start_time": "2023-02-16T09:40:09.930Z"
   },
   {
    "duration": 71,
    "start_time": "2023-02-16T09:40:10.028Z"
   },
   {
    "duration": 161,
    "start_time": "2023-02-16T09:40:10.101Z"
   },
   {
    "duration": 11,
    "start_time": "2023-02-16T09:40:10.264Z"
   },
   {
    "duration": 17,
    "start_time": "2023-02-16T09:40:10.276Z"
   },
   {
    "duration": 8,
    "start_time": "2023-02-16T09:40:10.294Z"
   },
   {
    "duration": 12,
    "start_time": "2023-02-16T09:40:10.304Z"
   },
   {
    "duration": 9,
    "start_time": "2023-02-16T09:40:10.317Z"
   },
   {
    "duration": 18,
    "start_time": "2023-02-16T09:40:10.327Z"
   },
   {
    "duration": 13,
    "start_time": "2023-02-16T09:40:10.347Z"
   },
   {
    "duration": 29,
    "start_time": "2023-02-16T09:40:10.362Z"
   },
   {
    "duration": 8,
    "start_time": "2023-02-16T09:40:10.393Z"
   },
   {
    "duration": 13,
    "start_time": "2023-02-16T09:40:10.403Z"
   },
   {
    "duration": 19,
    "start_time": "2023-02-16T09:40:10.418Z"
   },
   {
    "duration": 12,
    "start_time": "2023-02-16T09:40:10.439Z"
   },
   {
    "duration": 1148,
    "start_time": "2023-02-16T09:42:01.602Z"
   },
   {
    "duration": 155,
    "start_time": "2023-02-16T09:42:02.752Z"
   },
   {
    "duration": 13,
    "start_time": "2023-02-16T09:42:02.908Z"
   },
   {
    "duration": 22,
    "start_time": "2023-02-16T09:42:02.923Z"
   },
   {
    "duration": 60,
    "start_time": "2023-02-16T09:42:02.947Z"
   },
   {
    "duration": 7,
    "start_time": "2023-02-16T09:42:03.009Z"
   },
   {
    "duration": 62,
    "start_time": "2023-02-16T09:42:03.017Z"
   },
   {
    "duration": 163,
    "start_time": "2023-02-16T09:42:03.080Z"
   },
   {
    "duration": 89,
    "start_time": "2023-02-16T09:42:03.245Z"
   },
   {
    "duration": 111,
    "start_time": "2023-02-16T09:42:03.337Z"
   },
   {
    "duration": 22,
    "start_time": "2023-02-16T09:42:03.450Z"
   },
   {
    "duration": 88,
    "start_time": "2023-02-16T09:42:03.473Z"
   },
   {
    "duration": 101,
    "start_time": "2023-02-16T09:42:03.562Z"
   },
   {
    "duration": 58,
    "start_time": "2023-02-16T09:42:03.665Z"
   },
   {
    "duration": 52,
    "start_time": "2023-02-16T09:42:03.725Z"
   },
   {
    "duration": 1273,
    "start_time": "2023-02-16T09:42:03.778Z"
   },
   {
    "duration": 12,
    "start_time": "2023-02-16T09:42:05.052Z"
   },
   {
    "duration": 40,
    "start_time": "2023-02-16T09:42:05.065Z"
   },
   {
    "duration": 42,
    "start_time": "2023-02-16T09:42:05.107Z"
   },
   {
    "duration": 13,
    "start_time": "2023-02-16T09:42:05.151Z"
   },
   {
    "duration": 18,
    "start_time": "2023-02-16T09:42:05.165Z"
   },
   {
    "duration": 9,
    "start_time": "2023-02-16T09:42:05.185Z"
   },
   {
    "duration": 6,
    "start_time": "2023-02-16T09:42:05.195Z"
   },
   {
    "duration": 367,
    "start_time": "2023-02-16T09:42:05.203Z"
   },
   {
    "duration": 71,
    "start_time": "2023-02-16T09:42:05.571Z"
   },
   {
    "duration": 12,
    "start_time": "2023-02-16T09:42:05.643Z"
   },
   {
    "duration": 30,
    "start_time": "2023-02-16T09:42:05.656Z"
   },
   {
    "duration": 59,
    "start_time": "2023-02-16T09:42:05.689Z"
   },
   {
    "duration": 4,
    "start_time": "2023-02-16T09:42:05.750Z"
   },
   {
    "duration": 41,
    "start_time": "2023-02-16T09:42:05.755Z"
   },
   {
    "duration": 64,
    "start_time": "2023-02-16T09:42:05.798Z"
   },
   {
    "duration": 28,
    "start_time": "2023-02-16T09:42:05.864Z"
   },
   {
    "duration": 78,
    "start_time": "2023-02-16T09:42:05.894Z"
   },
   {
    "duration": 22,
    "start_time": "2023-02-16T09:42:05.974Z"
   },
   {
    "duration": 25,
    "start_time": "2023-02-16T09:42:05.997Z"
   },
   {
    "duration": 15,
    "start_time": "2023-02-16T09:42:06.023Z"
   },
   {
    "duration": 8,
    "start_time": "2023-02-16T09:42:06.040Z"
   },
   {
    "duration": 12,
    "start_time": "2023-02-16T09:42:06.050Z"
   },
   {
    "duration": 73,
    "start_time": "2023-02-16T09:42:06.063Z"
   },
   {
    "duration": 64,
    "start_time": "2023-02-16T09:42:06.138Z"
   },
   {
    "duration": 181,
    "start_time": "2023-02-16T09:42:06.204Z"
   },
   {
    "duration": 13,
    "start_time": "2023-02-16T09:42:06.388Z"
   },
   {
    "duration": 17,
    "start_time": "2023-02-16T09:42:06.403Z"
   },
   {
    "duration": 14,
    "start_time": "2023-02-16T09:42:06.422Z"
   },
   {
    "duration": 12,
    "start_time": "2023-02-16T09:42:06.438Z"
   },
   {
    "duration": 13,
    "start_time": "2023-02-16T09:42:06.452Z"
   },
   {
    "duration": 31,
    "start_time": "2023-02-16T09:42:06.466Z"
   },
   {
    "duration": 9,
    "start_time": "2023-02-16T09:42:06.500Z"
   },
   {
    "duration": 14,
    "start_time": "2023-02-16T09:42:06.511Z"
   },
   {
    "duration": 15,
    "start_time": "2023-02-16T09:42:06.526Z"
   },
   {
    "duration": 18,
    "start_time": "2023-02-16T09:42:06.543Z"
   },
   {
    "duration": 33,
    "start_time": "2023-02-16T09:42:06.563Z"
   },
   {
    "duration": 1203,
    "start_time": "2023-02-16T10:11:57.543Z"
   },
   {
    "duration": 157,
    "start_time": "2023-02-16T10:11:58.747Z"
   },
   {
    "duration": 12,
    "start_time": "2023-02-16T10:11:58.906Z"
   },
   {
    "duration": 44,
    "start_time": "2023-02-16T10:11:58.920Z"
   },
   {
    "duration": 44,
    "start_time": "2023-02-16T10:11:58.966Z"
   },
   {
    "duration": 7,
    "start_time": "2023-02-16T10:11:59.012Z"
   },
   {
    "duration": 69,
    "start_time": "2023-02-16T10:11:59.021Z"
   },
   {
    "duration": 168,
    "start_time": "2023-02-16T10:11:59.091Z"
   },
   {
    "duration": 89,
    "start_time": "2023-02-16T10:11:59.260Z"
   },
   {
    "duration": 115,
    "start_time": "2023-02-16T10:11:59.351Z"
   },
   {
    "duration": 21,
    "start_time": "2023-02-16T10:11:59.468Z"
   },
   {
    "duration": 92,
    "start_time": "2023-02-16T10:11:59.490Z"
   },
   {
    "duration": 105,
    "start_time": "2023-02-16T10:11:59.584Z"
   },
   {
    "duration": 61,
    "start_time": "2023-02-16T10:11:59.691Z"
   },
   {
    "duration": 53,
    "start_time": "2023-02-16T10:11:59.754Z"
   },
   {
    "duration": 1386,
    "start_time": "2023-02-16T10:11:59.809Z"
   },
   {
    "duration": 39,
    "start_time": "2023-02-16T10:12:01.196Z"
   },
   {
    "duration": 49,
    "start_time": "2023-02-16T10:12:01.236Z"
   },
   {
    "duration": 76,
    "start_time": "2023-02-16T10:12:01.287Z"
   },
   {
    "duration": 31,
    "start_time": "2023-02-16T10:12:01.365Z"
   },
   {
    "duration": 42,
    "start_time": "2023-02-16T10:12:01.398Z"
   },
   {
    "duration": 29,
    "start_time": "2023-02-16T10:12:01.442Z"
   },
   {
    "duration": 28,
    "start_time": "2023-02-16T10:12:01.472Z"
   },
   {
    "duration": 408,
    "start_time": "2023-02-16T10:12:01.502Z"
   },
   {
    "duration": 72,
    "start_time": "2023-02-16T10:12:01.911Z"
   },
   {
    "duration": 14,
    "start_time": "2023-02-16T10:12:01.984Z"
   },
   {
    "duration": 7,
    "start_time": "2023-02-16T10:12:01.999Z"
   },
   {
    "duration": 71,
    "start_time": "2023-02-16T10:12:02.008Z"
   },
   {
    "duration": 4,
    "start_time": "2023-02-16T10:12:02.081Z"
   },
   {
    "duration": 31,
    "start_time": "2023-02-16T10:12:02.087Z"
   },
   {
    "duration": 95,
    "start_time": "2023-02-16T10:12:02.120Z"
   },
   {
    "duration": 25,
    "start_time": "2023-02-16T10:12:02.217Z"
   },
   {
    "duration": 97,
    "start_time": "2023-02-16T10:12:02.248Z"
   },
   {
    "duration": 9,
    "start_time": "2023-02-16T10:12:02.347Z"
   },
   {
    "duration": 40,
    "start_time": "2023-02-16T10:12:02.357Z"
   },
   {
    "duration": 21,
    "start_time": "2023-02-16T10:12:02.398Z"
   },
   {
    "duration": 16,
    "start_time": "2023-02-16T10:12:02.420Z"
   },
   {
    "duration": 20,
    "start_time": "2023-02-16T10:12:02.437Z"
   },
   {
    "duration": 87,
    "start_time": "2023-02-16T10:12:02.459Z"
   },
   {
    "duration": 65,
    "start_time": "2023-02-16T10:12:02.548Z"
   },
   {
    "duration": 160,
    "start_time": "2023-02-16T10:12:02.617Z"
   },
   {
    "duration": 11,
    "start_time": "2023-02-16T10:12:02.778Z"
   },
   {
    "duration": 28,
    "start_time": "2023-02-16T10:12:02.791Z"
   },
   {
    "duration": 12,
    "start_time": "2023-02-16T10:12:02.821Z"
   },
   {
    "duration": 18,
    "start_time": "2023-02-16T10:12:02.834Z"
   },
   {
    "duration": 15,
    "start_time": "2023-02-16T10:12:02.853Z"
   },
   {
    "duration": 10,
    "start_time": "2023-02-16T10:12:02.870Z"
   },
   {
    "duration": 26,
    "start_time": "2023-02-16T10:12:02.881Z"
   },
   {
    "duration": 14,
    "start_time": "2023-02-16T10:12:02.909Z"
   },
   {
    "duration": 8,
    "start_time": "2023-02-16T10:12:02.924Z"
   },
   {
    "duration": 26,
    "start_time": "2023-02-16T10:12:02.934Z"
   },
   {
    "duration": 14,
    "start_time": "2023-02-16T10:12:02.961Z"
   }
  ],
  "kernelspec": {
   "display_name": "Python 3 (ipykernel)",
   "language": "python",
   "name": "python3"
  },
  "language_info": {
   "codemirror_mode": {
    "name": "ipython",
    "version": 3
   },
   "file_extension": ".py",
   "mimetype": "text/x-python",
   "name": "python",
   "nbconvert_exporter": "python",
   "pygments_lexer": "ipython3",
   "version": "3.11.5"
  },
  "toc": {
   "base_numbering": 1,
   "nav_menu": {},
   "number_sections": true,
   "sideBar": true,
   "skip_h1_title": true,
   "title_cell": "Table of Contents",
   "title_sidebar": "Contents",
   "toc_cell": false,
   "toc_position": {},
   "toc_section_display": true,
   "toc_window_display": false
  }
 },
 "nbformat": 4,
 "nbformat_minor": 2
}
