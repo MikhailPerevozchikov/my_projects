{
 "cells": [
  {
   "cell_type": "markdown",
   "id": "46b0fc82",
   "metadata": {
    "deletable": false,
    "editable": false,
    "id": "c81daeeb"
   },
   "source": [
    "# Исследование надежности заемщиков\n"
   ]
  },
  {
   "cell_type": "markdown",
   "id": "b1a271a8",
   "metadata": {
    "deletable": false,
    "editable": false,
    "id": "827c20bf"
   },
   "source": [
    "Во второй части проекта вы выполните шаги 3 и 4. Их вручную проверит ревьюер.\n",
    "Чтобы вам не пришлось писать код заново для шагов 1 и 2, мы добавили авторские решения в ячейки с кодом. \n",
    "\n"
   ]
  },
  {
   "cell_type": "markdown",
   "id": "aa7f0d61",
   "metadata": {
    "deletable": false,
    "editable": false,
    "id": "744d7639"
   },
   "source": [
    "## Откройте таблицу и изучите общую информацию о данных"
   ]
  },
  {
   "cell_type": "markdown",
   "id": "7ef12c80",
   "metadata": {
    "deletable": false,
    "editable": false,
    "id": "e7a14c31"
   },
   "source": [
    "**Задание 1. Импортируйте библиотеку pandas. Считайте данные из csv-файла в датафрейм и сохраните в переменную `data`. Путь к файлу:**\n",
    "\n",
    "`/datasets/data.csv`"
   ]
  },
  {
   "cell_type": "code",
   "execution_count": 1,
   "id": "78046257",
   "metadata": {
    "deletable": false,
    "id": "7bcf75c9"
   },
   "outputs": [],
   "source": [
    "import pandas as pd\n",
    "\n",
    "try:\n",
    "    data = pd.read_csv('/datasets/data.csv')\n",
    "except:\n",
    "    data = pd.read_csv('https://code.s3.yandex.net/datasets/data.csv')"
   ]
  },
  {
   "cell_type": "code",
   "execution_count": 2,
   "id": "d4d86199",
   "metadata": {},
   "outputs": [],
   "source": [
    "data.to_csv('datset.csv', index = False)"
   ]
  },
  {
   "cell_type": "markdown",
   "id": "d08b2f4f",
   "metadata": {
    "deletable": false,
    "editable": false,
    "id": "b8038fe3"
   },
   "source": [
    "**Задание 2. Выведите первые 20 строчек датафрейма `data` на экран.**"
   ]
  },
  {
   "cell_type": "code",
   "execution_count": 3,
   "id": "69aeecba",
   "metadata": {
    "deletable": false,
    "id": "2a7cab99",
    "outputId": "1a8f3ef2-d323-4ec2-ddf7-89670b5944c4"
   },
   "outputs": [
    {
     "data": {
      "text/html": [
       "<div>\n",
       "<style scoped>\n",
       "    .dataframe tbody tr th:only-of-type {\n",
       "        vertical-align: middle;\n",
       "    }\n",
       "\n",
       "    .dataframe tbody tr th {\n",
       "        vertical-align: top;\n",
       "    }\n",
       "\n",
       "    .dataframe thead th {\n",
       "        text-align: right;\n",
       "    }\n",
       "</style>\n",
       "<table border=\"1\" class=\"dataframe\">\n",
       "  <thead>\n",
       "    <tr style=\"text-align: right;\">\n",
       "      <th></th>\n",
       "      <th>children</th>\n",
       "      <th>days_employed</th>\n",
       "      <th>dob_years</th>\n",
       "      <th>education</th>\n",
       "      <th>education_id</th>\n",
       "      <th>family_status</th>\n",
       "      <th>family_status_id</th>\n",
       "      <th>gender</th>\n",
       "      <th>income_type</th>\n",
       "      <th>debt</th>\n",
       "      <th>total_income</th>\n",
       "      <th>purpose</th>\n",
       "    </tr>\n",
       "  </thead>\n",
       "  <tbody>\n",
       "    <tr>\n",
       "      <th>0</th>\n",
       "      <td>1</td>\n",
       "      <td>-8437.673028</td>\n",
       "      <td>42</td>\n",
       "      <td>высшее</td>\n",
       "      <td>0</td>\n",
       "      <td>женат / замужем</td>\n",
       "      <td>0</td>\n",
       "      <td>F</td>\n",
       "      <td>сотрудник</td>\n",
       "      <td>0</td>\n",
       "      <td>253875.639453</td>\n",
       "      <td>покупка жилья</td>\n",
       "    </tr>\n",
       "    <tr>\n",
       "      <th>1</th>\n",
       "      <td>1</td>\n",
       "      <td>-4024.803754</td>\n",
       "      <td>36</td>\n",
       "      <td>среднее</td>\n",
       "      <td>1</td>\n",
       "      <td>женат / замужем</td>\n",
       "      <td>0</td>\n",
       "      <td>F</td>\n",
       "      <td>сотрудник</td>\n",
       "      <td>0</td>\n",
       "      <td>112080.014102</td>\n",
       "      <td>приобретение автомобиля</td>\n",
       "    </tr>\n",
       "    <tr>\n",
       "      <th>2</th>\n",
       "      <td>0</td>\n",
       "      <td>-5623.422610</td>\n",
       "      <td>33</td>\n",
       "      <td>Среднее</td>\n",
       "      <td>1</td>\n",
       "      <td>женат / замужем</td>\n",
       "      <td>0</td>\n",
       "      <td>M</td>\n",
       "      <td>сотрудник</td>\n",
       "      <td>0</td>\n",
       "      <td>145885.952297</td>\n",
       "      <td>покупка жилья</td>\n",
       "    </tr>\n",
       "    <tr>\n",
       "      <th>3</th>\n",
       "      <td>3</td>\n",
       "      <td>-4124.747207</td>\n",
       "      <td>32</td>\n",
       "      <td>среднее</td>\n",
       "      <td>1</td>\n",
       "      <td>женат / замужем</td>\n",
       "      <td>0</td>\n",
       "      <td>M</td>\n",
       "      <td>сотрудник</td>\n",
       "      <td>0</td>\n",
       "      <td>267628.550329</td>\n",
       "      <td>дополнительное образование</td>\n",
       "    </tr>\n",
       "    <tr>\n",
       "      <th>4</th>\n",
       "      <td>0</td>\n",
       "      <td>340266.072047</td>\n",
       "      <td>53</td>\n",
       "      <td>среднее</td>\n",
       "      <td>1</td>\n",
       "      <td>гражданский брак</td>\n",
       "      <td>1</td>\n",
       "      <td>F</td>\n",
       "      <td>пенсионер</td>\n",
       "      <td>0</td>\n",
       "      <td>158616.077870</td>\n",
       "      <td>сыграть свадьбу</td>\n",
       "    </tr>\n",
       "    <tr>\n",
       "      <th>5</th>\n",
       "      <td>0</td>\n",
       "      <td>-926.185831</td>\n",
       "      <td>27</td>\n",
       "      <td>высшее</td>\n",
       "      <td>0</td>\n",
       "      <td>гражданский брак</td>\n",
       "      <td>1</td>\n",
       "      <td>M</td>\n",
       "      <td>компаньон</td>\n",
       "      <td>0</td>\n",
       "      <td>255763.565419</td>\n",
       "      <td>покупка жилья</td>\n",
       "    </tr>\n",
       "    <tr>\n",
       "      <th>6</th>\n",
       "      <td>0</td>\n",
       "      <td>-2879.202052</td>\n",
       "      <td>43</td>\n",
       "      <td>высшее</td>\n",
       "      <td>0</td>\n",
       "      <td>женат / замужем</td>\n",
       "      <td>0</td>\n",
       "      <td>F</td>\n",
       "      <td>компаньон</td>\n",
       "      <td>0</td>\n",
       "      <td>240525.971920</td>\n",
       "      <td>операции с жильем</td>\n",
       "    </tr>\n",
       "    <tr>\n",
       "      <th>7</th>\n",
       "      <td>0</td>\n",
       "      <td>-152.779569</td>\n",
       "      <td>50</td>\n",
       "      <td>СРЕДНЕЕ</td>\n",
       "      <td>1</td>\n",
       "      <td>женат / замужем</td>\n",
       "      <td>0</td>\n",
       "      <td>M</td>\n",
       "      <td>сотрудник</td>\n",
       "      <td>0</td>\n",
       "      <td>135823.934197</td>\n",
       "      <td>образование</td>\n",
       "    </tr>\n",
       "    <tr>\n",
       "      <th>8</th>\n",
       "      <td>2</td>\n",
       "      <td>-6929.865299</td>\n",
       "      <td>35</td>\n",
       "      <td>ВЫСШЕЕ</td>\n",
       "      <td>0</td>\n",
       "      <td>гражданский брак</td>\n",
       "      <td>1</td>\n",
       "      <td>F</td>\n",
       "      <td>сотрудник</td>\n",
       "      <td>0</td>\n",
       "      <td>95856.832424</td>\n",
       "      <td>на проведение свадьбы</td>\n",
       "    </tr>\n",
       "    <tr>\n",
       "      <th>9</th>\n",
       "      <td>0</td>\n",
       "      <td>-2188.756445</td>\n",
       "      <td>41</td>\n",
       "      <td>среднее</td>\n",
       "      <td>1</td>\n",
       "      <td>женат / замужем</td>\n",
       "      <td>0</td>\n",
       "      <td>M</td>\n",
       "      <td>сотрудник</td>\n",
       "      <td>0</td>\n",
       "      <td>144425.938277</td>\n",
       "      <td>покупка жилья для семьи</td>\n",
       "    </tr>\n",
       "    <tr>\n",
       "      <th>10</th>\n",
       "      <td>2</td>\n",
       "      <td>-4171.483647</td>\n",
       "      <td>36</td>\n",
       "      <td>высшее</td>\n",
       "      <td>0</td>\n",
       "      <td>женат / замужем</td>\n",
       "      <td>0</td>\n",
       "      <td>M</td>\n",
       "      <td>компаньон</td>\n",
       "      <td>0</td>\n",
       "      <td>113943.491460</td>\n",
       "      <td>покупка недвижимости</td>\n",
       "    </tr>\n",
       "    <tr>\n",
       "      <th>11</th>\n",
       "      <td>0</td>\n",
       "      <td>-792.701887</td>\n",
       "      <td>40</td>\n",
       "      <td>среднее</td>\n",
       "      <td>1</td>\n",
       "      <td>женат / замужем</td>\n",
       "      <td>0</td>\n",
       "      <td>F</td>\n",
       "      <td>сотрудник</td>\n",
       "      <td>0</td>\n",
       "      <td>77069.234271</td>\n",
       "      <td>покупка коммерческой недвижимости</td>\n",
       "    </tr>\n",
       "    <tr>\n",
       "      <th>12</th>\n",
       "      <td>0</td>\n",
       "      <td>NaN</td>\n",
       "      <td>65</td>\n",
       "      <td>среднее</td>\n",
       "      <td>1</td>\n",
       "      <td>гражданский брак</td>\n",
       "      <td>1</td>\n",
       "      <td>M</td>\n",
       "      <td>пенсионер</td>\n",
       "      <td>0</td>\n",
       "      <td>NaN</td>\n",
       "      <td>сыграть свадьбу</td>\n",
       "    </tr>\n",
       "    <tr>\n",
       "      <th>13</th>\n",
       "      <td>0</td>\n",
       "      <td>-1846.641941</td>\n",
       "      <td>54</td>\n",
       "      <td>неоконченное высшее</td>\n",
       "      <td>2</td>\n",
       "      <td>женат / замужем</td>\n",
       "      <td>0</td>\n",
       "      <td>F</td>\n",
       "      <td>сотрудник</td>\n",
       "      <td>0</td>\n",
       "      <td>130458.228857</td>\n",
       "      <td>приобретение автомобиля</td>\n",
       "    </tr>\n",
       "    <tr>\n",
       "      <th>14</th>\n",
       "      <td>0</td>\n",
       "      <td>-1844.956182</td>\n",
       "      <td>56</td>\n",
       "      <td>высшее</td>\n",
       "      <td>0</td>\n",
       "      <td>гражданский брак</td>\n",
       "      <td>1</td>\n",
       "      <td>F</td>\n",
       "      <td>компаньон</td>\n",
       "      <td>1</td>\n",
       "      <td>165127.911772</td>\n",
       "      <td>покупка жилой недвижимости</td>\n",
       "    </tr>\n",
       "    <tr>\n",
       "      <th>15</th>\n",
       "      <td>1</td>\n",
       "      <td>-972.364419</td>\n",
       "      <td>26</td>\n",
       "      <td>среднее</td>\n",
       "      <td>1</td>\n",
       "      <td>женат / замужем</td>\n",
       "      <td>0</td>\n",
       "      <td>F</td>\n",
       "      <td>сотрудник</td>\n",
       "      <td>0</td>\n",
       "      <td>116820.904450</td>\n",
       "      <td>строительство собственной недвижимости</td>\n",
       "    </tr>\n",
       "    <tr>\n",
       "      <th>16</th>\n",
       "      <td>0</td>\n",
       "      <td>-1719.934226</td>\n",
       "      <td>35</td>\n",
       "      <td>среднее</td>\n",
       "      <td>1</td>\n",
       "      <td>женат / замужем</td>\n",
       "      <td>0</td>\n",
       "      <td>F</td>\n",
       "      <td>сотрудник</td>\n",
       "      <td>0</td>\n",
       "      <td>289202.704229</td>\n",
       "      <td>недвижимость</td>\n",
       "    </tr>\n",
       "    <tr>\n",
       "      <th>17</th>\n",
       "      <td>0</td>\n",
       "      <td>-2369.999720</td>\n",
       "      <td>33</td>\n",
       "      <td>высшее</td>\n",
       "      <td>0</td>\n",
       "      <td>гражданский брак</td>\n",
       "      <td>1</td>\n",
       "      <td>M</td>\n",
       "      <td>сотрудник</td>\n",
       "      <td>0</td>\n",
       "      <td>90410.586745</td>\n",
       "      <td>строительство недвижимости</td>\n",
       "    </tr>\n",
       "    <tr>\n",
       "      <th>18</th>\n",
       "      <td>0</td>\n",
       "      <td>400281.136913</td>\n",
       "      <td>53</td>\n",
       "      <td>среднее</td>\n",
       "      <td>1</td>\n",
       "      <td>вдовец / вдова</td>\n",
       "      <td>2</td>\n",
       "      <td>F</td>\n",
       "      <td>пенсионер</td>\n",
       "      <td>0</td>\n",
       "      <td>56823.777243</td>\n",
       "      <td>на покупку подержанного автомобиля</td>\n",
       "    </tr>\n",
       "    <tr>\n",
       "      <th>19</th>\n",
       "      <td>0</td>\n",
       "      <td>-10038.818549</td>\n",
       "      <td>48</td>\n",
       "      <td>СРЕДНЕЕ</td>\n",
       "      <td>1</td>\n",
       "      <td>в разводе</td>\n",
       "      <td>3</td>\n",
       "      <td>F</td>\n",
       "      <td>сотрудник</td>\n",
       "      <td>0</td>\n",
       "      <td>242831.107982</td>\n",
       "      <td>на покупку своего автомобиля</td>\n",
       "    </tr>\n",
       "  </tbody>\n",
       "</table>\n",
       "</div>"
      ],
      "text/plain": [
       "    children  days_employed  dob_years            education  education_id  \\\n",
       "0          1   -8437.673028         42               высшее             0   \n",
       "1          1   -4024.803754         36              среднее             1   \n",
       "2          0   -5623.422610         33              Среднее             1   \n",
       "3          3   -4124.747207         32              среднее             1   \n",
       "4          0  340266.072047         53              среднее             1   \n",
       "5          0    -926.185831         27               высшее             0   \n",
       "6          0   -2879.202052         43               высшее             0   \n",
       "7          0    -152.779569         50              СРЕДНЕЕ             1   \n",
       "8          2   -6929.865299         35               ВЫСШЕЕ             0   \n",
       "9          0   -2188.756445         41              среднее             1   \n",
       "10         2   -4171.483647         36               высшее             0   \n",
       "11         0    -792.701887         40              среднее             1   \n",
       "12         0            NaN         65              среднее             1   \n",
       "13         0   -1846.641941         54  неоконченное высшее             2   \n",
       "14         0   -1844.956182         56               высшее             0   \n",
       "15         1    -972.364419         26              среднее             1   \n",
       "16         0   -1719.934226         35              среднее             1   \n",
       "17         0   -2369.999720         33               высшее             0   \n",
       "18         0  400281.136913         53              среднее             1   \n",
       "19         0  -10038.818549         48              СРЕДНЕЕ             1   \n",
       "\n",
       "       family_status  family_status_id gender income_type  debt  \\\n",
       "0    женат / замужем                 0      F   сотрудник     0   \n",
       "1    женат / замужем                 0      F   сотрудник     0   \n",
       "2    женат / замужем                 0      M   сотрудник     0   \n",
       "3    женат / замужем                 0      M   сотрудник     0   \n",
       "4   гражданский брак                 1      F   пенсионер     0   \n",
       "5   гражданский брак                 1      M   компаньон     0   \n",
       "6    женат / замужем                 0      F   компаньон     0   \n",
       "7    женат / замужем                 0      M   сотрудник     0   \n",
       "8   гражданский брак                 1      F   сотрудник     0   \n",
       "9    женат / замужем                 0      M   сотрудник     0   \n",
       "10   женат / замужем                 0      M   компаньон     0   \n",
       "11   женат / замужем                 0      F   сотрудник     0   \n",
       "12  гражданский брак                 1      M   пенсионер     0   \n",
       "13   женат / замужем                 0      F   сотрудник     0   \n",
       "14  гражданский брак                 1      F   компаньон     1   \n",
       "15   женат / замужем                 0      F   сотрудник     0   \n",
       "16   женат / замужем                 0      F   сотрудник     0   \n",
       "17  гражданский брак                 1      M   сотрудник     0   \n",
       "18    вдовец / вдова                 2      F   пенсионер     0   \n",
       "19         в разводе                 3      F   сотрудник     0   \n",
       "\n",
       "     total_income                                 purpose  \n",
       "0   253875.639453                           покупка жилья  \n",
       "1   112080.014102                 приобретение автомобиля  \n",
       "2   145885.952297                           покупка жилья  \n",
       "3   267628.550329              дополнительное образование  \n",
       "4   158616.077870                         сыграть свадьбу  \n",
       "5   255763.565419                           покупка жилья  \n",
       "6   240525.971920                       операции с жильем  \n",
       "7   135823.934197                             образование  \n",
       "8    95856.832424                   на проведение свадьбы  \n",
       "9   144425.938277                 покупка жилья для семьи  \n",
       "10  113943.491460                    покупка недвижимости  \n",
       "11   77069.234271       покупка коммерческой недвижимости  \n",
       "12            NaN                         сыграть свадьбу  \n",
       "13  130458.228857                 приобретение автомобиля  \n",
       "14  165127.911772              покупка жилой недвижимости  \n",
       "15  116820.904450  строительство собственной недвижимости  \n",
       "16  289202.704229                            недвижимость  \n",
       "17   90410.586745              строительство недвижимости  \n",
       "18   56823.777243      на покупку подержанного автомобиля  \n",
       "19  242831.107982            на покупку своего автомобиля  "
      ]
     },
     "execution_count": 3,
     "metadata": {},
     "output_type": "execute_result"
    }
   ],
   "source": [
    "data.head(20)"
   ]
  },
  {
   "cell_type": "markdown",
   "id": "19d8b51e",
   "metadata": {
    "deletable": false,
    "editable": false,
    "id": "1c12e233"
   },
   "source": [
    "**Задание 3. Выведите основную информацию о датафрейме с помощью метода `info()`.**"
   ]
  },
  {
   "cell_type": "code",
   "execution_count": 4,
   "id": "6b14c50e",
   "metadata": {
    "deletable": false,
    "id": "2b757bca",
    "outputId": "15376089-8dad-46c9-b520-c05248d43158"
   },
   "outputs": [
    {
     "name": "stdout",
     "output_type": "stream",
     "text": [
      "<class 'pandas.core.frame.DataFrame'>\n",
      "RangeIndex: 21525 entries, 0 to 21524\n",
      "Data columns (total 12 columns):\n",
      " #   Column            Non-Null Count  Dtype  \n",
      "---  ------            --------------  -----  \n",
      " 0   children          21525 non-null  int64  \n",
      " 1   days_employed     19351 non-null  float64\n",
      " 2   dob_years         21525 non-null  int64  \n",
      " 3   education         21525 non-null  object \n",
      " 4   education_id      21525 non-null  int64  \n",
      " 5   family_status     21525 non-null  object \n",
      " 6   family_status_id  21525 non-null  int64  \n",
      " 7   gender            21525 non-null  object \n",
      " 8   income_type       21525 non-null  object \n",
      " 9   debt              21525 non-null  int64  \n",
      " 10  total_income      19351 non-null  float64\n",
      " 11  purpose           21525 non-null  object \n",
      "dtypes: float64(2), int64(5), object(5)\n",
      "memory usage: 2.0+ MB\n"
     ]
    }
   ],
   "source": [
    "data.info()"
   ]
  },
  {
   "cell_type": "markdown",
   "id": "1144ade8",
   "metadata": {
    "deletable": false,
    "editable": false,
    "id": "333ec665"
   },
   "source": [
    "## Предобработка данных"
   ]
  },
  {
   "cell_type": "markdown",
   "id": "d59c4702",
   "metadata": {
    "deletable": false,
    "editable": false,
    "id": "02d92d53"
   },
   "source": [
    "### Удаление пропусков"
   ]
  },
  {
   "cell_type": "markdown",
   "id": "74bf72f1",
   "metadata": {
    "deletable": false,
    "editable": false,
    "id": "cd84967c"
   },
   "source": [
    "**Задание 4. Выведите количество пропущенных значений для каждого столбца. Используйте комбинацию двух методов.**"
   ]
  },
  {
   "cell_type": "code",
   "execution_count": 5,
   "id": "1e301190",
   "metadata": {
    "deletable": false,
    "id": "7f9b2309",
    "outputId": "81f4d817-781c-465c-ed15-91ce4446810d"
   },
   "outputs": [
    {
     "data": {
      "text/plain": [
       "children               0\n",
       "days_employed       2174\n",
       "dob_years              0\n",
       "education              0\n",
       "education_id           0\n",
       "family_status          0\n",
       "family_status_id       0\n",
       "gender                 0\n",
       "income_type            0\n",
       "debt                   0\n",
       "total_income        2174\n",
       "purpose                0\n",
       "dtype: int64"
      ]
     },
     "execution_count": 5,
     "metadata": {},
     "output_type": "execute_result"
    }
   ],
   "source": [
    "data.isna().sum()"
   ]
  },
  {
   "cell_type": "markdown",
   "id": "2faade11",
   "metadata": {
    "deletable": false,
    "editable": false,
    "id": "db86e27b"
   },
   "source": [
    "**Задание 5. В двух столбцах есть пропущенные значения. Один из них — `days_employed`. Пропуски в этом столбце вы обработаете на следующем этапе. Другой столбец с пропущенными значениями — `total_income` — хранит данные о доходах. На сумму дохода сильнее всего влияет тип занятости, поэтому заполнить пропуски в этом столбце нужно медианным значением по каждому типу из столбца `income_type`. Например, у человека с типом занятости `сотрудник` пропуск в столбце `total_income` должен быть заполнен медианным доходом среди всех записей с тем же типом.**"
   ]
  },
  {
   "cell_type": "code",
   "execution_count": 6,
   "id": "d2d39499",
   "metadata": {
    "deletable": false,
    "id": "42006a93"
   },
   "outputs": [],
   "source": [
    "for t in data['income_type'].unique():\n",
    "    data.loc[(data['income_type'] == t) & (data['total_income'].isna()), 'total_income'] = \\\n",
    "    data.loc[(data['income_type'] == t), 'total_income'].median()"
   ]
  },
  {
   "cell_type": "markdown",
   "id": "4955347d",
   "metadata": {
    "deletable": false,
    "editable": false,
    "id": "89da5ece"
   },
   "source": [
    "### Обработка аномальных значений"
   ]
  },
  {
   "cell_type": "markdown",
   "id": "a367e2ff",
   "metadata": {
    "deletable": false,
    "editable": false,
    "id": "57964554"
   },
   "source": [
    "**Задание 6. В данных могут встречаться артефакты (аномалии) — значения, которые не отражают действительность и появились по какой-то ошибке. таким артефактом будет отрицательное количество дней трудового стажа в столбце `days_employed`. Для реальных данных это нормально. Обработайте значения в этом столбце: замените все отрицательные значения положительными с помощью метода `abs()`.**"
   ]
  },
  {
   "cell_type": "code",
   "execution_count": 7,
   "id": "835945ea",
   "metadata": {
    "deletable": false,
    "id": "f6f055bf"
   },
   "outputs": [],
   "source": [
    "data['days_employed'] = data['days_employed'].abs()"
   ]
  },
  {
   "cell_type": "markdown",
   "id": "e76be371",
   "metadata": {
    "deletable": false,
    "editable": false,
    "id": "6107dd2f"
   },
   "source": [
    "**Задание 7. Для каждого типа занятости выведите медианное значение трудового стажа `days_employed` в днях.**"
   ]
  },
  {
   "cell_type": "code",
   "execution_count": 8,
   "id": "97e6073b",
   "metadata": {
    "deletable": false,
    "id": "85a5faf6",
    "outputId": "801ef80e-522b-4668-f34e-565af7432bcf"
   },
   "outputs": [
    {
     "data": {
      "text/plain": [
       "income_type\n",
       "безработный        366413.652744\n",
       "в декрете            3296.759962\n",
       "госслужащий          2689.368353\n",
       "компаньон            1547.382223\n",
       "пенсионер          365213.306266\n",
       "предприниматель       520.848083\n",
       "сотрудник            1574.202821\n",
       "студент               578.751554\n",
       "Name: days_employed, dtype: float64"
      ]
     },
     "execution_count": 8,
     "metadata": {},
     "output_type": "execute_result"
    }
   ],
   "source": [
    "data.groupby('income_type')['days_employed'].agg('median')"
   ]
  },
  {
   "cell_type": "markdown",
   "id": "0cfed971",
   "metadata": {
    "deletable": false,
    "editable": false,
    "id": "38d1a030"
   },
   "source": [
    "У двух типов (безработные и пенсионеры) получатся аномально большие значения. Исправить такие значения сложно, поэтому оставьте их как есть. Тем более этот столбец не понадобится вам для исследования."
   ]
  },
  {
   "cell_type": "markdown",
   "id": "fa569607",
   "metadata": {
    "deletable": false,
    "editable": false,
    "id": "d8a9f147"
   },
   "source": [
    "**Задание 8. Выведите перечень уникальных значений столбца `children`.**"
   ]
  },
  {
   "cell_type": "code",
   "execution_count": 9,
   "id": "2c389d95",
   "metadata": {
    "deletable": false,
    "id": "ef5056eb",
    "outputId": "6975b15c-7f95-4697-d16d-a0c79b657b03"
   },
   "outputs": [
    {
     "data": {
      "text/plain": [
       "array([ 1,  0,  3,  2, -1,  4, 20,  5])"
      ]
     },
     "execution_count": 9,
     "metadata": {},
     "output_type": "execute_result"
    }
   ],
   "source": [
    "data['children'].unique()"
   ]
  },
  {
   "cell_type": "markdown",
   "id": "b6353576",
   "metadata": {
    "deletable": false,
    "editable": false,
    "id": "40b9ebf2"
   },
   "source": [
    "**Задание 9. В столбце `children` есть два аномальных значения. Удалите строки, в которых встречаются такие аномальные значения из датафрейма `data`.**"
   ]
  },
  {
   "cell_type": "code",
   "execution_count": 10,
   "id": "a63a07c1",
   "metadata": {
    "deletable": false,
    "id": "3ff9801d"
   },
   "outputs": [],
   "source": [
    "data = data[(data['children'] != -1) & (data['children'] != 20)]"
   ]
  },
  {
   "cell_type": "markdown",
   "id": "ab182abc",
   "metadata": {
    "deletable": false,
    "editable": false,
    "id": "bbc4d0ce"
   },
   "source": [
    "**Задание 10. Ещё раз выведите перечень уникальных значений столбца `children`, чтобы убедиться, что артефакты удалены.**"
   ]
  },
  {
   "cell_type": "code",
   "execution_count": 11,
   "id": "ef4cb616",
   "metadata": {
    "deletable": false,
    "id": "ad4fa8b7",
    "outputId": "b2097101-d49d-44d9-901b-32a65c9463d1"
   },
   "outputs": [
    {
     "data": {
      "text/plain": [
       "array([1, 0, 3, 2, 4, 5])"
      ]
     },
     "execution_count": 11,
     "metadata": {},
     "output_type": "execute_result"
    }
   ],
   "source": [
    "data['children'].unique()"
   ]
  },
  {
   "cell_type": "markdown",
   "id": "8afe0ce3",
   "metadata": {
    "deletable": false,
    "editable": false,
    "id": "75440b63"
   },
   "source": [
    "### Удаление пропусков (продолжение)"
   ]
  },
  {
   "cell_type": "markdown",
   "id": "bcc529d8",
   "metadata": {
    "deletable": false,
    "editable": false,
    "id": "f4ea573f"
   },
   "source": [
    "**Задание 11. Заполните пропуски в столбце `days_employed` медианными значениями по каждого типа занятости `income_type`.**"
   ]
  },
  {
   "cell_type": "code",
   "execution_count": 12,
   "id": "d80c1eae",
   "metadata": {
    "deletable": false,
    "id": "af6b1a7e"
   },
   "outputs": [],
   "source": [
    "for t in data['income_type'].unique():\n",
    "    data.loc[(data['income_type'] == t) & (data['days_employed'].isna()), 'days_employed'] = \\\n",
    "    data.loc[(data['income_type'] == t), 'days_employed'].median()"
   ]
  },
  {
   "cell_type": "markdown",
   "id": "570efc10",
   "metadata": {
    "deletable": false,
    "editable": false,
    "id": "2753f40d"
   },
   "source": [
    "**Задание 12. Убедитесь, что все пропуски заполнены. Проверьте себя и ещё раз выведите количество пропущенных значений для каждого столбца с помощью двух методов.**"
   ]
  },
  {
   "cell_type": "code",
   "execution_count": 13,
   "id": "3f0acc59",
   "metadata": {
    "deletable": false,
    "id": "55f78bc2",
    "outputId": "8da1e4e1-358e-4e87-98c9-f261bce0a7b2"
   },
   "outputs": [
    {
     "data": {
      "text/plain": [
       "children            0\n",
       "days_employed       0\n",
       "dob_years           0\n",
       "education           0\n",
       "education_id        0\n",
       "family_status       0\n",
       "family_status_id    0\n",
       "gender              0\n",
       "income_type         0\n",
       "debt                0\n",
       "total_income        0\n",
       "purpose             0\n",
       "dtype: int64"
      ]
     },
     "execution_count": 13,
     "metadata": {},
     "output_type": "execute_result"
    }
   ],
   "source": [
    "data.isna().sum()"
   ]
  },
  {
   "cell_type": "markdown",
   "id": "03030361",
   "metadata": {
    "deletable": false,
    "editable": false,
    "id": "ddc81e43"
   },
   "source": [
    "### Изменение типов данных"
   ]
  },
  {
   "cell_type": "markdown",
   "id": "7b039b83",
   "metadata": {
    "deletable": false,
    "editable": false,
    "id": "42d19d24"
   },
   "source": [
    "**Задание 13. Замените вещественный тип данных в столбце `total_income` на целочисленный с помощью метода `astype()`.**"
   ]
  },
  {
   "cell_type": "code",
   "execution_count": 14,
   "id": "e9ddcd52",
   "metadata": {
    "deletable": false,
    "id": "920b65ad"
   },
   "outputs": [],
   "source": [
    "data['total_income'] = data['total_income'].astype(int)"
   ]
  },
  {
   "cell_type": "markdown",
   "id": "ce111516",
   "metadata": {
    "deletable": false,
    "editable": false,
    "id": "80c420ba"
   },
   "source": [
    "### Обработка дубликатов"
   ]
  },
  {
   "cell_type": "markdown",
   "id": "4b105706",
   "metadata": {
    "deletable": false,
    "editable": false
   },
   "source": [
    "**Задание 14. Обработайте неявные дубликаты в столбце `education`. В этом столбце есть одни и те же значения, но записанные по-разному: с использованием заглавных и строчных букв. Приведите их к нижнему регистру. Проверьте остальные столбцы.**"
   ]
  },
  {
   "cell_type": "code",
   "execution_count": 15,
   "id": "748bc1ba",
   "metadata": {
    "deletable": false
   },
   "outputs": [],
   "source": [
    "data['education'] = data['education'].str.lower()"
   ]
  },
  {
   "cell_type": "markdown",
   "id": "b0a12dbe",
   "metadata": {
    "deletable": false,
    "editable": false,
    "id": "dc587695"
   },
   "source": [
    "**Задание 15. Выведите на экран количество строк-дубликатов в данных. Если такие строки присутствуют, удалите их.**"
   ]
  },
  {
   "cell_type": "code",
   "execution_count": 16,
   "id": "bdd7a97a",
   "metadata": {
    "deletable": false,
    "id": "3ee445e4",
    "outputId": "9684deba-1934-42d1-99e1-cda61740f822"
   },
   "outputs": [
    {
     "data": {
      "text/plain": [
       "71"
      ]
     },
     "execution_count": 16,
     "metadata": {},
     "output_type": "execute_result"
    }
   ],
   "source": [
    "data.duplicated().sum()"
   ]
  },
  {
   "cell_type": "code",
   "execution_count": 17,
   "id": "623fc305",
   "metadata": {
    "deletable": false,
    "id": "8575fe05"
   },
   "outputs": [],
   "source": [
    "data = data.drop_duplicates()"
   ]
  },
  {
   "cell_type": "markdown",
   "id": "df16bb36",
   "metadata": {
    "deletable": false,
    "editable": false,
    "id": "9904cf55"
   },
   "source": [
    "### Категоризация данных"
   ]
  },
  {
   "cell_type": "markdown",
   "id": "c2d822c7",
   "metadata": {
    "deletable": false,
    "editable": false,
    "id": "72fcc8a2"
   },
   "source": [
    "**Задание 16. На основании диапазонов, указанных ниже, создайте в датафрейме `data` столбец `total_income_category` с категориями:**\n",
    "\n",
    "- 0–30000 — `'E'`;\n",
    "- 30001–50000 — `'D'`;\n",
    "- 50001–200000 — `'C'`;\n",
    "- 200001–1000000 — `'B'`;\n",
    "- 1000001 и выше — `'A'`.\n",
    "\n",
    "\n",
    "**Например, кредитополучателю с доходом 25000 нужно назначить категорию `'E'`, а клиенту, получающему 235000, — `'B'`. Используйте собственную функцию с именем `categorize_income()` и метод `apply()`.**"
   ]
  },
  {
   "cell_type": "code",
   "execution_count": 18,
   "id": "cc26ec49",
   "metadata": {
    "deletable": false,
    "id": "e1771346"
   },
   "outputs": [],
   "source": [
    "def categorize_income(income):\n",
    "    try:\n",
    "        if 0 <= income <= 30000:\n",
    "            return 'E'\n",
    "        elif 30001 <= income <= 50000:\n",
    "            return 'D'\n",
    "        elif 50001 <= income <= 200000:\n",
    "            return 'C'\n",
    "        elif 200001 <= income <= 1000000:\n",
    "            return 'B'\n",
    "        elif income >= 1000001:\n",
    "            return 'A'\n",
    "    except:\n",
    "        pass"
   ]
  },
  {
   "cell_type": "code",
   "execution_count": 19,
   "id": "0ace5c92",
   "metadata": {
    "deletable": false,
    "id": "d5f3586d"
   },
   "outputs": [],
   "source": [
    "data['total_income_category'] = data['total_income'].apply(categorize_income)"
   ]
  },
  {
   "cell_type": "markdown",
   "id": "e16c4f17",
   "metadata": {
    "deletable": false,
    "editable": false,
    "id": "dde49b5c"
   },
   "source": [
    "**Задание 17. Выведите на экран перечень уникальных целей взятия кредита из столбца `purpose`.**"
   ]
  },
  {
   "cell_type": "code",
   "execution_count": 20,
   "id": "f5f92ab6",
   "metadata": {
    "deletable": false,
    "id": "f67ce9b3",
    "outputId": "673c12d9-7d7e-4ae0-9812-c622c89dd244"
   },
   "outputs": [
    {
     "data": {
      "text/plain": [
       "array(['покупка жилья', 'приобретение автомобиля',\n",
       "       'дополнительное образование', 'сыграть свадьбу',\n",
       "       'операции с жильем', 'образование', 'на проведение свадьбы',\n",
       "       'покупка жилья для семьи', 'покупка недвижимости',\n",
       "       'покупка коммерческой недвижимости', 'покупка жилой недвижимости',\n",
       "       'строительство собственной недвижимости', 'недвижимость',\n",
       "       'строительство недвижимости', 'на покупку подержанного автомобиля',\n",
       "       'на покупку своего автомобиля',\n",
       "       'операции с коммерческой недвижимостью',\n",
       "       'строительство жилой недвижимости', 'жилье',\n",
       "       'операции со своей недвижимостью', 'автомобили',\n",
       "       'заняться образованием', 'сделка с подержанным автомобилем',\n",
       "       'получение образования', 'автомобиль', 'свадьба',\n",
       "       'получение дополнительного образования', 'покупка своего жилья',\n",
       "       'операции с недвижимостью', 'получение высшего образования',\n",
       "       'свой автомобиль', 'сделка с автомобилем',\n",
       "       'профильное образование', 'высшее образование',\n",
       "       'покупка жилья для сдачи', 'на покупку автомобиля', 'ремонт жилью',\n",
       "       'заняться высшим образованием'], dtype=object)"
      ]
     },
     "execution_count": 20,
     "metadata": {},
     "output_type": "execute_result"
    }
   ],
   "source": [
    "data['purpose'].unique()"
   ]
  },
  {
   "cell_type": "markdown",
   "id": "0a7aa298",
   "metadata": {
    "deletable": false,
    "editable": false,
    "id": "85d0aef0"
   },
   "source": [
    "**Задание 18. Создайте функцию, которая на основании данных из столбца `purpose` сформирует новый столбец `purpose_category`, в который войдут следующие категории:**\n",
    "\n",
    "- `'операции с автомобилем'`,\n",
    "- `'операции с недвижимостью'`,\n",
    "- `'проведение свадьбы'`,\n",
    "- `'получение образования'`.\n",
    "\n",
    "**Например, если в столбце `purpose` находится подстрока `'на покупку автомобиля'`, то в столбце `purpose_category` должна появиться строка `'операции с автомобилем'`.**\n",
    "\n",
    "**Используйте собственную функцию с именем `categorize_purpose()` и метод `apply()`. Изучите данные в столбце `purpose` и определите, какие подстроки помогут вам правильно определить категорию.**"
   ]
  },
  {
   "cell_type": "code",
   "execution_count": 21,
   "id": "5dc22721",
   "metadata": {
    "deletable": false,
    "id": "e149fab4"
   },
   "outputs": [],
   "source": [
    "def categorize_purpose(row):\n",
    "    try:\n",
    "        if 'автом' in row:\n",
    "            return 'операции с автомобилем'\n",
    "        elif 'жил' in row or 'недвиж' in row:\n",
    "            return 'операции с недвижимостью'\n",
    "        elif 'свад' in row:\n",
    "            return 'проведение свадьбы'\n",
    "        elif 'образов' in row:\n",
    "            return 'получение образования'\n",
    "    except:\n",
    "        return 'нет категории'"
   ]
  },
  {
   "cell_type": "code",
   "execution_count": 22,
   "id": "81b5f2d4",
   "metadata": {
    "deletable": false,
    "id": "bf36e69b"
   },
   "outputs": [],
   "source": [
    "data['purpose_category'] = data['purpose'].apply(categorize_purpose)"
   ]
  },
  {
   "cell_type": "markdown",
   "id": "91700ba8",
   "metadata": {
    "deletable": false,
    "editable": false,
    "id": "09b242bf"
   },
   "source": [
    "### Шаг 3. Исследуйте данные и ответьте на вопросы"
   ]
  },
  {
   "cell_type": "markdown",
   "id": "60a23a43",
   "metadata": {
    "deletable": false,
    "editable": false,
    "id": "c5d66278"
   },
   "source": [
    "#### 3.1 Есть ли зависимость между количеством детей и возвратом кредита в срок?"
   ]
  },
  {
   "cell_type": "code",
   "execution_count": 23,
   "id": "694ff2d8",
   "metadata": {
    "deletable": false,
    "id": "2cacfc4a"
   },
   "outputs": [
    {
     "data": {
      "text/html": [
       "<div>\n",
       "<style scoped>\n",
       "    .dataframe tbody tr th:only-of-type {\n",
       "        vertical-align: middle;\n",
       "    }\n",
       "\n",
       "    .dataframe tbody tr th {\n",
       "        vertical-align: top;\n",
       "    }\n",
       "\n",
       "    .dataframe thead tr th {\n",
       "        text-align: left;\n",
       "    }\n",
       "\n",
       "    .dataframe thead tr:last-of-type th {\n",
       "        text-align: right;\n",
       "    }\n",
       "</style>\n",
       "<table border=\"1\" class=\"dataframe\">\n",
       "  <thead>\n",
       "    <tr>\n",
       "      <th></th>\n",
       "      <th colspan=\"3\" halign=\"left\">debt</th>\n",
       "    </tr>\n",
       "    <tr>\n",
       "      <th></th>\n",
       "      <th>count</th>\n",
       "      <th>sum</th>\n",
       "      <th>mean</th>\n",
       "    </tr>\n",
       "    <tr>\n",
       "      <th>children</th>\n",
       "      <th></th>\n",
       "      <th></th>\n",
       "      <th></th>\n",
       "    </tr>\n",
       "  </thead>\n",
       "  <tbody>\n",
       "    <tr>\n",
       "      <th>0</th>\n",
       "      <td>14091</td>\n",
       "      <td>1063</td>\n",
       "      <td>0.075438</td>\n",
       "    </tr>\n",
       "    <tr>\n",
       "      <th>1</th>\n",
       "      <td>4808</td>\n",
       "      <td>444</td>\n",
       "      <td>0.092346</td>\n",
       "    </tr>\n",
       "    <tr>\n",
       "      <th>2</th>\n",
       "      <td>2052</td>\n",
       "      <td>194</td>\n",
       "      <td>0.094542</td>\n",
       "    </tr>\n",
       "    <tr>\n",
       "      <th>3</th>\n",
       "      <td>330</td>\n",
       "      <td>27</td>\n",
       "      <td>0.081818</td>\n",
       "    </tr>\n",
       "    <tr>\n",
       "      <th>4</th>\n",
       "      <td>41</td>\n",
       "      <td>4</td>\n",
       "      <td>0.097561</td>\n",
       "    </tr>\n",
       "    <tr>\n",
       "      <th>5</th>\n",
       "      <td>9</td>\n",
       "      <td>0</td>\n",
       "      <td>0.000000</td>\n",
       "    </tr>\n",
       "  </tbody>\n",
       "</table>\n",
       "</div>"
      ],
      "text/plain": [
       "           debt                \n",
       "          count   sum      mean\n",
       "children                       \n",
       "0         14091  1063  0.075438\n",
       "1          4808   444  0.092346\n",
       "2          2052   194  0.094542\n",
       "3           330    27  0.081818\n",
       "4            41     4  0.097561\n",
       "5             9     0  0.000000"
      ]
     },
     "execution_count": 23,
     "metadata": {},
     "output_type": "execute_result"
    }
   ],
   "source": [
    "#для начала посмотрим на зависимость количества детей и показателя задолженности по кредиту\n",
    "#для этого запишем агреггированную функцию, в которой сведем одновременно количество просрочек и количество взявших кредит\n",
    "#в зависимости от количества детей у заемщика\n",
    "children_debt=data.groupby('children').agg({'debt':['count','sum','mean']})\n",
    "children_debt"
   ]
  },
  {
   "cell_type": "code",
   "execution_count": 24,
   "id": "2a1b53da",
   "metadata": {},
   "outputs": [
    {
     "data": {
      "text/html": [
       "<div>\n",
       "<style scoped>\n",
       "    .dataframe tbody tr th:only-of-type {\n",
       "        vertical-align: middle;\n",
       "    }\n",
       "\n",
       "    .dataframe tbody tr th {\n",
       "        vertical-align: top;\n",
       "    }\n",
       "\n",
       "    .dataframe thead th {\n",
       "        text-align: right;\n",
       "    }\n",
       "</style>\n",
       "<table border=\"1\" class=\"dataframe\">\n",
       "  <thead>\n",
       "    <tr style=\"text-align: right;\">\n",
       "      <th></th>\n",
       "      <th>количество_заемщиков</th>\n",
       "      <th>число_должников</th>\n",
       "      <th>доля_должников</th>\n",
       "    </tr>\n",
       "    <tr>\n",
       "      <th>children</th>\n",
       "      <th></th>\n",
       "      <th></th>\n",
       "      <th></th>\n",
       "    </tr>\n",
       "  </thead>\n",
       "  <tbody>\n",
       "    <tr>\n",
       "      <th>0</th>\n",
       "      <td>14091</td>\n",
       "      <td>1063</td>\n",
       "      <td>0.075438</td>\n",
       "    </tr>\n",
       "    <tr>\n",
       "      <th>1</th>\n",
       "      <td>4808</td>\n",
       "      <td>444</td>\n",
       "      <td>0.092346</td>\n",
       "    </tr>\n",
       "    <tr>\n",
       "      <th>2</th>\n",
       "      <td>2052</td>\n",
       "      <td>194</td>\n",
       "      <td>0.094542</td>\n",
       "    </tr>\n",
       "    <tr>\n",
       "      <th>3</th>\n",
       "      <td>330</td>\n",
       "      <td>27</td>\n",
       "      <td>0.081818</td>\n",
       "    </tr>\n",
       "    <tr>\n",
       "      <th>4</th>\n",
       "      <td>41</td>\n",
       "      <td>4</td>\n",
       "      <td>0.097561</td>\n",
       "    </tr>\n",
       "    <tr>\n",
       "      <th>5</th>\n",
       "      <td>9</td>\n",
       "      <td>0</td>\n",
       "      <td>0.000000</td>\n",
       "    </tr>\n",
       "  </tbody>\n",
       "</table>\n",
       "</div>"
      ],
      "text/plain": [
       "          количество_заемщиков  число_должников  доля_должников\n",
       "children                                                       \n",
       "0                        14091             1063        0.075438\n",
       "1                         4808              444        0.092346\n",
       "2                         2052              194        0.094542\n",
       "3                          330               27        0.081818\n",
       "4                           41                4        0.097561\n",
       "5                            9                0        0.000000"
      ]
     },
     "execution_count": 24,
     "metadata": {},
     "output_type": "execute_result"
    }
   ],
   "source": [
    "children_debt.columns = ['количество_заемщиков', 'число_должников', 'доля_должников']\n",
    "children_debt"
   ]
  },
  {
   "cell_type": "markdown",
   "id": "85b29109",
   "metadata": {
    "deletable": false,
    "id": "3a6b99ec"
   },
   "source": [
    "**Вывод:** По этим данным видно, что существует зависимость между количеством детей и возвратом кредита в срок.\n",
    "У заемщиков с 1-4 детьми высокая доля просрочек, и что интересно, она выше, чем у заемщиков без детей.\n",
    "Скорее всего это может быть связано с тем что у заемщиков с 1-4 более высокая финансовая нагрузка на содержание семьи, чем у бездетных."
   ]
  },
  {
   "cell_type": "markdown",
   "id": "3214a5a0",
   "metadata": {
    "deletable": false,
    "editable": false,
    "id": "97be82ca"
   },
   "source": [
    "#### 3.2 Есть ли зависимость между семейным положением и возвратом кредита в срок?"
   ]
  },
  {
   "cell_type": "code",
   "execution_count": 25,
   "id": "bdd28b7f",
   "metadata": {
    "deletable": false,
    "id": "dc3f7ee8"
   },
   "outputs": [
    {
     "data": {
      "text/html": [
       "<div>\n",
       "<style scoped>\n",
       "    .dataframe tbody tr th:only-of-type {\n",
       "        vertical-align: middle;\n",
       "    }\n",
       "\n",
       "    .dataframe tbody tr th {\n",
       "        vertical-align: top;\n",
       "    }\n",
       "\n",
       "    .dataframe thead th {\n",
       "        text-align: right;\n",
       "    }\n",
       "</style>\n",
       "<table border=\"1\" class=\"dataframe\">\n",
       "  <thead>\n",
       "    <tr style=\"text-align: right;\">\n",
       "      <th></th>\n",
       "      <th>количество_заемщиков</th>\n",
       "      <th>число_должников</th>\n",
       "      <th>доля_должников</th>\n",
       "    </tr>\n",
       "    <tr>\n",
       "      <th>family_status</th>\n",
       "      <th></th>\n",
       "      <th></th>\n",
       "      <th></th>\n",
       "    </tr>\n",
       "  </thead>\n",
       "  <tbody>\n",
       "    <tr>\n",
       "      <th>Не женат / не замужем</th>\n",
       "      <td>2796</td>\n",
       "      <td>273</td>\n",
       "      <td>0.097639</td>\n",
       "    </tr>\n",
       "    <tr>\n",
       "      <th>в разводе</th>\n",
       "      <td>1189</td>\n",
       "      <td>84</td>\n",
       "      <td>0.070648</td>\n",
       "    </tr>\n",
       "    <tr>\n",
       "      <th>вдовец / вдова</th>\n",
       "      <td>951</td>\n",
       "      <td>63</td>\n",
       "      <td>0.066246</td>\n",
       "    </tr>\n",
       "    <tr>\n",
       "      <th>гражданский брак</th>\n",
       "      <td>4134</td>\n",
       "      <td>385</td>\n",
       "      <td>0.093130</td>\n",
       "    </tr>\n",
       "    <tr>\n",
       "      <th>женат / замужем</th>\n",
       "      <td>12261</td>\n",
       "      <td>927</td>\n",
       "      <td>0.075606</td>\n",
       "    </tr>\n",
       "  </tbody>\n",
       "</table>\n",
       "</div>"
      ],
      "text/plain": [
       "                       количество_заемщиков  число_должников  доля_должников\n",
       "family_status                                                               \n",
       "Не женат / не замужем                  2796              273        0.097639\n",
       "в разводе                              1189               84        0.070648\n",
       "вдовец / вдова                          951               63        0.066246\n",
       "гражданский брак                       4134              385        0.093130\n",
       "женат / замужем                       12261              927        0.075606"
      ]
     },
     "execution_count": 25,
     "metadata": {},
     "output_type": "execute_result"
    }
   ],
   "source": [
    "#посчитаем долю просрочек по кредиту в зависимости от семейного статуса\n",
    "#для этого применим агрегированную функцию по столбцу с показателем долга с суммой и количеством\n",
    "#далее в переменной family_debt_quality посчитаем долю просрочек по кредиту в зависимости от статутса\n",
    "family_grouped=data.groupby('family_status').agg({'debt':['count','sum', 'mean']}) \n",
    "family_grouped.columns = ['количество_заемщиков', 'число_должников', 'доля_должников']\n",
    "family_grouped"
   ]
  },
  {
   "cell_type": "markdown",
   "id": "1862933d",
   "metadata": {
    "deletable": false,
    "id": "1cef7837"
   },
   "source": [
    "**Вывод:** Из данных можно сделать следующие выводы:\n",
    "-самый низкие показатели возврата у не состоявших в браке и в \"гражданском браке\", скорее всего здесь у заемщиков высокая доля импульсивных решений взять кредит, не связанная с планированием семейного бюджета, а значит с меньшей долей ответственности\n",
    "-самые высокие показатели возврата у \"вдовец / вдова\" и \"в разводе\", скорее всего эти люди уже имели опыт получения кредита, а значит наличие кредитной истории учитывалось банком в принятии решения о выдачи этим людям заемных средств, следовательно, можно ожидать что эти люди вернут кредит с наибольшей вероятностью\n",
    "-показатель у группы \"женат / замужем \" в целом достаточно хороший, возможно наличие семейного бюджета, планирования, возможных соц программ (например, лбгот) дает относительно высокую финансовую устойчивость, а значит и высокую вероятность  банку получить заемные средства обратно от данной социальной группы"
   ]
  },
  {
   "cell_type": "markdown",
   "id": "d919cbd2",
   "metadata": {
    "deletable": false,
    "editable": false,
    "id": "1e8b2fca"
   },
   "source": [
    "#### 3.3 Есть ли зависимость между уровнем дохода и возвратом кредита в срок?"
   ]
  },
  {
   "cell_type": "code",
   "execution_count": 26,
   "id": "b019d8f7",
   "metadata": {
    "deletable": false,
    "id": "cd7e3720"
   },
   "outputs": [
    {
     "data": {
      "text/plain": [
       "0.25    107507.0\n",
       "0.50    142594.0\n",
       "0.75    195842.0\n",
       "Name: total_income, dtype: float64"
      ]
     },
     "execution_count": 26,
     "metadata": {},
     "output_type": "execute_result"
    }
   ],
   "source": [
    "#разделим показатели данных равные группы\n",
    "data['total_income'].quantile([0.25,0.5,0.75])"
   ]
  },
  {
   "cell_type": "code",
   "execution_count": 27,
   "id": "2b17dcc2",
   "metadata": {},
   "outputs": [],
   "source": [
    "#для наглядности разделим уровни дохода на группы и дадим им названия\n",
    "#для этого сделаем функцию возвращающее название группы уровня дохода в зависимости от дохода\n",
    "def income_status(total_income):\n",
    "    if total_income <= 107507.0:\n",
    "            return 'Низкий уровень дохода'\n",
    "    if total_income <= 142594.0:\n",
    "            return 'Средний уровень дохода'\n",
    "    if total_income < 195842.0:\n",
    "            return 'Высокий уровень дохода'\n",
    "    return 'Сверхвысокий уровень дохода'"
   ]
  },
  {
   "cell_type": "code",
   "execution_count": 28,
   "id": "3f33c619",
   "metadata": {},
   "outputs": [],
   "source": [
    "data['income_status'] = data['total_income'].apply(income_status)"
   ]
  },
  {
   "cell_type": "code",
   "execution_count": 29,
   "id": "37af1224",
   "metadata": {},
   "outputs": [
    {
     "data": {
      "text/html": [
       "<div>\n",
       "<style scoped>\n",
       "    .dataframe tbody tr th:only-of-type {\n",
       "        vertical-align: middle;\n",
       "    }\n",
       "\n",
       "    .dataframe tbody tr th {\n",
       "        vertical-align: top;\n",
       "    }\n",
       "\n",
       "    .dataframe thead th {\n",
       "        text-align: right;\n",
       "    }\n",
       "</style>\n",
       "<table border=\"1\" class=\"dataframe\">\n",
       "  <thead>\n",
       "    <tr style=\"text-align: right;\">\n",
       "      <th></th>\n",
       "      <th>children</th>\n",
       "      <th>days_employed</th>\n",
       "      <th>dob_years</th>\n",
       "      <th>education</th>\n",
       "      <th>education_id</th>\n",
       "      <th>family_status</th>\n",
       "      <th>family_status_id</th>\n",
       "      <th>gender</th>\n",
       "      <th>income_type</th>\n",
       "      <th>debt</th>\n",
       "      <th>total_income</th>\n",
       "      <th>purpose</th>\n",
       "      <th>total_income_category</th>\n",
       "      <th>purpose_category</th>\n",
       "      <th>income_status</th>\n",
       "    </tr>\n",
       "  </thead>\n",
       "  <tbody>\n",
       "    <tr>\n",
       "      <th>0</th>\n",
       "      <td>1</td>\n",
       "      <td>8437.673028</td>\n",
       "      <td>42</td>\n",
       "      <td>высшее</td>\n",
       "      <td>0</td>\n",
       "      <td>женат / замужем</td>\n",
       "      <td>0</td>\n",
       "      <td>F</td>\n",
       "      <td>сотрудник</td>\n",
       "      <td>0</td>\n",
       "      <td>253875</td>\n",
       "      <td>покупка жилья</td>\n",
       "      <td>B</td>\n",
       "      <td>операции с недвижимостью</td>\n",
       "      <td>Сверхвысокий уровень дохода</td>\n",
       "    </tr>\n",
       "    <tr>\n",
       "      <th>1</th>\n",
       "      <td>1</td>\n",
       "      <td>4024.803754</td>\n",
       "      <td>36</td>\n",
       "      <td>среднее</td>\n",
       "      <td>1</td>\n",
       "      <td>женат / замужем</td>\n",
       "      <td>0</td>\n",
       "      <td>F</td>\n",
       "      <td>сотрудник</td>\n",
       "      <td>0</td>\n",
       "      <td>112080</td>\n",
       "      <td>приобретение автомобиля</td>\n",
       "      <td>C</td>\n",
       "      <td>операции с автомобилем</td>\n",
       "      <td>Средний уровень дохода</td>\n",
       "    </tr>\n",
       "    <tr>\n",
       "      <th>2</th>\n",
       "      <td>0</td>\n",
       "      <td>5623.422610</td>\n",
       "      <td>33</td>\n",
       "      <td>среднее</td>\n",
       "      <td>1</td>\n",
       "      <td>женат / замужем</td>\n",
       "      <td>0</td>\n",
       "      <td>M</td>\n",
       "      <td>сотрудник</td>\n",
       "      <td>0</td>\n",
       "      <td>145885</td>\n",
       "      <td>покупка жилья</td>\n",
       "      <td>C</td>\n",
       "      <td>операции с недвижимостью</td>\n",
       "      <td>Высокий уровень дохода</td>\n",
       "    </tr>\n",
       "    <tr>\n",
       "      <th>3</th>\n",
       "      <td>3</td>\n",
       "      <td>4124.747207</td>\n",
       "      <td>32</td>\n",
       "      <td>среднее</td>\n",
       "      <td>1</td>\n",
       "      <td>женат / замужем</td>\n",
       "      <td>0</td>\n",
       "      <td>M</td>\n",
       "      <td>сотрудник</td>\n",
       "      <td>0</td>\n",
       "      <td>267628</td>\n",
       "      <td>дополнительное образование</td>\n",
       "      <td>B</td>\n",
       "      <td>получение образования</td>\n",
       "      <td>Сверхвысокий уровень дохода</td>\n",
       "    </tr>\n",
       "    <tr>\n",
       "      <th>4</th>\n",
       "      <td>0</td>\n",
       "      <td>340266.072047</td>\n",
       "      <td>53</td>\n",
       "      <td>среднее</td>\n",
       "      <td>1</td>\n",
       "      <td>гражданский брак</td>\n",
       "      <td>1</td>\n",
       "      <td>F</td>\n",
       "      <td>пенсионер</td>\n",
       "      <td>0</td>\n",
       "      <td>158616</td>\n",
       "      <td>сыграть свадьбу</td>\n",
       "      <td>C</td>\n",
       "      <td>проведение свадьбы</td>\n",
       "      <td>Высокий уровень дохода</td>\n",
       "    </tr>\n",
       "  </tbody>\n",
       "</table>\n",
       "</div>"
      ],
      "text/plain": [
       "   children  days_employed  dob_years education  education_id  \\\n",
       "0         1    8437.673028         42    высшее             0   \n",
       "1         1    4024.803754         36   среднее             1   \n",
       "2         0    5623.422610         33   среднее             1   \n",
       "3         3    4124.747207         32   среднее             1   \n",
       "4         0  340266.072047         53   среднее             1   \n",
       "\n",
       "      family_status  family_status_id gender income_type  debt  total_income  \\\n",
       "0   женат / замужем                 0      F   сотрудник     0        253875   \n",
       "1   женат / замужем                 0      F   сотрудник     0        112080   \n",
       "2   женат / замужем                 0      M   сотрудник     0        145885   \n",
       "3   женат / замужем                 0      M   сотрудник     0        267628   \n",
       "4  гражданский брак                 1      F   пенсионер     0        158616   \n",
       "\n",
       "                      purpose total_income_category          purpose_category  \\\n",
       "0               покупка жилья                     B  операции с недвижимостью   \n",
       "1     приобретение автомобиля                     C    операции с автомобилем   \n",
       "2               покупка жилья                     C  операции с недвижимостью   \n",
       "3  дополнительное образование                     B     получение образования   \n",
       "4             сыграть свадьбу                     C        проведение свадьбы   \n",
       "\n",
       "                 income_status  \n",
       "0  Сверхвысокий уровень дохода  \n",
       "1       Средний уровень дохода  \n",
       "2       Высокий уровень дохода  \n",
       "3  Сверхвысокий уровень дохода  \n",
       "4       Высокий уровень дохода  "
      ]
     },
     "execution_count": 29,
     "metadata": {},
     "output_type": "execute_result"
    }
   ],
   "source": [
    "data.head()"
   ]
  },
  {
   "cell_type": "code",
   "execution_count": 30,
   "id": "b2e80f21",
   "metadata": {},
   "outputs": [],
   "source": [
    "income_grouped = data.groupby('income_status')['debt'].sum() / data.groupby('income_status')['debt'].count()"
   ]
  },
  {
   "cell_type": "code",
   "execution_count": 31,
   "id": "c31ec0ba",
   "metadata": {},
   "outputs": [
    {
     "data": {
      "text/plain": [
       "income_status\n",
       "Сверхвысокий уровень дохода    0.071429\n",
       "Низкий уровень дохода          0.080068\n",
       "Высокий уровень дохода         0.085155\n",
       "Средний уровень дохода         0.088073\n",
       "Name: debt, dtype: float64"
      ]
     },
     "execution_count": 31,
     "metadata": {},
     "output_type": "execute_result"
    }
   ],
   "source": [
    "income_grouped.sort_values()"
   ]
  },
  {
   "cell_type": "code",
   "execution_count": 32,
   "id": "8d41ceee",
   "metadata": {},
   "outputs": [
    {
     "data": {
      "text/html": [
       "<div>\n",
       "<style scoped>\n",
       "    .dataframe tbody tr th:only-of-type {\n",
       "        vertical-align: middle;\n",
       "    }\n",
       "\n",
       "    .dataframe tbody tr th {\n",
       "        vertical-align: top;\n",
       "    }\n",
       "\n",
       "    .dataframe thead th {\n",
       "        text-align: right;\n",
       "    }\n",
       "</style>\n",
       "<table border=\"1\" class=\"dataframe\">\n",
       "  <thead>\n",
       "    <tr style=\"text-align: right;\">\n",
       "      <th></th>\n",
       "      <th>количество_заемщиков</th>\n",
       "      <th>число_должников</th>\n",
       "      <th>доля_должников</th>\n",
       "    </tr>\n",
       "    <tr>\n",
       "      <th>total_income_category</th>\n",
       "      <th></th>\n",
       "      <th></th>\n",
       "      <th></th>\n",
       "    </tr>\n",
       "  </thead>\n",
       "  <tbody>\n",
       "    <tr>\n",
       "      <th>A</th>\n",
       "      <td>25</td>\n",
       "      <td>2</td>\n",
       "      <td>0.080000</td>\n",
       "    </tr>\n",
       "    <tr>\n",
       "      <th>B</th>\n",
       "      <td>5014</td>\n",
       "      <td>354</td>\n",
       "      <td>0.070602</td>\n",
       "    </tr>\n",
       "    <tr>\n",
       "      <th>C</th>\n",
       "      <td>15921</td>\n",
       "      <td>1353</td>\n",
       "      <td>0.084982</td>\n",
       "    </tr>\n",
       "    <tr>\n",
       "      <th>D</th>\n",
       "      <td>349</td>\n",
       "      <td>21</td>\n",
       "      <td>0.060172</td>\n",
       "    </tr>\n",
       "    <tr>\n",
       "      <th>E</th>\n",
       "      <td>22</td>\n",
       "      <td>2</td>\n",
       "      <td>0.090909</td>\n",
       "    </tr>\n",
       "  </tbody>\n",
       "</table>\n",
       "</div>"
      ],
      "text/plain": [
       "                       количество_заемщиков  число_должников  доля_должников\n",
       "total_income_category                                                       \n",
       "A                                        25                2        0.080000\n",
       "B                                      5014              354        0.070602\n",
       "C                                     15921             1353        0.084982\n",
       "D                                       349               21        0.060172\n",
       "E                                        22                2        0.090909"
      ]
     },
     "execution_count": 32,
     "metadata": {},
     "output_type": "execute_result"
    }
   ],
   "source": [
    "income_grouped=data.groupby('total_income_category').agg({'debt':['count','sum', 'mean']}) \n",
    "income_grouped.columns = ['количество_заемщиков', 'число_должников', 'доля_должников']\n",
    "income_grouped"
   ]
  },
  {
   "cell_type": "markdown",
   "id": "74b2b172",
   "metadata": {
    "deletable": false,
    "id": "e8593def"
   },
   "source": [
    "**Вывод:** люди с категорией доходов D - являются наиболее рискованными заемщиками для банка, на них стоит уделить особое внимание\n",
    "люди с категорией доходов B и С  - являются надежными заемщиками\n",
    "люди с категорией доходов А и E - в данном исследовании показывают высокую надежность, однако исходных данных для полноценных выводов недостаточно, требуется дополнительное исследование"
   ]
  },
  {
   "cell_type": "markdown",
   "id": "f10136ee",
   "metadata": {
    "deletable": false,
    "editable": false,
    "id": "99ecbd1f"
   },
   "source": [
    "#### 3.4 Как разные цели кредита влияют на его возврат в срок?"
   ]
  },
  {
   "cell_type": "code",
   "execution_count": 33,
   "id": "8c9546e4",
   "metadata": {
    "deletable": false,
    "id": "2b687290"
   },
   "outputs": [
    {
     "data": {
      "text/html": [
       "<div>\n",
       "<style scoped>\n",
       "    .dataframe tbody tr th:only-of-type {\n",
       "        vertical-align: middle;\n",
       "    }\n",
       "\n",
       "    .dataframe tbody tr th {\n",
       "        vertical-align: top;\n",
       "    }\n",
       "\n",
       "    .dataframe thead th {\n",
       "        text-align: right;\n",
       "    }\n",
       "</style>\n",
       "<table border=\"1\" class=\"dataframe\">\n",
       "  <thead>\n",
       "    <tr style=\"text-align: right;\">\n",
       "      <th></th>\n",
       "      <th>количество_заемщиков</th>\n",
       "      <th>число_должников</th>\n",
       "      <th>доля_должников</th>\n",
       "    </tr>\n",
       "    <tr>\n",
       "      <th>purpose_category</th>\n",
       "      <th></th>\n",
       "      <th></th>\n",
       "      <th></th>\n",
       "    </tr>\n",
       "  </thead>\n",
       "  <tbody>\n",
       "    <tr>\n",
       "      <th>операции с автомобилем</th>\n",
       "      <td>4279</td>\n",
       "      <td>400</td>\n",
       "      <td>0.093480</td>\n",
       "    </tr>\n",
       "    <tr>\n",
       "      <th>операции с недвижимостью</th>\n",
       "      <td>10751</td>\n",
       "      <td>780</td>\n",
       "      <td>0.072551</td>\n",
       "    </tr>\n",
       "    <tr>\n",
       "      <th>получение образования</th>\n",
       "      <td>3988</td>\n",
       "      <td>369</td>\n",
       "      <td>0.092528</td>\n",
       "    </tr>\n",
       "    <tr>\n",
       "      <th>проведение свадьбы</th>\n",
       "      <td>2313</td>\n",
       "      <td>183</td>\n",
       "      <td>0.079118</td>\n",
       "    </tr>\n",
       "  </tbody>\n",
       "</table>\n",
       "</div>"
      ],
      "text/plain": [
       "                          количество_заемщиков  число_должников  \\\n",
       "purpose_category                                                  \n",
       "операции с автомобилем                    4279              400   \n",
       "операции с недвижимостью                 10751              780   \n",
       "получение образования                     3988              369   \n",
       "проведение свадьбы                        2313              183   \n",
       "\n",
       "                          доля_должников  \n",
       "purpose_category                          \n",
       "операции с автомобилем          0.093480  \n",
       "операции с недвижимостью        0.072551  \n",
       "получение образования           0.092528  \n",
       "проведение свадьбы              0.079118  "
      ]
     },
     "execution_count": 33,
     "metadata": {},
     "output_type": "execute_result"
    }
   ],
   "source": [
    "#аналогично сгруппируем цели кредита и сосчитаем долю просрочек\n",
    "purpose_grouped=data.groupby('purpose_category').agg({'debt':['count','sum', 'mean']}) \n",
    "purpose_grouped.columns = ['количество_заемщиков', 'число_должников', 'доля_должников']\n",
    "purpose_grouped"
   ]
  },
  {
   "cell_type": "markdown",
   "id": "a6a140fb",
   "metadata": {
    "deletable": false,
    "id": "b4bb2ce6"
   },
   "source": [
    "**Вывод:** -меньше всего просрочек у целей кредита на личные цели и связанные с жильем, скорее всего с этими целями заемщики более ответственны и принимают решение взять кредит более осознанно\n",
    "-больше всего просрочек у целей связанных с покупкой автомобиля и получением высшего образования, возможно решение взять кредит на покупку автомобиля и на получение высшего образования связано с причинами статуса, нежели с какими-то более рациональными соображениями, а значит, решение более импульсивное и менее продуманное, следовательно с большей вероятностью не оценены риски заемщиком и больше вероятность невозврата"
   ]
  },
  {
   "cell_type": "markdown",
   "id": "52d80b92",
   "metadata": {
    "deletable": false,
    "editable": false,
    "id": "09c3ac4c"
   },
   "source": [
    "#### 3.5 Приведите возможные причины появления пропусков в исходных данных."
   ]
  },
  {
   "cell_type": "markdown",
   "id": "366199a7",
   "metadata": {
    "deletable": false,
    "id": "9da2ceda"
   },
   "source": [
    "*Ответ:* Возможными причинами повяления пропусков в исходных данных могут являться:\n",
    "человеческий фактор:\n",
    "-намеренные пропуски данных\n",
    "-случайные пропуски при вводе данных (например, из-за ошибки)\n",
    "по техническим причинам:\n",
    "-ошибки при конвертации файла в другой формат\n",
    "-сбои в работе сервера\n",
    "отсутствуют случайно:\n",
    "-из-за взаимосвязи с другими данными (например, на приеме терапевта у пожилых людей почти всегда измеряют давление, а у молодых — нет. Потому пропуски в графе «давление» чаще встречаются у молодых)"
   ]
  },
  {
   "cell_type": "markdown",
   "id": "afc7db4a",
   "metadata": {
    "deletable": false,
    "editable": false,
    "id": "7b0487d6"
   },
   "source": [
    "#### 3.6 Объясните, почему заполнить пропуски медианным значением — лучшее решение для количественных переменных."
   ]
  },
  {
   "cell_type": "markdown",
   "id": "912bb3a0",
   "metadata": {
    "deletable": false,
    "id": "7ecf2b8e"
   },
   "source": [
    "*Ответ:* В количественных переменных пропуски лучше заполнять медианным значением, так как в количественных переменных очень часто присутствуют выбросы значений (значения сильно отклоняющиеся от общего набора данных).\n",
    "Среднее значение некорректно характеризует данные, когда некоторые значения сильно выделяются среди большинства.\n",
    "Медиана же — это такое число в выборке, что ровно половина элементов больше него, а другая половина — меньше, соответственно, выбросы на нее оказывают меньшее влияние."
   ]
  },
  {
   "cell_type": "markdown",
   "id": "7f320ec9",
   "metadata": {
    "deletable": false,
    "editable": false,
    "id": "6db5255a"
   },
   "source": [
    "### Шаг 4: общий вывод."
   ]
  },
  {
   "cell_type": "markdown",
   "id": "00b7cc6c",
   "metadata": {
    "deletable": false,
    "id": "bad65432"
   },
   "source": []
  },
  {
   "cell_type": "markdown",
   "id": "cb568796",
   "metadata": {},
   "source": [
    "Банку при принятии решения о выдачи кредита следует уделить особое внимание (по причине повышенного риска невозврата) на следующие категории заемщиков:\n",
    "-заемщиков без детей\n",
    "-не состоящих в браке\n",
    "-с категорией доходов D\n",
    "-с целями кредита: на \"операции с автомобилями\" и \"на получение образования\""
   ]
  }
 ],
 "metadata": {
  "ExecuteTimeLog": [
   {
    "duration": 58,
    "start_time": "2022-10-25T17:17:42.084Z"
   },
   {
    "duration": 14,
    "start_time": "2022-10-25T17:17:42.145Z"
   },
   {
    "duration": 18,
    "start_time": "2022-10-25T17:17:42.160Z"
   },
   {
    "duration": 8,
    "start_time": "2022-10-25T17:17:42.180Z"
   },
   {
    "duration": 52,
    "start_time": "2022-10-25T17:17:42.189Z"
   },
   {
    "duration": 3,
    "start_time": "2022-10-25T17:17:42.243Z"
   },
   {
    "duration": 13,
    "start_time": "2022-10-25T17:17:42.248Z"
   },
   {
    "duration": 4,
    "start_time": "2022-10-25T17:17:42.263Z"
   },
   {
    "duration": 7,
    "start_time": "2022-10-25T17:17:42.269Z"
   },
   {
    "duration": 38,
    "start_time": "2022-10-25T17:17:42.278Z"
   },
   {
    "duration": 40,
    "start_time": "2022-10-25T17:17:42.318Z"
   },
   {
    "duration": 64,
    "start_time": "2022-10-25T17:17:42.359Z"
   },
   {
    "duration": 4,
    "start_time": "2022-10-25T17:17:42.426Z"
   },
   {
    "duration": 15,
    "start_time": "2022-10-25T17:17:42.432Z"
   },
   {
    "duration": 51,
    "start_time": "2022-10-25T17:17:42.449Z"
   },
   {
    "duration": 24,
    "start_time": "2022-10-25T17:17:42.502Z"
   },
   {
    "duration": 4,
    "start_time": "2022-10-25T17:17:42.530Z"
   },
   {
    "duration": 21,
    "start_time": "2022-10-25T17:17:42.536Z"
   },
   {
    "duration": 7,
    "start_time": "2022-10-25T17:17:42.560Z"
   },
   {
    "duration": 11,
    "start_time": "2022-10-25T17:17:42.569Z"
   },
   {
    "duration": 15,
    "start_time": "2022-10-25T17:17:42.582Z"
   },
   {
    "duration": 10,
    "start_time": "2022-10-25T17:17:42.599Z"
   },
   {
    "duration": 10,
    "start_time": "2022-10-25T17:17:42.611Z"
   },
   {
    "duration": 11,
    "start_time": "2022-10-25T17:17:42.623Z"
   },
   {
    "duration": 11,
    "start_time": "2022-10-25T17:17:42.635Z"
   },
   {
    "duration": 6,
    "start_time": "2022-10-25T18:23:23.622Z"
   },
   {
    "duration": 10,
    "start_time": "2022-10-25T18:23:37.822Z"
   },
   {
    "duration": 14,
    "start_time": "2022-10-25T18:26:29.109Z"
   },
   {
    "duration": 72,
    "start_time": "2022-10-25T18:29:35.950Z"
   },
   {
    "duration": 7,
    "start_time": "2022-10-25T18:29:47.768Z"
   },
   {
    "duration": 7,
    "start_time": "2022-10-25T18:30:09.750Z"
   },
   {
    "duration": 17,
    "start_time": "2022-10-25T18:54:48.806Z"
   },
   {
    "duration": 12,
    "start_time": "2022-10-25T18:55:24.542Z"
   },
   {
    "duration": 16,
    "start_time": "2022-10-25T19:18:07.511Z"
   },
   {
    "duration": 16,
    "start_time": "2022-10-25T19:25:58.922Z"
   },
   {
    "duration": 6,
    "start_time": "2022-10-25T19:26:56.590Z"
   },
   {
    "duration": 8,
    "start_time": "2022-10-25T19:36:49.774Z"
   },
   {
    "duration": 142,
    "start_time": "2022-10-25T19:37:14.734Z"
   },
   {
    "duration": 9,
    "start_time": "2022-10-25T19:38:29.493Z"
   },
   {
    "duration": 129,
    "start_time": "2022-10-25T19:39:04.935Z"
   },
   {
    "duration": 117,
    "start_time": "2022-10-25T19:40:23.435Z"
   },
   {
    "duration": 12,
    "start_time": "2022-10-25T19:47:24.492Z"
   },
   {
    "duration": 7,
    "start_time": "2022-10-25T20:40:52.888Z"
   },
   {
    "duration": 12,
    "start_time": "2022-10-25T20:49:53.496Z"
   },
   {
    "duration": 14,
    "start_time": "2022-10-25T20:51:34.882Z"
   },
   {
    "duration": 11,
    "start_time": "2022-10-25T20:55:02.476Z"
   },
   {
    "duration": 7,
    "start_time": "2022-10-25T20:58:18.023Z"
   },
   {
    "duration": 3,
    "start_time": "2022-10-25T20:59:51.936Z"
   },
   {
    "duration": 164,
    "start_time": "2022-10-25T20:59:55.855Z"
   },
   {
    "duration": 4,
    "start_time": "2022-10-25T21:03:32.555Z"
   },
   {
    "duration": 9,
    "start_time": "2022-10-25T21:03:36.299Z"
   },
   {
    "duration": 13,
    "start_time": "2022-10-25T21:03:52.131Z"
   },
   {
    "duration": 13,
    "start_time": "2022-10-25T21:04:00.435Z"
   },
   {
    "duration": 5,
    "start_time": "2022-10-25T21:04:04.275Z"
   },
   {
    "duration": 42,
    "start_time": "2022-10-26T09:02:00.466Z"
   },
   {
    "duration": 617,
    "start_time": "2022-10-26T09:02:04.946Z"
   },
   {
    "duration": 20,
    "start_time": "2022-10-26T09:02:05.564Z"
   },
   {
    "duration": 20,
    "start_time": "2022-10-26T09:02:05.586Z"
   },
   {
    "duration": 10,
    "start_time": "2022-10-26T09:02:05.607Z"
   },
   {
    "duration": 49,
    "start_time": "2022-10-26T09:02:05.619Z"
   },
   {
    "duration": 3,
    "start_time": "2022-10-26T09:02:05.670Z"
   },
   {
    "duration": 11,
    "start_time": "2022-10-26T09:02:05.674Z"
   },
   {
    "duration": 11,
    "start_time": "2022-10-26T09:02:05.687Z"
   },
   {
    "duration": 10,
    "start_time": "2022-10-26T09:02:05.700Z"
   },
   {
    "duration": 4,
    "start_time": "2022-10-26T09:02:05.711Z"
   },
   {
    "duration": 38,
    "start_time": "2022-10-26T09:02:05.716Z"
   },
   {
    "duration": 8,
    "start_time": "2022-10-26T09:02:05.756Z"
   },
   {
    "duration": 4,
    "start_time": "2022-10-26T09:02:05.766Z"
   },
   {
    "duration": 19,
    "start_time": "2022-10-26T09:02:05.773Z"
   },
   {
    "duration": 21,
    "start_time": "2022-10-26T09:02:05.794Z"
   },
   {
    "duration": 15,
    "start_time": "2022-10-26T09:02:05.817Z"
   },
   {
    "duration": 3,
    "start_time": "2022-10-26T09:02:05.833Z"
   },
   {
    "duration": 18,
    "start_time": "2022-10-26T09:02:05.838Z"
   },
   {
    "duration": 12,
    "start_time": "2022-10-26T09:02:05.858Z"
   },
   {
    "duration": 11,
    "start_time": "2022-10-26T09:02:05.871Z"
   },
   {
    "duration": 16,
    "start_time": "2022-10-26T09:02:05.884Z"
   },
   {
    "duration": 10,
    "start_time": "2022-10-26T09:02:05.902Z"
   },
   {
    "duration": 5,
    "start_time": "2022-10-26T09:02:05.914Z"
   },
   {
    "duration": 21,
    "start_time": "2022-10-26T09:02:05.921Z"
   },
   {
    "duration": 6,
    "start_time": "2022-10-26T09:02:05.943Z"
   },
   {
    "duration": 6,
    "start_time": "2022-10-26T09:02:05.950Z"
   },
   {
    "duration": 11,
    "start_time": "2022-10-26T09:02:05.957Z"
   },
   {
    "duration": 31,
    "start_time": "2022-10-26T09:02:05.970Z"
   },
   {
    "duration": 26,
    "start_time": "2022-10-26T09:02:06.003Z"
   },
   {
    "duration": 11,
    "start_time": "2022-10-26T09:02:06.030Z"
   },
   {
    "duration": 14,
    "start_time": "2022-10-26T09:02:06.042Z"
   },
   {
    "duration": 4,
    "start_time": "2022-10-26T09:02:06.058Z"
   },
   {
    "duration": 5,
    "start_time": "2022-10-26T09:02:08.594Z"
   },
   {
    "duration": 52,
    "start_time": "2022-10-27T17:43:23.482Z"
   },
   {
    "duration": 757,
    "start_time": "2022-10-27T17:44:23.384Z"
   },
   {
    "duration": 26,
    "start_time": "2022-10-27T17:44:24.143Z"
   },
   {
    "duration": 18,
    "start_time": "2022-10-27T17:44:24.171Z"
   },
   {
    "duration": 18,
    "start_time": "2022-10-27T17:44:24.192Z"
   },
   {
    "duration": 40,
    "start_time": "2022-10-27T17:44:24.212Z"
   },
   {
    "duration": 4,
    "start_time": "2022-10-27T17:44:24.253Z"
   },
   {
    "duration": 11,
    "start_time": "2022-10-27T17:44:24.258Z"
   },
   {
    "duration": 7,
    "start_time": "2022-10-27T17:44:24.270Z"
   },
   {
    "duration": 9,
    "start_time": "2022-10-27T17:44:24.279Z"
   },
   {
    "duration": 5,
    "start_time": "2022-10-27T17:44:24.310Z"
   },
   {
    "duration": 36,
    "start_time": "2022-10-27T17:44:24.317Z"
   },
   {
    "duration": 9,
    "start_time": "2022-10-27T17:44:24.355Z"
   },
   {
    "duration": 7,
    "start_time": "2022-10-27T17:44:24.366Z"
   },
   {
    "duration": 18,
    "start_time": "2022-10-27T17:44:24.374Z"
   },
   {
    "duration": 22,
    "start_time": "2022-10-27T17:44:24.408Z"
   },
   {
    "duration": 18,
    "start_time": "2022-10-27T17:44:24.432Z"
   },
   {
    "duration": 5,
    "start_time": "2022-10-27T17:44:24.451Z"
   },
   {
    "duration": 16,
    "start_time": "2022-10-27T17:44:24.457Z"
   },
   {
    "duration": 10,
    "start_time": "2022-10-27T17:44:24.474Z"
   },
   {
    "duration": 3,
    "start_time": "2022-10-27T17:44:24.508Z"
   },
   {
    "duration": 12,
    "start_time": "2022-10-27T17:44:24.513Z"
   },
   {
    "duration": 12,
    "start_time": "2022-10-27T17:44:24.526Z"
   },
   {
    "duration": 7,
    "start_time": "2022-10-27T17:44:24.540Z"
   },
   {
    "duration": 21,
    "start_time": "2022-10-27T17:44:24.548Z"
   },
   {
    "duration": 6,
    "start_time": "2022-10-27T17:44:24.570Z"
   },
   {
    "duration": 9,
    "start_time": "2022-10-27T17:44:24.578Z"
   },
   {
    "duration": 27,
    "start_time": "2022-10-27T17:44:24.588Z"
   },
   {
    "duration": 14,
    "start_time": "2022-10-27T17:44:24.619Z"
   },
   {
    "duration": 14,
    "start_time": "2022-10-27T17:44:24.635Z"
   },
   {
    "duration": 6,
    "start_time": "2022-10-27T17:44:24.650Z"
   },
   {
    "duration": 16,
    "start_time": "2022-10-27T17:44:24.658Z"
   },
   {
    "duration": 5,
    "start_time": "2022-10-27T17:44:24.675Z"
   },
   {
    "duration": 3,
    "start_time": "2022-10-27T17:48:18.037Z"
   },
   {
    "duration": 3,
    "start_time": "2022-10-27T17:48:24.213Z"
   },
   {
    "duration": 44,
    "start_time": "2022-10-27T17:48:48.693Z"
   },
   {
    "duration": 9,
    "start_time": "2022-10-27T17:49:14.028Z"
   },
   {
    "duration": 13,
    "start_time": "2022-10-27T17:49:29.725Z"
   },
   {
    "duration": 40,
    "start_time": "2022-10-27T17:51:42.786Z"
   },
   {
    "duration": 4,
    "start_time": "2022-10-27T17:53:42.423Z"
   },
   {
    "duration": 3,
    "start_time": "2022-10-27T17:53:47.035Z"
   },
   {
    "duration": 8,
    "start_time": "2022-10-27T17:53:59.816Z"
   },
   {
    "duration": 10,
    "start_time": "2022-10-27T17:55:05.973Z"
   },
   {
    "duration": 17,
    "start_time": "2022-10-27T17:58:44.324Z"
   },
   {
    "duration": 16,
    "start_time": "2022-10-27T18:00:13.272Z"
   },
   {
    "duration": 18,
    "start_time": "2022-10-27T18:04:50.045Z"
   },
   {
    "duration": 13,
    "start_time": "2022-10-27T18:06:01.356Z"
   },
   {
    "duration": 12,
    "start_time": "2022-10-27T18:09:22.272Z"
   },
   {
    "duration": 8,
    "start_time": "2022-10-27T18:13:10.501Z"
   },
   {
    "duration": 12,
    "start_time": "2022-10-27T18:13:50.943Z"
   },
   {
    "duration": 13,
    "start_time": "2022-10-27T18:14:18.684Z"
   },
   {
    "duration": 86,
    "start_time": "2022-10-27T18:23:39.027Z"
   },
   {
    "duration": 13,
    "start_time": "2022-10-27T18:23:58.827Z"
   },
   {
    "duration": 50,
    "start_time": "2023-10-11T12:55:30.826Z"
   },
   {
    "duration": 696,
    "start_time": "2023-10-11T12:55:38.648Z"
   },
   {
    "duration": 553,
    "start_time": "2023-10-11T12:55:39.346Z"
   },
   {
    "duration": 24,
    "start_time": "2023-10-11T12:55:39.901Z"
   },
   {
    "duration": 43,
    "start_time": "2023-10-11T12:55:39.928Z"
   },
   {
    "duration": 13,
    "start_time": "2023-10-11T12:55:39.973Z"
   },
   {
    "duration": 42,
    "start_time": "2023-10-11T12:55:39.987Z"
   },
   {
    "duration": 4,
    "start_time": "2023-10-11T12:55:40.031Z"
   },
   {
    "duration": 30,
    "start_time": "2023-10-11T12:55:40.044Z"
   },
   {
    "duration": 27,
    "start_time": "2023-10-11T12:55:40.076Z"
   },
   {
    "duration": 21,
    "start_time": "2023-10-11T12:55:40.107Z"
   },
   {
    "duration": 11,
    "start_time": "2023-10-11T12:55:40.130Z"
   },
   {
    "duration": 59,
    "start_time": "2023-10-11T12:55:40.143Z"
   },
   {
    "duration": 11,
    "start_time": "2023-10-11T12:55:40.204Z"
   },
   {
    "duration": 22,
    "start_time": "2023-10-11T12:55:40.216Z"
   },
   {
    "duration": 21,
    "start_time": "2023-10-11T12:55:40.240Z"
   },
   {
    "duration": 32,
    "start_time": "2023-10-11T12:55:40.262Z"
   },
   {
    "duration": 19,
    "start_time": "2023-10-11T12:55:40.297Z"
   },
   {
    "duration": 8,
    "start_time": "2023-10-11T12:55:40.317Z"
   },
   {
    "duration": 34,
    "start_time": "2023-10-11T12:55:40.327Z"
   },
   {
    "duration": 13,
    "start_time": "2023-10-11T12:55:40.363Z"
   },
   {
    "duration": 9,
    "start_time": "2023-10-11T12:55:40.378Z"
   },
   {
    "duration": 31,
    "start_time": "2023-10-11T12:55:40.389Z"
   },
   {
    "duration": 32,
    "start_time": "2023-10-11T12:55:40.422Z"
   },
   {
    "duration": 19,
    "start_time": "2023-10-11T12:55:40.456Z"
   },
   {
    "duration": 22,
    "start_time": "2023-10-11T12:55:40.477Z"
   },
   {
    "duration": 11,
    "start_time": "2023-10-11T12:55:40.501Z"
   },
   {
    "duration": 15,
    "start_time": "2023-10-11T12:55:40.514Z"
   },
   {
    "duration": 35,
    "start_time": "2023-10-11T12:55:40.533Z"
   },
   {
    "duration": 37,
    "start_time": "2023-10-11T12:55:40.570Z"
   },
   {
    "duration": 16,
    "start_time": "2023-10-11T12:55:40.608Z"
   },
   {
    "duration": 15,
    "start_time": "2023-10-11T12:55:40.625Z"
   },
   {
    "duration": 41,
    "start_time": "2023-10-11T12:55:40.642Z"
   },
   {
    "duration": 24,
    "start_time": "2023-10-11T12:55:40.685Z"
   }
  ],
  "colab": {
   "name": "dpp_template_part2.ipynb",
   "provenance": []
  },
  "kernelspec": {
   "display_name": "Python 3 (ipykernel)",
   "language": "python",
   "name": "python3"
  },
  "language_info": {
   "codemirror_mode": {
    "name": "ipython",
    "version": 3
   },
   "file_extension": ".py",
   "mimetype": "text/x-python",
   "name": "python",
   "nbconvert_exporter": "python",
   "pygments_lexer": "ipython3",
   "version": "3.11.5"
  },
  "toc": {
   "base_numbering": 1,
   "nav_menu": {},
   "number_sections": true,
   "sideBar": true,
   "skip_h1_title": true,
   "title_cell": "Table of Contents",
   "title_sidebar": "Contents",
   "toc_cell": false,
   "toc_position": {},
   "toc_section_display": true,
   "toc_window_display": false
  }
 },
 "nbformat": 4,
 "nbformat_minor": 5
}

