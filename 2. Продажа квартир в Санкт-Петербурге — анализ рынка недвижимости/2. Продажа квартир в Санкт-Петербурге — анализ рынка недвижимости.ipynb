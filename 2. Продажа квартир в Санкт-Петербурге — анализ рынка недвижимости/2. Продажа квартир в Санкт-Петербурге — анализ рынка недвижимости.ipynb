{
 "cells": [
  {
   "cell_type": "markdown",
   "metadata": {},
   "source": [
    "# Исследование объявлений о продаже квартир\n",
    "\n",
    "В вашем распоряжении данные сервиса Яндекс.Недвижимость — архив объявлений о продаже квартир в Санкт-Петербурге и соседних населённых пунктов за несколько лет. Нужно научиться определять рыночную стоимость объектов недвижимости. Ваша задача — установить параметры. Это позволит построить автоматизированную систему: она отследит аномалии и мошенническую деятельность. \n",
    "\n",
    "По каждой квартире на продажу доступны два вида данных. Первые вписаны пользователем, вторые — получены автоматически на основе картографических данных. Например, расстояние до центра, аэропорта, ближайшего парка и водоёма. "
   ]
  },
  {
   "cell_type": "markdown",
   "metadata": {},
   "source": [
    "### Откройте файл с данными и изучите общую информацию. "
   ]
  },
  {
   "cell_type": "code",
   "execution_count": 1,
   "metadata": {},
   "outputs": [
    {
     "name": "stdout",
     "output_type": "stream",
     "text": [
      "<class 'pandas.core.frame.DataFrame'>\n",
      "RangeIndex: 23699 entries, 0 to 23698\n",
      "Data columns (total 22 columns):\n",
      " #   Column                Non-Null Count  Dtype  \n",
      "---  ------                --------------  -----  \n",
      " 0   total_images          23699 non-null  int64  \n",
      " 1   last_price            23699 non-null  float64\n",
      " 2   total_area            23699 non-null  float64\n",
      " 3   first_day_exposition  23699 non-null  object \n",
      " 4   rooms                 23699 non-null  int64  \n",
      " 5   ceiling_height        14504 non-null  float64\n",
      " 6   floors_total          23613 non-null  float64\n",
      " 7   living_area           21796 non-null  float64\n",
      " 8   floor                 23699 non-null  int64  \n",
      " 9   is_apartment          2775 non-null   object \n",
      " 10  studio                23699 non-null  bool   \n",
      " 11  open_plan             23699 non-null  bool   \n",
      " 12  kitchen_area          21421 non-null  float64\n",
      " 13  balcony               12180 non-null  float64\n",
      " 14  locality_name         23650 non-null  object \n",
      " 15  airports_nearest      18157 non-null  float64\n",
      " 16  cityCenters_nearest   18180 non-null  float64\n",
      " 17  parks_around3000      18181 non-null  float64\n",
      " 18  parks_nearest         8079 non-null   float64\n",
      " 19  ponds_around3000      18181 non-null  float64\n",
      " 20  ponds_nearest         9110 non-null   float64\n",
      " 21  days_exposition       20518 non-null  float64\n",
      "dtypes: bool(2), float64(14), int64(3), object(3)\n",
      "memory usage: 3.7+ MB\n"
     ]
    }
   ],
   "source": [
    "import pandas as pd\n",
    "import matplotlib.pyplot as plt\n",
    "data = pd.read_csv('/datasets/real_estate_data.csv', sep='\\t')\n",
    "#откроем нужные библиотеки и посмотрем на инфо о датафрейме\n",
    "data.info()"
   ]
  },
  {
   "cell_type": "markdown",
   "metadata": {},
   "source": [
    "is_apartment - должен быть тип bool\n",
    "floors_total - должен быть тип int\n",
    "days_exposition - тип должен быть int\n",
    "parks_around3000 - тип должен быть int\n",
    "ponds_around3000 - тип должен быть int\n",
    "days_exposition - тип должен быть int\n",
    "first_day_exposition - object - должен быть тип datetime"
   ]
  },
  {
   "cell_type": "code",
   "execution_count": 2,
   "metadata": {},
   "outputs": [
    {
     "data": {
      "text/html": [
       "<div>\n",
       "<style scoped>\n",
       "    .dataframe tbody tr th:only-of-type {\n",
       "        vertical-align: middle;\n",
       "    }\n",
       "\n",
       "    .dataframe tbody tr th {\n",
       "        vertical-align: top;\n",
       "    }\n",
       "\n",
       "    .dataframe thead th {\n",
       "        text-align: right;\n",
       "    }\n",
       "</style>\n",
       "<table border=\"1\" class=\"dataframe\">\n",
       "  <thead>\n",
       "    <tr style=\"text-align: right;\">\n",
       "      <th></th>\n",
       "      <th>total_images</th>\n",
       "      <th>last_price</th>\n",
       "      <th>total_area</th>\n",
       "      <th>first_day_exposition</th>\n",
       "      <th>rooms</th>\n",
       "      <th>ceiling_height</th>\n",
       "      <th>floors_total</th>\n",
       "      <th>living_area</th>\n",
       "      <th>floor</th>\n",
       "      <th>is_apartment</th>\n",
       "      <th>...</th>\n",
       "      <th>kitchen_area</th>\n",
       "      <th>balcony</th>\n",
       "      <th>locality_name</th>\n",
       "      <th>airports_nearest</th>\n",
       "      <th>cityCenters_nearest</th>\n",
       "      <th>parks_around3000</th>\n",
       "      <th>parks_nearest</th>\n",
       "      <th>ponds_around3000</th>\n",
       "      <th>ponds_nearest</th>\n",
       "      <th>days_exposition</th>\n",
       "    </tr>\n",
       "  </thead>\n",
       "  <tbody>\n",
       "    <tr>\n",
       "      <th>0</th>\n",
       "      <td>20</td>\n",
       "      <td>13000000.0</td>\n",
       "      <td>108.00</td>\n",
       "      <td>2019-03-07T00:00:00</td>\n",
       "      <td>3</td>\n",
       "      <td>2.70</td>\n",
       "      <td>16.0</td>\n",
       "      <td>51.00</td>\n",
       "      <td>8</td>\n",
       "      <td>NaN</td>\n",
       "      <td>...</td>\n",
       "      <td>25.00</td>\n",
       "      <td>NaN</td>\n",
       "      <td>Санкт-Петербург</td>\n",
       "      <td>18863.0</td>\n",
       "      <td>16028.0</td>\n",
       "      <td>1.0</td>\n",
       "      <td>482.0</td>\n",
       "      <td>2.0</td>\n",
       "      <td>755.0</td>\n",
       "      <td>NaN</td>\n",
       "    </tr>\n",
       "    <tr>\n",
       "      <th>1</th>\n",
       "      <td>7</td>\n",
       "      <td>3350000.0</td>\n",
       "      <td>40.40</td>\n",
       "      <td>2018-12-04T00:00:00</td>\n",
       "      <td>1</td>\n",
       "      <td>NaN</td>\n",
       "      <td>11.0</td>\n",
       "      <td>18.60</td>\n",
       "      <td>1</td>\n",
       "      <td>NaN</td>\n",
       "      <td>...</td>\n",
       "      <td>11.00</td>\n",
       "      <td>2.0</td>\n",
       "      <td>посёлок Шушары</td>\n",
       "      <td>12817.0</td>\n",
       "      <td>18603.0</td>\n",
       "      <td>0.0</td>\n",
       "      <td>NaN</td>\n",
       "      <td>0.0</td>\n",
       "      <td>NaN</td>\n",
       "      <td>81.0</td>\n",
       "    </tr>\n",
       "    <tr>\n",
       "      <th>2</th>\n",
       "      <td>10</td>\n",
       "      <td>5196000.0</td>\n",
       "      <td>56.00</td>\n",
       "      <td>2015-08-20T00:00:00</td>\n",
       "      <td>2</td>\n",
       "      <td>NaN</td>\n",
       "      <td>5.0</td>\n",
       "      <td>34.30</td>\n",
       "      <td>4</td>\n",
       "      <td>NaN</td>\n",
       "      <td>...</td>\n",
       "      <td>8.30</td>\n",
       "      <td>0.0</td>\n",
       "      <td>Санкт-Петербург</td>\n",
       "      <td>21741.0</td>\n",
       "      <td>13933.0</td>\n",
       "      <td>1.0</td>\n",
       "      <td>90.0</td>\n",
       "      <td>2.0</td>\n",
       "      <td>574.0</td>\n",
       "      <td>558.0</td>\n",
       "    </tr>\n",
       "    <tr>\n",
       "      <th>3</th>\n",
       "      <td>0</td>\n",
       "      <td>64900000.0</td>\n",
       "      <td>159.00</td>\n",
       "      <td>2015-07-24T00:00:00</td>\n",
       "      <td>3</td>\n",
       "      <td>NaN</td>\n",
       "      <td>14.0</td>\n",
       "      <td>NaN</td>\n",
       "      <td>9</td>\n",
       "      <td>NaN</td>\n",
       "      <td>...</td>\n",
       "      <td>NaN</td>\n",
       "      <td>0.0</td>\n",
       "      <td>Санкт-Петербург</td>\n",
       "      <td>28098.0</td>\n",
       "      <td>6800.0</td>\n",
       "      <td>2.0</td>\n",
       "      <td>84.0</td>\n",
       "      <td>3.0</td>\n",
       "      <td>234.0</td>\n",
       "      <td>424.0</td>\n",
       "    </tr>\n",
       "    <tr>\n",
       "      <th>4</th>\n",
       "      <td>2</td>\n",
       "      <td>10000000.0</td>\n",
       "      <td>100.00</td>\n",
       "      <td>2018-06-19T00:00:00</td>\n",
       "      <td>2</td>\n",
       "      <td>3.03</td>\n",
       "      <td>14.0</td>\n",
       "      <td>32.00</td>\n",
       "      <td>13</td>\n",
       "      <td>NaN</td>\n",
       "      <td>...</td>\n",
       "      <td>41.00</td>\n",
       "      <td>NaN</td>\n",
       "      <td>Санкт-Петербург</td>\n",
       "      <td>31856.0</td>\n",
       "      <td>8098.0</td>\n",
       "      <td>2.0</td>\n",
       "      <td>112.0</td>\n",
       "      <td>1.0</td>\n",
       "      <td>48.0</td>\n",
       "      <td>121.0</td>\n",
       "    </tr>\n",
       "    <tr>\n",
       "      <th>5</th>\n",
       "      <td>10</td>\n",
       "      <td>2890000.0</td>\n",
       "      <td>30.40</td>\n",
       "      <td>2018-09-10T00:00:00</td>\n",
       "      <td>1</td>\n",
       "      <td>NaN</td>\n",
       "      <td>12.0</td>\n",
       "      <td>14.40</td>\n",
       "      <td>5</td>\n",
       "      <td>NaN</td>\n",
       "      <td>...</td>\n",
       "      <td>9.10</td>\n",
       "      <td>NaN</td>\n",
       "      <td>городской посёлок Янино-1</td>\n",
       "      <td>NaN</td>\n",
       "      <td>NaN</td>\n",
       "      <td>NaN</td>\n",
       "      <td>NaN</td>\n",
       "      <td>NaN</td>\n",
       "      <td>NaN</td>\n",
       "      <td>55.0</td>\n",
       "    </tr>\n",
       "    <tr>\n",
       "      <th>6</th>\n",
       "      <td>6</td>\n",
       "      <td>3700000.0</td>\n",
       "      <td>37.30</td>\n",
       "      <td>2017-11-02T00:00:00</td>\n",
       "      <td>1</td>\n",
       "      <td>NaN</td>\n",
       "      <td>26.0</td>\n",
       "      <td>10.60</td>\n",
       "      <td>6</td>\n",
       "      <td>NaN</td>\n",
       "      <td>...</td>\n",
       "      <td>14.40</td>\n",
       "      <td>1.0</td>\n",
       "      <td>посёлок Парголово</td>\n",
       "      <td>52996.0</td>\n",
       "      <td>19143.0</td>\n",
       "      <td>0.0</td>\n",
       "      <td>NaN</td>\n",
       "      <td>0.0</td>\n",
       "      <td>NaN</td>\n",
       "      <td>155.0</td>\n",
       "    </tr>\n",
       "    <tr>\n",
       "      <th>7</th>\n",
       "      <td>5</td>\n",
       "      <td>7915000.0</td>\n",
       "      <td>71.60</td>\n",
       "      <td>2019-04-18T00:00:00</td>\n",
       "      <td>2</td>\n",
       "      <td>NaN</td>\n",
       "      <td>24.0</td>\n",
       "      <td>NaN</td>\n",
       "      <td>22</td>\n",
       "      <td>NaN</td>\n",
       "      <td>...</td>\n",
       "      <td>18.90</td>\n",
       "      <td>2.0</td>\n",
       "      <td>Санкт-Петербург</td>\n",
       "      <td>23982.0</td>\n",
       "      <td>11634.0</td>\n",
       "      <td>0.0</td>\n",
       "      <td>NaN</td>\n",
       "      <td>0.0</td>\n",
       "      <td>NaN</td>\n",
       "      <td>NaN</td>\n",
       "    </tr>\n",
       "    <tr>\n",
       "      <th>8</th>\n",
       "      <td>20</td>\n",
       "      <td>2900000.0</td>\n",
       "      <td>33.16</td>\n",
       "      <td>2018-05-23T00:00:00</td>\n",
       "      <td>1</td>\n",
       "      <td>NaN</td>\n",
       "      <td>27.0</td>\n",
       "      <td>15.43</td>\n",
       "      <td>26</td>\n",
       "      <td>NaN</td>\n",
       "      <td>...</td>\n",
       "      <td>8.81</td>\n",
       "      <td>NaN</td>\n",
       "      <td>посёлок Мурино</td>\n",
       "      <td>NaN</td>\n",
       "      <td>NaN</td>\n",
       "      <td>NaN</td>\n",
       "      <td>NaN</td>\n",
       "      <td>NaN</td>\n",
       "      <td>NaN</td>\n",
       "      <td>189.0</td>\n",
       "    </tr>\n",
       "    <tr>\n",
       "      <th>9</th>\n",
       "      <td>18</td>\n",
       "      <td>5400000.0</td>\n",
       "      <td>61.00</td>\n",
       "      <td>2017-02-26T00:00:00</td>\n",
       "      <td>3</td>\n",
       "      <td>2.50</td>\n",
       "      <td>9.0</td>\n",
       "      <td>43.60</td>\n",
       "      <td>7</td>\n",
       "      <td>NaN</td>\n",
       "      <td>...</td>\n",
       "      <td>6.50</td>\n",
       "      <td>2.0</td>\n",
       "      <td>Санкт-Петербург</td>\n",
       "      <td>50898.0</td>\n",
       "      <td>15008.0</td>\n",
       "      <td>0.0</td>\n",
       "      <td>NaN</td>\n",
       "      <td>0.0</td>\n",
       "      <td>NaN</td>\n",
       "      <td>289.0</td>\n",
       "    </tr>\n",
       "  </tbody>\n",
       "</table>\n",
       "<p>10 rows × 22 columns</p>\n",
       "</div>"
      ],
      "text/plain": [
       "   total_images  last_price  total_area first_day_exposition  rooms  \\\n",
       "0            20  13000000.0      108.00  2019-03-07T00:00:00      3   \n",
       "1             7   3350000.0       40.40  2018-12-04T00:00:00      1   \n",
       "2            10   5196000.0       56.00  2015-08-20T00:00:00      2   \n",
       "3             0  64900000.0      159.00  2015-07-24T00:00:00      3   \n",
       "4             2  10000000.0      100.00  2018-06-19T00:00:00      2   \n",
       "5            10   2890000.0       30.40  2018-09-10T00:00:00      1   \n",
       "6             6   3700000.0       37.30  2017-11-02T00:00:00      1   \n",
       "7             5   7915000.0       71.60  2019-04-18T00:00:00      2   \n",
       "8            20   2900000.0       33.16  2018-05-23T00:00:00      1   \n",
       "9            18   5400000.0       61.00  2017-02-26T00:00:00      3   \n",
       "\n",
       "   ceiling_height  floors_total  living_area  floor is_apartment  ...  \\\n",
       "0            2.70          16.0        51.00      8          NaN  ...   \n",
       "1             NaN          11.0        18.60      1          NaN  ...   \n",
       "2             NaN           5.0        34.30      4          NaN  ...   \n",
       "3             NaN          14.0          NaN      9          NaN  ...   \n",
       "4            3.03          14.0        32.00     13          NaN  ...   \n",
       "5             NaN          12.0        14.40      5          NaN  ...   \n",
       "6             NaN          26.0        10.60      6          NaN  ...   \n",
       "7             NaN          24.0          NaN     22          NaN  ...   \n",
       "8             NaN          27.0        15.43     26          NaN  ...   \n",
       "9            2.50           9.0        43.60      7          NaN  ...   \n",
       "\n",
       "   kitchen_area  balcony              locality_name  airports_nearest  \\\n",
       "0         25.00      NaN            Санкт-Петербург           18863.0   \n",
       "1         11.00      2.0             посёлок Шушары           12817.0   \n",
       "2          8.30      0.0            Санкт-Петербург           21741.0   \n",
       "3           NaN      0.0            Санкт-Петербург           28098.0   \n",
       "4         41.00      NaN            Санкт-Петербург           31856.0   \n",
       "5          9.10      NaN  городской посёлок Янино-1               NaN   \n",
       "6         14.40      1.0          посёлок Парголово           52996.0   \n",
       "7         18.90      2.0            Санкт-Петербург           23982.0   \n",
       "8          8.81      NaN             посёлок Мурино               NaN   \n",
       "9          6.50      2.0            Санкт-Петербург           50898.0   \n",
       "\n",
       "  cityCenters_nearest  parks_around3000  parks_nearest  ponds_around3000  \\\n",
       "0             16028.0               1.0          482.0               2.0   \n",
       "1             18603.0               0.0            NaN               0.0   \n",
       "2             13933.0               1.0           90.0               2.0   \n",
       "3              6800.0               2.0           84.0               3.0   \n",
       "4              8098.0               2.0          112.0               1.0   \n",
       "5                 NaN               NaN            NaN               NaN   \n",
       "6             19143.0               0.0            NaN               0.0   \n",
       "7             11634.0               0.0            NaN               0.0   \n",
       "8                 NaN               NaN            NaN               NaN   \n",
       "9             15008.0               0.0            NaN               0.0   \n",
       "\n",
       "   ponds_nearest  days_exposition  \n",
       "0          755.0              NaN  \n",
       "1            NaN             81.0  \n",
       "2          574.0            558.0  \n",
       "3          234.0            424.0  \n",
       "4           48.0            121.0  \n",
       "5            NaN             55.0  \n",
       "6            NaN            155.0  \n",
       "7            NaN              NaN  \n",
       "8            NaN            189.0  \n",
       "9            NaN            289.0  \n",
       "\n",
       "[10 rows x 22 columns]"
      ]
     },
     "execution_count": 2,
     "metadata": {},
     "output_type": "execute_result"
    }
   ],
   "source": [
    "#посмотрим на содержание таблицы\n",
    "data.head(10)"
   ]
  },
  {
   "cell_type": "markdown",
   "metadata": {},
   "source": [
    "Даже по первым 10 строкам датафрейма видно, что необходима предобработка данных\n",
    "Необходимо:\n",
    "-изменить тип данных\n",
    "-заполнить пропуски, где это необходимо"
   ]
  },
  {
   "cell_type": "code",
   "execution_count": 3,
   "metadata": {},
   "outputs": [
    {
     "data": {
      "text/plain": [
       "11519"
      ]
     },
     "execution_count": 3,
     "metadata": {},
     "output_type": "execute_result"
    }
   ],
   "source": [
    "#заполняем пропуски и меням типы данных\n",
    "data['balcony'].isnull().sum()"
   ]
  },
  {
   "cell_type": "code",
   "execution_count": 4,
   "metadata": {},
   "outputs": [
    {
     "data": {
      "text/plain": [
       "0"
      ]
     },
     "execution_count": 4,
     "metadata": {},
     "output_type": "execute_result"
    }
   ],
   "source": [
    "data['balcony']=data['balcony'].fillna(0) # заполняем пропуски где 0 - это отсутсвие балкона\n",
    "data['balcony']=data['balcony'].astype('int64') #меняем тип данных\n",
    "data['balcony'].isnull().sum()"
   ]
  },
  {
   "cell_type": "code",
   "execution_count": 5,
   "metadata": {},
   "outputs": [
    {
     "data": {
      "text/plain": [
       "20924"
      ]
     },
     "execution_count": 5,
     "metadata": {},
     "output_type": "execute_result"
    }
   ],
   "source": [
    "data['is_apartment'].isnull().sum()"
   ]
  },
  {
   "cell_type": "code",
   "execution_count": 6,
   "metadata": {},
   "outputs": [
    {
     "data": {
      "text/plain": [
       "0"
      ]
     },
     "execution_count": 6,
     "metadata": {},
     "output_type": "execute_result"
    }
   ],
   "source": [
    "data['is_apartment']=data['is_apartment'].fillna(0) #ставим 0 - это не аппартамент\n",
    "data['is_apartment'].isnull().sum()"
   ]
  },
  {
   "cell_type": "code",
   "execution_count": 7,
   "metadata": {},
   "outputs": [],
   "source": [
    "data['is_apartment']=data['is_apartment'].astype('bool') # переводим в булево значение (сам столбец это подразумевает)"
   ]
  },
  {
   "cell_type": "code",
   "execution_count": 8,
   "metadata": {},
   "outputs": [
    {
     "data": {
      "text/plain": [
       "0       2019-03-07\n",
       "1       2018-12-04\n",
       "2       2015-08-20\n",
       "3       2015-07-24\n",
       "4       2018-06-19\n",
       "           ...    \n",
       "23694   2017-03-21\n",
       "23695   2018-01-15\n",
       "23696   2018-02-11\n",
       "23697   2017-03-28\n",
       "23698   2017-07-21\n",
       "Name: first_day_exposition, Length: 23699, dtype: datetime64[ns]"
      ]
     },
     "execution_count": 8,
     "metadata": {},
     "output_type": "execute_result"
    }
   ],
   "source": [
    "#переведем столбец в формат времени: год, месяц, день , т.к. часы, минуты и секунды не указаны\n",
    "data['first_day_exposition'] = pd.to_datetime(data['first_day_exposition'], format = '%Y-%m-%d')\n",
    "data['first_day_exposition']"
   ]
  },
  {
   "cell_type": "code",
   "execution_count": 9,
   "metadata": {},
   "outputs": [
    {
     "data": {
      "text/plain": [
       "0        13000000\n",
       "1         3350000\n",
       "2         5196000\n",
       "3        64900000\n",
       "4        10000000\n",
       "           ...   \n",
       "23694     9700000\n",
       "23695     3100000\n",
       "23696     2500000\n",
       "23697    11475000\n",
       "23698     1350000\n",
       "Name: last_price, Length: 23699, dtype: int64"
      ]
     },
     "execution_count": 9,
     "metadata": {},
     "output_type": "execute_result"
    }
   ],
   "source": [
    "data['last_price'] = data['last_price'].astype('int')\n",
    "data['last_price']"
   ]
  },
  {
   "cell_type": "code",
   "execution_count": 10,
   "metadata": {},
   "outputs": [],
   "source": [
    "median_ceiling_height=data['ceiling_height'].median()\n",
    "data['ceiling_height'].fillna(median_ceiling_height,inplace=True)"
   ]
  },
  {
   "cell_type": "markdown",
   "metadata": {},
   "source": [
    "Заполнили средним значением"
   ]
  },
  {
   "cell_type": "code",
   "execution_count": 11,
   "metadata": {},
   "outputs": [],
   "source": [
    "data['ceiling_height']=data['ceiling_height'].astype('float64')"
   ]
  },
  {
   "cell_type": "code",
   "execution_count": 12,
   "metadata": {},
   "outputs": [
    {
     "data": {
      "text/plain": [
       "0"
      ]
     },
     "execution_count": 12,
     "metadata": {},
     "output_type": "execute_result"
    }
   ],
   "source": [
    "data['ceiling_height'].isna().sum()"
   ]
  },
  {
   "cell_type": "code",
   "execution_count": 13,
   "metadata": {},
   "outputs": [
    {
     "data": {
      "text/plain": [
       "0"
      ]
     },
     "execution_count": 13,
     "metadata": {},
     "output_type": "execute_result"
    }
   ],
   "source": [
    "data.dropna(subset=['locality_name'],inplace=True)\n",
    "data['locality_name'].isna().sum()"
   ]
  },
  {
   "cell_type": "code",
   "execution_count": 14,
   "metadata": {},
   "outputs": [
    {
     "data": {
      "text/html": [
       "<div>\n",
       "<style scoped>\n",
       "    .dataframe tbody tr th:only-of-type {\n",
       "        vertical-align: middle;\n",
       "    }\n",
       "\n",
       "    .dataframe tbody tr th {\n",
       "        vertical-align: top;\n",
       "    }\n",
       "\n",
       "    .dataframe thead th {\n",
       "        text-align: right;\n",
       "    }\n",
       "</style>\n",
       "<table border=\"1\" class=\"dataframe\">\n",
       "  <thead>\n",
       "    <tr style=\"text-align: right;\">\n",
       "      <th></th>\n",
       "      <th>total_images</th>\n",
       "      <th>last_price</th>\n",
       "      <th>total_area</th>\n",
       "      <th>first_day_exposition</th>\n",
       "      <th>rooms</th>\n",
       "      <th>ceiling_height</th>\n",
       "      <th>floors_total</th>\n",
       "      <th>living_area</th>\n",
       "      <th>floor</th>\n",
       "      <th>is_apartment</th>\n",
       "      <th>...</th>\n",
       "      <th>kitchen_area</th>\n",
       "      <th>balcony</th>\n",
       "      <th>locality_name</th>\n",
       "      <th>airports_nearest</th>\n",
       "      <th>cityCenters_nearest</th>\n",
       "      <th>parks_around3000</th>\n",
       "      <th>parks_nearest</th>\n",
       "      <th>ponds_around3000</th>\n",
       "      <th>ponds_nearest</th>\n",
       "      <th>days_exposition</th>\n",
       "    </tr>\n",
       "  </thead>\n",
       "  <tbody>\n",
       "    <tr>\n",
       "      <th>186</th>\n",
       "      <td>12</td>\n",
       "      <td>11640000</td>\n",
       "      <td>65.2</td>\n",
       "      <td>2018-10-02</td>\n",
       "      <td>2</td>\n",
       "      <td>2.65</td>\n",
       "      <td>NaN</td>\n",
       "      <td>30.80</td>\n",
       "      <td>4</td>\n",
       "      <td>False</td>\n",
       "      <td>...</td>\n",
       "      <td>12.00</td>\n",
       "      <td>0</td>\n",
       "      <td>Санкт-Петербург</td>\n",
       "      <td>39197.0</td>\n",
       "      <td>12373.0</td>\n",
       "      <td>1.0</td>\n",
       "      <td>123.0</td>\n",
       "      <td>0.0</td>\n",
       "      <td>NaN</td>\n",
       "      <td>49.0</td>\n",
       "    </tr>\n",
       "    <tr>\n",
       "      <th>237</th>\n",
       "      <td>4</td>\n",
       "      <td>2438033</td>\n",
       "      <td>28.1</td>\n",
       "      <td>2016-11-23</td>\n",
       "      <td>1</td>\n",
       "      <td>2.65</td>\n",
       "      <td>NaN</td>\n",
       "      <td>20.75</td>\n",
       "      <td>1</td>\n",
       "      <td>False</td>\n",
       "      <td>...</td>\n",
       "      <td>NaN</td>\n",
       "      <td>0</td>\n",
       "      <td>Санкт-Петербург</td>\n",
       "      <td>22041.0</td>\n",
       "      <td>17369.0</td>\n",
       "      <td>0.0</td>\n",
       "      <td>NaN</td>\n",
       "      <td>1.0</td>\n",
       "      <td>374.0</td>\n",
       "      <td>251.0</td>\n",
       "    </tr>\n",
       "    <tr>\n",
       "      <th>457</th>\n",
       "      <td>4</td>\n",
       "      <td>9788348</td>\n",
       "      <td>70.8</td>\n",
       "      <td>2015-08-01</td>\n",
       "      <td>2</td>\n",
       "      <td>2.65</td>\n",
       "      <td>NaN</td>\n",
       "      <td>38.40</td>\n",
       "      <td>12</td>\n",
       "      <td>False</td>\n",
       "      <td>...</td>\n",
       "      <td>10.63</td>\n",
       "      <td>0</td>\n",
       "      <td>Санкт-Петербург</td>\n",
       "      <td>37364.0</td>\n",
       "      <td>8322.0</td>\n",
       "      <td>2.0</td>\n",
       "      <td>309.0</td>\n",
       "      <td>2.0</td>\n",
       "      <td>706.0</td>\n",
       "      <td>727.0</td>\n",
       "    </tr>\n",
       "    <tr>\n",
       "      <th>671</th>\n",
       "      <td>4</td>\n",
       "      <td>6051191</td>\n",
       "      <td>93.6</td>\n",
       "      <td>2017-04-06</td>\n",
       "      <td>3</td>\n",
       "      <td>2.65</td>\n",
       "      <td>NaN</td>\n",
       "      <td>47.10</td>\n",
       "      <td>8</td>\n",
       "      <td>False</td>\n",
       "      <td>...</td>\n",
       "      <td>16.80</td>\n",
       "      <td>0</td>\n",
       "      <td>Санкт-Петербург</td>\n",
       "      <td>22041.0</td>\n",
       "      <td>17369.0</td>\n",
       "      <td>0.0</td>\n",
       "      <td>NaN</td>\n",
       "      <td>1.0</td>\n",
       "      <td>374.0</td>\n",
       "      <td>123.0</td>\n",
       "    </tr>\n",
       "    <tr>\n",
       "      <th>1757</th>\n",
       "      <td>5</td>\n",
       "      <td>3600000</td>\n",
       "      <td>39.0</td>\n",
       "      <td>2017-04-22</td>\n",
       "      <td>1</td>\n",
       "      <td>2.65</td>\n",
       "      <td>NaN</td>\n",
       "      <td>NaN</td>\n",
       "      <td>9</td>\n",
       "      <td>False</td>\n",
       "      <td>...</td>\n",
       "      <td>NaN</td>\n",
       "      <td>0</td>\n",
       "      <td>Санкт-Петербург</td>\n",
       "      <td>22735.0</td>\n",
       "      <td>11618.0</td>\n",
       "      <td>1.0</td>\n",
       "      <td>835.0</td>\n",
       "      <td>1.0</td>\n",
       "      <td>652.0</td>\n",
       "      <td>77.0</td>\n",
       "    </tr>\n",
       "    <tr>\n",
       "      <th>...</th>\n",
       "      <td>...</td>\n",
       "      <td>...</td>\n",
       "      <td>...</td>\n",
       "      <td>...</td>\n",
       "      <td>...</td>\n",
       "      <td>...</td>\n",
       "      <td>...</td>\n",
       "      <td>...</td>\n",
       "      <td>...</td>\n",
       "      <td>...</td>\n",
       "      <td>...</td>\n",
       "      <td>...</td>\n",
       "      <td>...</td>\n",
       "      <td>...</td>\n",
       "      <td>...</td>\n",
       "      <td>...</td>\n",
       "      <td>...</td>\n",
       "      <td>...</td>\n",
       "      <td>...</td>\n",
       "      <td>...</td>\n",
       "      <td>...</td>\n",
       "    </tr>\n",
       "    <tr>\n",
       "      <th>22542</th>\n",
       "      <td>5</td>\n",
       "      <td>8500000</td>\n",
       "      <td>63.5</td>\n",
       "      <td>2017-05-24</td>\n",
       "      <td>2</td>\n",
       "      <td>2.80</td>\n",
       "      <td>NaN</td>\n",
       "      <td>NaN</td>\n",
       "      <td>3</td>\n",
       "      <td>False</td>\n",
       "      <td>...</td>\n",
       "      <td>NaN</td>\n",
       "      <td>0</td>\n",
       "      <td>Санкт-Петербург</td>\n",
       "      <td>51340.0</td>\n",
       "      <td>15363.0</td>\n",
       "      <td>0.0</td>\n",
       "      <td>NaN</td>\n",
       "      <td>1.0</td>\n",
       "      <td>853.0</td>\n",
       "      <td>512.0</td>\n",
       "    </tr>\n",
       "    <tr>\n",
       "      <th>22656</th>\n",
       "      <td>4</td>\n",
       "      <td>4574160</td>\n",
       "      <td>64.5</td>\n",
       "      <td>2017-04-02</td>\n",
       "      <td>2</td>\n",
       "      <td>2.65</td>\n",
       "      <td>NaN</td>\n",
       "      <td>31.70</td>\n",
       "      <td>20</td>\n",
       "      <td>False</td>\n",
       "      <td>...</td>\n",
       "      <td>14.40</td>\n",
       "      <td>0</td>\n",
       "      <td>Санкт-Петербург</td>\n",
       "      <td>22041.0</td>\n",
       "      <td>17369.0</td>\n",
       "      <td>0.0</td>\n",
       "      <td>NaN</td>\n",
       "      <td>1.0</td>\n",
       "      <td>374.0</td>\n",
       "      <td>127.0</td>\n",
       "    </tr>\n",
       "    <tr>\n",
       "      <th>22808</th>\n",
       "      <td>0</td>\n",
       "      <td>14569263</td>\n",
       "      <td>110.4</td>\n",
       "      <td>2016-11-20</td>\n",
       "      <td>3</td>\n",
       "      <td>2.65</td>\n",
       "      <td>NaN</td>\n",
       "      <td>45.38</td>\n",
       "      <td>6</td>\n",
       "      <td>False</td>\n",
       "      <td>...</td>\n",
       "      <td>23.42</td>\n",
       "      <td>0</td>\n",
       "      <td>Санкт-Петербург</td>\n",
       "      <td>19095.0</td>\n",
       "      <td>4529.0</td>\n",
       "      <td>0.0</td>\n",
       "      <td>NaN</td>\n",
       "      <td>0.0</td>\n",
       "      <td>NaN</td>\n",
       "      <td>260.0</td>\n",
       "    </tr>\n",
       "    <tr>\n",
       "      <th>23590</th>\n",
       "      <td>0</td>\n",
       "      <td>21187872</td>\n",
       "      <td>123.3</td>\n",
       "      <td>2017-04-25</td>\n",
       "      <td>3</td>\n",
       "      <td>2.65</td>\n",
       "      <td>NaN</td>\n",
       "      <td>50.40</td>\n",
       "      <td>18</td>\n",
       "      <td>False</td>\n",
       "      <td>...</td>\n",
       "      <td>23.60</td>\n",
       "      <td>0</td>\n",
       "      <td>Санкт-Петербург</td>\n",
       "      <td>19095.0</td>\n",
       "      <td>4529.0</td>\n",
       "      <td>0.0</td>\n",
       "      <td>NaN</td>\n",
       "      <td>0.0</td>\n",
       "      <td>NaN</td>\n",
       "      <td>104.0</td>\n",
       "    </tr>\n",
       "    <tr>\n",
       "      <th>23658</th>\n",
       "      <td>6</td>\n",
       "      <td>3063600</td>\n",
       "      <td>43.8</td>\n",
       "      <td>2016-11-28</td>\n",
       "      <td>1</td>\n",
       "      <td>2.70</td>\n",
       "      <td>NaN</td>\n",
       "      <td>14.00</td>\n",
       "      <td>8</td>\n",
       "      <td>False</td>\n",
       "      <td>...</td>\n",
       "      <td>15.50</td>\n",
       "      <td>2</td>\n",
       "      <td>Санкт-Петербург</td>\n",
       "      <td>8426.0</td>\n",
       "      <td>12082.0</td>\n",
       "      <td>2.0</td>\n",
       "      <td>24.0</td>\n",
       "      <td>1.0</td>\n",
       "      <td>271.0</td>\n",
       "      <td>246.0</td>\n",
       "    </tr>\n",
       "  </tbody>\n",
       "</table>\n",
       "<p>85 rows × 22 columns</p>\n",
       "</div>"
      ],
      "text/plain": [
       "       total_images  last_price  total_area first_day_exposition  rooms  \\\n",
       "186              12    11640000        65.2           2018-10-02      2   \n",
       "237               4     2438033        28.1           2016-11-23      1   \n",
       "457               4     9788348        70.8           2015-08-01      2   \n",
       "671               4     6051191        93.6           2017-04-06      3   \n",
       "1757              5     3600000        39.0           2017-04-22      1   \n",
       "...             ...         ...         ...                  ...    ...   \n",
       "22542             5     8500000        63.5           2017-05-24      2   \n",
       "22656             4     4574160        64.5           2017-04-02      2   \n",
       "22808             0    14569263       110.4           2016-11-20      3   \n",
       "23590             0    21187872       123.3           2017-04-25      3   \n",
       "23658             6     3063600        43.8           2016-11-28      1   \n",
       "\n",
       "       ceiling_height  floors_total  living_area  floor  is_apartment  ...  \\\n",
       "186              2.65           NaN        30.80      4         False  ...   \n",
       "237              2.65           NaN        20.75      1         False  ...   \n",
       "457              2.65           NaN        38.40     12         False  ...   \n",
       "671              2.65           NaN        47.10      8         False  ...   \n",
       "1757             2.65           NaN          NaN      9         False  ...   \n",
       "...               ...           ...          ...    ...           ...  ...   \n",
       "22542            2.80           NaN          NaN      3         False  ...   \n",
       "22656            2.65           NaN        31.70     20         False  ...   \n",
       "22808            2.65           NaN        45.38      6         False  ...   \n",
       "23590            2.65           NaN        50.40     18         False  ...   \n",
       "23658            2.70           NaN        14.00      8         False  ...   \n",
       "\n",
       "       kitchen_area  balcony    locality_name  airports_nearest  \\\n",
       "186           12.00        0  Санкт-Петербург           39197.0   \n",
       "237             NaN        0  Санкт-Петербург           22041.0   \n",
       "457           10.63        0  Санкт-Петербург           37364.0   \n",
       "671           16.80        0  Санкт-Петербург           22041.0   \n",
       "1757            NaN        0  Санкт-Петербург           22735.0   \n",
       "...             ...      ...              ...               ...   \n",
       "22542           NaN        0  Санкт-Петербург           51340.0   \n",
       "22656         14.40        0  Санкт-Петербург           22041.0   \n",
       "22808         23.42        0  Санкт-Петербург           19095.0   \n",
       "23590         23.60        0  Санкт-Петербург           19095.0   \n",
       "23658         15.50        2  Санкт-Петербург            8426.0   \n",
       "\n",
       "      cityCenters_nearest  parks_around3000  parks_nearest  ponds_around3000  \\\n",
       "186               12373.0               1.0          123.0               0.0   \n",
       "237               17369.0               0.0            NaN               1.0   \n",
       "457                8322.0               2.0          309.0               2.0   \n",
       "671               17369.0               0.0            NaN               1.0   \n",
       "1757              11618.0               1.0          835.0               1.0   \n",
       "...                   ...               ...            ...               ...   \n",
       "22542             15363.0               0.0            NaN               1.0   \n",
       "22656             17369.0               0.0            NaN               1.0   \n",
       "22808              4529.0               0.0            NaN               0.0   \n",
       "23590              4529.0               0.0            NaN               0.0   \n",
       "23658             12082.0               2.0           24.0               1.0   \n",
       "\n",
       "       ponds_nearest  days_exposition  \n",
       "186              NaN             49.0  \n",
       "237            374.0            251.0  \n",
       "457            706.0            727.0  \n",
       "671            374.0            123.0  \n",
       "1757           652.0             77.0  \n",
       "...              ...              ...  \n",
       "22542          853.0            512.0  \n",
       "22656          374.0            127.0  \n",
       "22808            NaN            260.0  \n",
       "23590            NaN            104.0  \n",
       "23658          271.0            246.0  \n",
       "\n",
       "[85 rows x 22 columns]"
      ]
     },
     "execution_count": 14,
     "metadata": {},
     "output_type": "execute_result"
    }
   ],
   "source": [
    "data[data['floors_total'].isna()]"
   ]
  },
  {
   "cell_type": "code",
   "execution_count": 15,
   "metadata": {},
   "outputs": [
    {
     "data": {
      "text/plain": [
       "85"
      ]
     },
     "execution_count": 15,
     "metadata": {},
     "output_type": "execute_result"
    }
   ],
   "source": [
    "data['floors_total'].isnull().sum()"
   ]
  },
  {
   "cell_type": "code",
   "execution_count": 16,
   "metadata": {},
   "outputs": [
    {
     "data": {
      "text/plain": [
       "0"
      ]
     },
     "execution_count": 16,
     "metadata": {},
     "output_type": "execute_result"
    }
   ],
   "source": [
    "# код ревьюера\n",
    "data[data['floors_total'] < data['floor']].shape[0]"
   ]
  },
  {
   "cell_type": "code",
   "execution_count": 17,
   "metadata": {},
   "outputs": [],
   "source": [
    "coefficient = (data['kitchen_area'] / data['total_area']).mean()\n",
    "data['kitchen_area'] = data['kitchen_area'].fillna(data['total_area'] * coefficient)"
   ]
  },
  {
   "cell_type": "markdown",
   "metadata": {},
   "source": [
    "### Посчитайте и добавьте в таблицу новые столбцы"
   ]
  },
  {
   "cell_type": "code",
   "execution_count": 18,
   "metadata": {},
   "outputs": [],
   "source": [
    "#цена одного квадратного метра\n",
    "data['price_metr2'] = data['last_price'] / data['total_area']"
   ]
  },
  {
   "cell_type": "code",
   "execution_count": 19,
   "metadata": {},
   "outputs": [],
   "source": [
    "#день недели публикации объявления\n",
    "data['weekday_exposition'] = data['first_day_exposition'].dt.weekday"
   ]
  },
  {
   "cell_type": "code",
   "execution_count": 20,
   "metadata": {},
   "outputs": [],
   "source": [
    "#месяц публикации объявления\n",
    "data['month_exposition'] = data['first_day_exposition'].dt.month"
   ]
  },
  {
   "cell_type": "code",
   "execution_count": 21,
   "metadata": {},
   "outputs": [],
   "source": [
    "#год публикации объявления\n",
    "data['year_exposition'] = data['first_day_exposition'].dt.year"
   ]
  },
  {
   "cell_type": "code",
   "execution_count": 22,
   "metadata": {},
   "outputs": [],
   "source": [
    "#тип этажа квартиры\n",
    "data.loc[data['floor'] == 1, 'floor_category'] = 'первый'\n",
    "data.loc[data['floor'] == data['floors_total'], 'floor_category'] = 'последний'\n",
    "data.loc[data['floor_category'].isna(), 'floor_category'] = 'другой'"
   ]
  },
  {
   "cell_type": "code",
   "execution_count": 23,
   "metadata": {},
   "outputs": [
    {
     "data": {
      "text/plain": [
       "0        16.0\n",
       "1        19.0\n",
       "2        14.0\n",
       "3         7.0\n",
       "4         8.0\n",
       "         ... \n",
       "23694     4.0\n",
       "23695     NaN\n",
       "23696     NaN\n",
       "23697    10.0\n",
       "23698     NaN\n",
       "Name: cityCenters_nearest_km, Length: 23650, dtype: float64"
      ]
     },
     "execution_count": 23,
     "metadata": {},
     "output_type": "execute_result"
    }
   ],
   "source": [
    "#расстояние до центра города в километрах\n",
    "data['cityCenters_nearest_km'] = (data['cityCenters_nearest'] / 1000).round()\n",
    "data['cityCenters_nearest_km']"
   ]
  },
  {
   "cell_type": "markdown",
   "metadata": {},
   "source": [
    "### Проведите исследовательский анализ данных"
   ]
  },
  {
   "cell_type": "code",
   "execution_count": 24,
   "metadata": {},
   "outputs": [
    {
     "data": {
      "text/plain": [
       "<AxesSubplot:>"
      ]
     },
     "execution_count": 24,
     "metadata": {},
     "output_type": "execute_result"
    },
    {
     "data": {
      "image/png": "[encoded data removed]",
      "text/plain": [
       "<Figure size 432x288 with 1 Axes>"
      ]
     },
     "metadata": {
      "needs_background": "light"
     },
     "output_type": "display_data"
    }
   ],
   "source": [
    "data['total_area'].hist(bins=100,range=(0,300))"
   ]
  },
  {
   "cell_type": "markdown",
   "metadata": {},
   "source": [
    "Больше всего продаются квартиры площадью 45-49 м2"
   ]
  },
  {
   "cell_type": "code",
   "execution_count": 25,
   "metadata": {},
   "outputs": [
    {
     "data": {
      "text/plain": [
       "<AxesSubplot:>"
      ]
     },
     "execution_count": 25,
     "metadata": {},
     "output_type": "execute_result"
    },
    {
     "data": {
      "image/png": "[encoded data removed]",
      "text/plain": [
       "<Figure size 432x288 with 1 Axes>"
      ]
     },
     "metadata": {
      "needs_background": "light"
     },
     "output_type": "display_data"
    }
   ],
   "source": [
    "data['living_area'].hist(bins=50,range=(0,150))"
   ]
  },
  {
   "cell_type": "markdown",
   "metadata": {},
   "source": [
    "Больше всего живут в квартирах с жилой площадью 17-20 м2, 28-35м2 и 41-45 м2 - однушки, двушки, трешки типичных советских-постсоветских планировок"
   ]
  },
  {
   "cell_type": "code",
   "execution_count": 26,
   "metadata": {},
   "outputs": [
    {
     "data": {
      "text/plain": [
       "<AxesSubplot:>"
      ]
     },
     "execution_count": 26,
     "metadata": {},
     "output_type": "execute_result"
    },
    {
     "data": {
      "image/png": "[encoded data removed]",
      "text/plain": [
       "<Figure size 432x288 with 1 Axes>"
      ]
     },
     "metadata": {
      "needs_background": "light"
     },
     "output_type": "display_data"
    }
   ],
   "source": [
    "data['kitchen_area'].hist(bins=100,range=(0,100))"
   ]
  },
  {
   "cell_type": "markdown",
   "metadata": {},
   "source": [
    "Самая распространенная площадь кухни - 7 - 15 м2"
   ]
  },
  {
   "cell_type": "code",
   "execution_count": 27,
   "metadata": {},
   "outputs": [
    {
     "data": {
      "text/plain": [
       "<AxesSubplot:>"
      ]
     },
     "execution_count": 27,
     "metadata": {},
     "output_type": "execute_result"
    },
    {
     "data": {
      "image/png": "[encoded data removed]",
      "text/plain": [
       "<Figure size 432x288 with 1 Axes>"
      ]
     },
     "metadata": {
      "needs_background": "light"
     },
     "output_type": "display_data"
    }
   ],
   "source": [
    "data['last_price'].hist(bins=100,range=(0,30000000))"
   ]
  },
  {
   "cell_type": "markdown",
   "metadata": {},
   "source": [
    "Самый популярный ценник 3млн руб"
   ]
  },
  {
   "cell_type": "code",
   "execution_count": 28,
   "metadata": {},
   "outputs": [
    {
     "data": {
      "text/plain": [
       "<AxesSubplot:>"
      ]
     },
     "execution_count": 28,
     "metadata": {},
     "output_type": "execute_result"
    },
    {
     "data": {
      "image/png": "[encoded data removed]",
      "text/plain": [
       "<Figure size 432x288 with 1 Axes>"
      ]
     },
     "metadata": {
      "needs_background": "light"
     },
     "output_type": "display_data"
    }
   ],
   "source": [
    "data['rooms'].hist(bins=10,range=(0,10))"
   ]
  },
  {
   "cell_type": "markdown",
   "metadata": {},
   "source": [
    "Популярнее всего 1-3 комнатные"
   ]
  },
  {
   "cell_type": "code",
   "execution_count": 29,
   "metadata": {},
   "outputs": [
    {
     "data": {
      "text/plain": [
       "<AxesSubplot:>"
      ]
     },
     "execution_count": 29,
     "metadata": {},
     "output_type": "execute_result"
    },
    {
     "data": {
      "image/png": "[encoded data removed]",
      "text/plain": [
       "<Figure size 432x288 with 1 Axes>"
      ]
     },
     "metadata": {
      "needs_background": "light"
     },
     "output_type": "display_data"
    }
   ],
   "source": [
    "data['ceiling_height'].hist(bins=10,range=(2.3,4))"
   ]
  },
  {
   "cell_type": "markdown",
   "metadata": {},
   "source": [
    "Самая популярная высота потолков - 2,65-2,80м"
   ]
  },
  {
   "cell_type": "code",
   "execution_count": 30,
   "metadata": {},
   "outputs": [
    {
     "data": {
      "text/plain": [
       "<AxesSubplot:>"
      ]
     },
     "execution_count": 30,
     "metadata": {},
     "output_type": "execute_result"
    },
    {
     "data": {
      "image/png": "[encoded data removed]",
      "text/plain": [
       "<Figure size 432x288 with 1 Axes>"
      ]
     },
     "metadata": {
      "needs_background": "light"
     },
     "output_type": "display_data"
    }
   ],
   "source": [
    "data['floor'].hist(bins=10,range=(0,40))"
   ]
  },
  {
   "cell_type": "markdown",
   "metadata": {},
   "source": [
    "Больше всего квартир выставленных на продажу располагаются на 1-4 этажах"
   ]
  },
  {
   "cell_type": "code",
   "execution_count": 31,
   "metadata": {},
   "outputs": [
    {
     "data": {
      "text/plain": [
       "<AxesSubplot:>"
      ]
     },
     "execution_count": 31,
     "metadata": {},
     "output_type": "execute_result"
    },
    {
     "data": {
      "image/png": "[encoded data removed]",
      "text/plain": [
       "<Figure size 432x288 with 1 Axes>"
      ]
     },
     "metadata": {
      "needs_background": "light"
     },
     "output_type": "display_data"
    }
   ],
   "source": [
    "data['floor_category'].hist(bins=10)"
   ]
  },
  {
   "cell_type": "markdown",
   "metadata": {},
   "source": [
    "Подавляющее число людей живет не на первом и не на последнем этажах"
   ]
  },
  {
   "cell_type": "code",
   "execution_count": 32,
   "metadata": {},
   "outputs": [
    {
     "data": {
      "text/plain": [
       "<AxesSubplot:>"
      ]
     },
     "execution_count": 32,
     "metadata": {},
     "output_type": "execute_result"
    },
    {
     "data": {
      "image/png": "[encoded data removed]",
      "text/plain": [
       "<Figure size 432x288 with 1 Axes>"
      ]
     },
     "metadata": {
      "needs_background": "light"
     },
     "output_type": "display_data"
    }
   ],
   "source": [
    "data['floors_total'].hist(bins=10, range=(0,40))"
   ]
  },
  {
   "cell_type": "markdown",
   "metadata": {},
   "source": [
    "Дома в основном 4-7 этажные"
   ]
  },
  {
   "cell_type": "code",
   "execution_count": 33,
   "metadata": {},
   "outputs": [
    {
     "data": {
      "text/plain": [
       "<AxesSubplot:>"
      ]
     },
     "execution_count": 33,
     "metadata": {},
     "output_type": "execute_result"
    },
    {
     "data": {
      "image/png": "[encoded data removed]",
      "text/plain": [
       "<Figure size 432x288 with 1 Axes>"
      ]
     },
     "metadata": {
      "needs_background": "light"
     },
     "output_type": "display_data"
    }
   ],
   "source": [
    "data['cityCenters_nearest'].hist(bins=100,range=(0,20000))"
   ]
  },
  {
   "cell_type": "markdown",
   "metadata": {},
   "source": [
    "Жилые дома на продажу располагаются в основном в диапазон от 10 000 до 17 500 метров от центра города"
   ]
  },
  {
   "cell_type": "code",
   "execution_count": 34,
   "metadata": {},
   "outputs": [
    {
     "data": {
      "text/plain": [
       "<AxesSubplot:>"
      ]
     },
     "execution_count": 34,
     "metadata": {},
     "output_type": "execute_result"
    },
    {
     "data": {
      "image/png": "[encoded data removed]",
      "text/plain": [
       "<Figure size 432x288 with 1 Axes>"
      ]
     },
     "metadata": {
      "needs_background": "light"
     },
     "output_type": "display_data"
    }
   ],
   "source": [
    "data['airports_nearest'].hist(bins=100,range=(0,60000))"
   ]
  },
  {
   "cell_type": "markdown",
   "metadata": {},
   "source": [
    "До ближайшего аэропорта в среднем 10-25 км (скорее всего это жилье в самом Петербурге) и 30-35км (скорее всего на таком расстоянии от аэропорта (Пулково??) находятся самые населенные пригороды Петербурга)"
   ]
  },
  {
   "cell_type": "code",
   "execution_count": 35,
   "metadata": {},
   "outputs": [
    {
     "data": {
      "text/plain": [
       "<AxesSubplot:>"
      ]
     },
     "execution_count": 35,
     "metadata": {},
     "output_type": "execute_result"
    },
    {
     "data": {
      "image/png": "[encoded data removed]",
      "text/plain": [
       "<Figure size 432x288 with 1 Axes>"
      ]
     },
     "metadata": {
      "needs_background": "light"
     },
     "output_type": "display_data"
    }
   ],
   "source": [
    "data['parks_nearest'].hist(bins=100,range=(0,1500))"
   ]
  },
  {
   "cell_type": "markdown",
   "metadata": {},
   "source": [
    "До ближайшего парка 180-650 метров, парки располагаются в пешей доступности для большинства будущих обладателей квартир"
   ]
  },
  {
   "cell_type": "code",
   "execution_count": 36,
   "metadata": {},
   "outputs": [
    {
     "data": {
      "text/plain": [
       "<AxesSubplot:>"
      ]
     },
     "execution_count": 36,
     "metadata": {},
     "output_type": "execute_result"
    },
    {
     "data": {
      "image/png": "[encoded data removed]",
      "text/plain": [
       "<Figure size 432x288 with 1 Axes>"
      ]
     },
     "metadata": {
      "needs_background": "light"
     },
     "output_type": "display_data"
    }
   ],
   "source": [
    "data['weekday_exposition'].hist(bins=7)"
   ]
  },
  {
   "cell_type": "markdown",
   "metadata": {},
   "source": [
    "Объявления размещают чаще в будни"
   ]
  },
  {
   "cell_type": "code",
   "execution_count": 37,
   "metadata": {},
   "outputs": [
    {
     "data": {
      "text/plain": [
       "<AxesSubplot:>"
      ]
     },
     "execution_count": 37,
     "metadata": {},
     "output_type": "execute_result"
    },
    {
     "data": {
      "image/png": "[encoded data removed]",
      "text/plain": [
       "<Figure size 432x288 with 1 Axes>"
      ]
     },
     "metadata": {
      "needs_background": "light"
     },
     "output_type": "display_data"
    }
   ],
   "source": [
    "data['month_exposition'].hist(bins=12)"
   ]
  },
  {
   "cell_type": "markdown",
   "metadata": {},
   "source": [
    "Прослеживается сезонность: в мае, летом и январе объявлний меньше - каникулы и сезон отпусков"
   ]
  },
  {
   "cell_type": "code",
   "execution_count": 38,
   "metadata": {},
   "outputs": [
    {
     "data": {
      "text/plain": [
       "count    20470.000000\n",
       "mean       180.753200\n",
       "std        219.777916\n",
       "min          1.000000\n",
       "25%         45.000000\n",
       "50%         95.000000\n",
       "75%        231.000000\n",
       "max       1580.000000\n",
       "Name: days_exposition, dtype: float64"
      ]
     },
     "execution_count": 38,
     "metadata": {},
     "output_type": "execute_result"
    }
   ],
   "source": [
    "#изучаем как быстро продавались квартиры\n",
    "data['days_exposition'].describe()"
   ]
  },
  {
   "cell_type": "code",
   "execution_count": 39,
   "metadata": {},
   "outputs": [
    {
     "data": {
      "text/plain": [
       "<AxesSubplot:>"
      ]
     },
     "execution_count": 39,
     "metadata": {},
     "output_type": "execute_result"
    },
    {
     "data": {
      "image/png": "[encoded data removed]",
      "text/plain": [
       "<Figure size 432x288 with 1 Axes>"
      ]
     },
     "metadata": {
      "needs_background": "light"
     },
     "output_type": "display_data"
    }
   ],
   "source": [
    "data['days_exposition'].hist(bins=100,range=(0,1500))"
   ]
  },
  {
   "cell_type": "code",
   "execution_count": 40,
   "metadata": {},
   "outputs": [
    {
     "data": {
      "image/png": "[encoded data removed]",
      "text/plain": [
       "<Figure size 432x288 with 1 Axes>"
      ]
     },
     "metadata": {
      "needs_background": "light"
     },
     "output_type": "display_data"
    }
   ],
   "source": [
    "plt.ylim(0,500)\n",
    "data.boxplot(column='days_exposition') \n",
    "plt.show()"
   ]
  },
  {
   "cell_type": "markdown",
   "metadata": {},
   "source": [
    "Из диаграммы размаха видно что:\n",
    "    медиана - 95 дней\n",
    "    квартиры в основном продают в промежутке от 45 до 199 дней\n",
    "    быстрые продажи - от 0 до 45 дней\n",
    "    необычно долгие - от 199 до 425 дней"
   ]
  },
  {
   "cell_type": "code",
   "execution_count": 41,
   "metadata": {},
   "outputs": [
    {
     "data": {
      "text/plain": [
       "0.6537428966335393"
      ]
     },
     "execution_count": 41,
     "metadata": {},
     "output_type": "execute_result"
    },
    {
     "data": {
      "image/png": "[encoded data removed]",
      "text/plain": [
       "<Figure size 432x288 with 1 Axes>"
      ]
     },
     "metadata": {
      "needs_background": "light"
     },
     "output_type": "display_data"
    }
   ],
   "source": [
    "#зависимость цены от общей площади\n",
    "pivot_table_total_area = data.pivot_table(index = 'last_price', values = 'total_area', aggfunc = ['mean', 'count', 'median'])\n",
    "pivot_table_total_area.columns = ['mean', 'count', 'median']\n",
    "pivot_table_total_area.plot(y = 'median', style = 'o')\n",
    "\n",
    "pivot_table_total_area.sort_values('median', ascending = False)\n",
    "\n",
    "data['last_price'].corr(data['total_area'])"
   ]
  },
  {
   "cell_type": "markdown",
   "metadata": {},
   "source": [
    "зависимость цены от общей площади достаточно прослеживается, коэффициент корреляции пирсона: 0,65"
   ]
  },
  {
   "cell_type": "code",
   "execution_count": 42,
   "metadata": {},
   "outputs": [
    {
     "data": {
      "text/plain": [
       "0.5665168840375522"
      ]
     },
     "execution_count": 42,
     "metadata": {},
     "output_type": "execute_result"
    },
    {
     "data": {
      "image/png": "[encoded data removed]",
      "text/plain": [
       "<Figure size 432x288 with 1 Axes>"
      ]
     },
     "metadata": {
      "needs_background": "light"
     },
     "output_type": "display_data"
    }
   ],
   "source": [
    "#зависимость цены от жилой площади\n",
    "pivot_table_living_area = data.pivot_table(index = 'living_area', values = 'last_price', aggfunc = ['mean', 'count', 'median'])\n",
    "pivot_table_living_area.columns = ['mean', 'count', 'median']\n",
    "pivot_table_living_area.plot(y = 'median', style = 'o')\n",
    "\n",
    "pivot_table_living_area.sort_values('median', ascending = False)\n",
    "\n",
    "data['living_area'].corr(data['last_price'])"
   ]
  },
  {
   "cell_type": "markdown",
   "metadata": {},
   "source": [
    "зависимость цены от жилой площади прослеживается, но незначительна, коэффициент корреляции пирсона: 0,56"
   ]
  },
  {
   "cell_type": "code",
   "execution_count": 43,
   "metadata": {},
   "outputs": [
    {
     "data": {
      "text/plain": [
       "0.5169639943125026"
      ]
     },
     "execution_count": 43,
     "metadata": {},
     "output_type": "execute_result"
    },
    {
     "data": {
      "image/png": "[encoded data removed]",
      "text/plain": [
       "<Figure size 432x288 with 1 Axes>"
      ]
     },
     "metadata": {
      "needs_background": "light"
     },
     "output_type": "display_data"
    }
   ],
   "source": [
    "#зависимость цены от площади кухни\n",
    "pivot_table_kitchen_area = data.pivot_table(index = 'kitchen_area', values = 'last_price', aggfunc = ['mean', 'count', 'median'])\n",
    "pivot_table_kitchen_area.columns = ['mean', 'count', 'median']\n",
    "pivot_table_kitchen_area.plot(y = 'median', style = 'o')\n",
    "\n",
    "pivot_table_kitchen_area.sort_values('median', ascending = False)\n",
    "\n",
    "data['kitchen_area'].corr(data['last_price'])"
   ]
  },
  {
   "cell_type": "markdown",
   "metadata": {},
   "source": [
    "зависимость цены от жилой площади слабая, коэффициент корреляции пирсона: 0,44"
   ]
  },
  {
   "cell_type": "markdown",
   "metadata": {},
   "source": [
    "Вывод ниже"
   ]
  },
  {
   "cell_type": "code",
   "execution_count": 44,
   "id": "0e4dc3d5",
   "metadata": {},
   "outputs": [
    {
     "data": {
      "image/png": "[encoded data removed]",
      "text/plain": [
       "<Figure size 792x504 with 1 Axes>"
      ]
     },
     "metadata": {
      "needs_background": "light"
     },
     "output_type": "display_data"
    }
   ],
   "source": [
    "# код ревьюера\n",
    "\n",
    "\n",
    "data.groupby('rooms')['last_price'].mean().plot(kind='bar', figsize=(11, 7), color='#73A9AD')\n",
    "\n",
    "plt.xticks(rotation=0)\n",
    "plt.title('Средняя цена квартиры в зависимости от комнатности', size=15)\n",
    "plt.xlabel('Количество комнат', size=12)\n",
    "plt.ylabel('Средняя цена квартиры', size=12)\n",
    "\n",
    "plt.show()"
   ]
  },
  {
   "cell_type": "markdown",
   "metadata": {},
   "source": [
    "Наиболее дешевые квартиры на первых 4х этажах\n",
    "Скорее всего это связано с тем, что в категорию до 4х этажей попадает большинство домов, включая города в области (где превалирует низкая этажность и более низкая стоимость жилья)"
   ]
  },
  {
   "cell_type": "code",
   "execution_count": 45,
   "metadata": {},
   "outputs": [
    {
     "data": {
      "text/html": [
       "<div>\n",
       "<style scoped>\n",
       "    .dataframe tbody tr th:only-of-type {\n",
       "        vertical-align: middle;\n",
       "    }\n",
       "\n",
       "    .dataframe tbody tr th {\n",
       "        vertical-align: top;\n",
       "    }\n",
       "\n",
       "    .dataframe thead th {\n",
       "        text-align: right;\n",
       "    }\n",
       "</style>\n",
       "<table border=\"1\" class=\"dataframe\">\n",
       "  <thead>\n",
       "    <tr style=\"text-align: right;\">\n",
       "      <th></th>\n",
       "      <th>mean</th>\n",
       "      <th>count</th>\n",
       "      <th>median</th>\n",
       "    </tr>\n",
       "    <tr>\n",
       "      <th>floor_category</th>\n",
       "      <th></th>\n",
       "      <th></th>\n",
       "      <th></th>\n",
       "    </tr>\n",
       "  </thead>\n",
       "  <tbody>\n",
       "    <tr>\n",
       "      <th>первый</th>\n",
       "      <td>82302.435016</td>\n",
       "      <td>2887</td>\n",
       "      <td>81309.398099</td>\n",
       "    </tr>\n",
       "    <tr>\n",
       "      <th>последний</th>\n",
       "      <td>93024.640818</td>\n",
       "      <td>3355</td>\n",
       "      <td>87479.935795</td>\n",
       "    </tr>\n",
       "  </tbody>\n",
       "</table>\n",
       "</div>"
      ],
      "text/plain": [
       "                        mean  count        median\n",
       "floor_category                                   \n",
       "первый          82302.435016   2887  81309.398099\n",
       "последний       93024.640818   3355  87479.935795"
      ]
     },
     "execution_count": 45,
     "metadata": {},
     "output_type": "execute_result"
    },
    {
     "data": {
      "image/png": "[encoded data removed]",
      "text/plain": [
       "<Figure size 432x288 with 1 Axes>"
      ]
     },
     "metadata": {
      "needs_background": "light"
     },
     "output_type": "display_data"
    }
   ],
   "source": [
    "#зависимость цены от категории этажа\n",
    "pivot_table_floor_category = data.query('floor_category != \"другой\"').pivot_table(index = 'floor_category', values = 'price_metr2', aggfunc = ['mean', 'count', 'median'])\n",
    "pivot_table_floor_category.columns = ['mean', 'count', 'median']\n",
    "pivot_table_floor_category.plot(y = 'median')\n",
    "pivot_table_floor_category"
   ]
  },
  {
   "cell_type": "code",
   "execution_count": 46,
   "metadata": {},
   "outputs": [
    {
     "data": {
      "image/png": "[encoded data removed]",
      "text/plain": [
       "<Figure size 792x504 with 1 Axes>"
      ]
     },
     "metadata": {
      "needs_background": "light"
     },
     "output_type": "display_data"
    }
   ],
   "source": [
    "data.groupby('floor_category')['last_price'].mean().plot(kind='bar', figsize=(11, 7), color='#73A9AD')\n",
    "\n",
    "plt.xticks(rotation=0)\n",
    "plt.title('зависимость цены от категории этажа', size=15)\n",
    "plt.xlabel('Тип этажа', size=12)\n",
    "plt.ylabel('Средняя цена квартиры', size=12)\n",
    "\n",
    "plt.show()"
   ]
  },
  {
   "cell_type": "markdown",
   "metadata": {},
   "source": [
    "наиболее дешевые квартиры на первом этаже"
   ]
  },
  {
   "cell_type": "code",
   "execution_count": 47,
   "metadata": {},
   "outputs": [
    {
     "data": {
      "text/html": [
       "<div>\n",
       "<style scoped>\n",
       "    .dataframe tbody tr th:only-of-type {\n",
       "        vertical-align: middle;\n",
       "    }\n",
       "\n",
       "    .dataframe tbody tr th {\n",
       "        vertical-align: top;\n",
       "    }\n",
       "\n",
       "    .dataframe thead th {\n",
       "        text-align: right;\n",
       "    }\n",
       "</style>\n",
       "<table border=\"1\" class=\"dataframe\">\n",
       "  <thead>\n",
       "    <tr style=\"text-align: right;\">\n",
       "      <th></th>\n",
       "      <th>mean</th>\n",
       "      <th>count</th>\n",
       "      <th>median</th>\n",
       "    </tr>\n",
       "    <tr>\n",
       "      <th>weekday_exposition</th>\n",
       "      <th></th>\n",
       "      <th></th>\n",
       "      <th></th>\n",
       "    </tr>\n",
       "  </thead>\n",
       "  <tbody>\n",
       "    <tr>\n",
       "      <th>1</th>\n",
       "      <td>99724.551947</td>\n",
       "      <td>4175</td>\n",
       "      <td>95634.095634</td>\n",
       "    </tr>\n",
       "    <tr>\n",
       "      <th>2</th>\n",
       "      <td>99605.973811</td>\n",
       "      <td>3966</td>\n",
       "      <td>95473.807179</td>\n",
       "    </tr>\n",
       "    <tr>\n",
       "      <th>3</th>\n",
       "      <td>100193.163918</td>\n",
       "      <td>4286</td>\n",
       "      <td>95152.587607</td>\n",
       "    </tr>\n",
       "    <tr>\n",
       "      <th>0</th>\n",
       "      <td>99470.371195</td>\n",
       "      <td>3606</td>\n",
       "      <td>94703.958403</td>\n",
       "    </tr>\n",
       "    <tr>\n",
       "      <th>4</th>\n",
       "      <td>98987.215358</td>\n",
       "      <td>3992</td>\n",
       "      <td>94608.145294</td>\n",
       "    </tr>\n",
       "    <tr>\n",
       "      <th>6</th>\n",
       "      <td>97763.149550</td>\n",
       "      <td>1692</td>\n",
       "      <td>94594.594595</td>\n",
       "    </tr>\n",
       "    <tr>\n",
       "      <th>5</th>\n",
       "      <td>99066.258044</td>\n",
       "      <td>1933</td>\n",
       "      <td>93548.387097</td>\n",
       "    </tr>\n",
       "  </tbody>\n",
       "</table>\n",
       "</div>"
      ],
      "text/plain": [
       "                             mean  count        median\n",
       "weekday_exposition                                    \n",
       "1                    99724.551947   4175  95634.095634\n",
       "2                    99605.973811   3966  95473.807179\n",
       "3                   100193.163918   4286  95152.587607\n",
       "0                    99470.371195   3606  94703.958403\n",
       "4                    98987.215358   3992  94608.145294\n",
       "6                    97763.149550   1692  94594.594595\n",
       "5                    99066.258044   1933  93548.387097"
      ]
     },
     "execution_count": 47,
     "metadata": {},
     "output_type": "execute_result"
    },
    {
     "data": {
      "image/png": "[encoded data removed]",
      "text/plain": [
       "<Figure size 432x288 with 1 Axes>"
      ]
     },
     "metadata": {
      "needs_background": "light"
     },
     "output_type": "display_data"
    }
   ],
   "source": [
    "#зависимость цены от дня недели размещения\n",
    "pivot_table_weekday_exposition = data.pivot_table(index = 'weekday_exposition', values = 'price_metr2', aggfunc = ['mean', 'count', 'median'])\n",
    "pivot_table_weekday_exposition.columns = ['mean', 'count', 'median']\n",
    "pivot_table_weekday_exposition.plot(y = 'median')\n",
    "\n",
    "pivot_table_weekday_exposition.sort_values('median', ascending = False)"
   ]
  },
  {
   "cell_type": "markdown",
   "metadata": {},
   "source": [
    "в целом зависимость цены от дня недели отсутвует (в рамках погрешности)"
   ]
  },
  {
   "cell_type": "code",
   "execution_count": 48,
   "metadata": {},
   "outputs": [
    {
     "data": {
      "text/html": [
       "<div>\n",
       "<style scoped>\n",
       "    .dataframe tbody tr th:only-of-type {\n",
       "        vertical-align: middle;\n",
       "    }\n",
       "\n",
       "    .dataframe tbody tr th {\n",
       "        vertical-align: top;\n",
       "    }\n",
       "\n",
       "    .dataframe thead th {\n",
       "        text-align: right;\n",
       "    }\n",
       "</style>\n",
       "<table border=\"1\" class=\"dataframe\">\n",
       "  <thead>\n",
       "    <tr style=\"text-align: right;\">\n",
       "      <th></th>\n",
       "      <th>mean</th>\n",
       "      <th>count</th>\n",
       "      <th>median</th>\n",
       "    </tr>\n",
       "    <tr>\n",
       "      <th>month_exposition</th>\n",
       "      <th></th>\n",
       "      <th></th>\n",
       "      <th></th>\n",
       "    </tr>\n",
       "  </thead>\n",
       "  <tbody>\n",
       "    <tr>\n",
       "      <th>4</th>\n",
       "      <td>101956.699581</td>\n",
       "      <td>2373</td>\n",
       "      <td>96451.612903</td>\n",
       "    </tr>\n",
       "    <tr>\n",
       "      <th>8</th>\n",
       "      <td>100147.231988</td>\n",
       "      <td>1742</td>\n",
       "      <td>96103.238866</td>\n",
       "    </tr>\n",
       "    <tr>\n",
       "      <th>11</th>\n",
       "      <td>99254.440753</td>\n",
       "      <td>2367</td>\n",
       "      <td>95625.000000</td>\n",
       "    </tr>\n",
       "    <tr>\n",
       "      <th>9</th>\n",
       "      <td>100490.822517</td>\n",
       "      <td>1979</td>\n",
       "      <td>95608.782435</td>\n",
       "    </tr>\n",
       "    <tr>\n",
       "      <th>3</th>\n",
       "      <td>98997.838525</td>\n",
       "      <td>2582</td>\n",
       "      <td>95293.466224</td>\n",
       "    </tr>\n",
       "    <tr>\n",
       "      <th>1</th>\n",
       "      <td>99838.433932</td>\n",
       "      <td>1491</td>\n",
       "      <td>95209.580838</td>\n",
       "    </tr>\n",
       "    <tr>\n",
       "      <th>7</th>\n",
       "      <td>99650.840621</td>\n",
       "      <td>1690</td>\n",
       "      <td>95023.940820</td>\n",
       "    </tr>\n",
       "    <tr>\n",
       "      <th>2</th>\n",
       "      <td>98769.773236</td>\n",
       "      <td>2639</td>\n",
       "      <td>95000.000000</td>\n",
       "    </tr>\n",
       "    <tr>\n",
       "      <th>12</th>\n",
       "      <td>99501.624581</td>\n",
       "      <td>1638</td>\n",
       "      <td>94238.400488</td>\n",
       "    </tr>\n",
       "    <tr>\n",
       "      <th>10</th>\n",
       "      <td>97969.126588</td>\n",
       "      <td>2124</td>\n",
       "      <td>94212.560386</td>\n",
       "    </tr>\n",
       "    <tr>\n",
       "      <th>5</th>\n",
       "      <td>98536.263073</td>\n",
       "      <td>1270</td>\n",
       "      <td>92857.142857</td>\n",
       "    </tr>\n",
       "    <tr>\n",
       "      <th>6</th>\n",
       "      <td>97789.346761</td>\n",
       "      <td>1755</td>\n",
       "      <td>92857.142857</td>\n",
       "    </tr>\n",
       "  </tbody>\n",
       "</table>\n",
       "</div>"
      ],
      "text/plain": [
       "                           mean  count        median\n",
       "month_exposition                                    \n",
       "4                 101956.699581   2373  96451.612903\n",
       "8                 100147.231988   1742  96103.238866\n",
       "11                 99254.440753   2367  95625.000000\n",
       "9                 100490.822517   1979  95608.782435\n",
       "3                  98997.838525   2582  95293.466224\n",
       "1                  99838.433932   1491  95209.580838\n",
       "7                  99650.840621   1690  95023.940820\n",
       "2                  98769.773236   2639  95000.000000\n",
       "12                 99501.624581   1638  94238.400488\n",
       "10                 97969.126588   2124  94212.560386\n",
       "5                  98536.263073   1270  92857.142857\n",
       "6                  97789.346761   1755  92857.142857"
      ]
     },
     "execution_count": 48,
     "metadata": {},
     "output_type": "execute_result"
    },
    {
     "data": {
      "image/png": "[encoded data removed]",
      "text/plain": [
       "<Figure size 432x288 with 1 Axes>"
      ]
     },
     "metadata": {
      "needs_background": "light"
     },
     "output_type": "display_data"
    }
   ],
   "source": [
    "#зависимость цены от месяца публикации\n",
    "pivot_table_month_exposition = data.pivot_table(index = 'month_exposition', values = 'price_metr2', aggfunc = ['mean', 'count', 'median'])\n",
    "pivot_table_month_exposition.columns = ['mean', 'count', 'median']\n",
    "pivot_table_month_exposition.plot(y = 'median')\n",
    "\n",
    "pivot_table_month_exposition.sort_values('median', ascending = False)"
   ]
  },
  {
   "cell_type": "markdown",
   "metadata": {},
   "source": [
    "По месяцам явная сезонность: май, июнь - самая низкая цена"
   ]
  },
  {
   "cell_type": "code",
   "execution_count": 49,
   "metadata": {},
   "outputs": [
    {
     "data": {
      "text/html": [
       "<div>\n",
       "<style scoped>\n",
       "    .dataframe tbody tr th:only-of-type {\n",
       "        vertical-align: middle;\n",
       "    }\n",
       "\n",
       "    .dataframe tbody tr th {\n",
       "        vertical-align: top;\n",
       "    }\n",
       "\n",
       "    .dataframe thead th {\n",
       "        text-align: right;\n",
       "    }\n",
       "</style>\n",
       "<table border=\"1\" class=\"dataframe\">\n",
       "  <thead>\n",
       "    <tr style=\"text-align: right;\">\n",
       "      <th></th>\n",
       "      <th>mean</th>\n",
       "      <th>count</th>\n",
       "      <th>median</th>\n",
       "    </tr>\n",
       "    <tr>\n",
       "      <th>year_exposition</th>\n",
       "      <th></th>\n",
       "      <th></th>\n",
       "      <th></th>\n",
       "    </tr>\n",
       "  </thead>\n",
       "  <tbody>\n",
       "    <tr>\n",
       "      <th>2014</th>\n",
       "      <td>124302.355703</td>\n",
       "      <td>136</td>\n",
       "      <td>106901.898734</td>\n",
       "    </tr>\n",
       "    <tr>\n",
       "      <th>2019</th>\n",
       "      <td>107123.780305</td>\n",
       "      <td>2879</td>\n",
       "      <td>103305.785124</td>\n",
       "    </tr>\n",
       "    <tr>\n",
       "      <th>2018</th>\n",
       "      <td>97800.065860</td>\n",
       "      <td>8512</td>\n",
       "      <td>95704.323236</td>\n",
       "    </tr>\n",
       "    <tr>\n",
       "      <th>2015</th>\n",
       "      <td>104719.098541</td>\n",
       "      <td>1173</td>\n",
       "      <td>93396.226415</td>\n",
       "    </tr>\n",
       "    <tr>\n",
       "      <th>2017</th>\n",
       "      <td>97637.360152</td>\n",
       "      <td>8185</td>\n",
       "      <td>92569.659443</td>\n",
       "    </tr>\n",
       "    <tr>\n",
       "      <th>2016</th>\n",
       "      <td>98295.372599</td>\n",
       "      <td>2765</td>\n",
       "      <td>91666.666667</td>\n",
       "    </tr>\n",
       "  </tbody>\n",
       "</table>\n",
       "</div>"
      ],
      "text/plain": [
       "                          mean  count         median\n",
       "year_exposition                                     \n",
       "2014             124302.355703    136  106901.898734\n",
       "2019             107123.780305   2879  103305.785124\n",
       "2018              97800.065860   8512   95704.323236\n",
       "2015             104719.098541   1173   93396.226415\n",
       "2017              97637.360152   8185   92569.659443\n",
       "2016              98295.372599   2765   91666.666667"
      ]
     },
     "execution_count": 49,
     "metadata": {},
     "output_type": "execute_result"
    },
    {
     "data": {
      "image/png": "[encoded data removed]",
      "text/plain": [
       "<Figure size 432x288 with 1 Axes>"
      ]
     },
     "metadata": {
      "needs_background": "light"
     },
     "output_type": "display_data"
    }
   ],
   "source": [
    "pivot_table_year_exposition = data.pivot_table(index = 'year_exposition', values = 'price_metr2', aggfunc = ['mean', 'count', 'median'])\n",
    "pivot_table_year_exposition.columns = ['mean', 'count', 'median']\n",
    "pivot_table_year_exposition.plot(y = 'median')\n",
    "\n",
    "pivot_table_year_exposition.sort_values('median', ascending = False)"
   ]
  },
  {
   "cell_type": "markdown",
   "metadata": {},
   "source": [
    "Самая низкая цена была 2015 - 2018 год\n",
    "Скорее всего в эти года было наибольшее предложение жилья или же это был период между кризисами (как известно, в кризисы возрастает спрос на жилье и как следствие при том же предложении растет цена, люди из-за чувства страха стараются вкладываться в жилье как базовую потребность в жилище, комфорте и безопасности, плюс в кризисы возрастают инфляционные ожидания, соответственно спрос опять же увеличивается)"
   ]
  },
  {
   "cell_type": "code",
   "execution_count": 50,
   "metadata": {},
   "outputs": [
    {
     "data": {
      "text/html": [
       "<div>\n",
       "<style scoped>\n",
       "    .dataframe tbody tr th:only-of-type {\n",
       "        vertical-align: middle;\n",
       "    }\n",
       "\n",
       "    .dataframe tbody tr th {\n",
       "        vertical-align: top;\n",
       "    }\n",
       "\n",
       "    .dataframe thead th {\n",
       "        text-align: right;\n",
       "    }\n",
       "</style>\n",
       "<table border=\"1\" class=\"dataframe\">\n",
       "  <thead>\n",
       "    <tr style=\"text-align: right;\">\n",
       "      <th></th>\n",
       "      <th>count</th>\n",
       "      <th>mean</th>\n",
       "    </tr>\n",
       "    <tr>\n",
       "      <th>locality_name</th>\n",
       "      <th></th>\n",
       "      <th></th>\n",
       "    </tr>\n",
       "  </thead>\n",
       "  <tbody>\n",
       "    <tr>\n",
       "      <th>Санкт-Петербург</th>\n",
       "      <td>15721</td>\n",
       "      <td>114849.008794</td>\n",
       "    </tr>\n",
       "    <tr>\n",
       "      <th>посёлок Мурино</th>\n",
       "      <td>522</td>\n",
       "      <td>85752.189195</td>\n",
       "    </tr>\n",
       "    <tr>\n",
       "      <th>посёлок Шушары</th>\n",
       "      <td>440</td>\n",
       "      <td>78677.364217</td>\n",
       "    </tr>\n",
       "    <tr>\n",
       "      <th>Всеволожск</th>\n",
       "      <td>398</td>\n",
       "      <td>68654.473986</td>\n",
       "    </tr>\n",
       "    <tr>\n",
       "      <th>Пушкин</th>\n",
       "      <td>369</td>\n",
       "      <td>103125.819291</td>\n",
       "    </tr>\n",
       "    <tr>\n",
       "      <th>Колпино</th>\n",
       "      <td>338</td>\n",
       "      <td>75424.579098</td>\n",
       "    </tr>\n",
       "    <tr>\n",
       "      <th>посёлок Парголово</th>\n",
       "      <td>327</td>\n",
       "      <td>90175.913458</td>\n",
       "    </tr>\n",
       "    <tr>\n",
       "      <th>Гатчина</th>\n",
       "      <td>307</td>\n",
       "      <td>68746.146763</td>\n",
       "    </tr>\n",
       "    <tr>\n",
       "      <th>деревня Кудрово</th>\n",
       "      <td>299</td>\n",
       "      <td>92473.547576</td>\n",
       "    </tr>\n",
       "    <tr>\n",
       "      <th>Выборг</th>\n",
       "      <td>237</td>\n",
       "      <td>58141.909153</td>\n",
       "    </tr>\n",
       "  </tbody>\n",
       "</table>\n",
       "</div>"
      ],
      "text/plain": [
       "                   count           mean\n",
       "locality_name                          \n",
       "Санкт-Петербург    15721  114849.008794\n",
       "посёлок Мурино       522   85752.189195\n",
       "посёлок Шушары       440   78677.364217\n",
       "Всеволожск           398   68654.473986\n",
       "Пушкин               369  103125.819291\n",
       "Колпино              338   75424.579098\n",
       "посёлок Парголово    327   90175.913458\n",
       "Гатчина              307   68746.146763\n",
       "деревня Кудрово      299   92473.547576\n",
       "Выборг               237   58141.909153"
      ]
     },
     "execution_count": 50,
     "metadata": {},
     "output_type": "execute_result"
    }
   ],
   "source": [
    "#средняя цена одного квадратного метра в 10 населенных пунктах с наибольшим количеством объявлений\n",
    "pivot_table_locality_name = data.pivot_table(index = 'locality_name', values = 'price_metr2', aggfunc=['count', 'mean'])\n",
    "pivot_table_locality_name.columns = ['count', 'mean']\n",
    "pivot_table_locality_name = pivot_table_locality_name.sort_values('count', ascending = False).head(10)\n",
    "pivot_table_locality_name"
   ]
  },
  {
   "cell_type": "code",
   "execution_count": 51,
   "metadata": {},
   "outputs": [
    {
     "data": {
      "text/html": [
       "<div>\n",
       "<style scoped>\n",
       "    .dataframe tbody tr th:only-of-type {\n",
       "        vertical-align: middle;\n",
       "    }\n",
       "\n",
       "    .dataframe tbody tr th {\n",
       "        vertical-align: top;\n",
       "    }\n",
       "\n",
       "    .dataframe thead th {\n",
       "        text-align: right;\n",
       "    }\n",
       "</style>\n",
       "<table border=\"1\" class=\"dataframe\">\n",
       "  <thead>\n",
       "    <tr style=\"text-align: right;\">\n",
       "      <th></th>\n",
       "      <th>count</th>\n",
       "      <th>mean</th>\n",
       "    </tr>\n",
       "    <tr>\n",
       "      <th>locality_name</th>\n",
       "      <th></th>\n",
       "      <th></th>\n",
       "    </tr>\n",
       "  </thead>\n",
       "  <tbody>\n",
       "    <tr>\n",
       "      <th>Санкт-Петербург</th>\n",
       "      <td>15721</td>\n",
       "      <td>114849.008794</td>\n",
       "    </tr>\n",
       "  </tbody>\n",
       "</table>\n",
       "</div>"
      ],
      "text/plain": [
       "                 count           mean\n",
       "locality_name                        \n",
       "Санкт-Петербург  15721  114849.008794"
      ]
     },
     "execution_count": 51,
     "metadata": {},
     "output_type": "execute_result"
    }
   ],
   "source": [
    "#максимальная стоимость\n",
    "pivot_table_locality_name[pivot_table_locality_name['mean']==pivot_table_locality_name['mean'].max()]"
   ]
  },
  {
   "cell_type": "code",
   "execution_count": 52,
   "metadata": {},
   "outputs": [
    {
     "data": {
      "text/html": [
       "<div>\n",
       "<style scoped>\n",
       "    .dataframe tbody tr th:only-of-type {\n",
       "        vertical-align: middle;\n",
       "    }\n",
       "\n",
       "    .dataframe tbody tr th {\n",
       "        vertical-align: top;\n",
       "    }\n",
       "\n",
       "    .dataframe thead th {\n",
       "        text-align: right;\n",
       "    }\n",
       "</style>\n",
       "<table border=\"1\" class=\"dataframe\">\n",
       "  <thead>\n",
       "    <tr style=\"text-align: right;\">\n",
       "      <th></th>\n",
       "      <th>count</th>\n",
       "      <th>mean</th>\n",
       "    </tr>\n",
       "    <tr>\n",
       "      <th>locality_name</th>\n",
       "      <th></th>\n",
       "      <th></th>\n",
       "    </tr>\n",
       "  </thead>\n",
       "  <tbody>\n",
       "    <tr>\n",
       "      <th>Выборг</th>\n",
       "      <td>237</td>\n",
       "      <td>58141.909153</td>\n",
       "    </tr>\n",
       "  </tbody>\n",
       "</table>\n",
       "</div>"
      ],
      "text/plain": [
       "               count          mean\n",
       "locality_name                     \n",
       "Выборг           237  58141.909153"
      ]
     },
     "execution_count": 52,
     "metadata": {},
     "output_type": "execute_result"
    }
   ],
   "source": [
    "#минимальная стоимость\n",
    "pivot_table_locality_name[pivot_table_locality_name['mean']==pivot_table_locality_name['mean'].min()]"
   ]
  },
  {
   "cell_type": "code",
   "execution_count": 53,
   "metadata": {},
   "outputs": [
    {
     "data": {
      "text/html": [
       "<div>\n",
       "<style scoped>\n",
       "    .dataframe tbody tr th:only-of-type {\n",
       "        vertical-align: middle;\n",
       "    }\n",
       "\n",
       "    .dataframe tbody tr th {\n",
       "        vertical-align: top;\n",
       "    }\n",
       "\n",
       "    .dataframe thead th {\n",
       "        text-align: right;\n",
       "    }\n",
       "</style>\n",
       "<table border=\"1\" class=\"dataframe\">\n",
       "  <thead>\n",
       "    <tr style=\"text-align: right;\">\n",
       "      <th></th>\n",
       "      <th>price_metr2</th>\n",
       "    </tr>\n",
       "    <tr>\n",
       "      <th>cityCenters_nearest_km</th>\n",
       "      <th></th>\n",
       "    </tr>\n",
       "  </thead>\n",
       "  <tbody>\n",
       "    <tr>\n",
       "      <th>0.0</th>\n",
       "      <td>245833.530289</td>\n",
       "    </tr>\n",
       "    <tr>\n",
       "      <th>1.0</th>\n",
       "      <td>177005.407676</td>\n",
       "    </tr>\n",
       "    <tr>\n",
       "      <th>2.0</th>\n",
       "      <td>157849.007329</td>\n",
       "    </tr>\n",
       "    <tr>\n",
       "      <th>3.0</th>\n",
       "      <td>121387.453704</td>\n",
       "    </tr>\n",
       "    <tr>\n",
       "      <th>4.0</th>\n",
       "      <td>133282.874761</td>\n",
       "    </tr>\n",
       "    <tr>\n",
       "      <th>5.0</th>\n",
       "      <td>140509.789046</td>\n",
       "    </tr>\n",
       "    <tr>\n",
       "      <th>6.0</th>\n",
       "      <td>151012.193621</td>\n",
       "    </tr>\n",
       "    <tr>\n",
       "      <th>7.0</th>\n",
       "      <td>156176.879664</td>\n",
       "    </tr>\n",
       "    <tr>\n",
       "      <th>8.0</th>\n",
       "      <td>125671.442742</td>\n",
       "    </tr>\n",
       "    <tr>\n",
       "      <th>9.0</th>\n",
       "      <td>113131.041911</td>\n",
       "    </tr>\n",
       "    <tr>\n",
       "      <th>10.0</th>\n",
       "      <td>112727.516925</td>\n",
       "    </tr>\n",
       "    <tr>\n",
       "      <th>11.0</th>\n",
       "      <td>108630.835324</td>\n",
       "    </tr>\n",
       "    <tr>\n",
       "      <th>12.0</th>\n",
       "      <td>107488.734023</td>\n",
       "    </tr>\n",
       "    <tr>\n",
       "      <th>13.0</th>\n",
       "      <td>108148.127854</td>\n",
       "    </tr>\n",
       "    <tr>\n",
       "      <th>14.0</th>\n",
       "      <td>104252.385047</td>\n",
       "    </tr>\n",
       "    <tr>\n",
       "      <th>15.0</th>\n",
       "      <td>104231.976184</td>\n",
       "    </tr>\n",
       "    <tr>\n",
       "      <th>16.0</th>\n",
       "      <td>100542.613949</td>\n",
       "    </tr>\n",
       "    <tr>\n",
       "      <th>17.0</th>\n",
       "      <td>96597.652408</td>\n",
       "    </tr>\n",
       "    <tr>\n",
       "      <th>18.0</th>\n",
       "      <td>96362.263941</td>\n",
       "    </tr>\n",
       "    <tr>\n",
       "      <th>19.0</th>\n",
       "      <td>98652.736027</td>\n",
       "    </tr>\n",
       "    <tr>\n",
       "      <th>20.0</th>\n",
       "      <td>103045.181922</td>\n",
       "    </tr>\n",
       "    <tr>\n",
       "      <th>21.0</th>\n",
       "      <td>94469.584582</td>\n",
       "    </tr>\n",
       "    <tr>\n",
       "      <th>22.0</th>\n",
       "      <td>91330.425050</td>\n",
       "    </tr>\n",
       "    <tr>\n",
       "      <th>23.0</th>\n",
       "      <td>91828.517765</td>\n",
       "    </tr>\n",
       "    <tr>\n",
       "      <th>24.0</th>\n",
       "      <td>85736.904595</td>\n",
       "    </tr>\n",
       "    <tr>\n",
       "      <th>25.0</th>\n",
       "      <td>91531.371618</td>\n",
       "    </tr>\n",
       "    <tr>\n",
       "      <th>26.0</th>\n",
       "      <td>89285.876593</td>\n",
       "    </tr>\n",
       "    <tr>\n",
       "      <th>27.0</th>\n",
       "      <td>132115.709459</td>\n",
       "    </tr>\n",
       "    <tr>\n",
       "      <th>28.0</th>\n",
       "      <td>81161.915320</td>\n",
       "    </tr>\n",
       "    <tr>\n",
       "      <th>29.0</th>\n",
       "      <td>72953.365445</td>\n",
       "    </tr>\n",
       "  </tbody>\n",
       "</table>\n",
       "</div>"
      ],
      "text/plain": [
       "                          price_metr2\n",
       "cityCenters_nearest_km               \n",
       "0.0                     245833.530289\n",
       "1.0                     177005.407676\n",
       "2.0                     157849.007329\n",
       "3.0                     121387.453704\n",
       "4.0                     133282.874761\n",
       "5.0                     140509.789046\n",
       "6.0                     151012.193621\n",
       "7.0                     156176.879664\n",
       "8.0                     125671.442742\n",
       "9.0                     113131.041911\n",
       "10.0                    112727.516925\n",
       "11.0                    108630.835324\n",
       "12.0                    107488.734023\n",
       "13.0                    108148.127854\n",
       "14.0                    104252.385047\n",
       "15.0                    104231.976184\n",
       "16.0                    100542.613949\n",
       "17.0                     96597.652408\n",
       "18.0                     96362.263941\n",
       "19.0                     98652.736027\n",
       "20.0                    103045.181922\n",
       "21.0                     94469.584582\n",
       "22.0                     91330.425050\n",
       "23.0                     91828.517765\n",
       "24.0                     85736.904595\n",
       "25.0                     91531.371618\n",
       "26.0                     89285.876593\n",
       "27.0                    132115.709459\n",
       "28.0                     81161.915320\n",
       "29.0                     72953.365445"
      ]
     },
     "execution_count": 53,
     "metadata": {},
     "output_type": "execute_result"
    },
    {
     "data": {
      "image/png": "[encoded data removed]",
      "text/plain": [
       "<Figure size 432x288 with 1 Axes>"
      ]
     },
     "metadata": {
      "needs_background": "light"
     },
     "output_type": "display_data"
    }
   ],
   "source": [
    "#зависимость цены на квадратный метр в Санкт-Петербурге от расстояния до центра в км\n",
    "pivot_table_km = data.query('locality_name == \"Санкт-Петербург\"').pivot_table(index = 'cityCenters_nearest_km', values = 'price_metr2', aggfunc = 'mean')\n",
    "pivot_table_km.plot()\n",
    "pivot_table_km"
   ]
  },
  {
   "cell_type": "markdown",
   "metadata": {},
   "source": [
    "Чем ближе к центру, тем квартиры явно дороже\n",
    "Условный \"центр\" для рынка жилья в СПб радиусом 10км"
   ]
  },
  {
   "cell_type": "markdown",
   "metadata": {},
   "source": []
  },
  {
   "cell_type": "markdown",
   "metadata": {},
   "source": [
    "### Общий вывод"
   ]
  },
  {
   "cell_type": "markdown",
   "metadata": {},
   "source": [
    "В рамках исследования рынка недвижимости города Санкт-Петербур и Ленинградской области было выявлено следующее:\n",
    "-проведена предобработка данных для получения наиболее корректных результатов исследовани\n",
    "\n",
    "Соствлен следующий портрет наиболее популярного объявления и выявлены следующие особенности:\n",
    "\n",
    "-больше всего продаются квартиры площадью 45-49 м2\n",
    "-больше всего квартир выставленных на продажу располагаются на 1-4 этажах\n",
    "-дома в основном 4-7 этажные\n",
    "-жилые дома на продажу располагаются в основном в диапазоне от 10 000 до 17 500 метров от центра города\n",
    "-до ближайшего аэропорта в среднем 10-25 км\n",
    "-квартиры в основном продают в промежутке от 45 до 199 дней\n",
    "\n",
    "-зависимость цены от общей площади достаточно прослеживается\n",
    "-зависимость цены от жилой площади прослеживается\n",
    "-наиболее дешевые квартиры на первых 4х этажах\n",
    "-по месяцам явная сезонность: май, июнь - самая низкая цена\n",
    "-выявили 10 населенных пунктов с наибольним количеством объявлений\n",
    "-наиболее дорогое жилье в Санкт-Петербурге\n",
    "-наиболее дешевое в Выборге\n",
    "\n",
    "\n",
    "\n",
    "В связи с этим рекомендую:\n",
    "-учитывать эти факторы для увеличения продаж и следовательно повышением уровня удовлетворенности сервисом\n",
    "-работать над увеличением продаж через сервис квартир в центреЮ обладающих наибольшей стоимостью (для получения большей прибыли с комиссии)\n",
    "-работать над уменьшением срока продажи квартир, для увеличения удовлетворенности клиентов\n",
    "-сформировать портрет среднего клиента сервиса, учитывать его при масштабировании\n",
    "-провести отельное исследование почему определенные группы клиентов менее активны в использовании сервиса и работать над их привлечением"
   ]
  }
 ],
 "metadata": {
  "ExecuteTimeLog": [
   {
    "duration": 1211,
    "start_time": "2022-11-08T17:02:38.784Z"
   },
   {
    "duration": 98,
    "start_time": "2022-11-08T17:09:49.287Z"
   },
   {
    "duration": 105,
    "start_time": "2022-11-08T17:10:27.088Z"
   },
   {
    "duration": 27,
    "start_time": "2022-11-08T17:10:57.797Z"
   },
   {
    "duration": 31,
    "start_time": "2022-11-08T17:11:11.486Z"
   },
   {
    "duration": 1924,
    "start_time": "2022-11-08T17:12:30.583Z"
   },
   {
    "duration": 47,
    "start_time": "2022-11-10T19:00:46.945Z"
   },
   {
    "duration": 1140,
    "start_time": "2022-11-10T19:01:13.985Z"
   },
   {
    "duration": 36,
    "start_time": "2022-11-10T19:01:15.127Z"
   },
   {
    "duration": 2173,
    "start_time": "2022-11-10T19:01:15.164Z"
   },
   {
    "duration": 5,
    "start_time": "2022-11-10T19:01:17.339Z"
   },
   {
    "duration": 4,
    "start_time": "2022-11-10T19:02:37.194Z"
   },
   {
    "duration": 16,
    "start_time": "2022-11-10T19:03:56.824Z"
   },
   {
    "duration": 6,
    "start_time": "2022-11-10T19:04:38.456Z"
   },
   {
    "duration": 9,
    "start_time": "2022-11-10T19:05:37.442Z"
   },
   {
    "duration": 49,
    "start_time": "2022-11-11T15:38:57.918Z"
   },
   {
    "duration": 1025,
    "start_time": "2022-11-11T15:39:07.272Z"
   },
   {
    "duration": 36,
    "start_time": "2022-11-11T15:39:08.300Z"
   },
   {
    "duration": 5,
    "start_time": "2022-11-11T15:39:08.338Z"
   },
   {
    "duration": 30,
    "start_time": "2022-11-11T15:39:08.345Z"
   },
   {
    "duration": 23,
    "start_time": "2022-11-11T15:39:08.377Z"
   },
   {
    "duration": 24,
    "start_time": "2022-11-11T15:39:08.402Z"
   },
   {
    "duration": 13,
    "start_time": "2022-11-11T15:39:08.428Z"
   },
   {
    "duration": 7,
    "start_time": "2022-11-11T15:39:50.519Z"
   },
   {
    "duration": 8,
    "start_time": "2022-11-11T15:42:12.094Z"
   },
   {
    "duration": 4,
    "start_time": "2022-11-11T15:44:13.291Z"
   },
   {
    "duration": 16,
    "start_time": "2022-11-11T15:47:53.575Z"
   },
   {
    "duration": 4,
    "start_time": "2022-11-11T15:48:00.601Z"
   },
   {
    "duration": 7,
    "start_time": "2022-11-11T15:48:10.543Z"
   },
   {
    "duration": 182,
    "start_time": "2022-11-11T15:48:19.471Z"
   },
   {
    "duration": 151,
    "start_time": "2022-11-11T15:48:35.415Z"
   },
   {
    "duration": 202,
    "start_time": "2022-11-11T15:51:07.029Z"
   },
   {
    "duration": 8,
    "start_time": "2022-11-11T15:52:02.611Z"
   },
   {
    "duration": 10,
    "start_time": "2022-11-11T15:52:46.396Z"
   },
   {
    "duration": 35,
    "start_time": "2022-11-11T15:53:29.674Z"
   },
   {
    "duration": 6,
    "start_time": "2022-11-11T16:00:07.436Z"
   },
   {
    "duration": 7,
    "start_time": "2022-11-11T16:00:27.820Z"
   },
   {
    "duration": 3,
    "start_time": "2022-11-11T16:01:17.283Z"
   },
   {
    "duration": 4,
    "start_time": "2022-11-11T16:05:07.632Z"
   },
   {
    "duration": 6,
    "start_time": "2022-11-11T16:06:55.869Z"
   },
   {
    "duration": 6,
    "start_time": "2022-11-11T16:07:24.397Z"
   },
   {
    "duration": 69,
    "start_time": "2022-11-11T16:07:50.126Z"
   },
   {
    "duration": 813,
    "start_time": "2022-11-11T16:08:18.517Z"
   },
   {
    "duration": 37,
    "start_time": "2022-11-11T16:08:19.332Z"
   },
   {
    "duration": 56,
    "start_time": "2022-11-11T16:08:19.371Z"
   },
   {
    "duration": 8,
    "start_time": "2022-11-11T16:08:19.430Z"
   },
   {
    "duration": 7,
    "start_time": "2022-11-11T16:08:19.440Z"
   },
   {
    "duration": 11,
    "start_time": "2022-11-11T16:08:19.448Z"
   },
   {
    "duration": 12,
    "start_time": "2022-11-11T16:08:19.461Z"
   },
   {
    "duration": 12,
    "start_time": "2022-11-11T16:08:19.475Z"
   },
   {
    "duration": 10,
    "start_time": "2022-11-11T16:08:19.489Z"
   },
   {
    "duration": 230,
    "start_time": "2022-11-11T16:08:19.502Z"
   },
   {
    "duration": 11,
    "start_time": "2022-11-11T16:08:19.734Z"
   },
   {
    "duration": 46,
    "start_time": "2022-11-11T16:08:19.747Z"
   },
   {
    "duration": 7,
    "start_time": "2022-11-11T16:08:19.795Z"
   },
   {
    "duration": 4,
    "start_time": "2022-11-11T16:08:19.804Z"
   },
   {
    "duration": 9,
    "start_time": "2022-11-11T16:08:19.810Z"
   },
   {
    "duration": 5,
    "start_time": "2022-11-11T16:08:19.821Z"
   },
   {
    "duration": 6,
    "start_time": "2022-11-11T16:09:11.972Z"
   },
   {
    "duration": 12,
    "start_time": "2022-11-11T16:10:28.723Z"
   },
   {
    "duration": 6,
    "start_time": "2022-11-11T16:11:40.865Z"
   },
   {
    "duration": 84,
    "start_time": "2022-11-11T16:18:06.372Z"
   },
   {
    "duration": 726,
    "start_time": "2022-11-11T16:18:23.230Z"
   },
   {
    "duration": 54,
    "start_time": "2022-11-11T16:18:23.959Z"
   },
   {
    "duration": 7,
    "start_time": "2022-11-11T16:18:24.015Z"
   },
   {
    "duration": 19,
    "start_time": "2022-11-11T16:18:24.026Z"
   },
   {
    "duration": 19,
    "start_time": "2022-11-11T16:18:24.048Z"
   },
   {
    "duration": 14,
    "start_time": "2022-11-11T16:18:24.079Z"
   },
   {
    "duration": 14,
    "start_time": "2022-11-11T16:18:24.095Z"
   },
   {
    "duration": 16,
    "start_time": "2022-11-11T16:18:24.111Z"
   },
   {
    "duration": 15,
    "start_time": "2022-11-11T16:18:24.130Z"
   },
   {
    "duration": 257,
    "start_time": "2022-11-11T16:18:24.148Z"
   },
   {
    "duration": 10,
    "start_time": "2022-11-11T16:18:24.407Z"
   },
   {
    "duration": 35,
    "start_time": "2022-11-11T16:18:24.420Z"
   },
   {
    "duration": 27,
    "start_time": "2022-11-11T16:18:24.456Z"
   },
   {
    "duration": 6,
    "start_time": "2022-11-11T16:18:24.485Z"
   },
   {
    "duration": 11,
    "start_time": "2022-11-11T16:18:24.493Z"
   },
   {
    "duration": 6,
    "start_time": "2022-11-11T16:18:24.506Z"
   },
   {
    "duration": 8,
    "start_time": "2022-11-11T16:18:24.514Z"
   },
   {
    "duration": 13,
    "start_time": "2022-11-11T16:18:24.524Z"
   },
   {
    "duration": 121,
    "start_time": "2022-11-11T16:18:24.539Z"
   },
   {
    "duration": 8,
    "start_time": "2022-11-11T16:18:52.922Z"
   },
   {
    "duration": 19,
    "start_time": "2022-11-11T16:19:37.475Z"
   },
   {
    "duration": 7,
    "start_time": "2022-11-11T16:20:15.554Z"
   },
   {
    "duration": 15,
    "start_time": "2022-11-11T16:22:25.584Z"
   },
   {
    "duration": 4,
    "start_time": "2022-11-11T16:22:55.424Z"
   },
   {
    "duration": 8,
    "start_time": "2022-11-11T16:23:59.086Z"
   },
   {
    "duration": 257,
    "start_time": "2022-11-11T16:42:59.220Z"
   },
   {
    "duration": 321,
    "start_time": "2022-11-11T16:43:27.259Z"
   },
   {
    "duration": 266,
    "start_time": "2022-11-11T16:46:28.737Z"
   },
   {
    "duration": 197,
    "start_time": "2022-11-11T16:48:12.311Z"
   },
   {
    "duration": 298,
    "start_time": "2022-11-11T16:50:21.574Z"
   },
   {
    "duration": 239,
    "start_time": "2022-11-11T16:50:46.717Z"
   },
   {
    "duration": 98,
    "start_time": "2022-11-11T16:51:39.949Z"
   },
   {
    "duration": 72,
    "start_time": "2022-11-11T16:51:49.108Z"
   },
   {
    "duration": 270,
    "start_time": "2022-11-11T16:52:28.283Z"
   },
   {
    "duration": 329,
    "start_time": "2022-11-11T16:53:36.082Z"
   },
   {
    "duration": 268,
    "start_time": "2022-11-11T16:53:43.683Z"
   },
   {
    "duration": 251,
    "start_time": "2022-11-11T16:53:50.554Z"
   },
   {
    "duration": 267,
    "start_time": "2022-11-11T16:53:56.843Z"
   },
   {
    "duration": 325,
    "start_time": "2022-11-11T16:55:23.841Z"
   },
   {
    "duration": 368,
    "start_time": "2022-11-11T16:55:34.393Z"
   },
   {
    "duration": 147,
    "start_time": "2022-11-11T16:55:41.113Z"
   },
   {
    "duration": 174,
    "start_time": "2022-11-11T16:56:59.663Z"
   },
   {
    "duration": 350,
    "start_time": "2022-11-11T17:00:33.876Z"
   },
   {
    "duration": 148,
    "start_time": "2022-11-11T17:00:39.364Z"
   },
   {
    "duration": 83,
    "start_time": "2022-11-11T17:01:25.219Z"
   },
   {
    "duration": 286,
    "start_time": "2022-11-11T17:02:45.002Z"
   },
   {
    "duration": 142,
    "start_time": "2022-11-11T17:02:56.681Z"
   },
   {
    "duration": 168,
    "start_time": "2022-11-11T17:05:05.232Z"
   },
   {
    "duration": 70,
    "start_time": "2022-11-11T17:05:46.336Z"
   },
   {
    "duration": 285,
    "start_time": "2022-11-11T17:08:37.213Z"
   },
   {
    "duration": 412,
    "start_time": "2022-11-11T17:10:49.475Z"
   },
   {
    "duration": 292,
    "start_time": "2022-11-11T17:10:58.802Z"
   },
   {
    "duration": 268,
    "start_time": "2022-11-11T17:11:09.755Z"
   },
   {
    "duration": 260,
    "start_time": "2022-11-11T17:14:47.942Z"
   },
   {
    "duration": 297,
    "start_time": "2022-11-11T17:14:58.095Z"
   },
   {
    "duration": 255,
    "start_time": "2022-11-11T17:15:10.591Z"
   },
   {
    "duration": 523,
    "start_time": "2022-11-11T17:20:11.202Z"
   },
   {
    "duration": 263,
    "start_time": "2022-11-11T17:20:27.042Z"
   },
   {
    "duration": 157,
    "start_time": "2022-11-11T17:20:32.913Z"
   },
   {
    "duration": 194,
    "start_time": "2022-11-11T17:20:40.185Z"
   },
   {
    "duration": 316,
    "start_time": "2022-11-11T17:20:52.058Z"
   },
   {
    "duration": 1624,
    "start_time": "2022-11-11T17:21:27.521Z"
   },
   {
    "duration": 437,
    "start_time": "2022-11-11T17:21:42.369Z"
   },
   {
    "duration": 287,
    "start_time": "2022-11-11T17:22:30.184Z"
   },
   {
    "duration": 492,
    "start_time": "2022-11-11T17:22:40.767Z"
   },
   {
    "duration": 313,
    "start_time": "2022-11-11T17:22:50.735Z"
   },
   {
    "duration": 10,
    "start_time": "2022-11-11T17:24:51.686Z"
   },
   {
    "duration": 125,
    "start_time": "2022-11-11T17:33:51.422Z"
   },
   {
    "duration": 295,
    "start_time": "2022-11-11T17:34:59.820Z"
   },
   {
    "duration": 271,
    "start_time": "2022-11-11T17:35:20.276Z"
   },
   {
    "duration": 7,
    "start_time": "2022-11-11T17:37:26.619Z"
   },
   {
    "duration": 811,
    "start_time": "2022-11-11T17:37:40.767Z"
   },
   {
    "duration": 34,
    "start_time": "2022-11-11T17:37:41.580Z"
   },
   {
    "duration": 4,
    "start_time": "2022-11-11T17:37:41.616Z"
   },
   {
    "duration": 17,
    "start_time": "2022-11-11T17:37:41.622Z"
   },
   {
    "duration": 13,
    "start_time": "2022-11-11T17:37:41.641Z"
   },
   {
    "duration": 23,
    "start_time": "2022-11-11T17:37:41.655Z"
   },
   {
    "duration": 11,
    "start_time": "2022-11-11T17:37:41.680Z"
   },
   {
    "duration": 21,
    "start_time": "2022-11-11T17:37:41.692Z"
   },
   {
    "duration": 11,
    "start_time": "2022-11-11T17:37:41.715Z"
   },
   {
    "duration": 233,
    "start_time": "2022-11-11T17:37:41.729Z"
   },
   {
    "duration": 16,
    "start_time": "2022-11-11T17:37:41.964Z"
   },
   {
    "duration": 35,
    "start_time": "2022-11-11T17:37:41.982Z"
   },
   {
    "duration": 20,
    "start_time": "2022-11-11T17:37:42.018Z"
   },
   {
    "duration": 44,
    "start_time": "2022-11-11T17:37:42.040Z"
   },
   {
    "duration": 68,
    "start_time": "2022-11-11T17:37:42.086Z"
   },
   {
    "duration": 49,
    "start_time": "2022-11-11T17:37:42.156Z"
   },
   {
    "duration": 48,
    "start_time": "2022-11-11T17:37:42.206Z"
   },
   {
    "duration": 86,
    "start_time": "2022-11-11T17:37:42.256Z"
   },
   {
    "duration": 64,
    "start_time": "2022-11-11T17:37:42.343Z"
   },
   {
    "duration": 324,
    "start_time": "2022-11-11T17:37:42.409Z"
   },
   {
    "duration": 246,
    "start_time": "2022-11-11T17:37:42.736Z"
   },
   {
    "duration": 315,
    "start_time": "2022-11-11T17:37:42.985Z"
   },
   {
    "duration": 271,
    "start_time": "2022-11-11T17:37:43.302Z"
   },
   {
    "duration": 160,
    "start_time": "2022-11-11T17:37:43.579Z"
   },
   {
    "duration": 168,
    "start_time": "2022-11-11T17:37:43.741Z"
   },
   {
    "duration": 196,
    "start_time": "2022-11-11T17:37:43.910Z"
   },
   {
    "duration": 171,
    "start_time": "2022-11-11T17:37:44.108Z"
   },
   {
    "duration": 180,
    "start_time": "2022-11-11T17:37:44.282Z"
   },
   {
    "duration": 285,
    "start_time": "2022-11-11T17:37:44.464Z"
   },
   {
    "duration": 359,
    "start_time": "2022-11-11T17:37:44.750Z"
   },
   {
    "duration": 256,
    "start_time": "2022-11-11T17:37:45.111Z"
   },
   {
    "duration": 396,
    "start_time": "2022-11-11T17:37:45.369Z"
   },
   {
    "duration": 16,
    "start_time": "2022-11-11T17:37:45.767Z"
   },
   {
    "duration": 312,
    "start_time": "2022-11-11T17:37:45.785Z"
   },
   {
    "duration": 124,
    "start_time": "2022-11-11T17:37:46.098Z"
   },
   {
    "duration": 181,
    "start_time": "2022-11-11T17:47:41.441Z"
   },
   {
    "duration": 278,
    "start_time": "2022-11-11T17:50:47.702Z"
   },
   {
    "duration": 159,
    "start_time": "2022-11-11T17:52:46.187Z"
   },
   {
    "duration": 170,
    "start_time": "2022-11-11T17:56:22.306Z"
   },
   {
    "duration": 104,
    "start_time": "2022-11-11T18:02:23.525Z"
   },
   {
    "duration": 843,
    "start_time": "2022-11-11T18:03:20.276Z"
   },
   {
    "duration": 40,
    "start_time": "2022-11-11T18:03:21.122Z"
   },
   {
    "duration": 17,
    "start_time": "2022-11-11T18:03:21.164Z"
   },
   {
    "duration": 12,
    "start_time": "2022-11-11T18:03:21.184Z"
   },
   {
    "duration": 9,
    "start_time": "2022-11-11T18:03:21.198Z"
   },
   {
    "duration": 14,
    "start_time": "2022-11-11T18:03:21.209Z"
   },
   {
    "duration": 13,
    "start_time": "2022-11-11T18:03:21.226Z"
   },
   {
    "duration": 44,
    "start_time": "2022-11-11T18:03:21.241Z"
   },
   {
    "duration": 15,
    "start_time": "2022-11-11T18:03:21.287Z"
   },
   {
    "duration": 250,
    "start_time": "2022-11-11T18:03:21.307Z"
   },
   {
    "duration": 23,
    "start_time": "2022-11-11T18:03:21.560Z"
   },
   {
    "duration": 35,
    "start_time": "2022-11-11T18:03:21.585Z"
   },
   {
    "duration": 7,
    "start_time": "2022-11-11T18:03:21.622Z"
   },
   {
    "duration": 4,
    "start_time": "2022-11-11T18:03:21.631Z"
   },
   {
    "duration": 7,
    "start_time": "2022-11-11T18:03:21.637Z"
   },
   {
    "duration": 37,
    "start_time": "2022-11-11T18:03:21.646Z"
   },
   {
    "duration": 6,
    "start_time": "2022-11-11T18:03:21.685Z"
   },
   {
    "duration": 24,
    "start_time": "2022-11-11T18:03:21.693Z"
   },
   {
    "duration": 20,
    "start_time": "2022-11-11T18:03:21.719Z"
   },
   {
    "duration": 273,
    "start_time": "2022-11-11T18:03:21.741Z"
   },
   {
    "duration": 217,
    "start_time": "2022-11-11T18:03:22.017Z"
   },
   {
    "duration": 325,
    "start_time": "2022-11-11T18:03:22.235Z"
   },
   {
    "duration": 316,
    "start_time": "2022-11-11T18:03:22.562Z"
   },
   {
    "duration": 187,
    "start_time": "2022-11-11T18:03:22.880Z"
   },
   {
    "duration": 175,
    "start_time": "2022-11-11T18:03:23.070Z"
   },
   {
    "duration": 153,
    "start_time": "2022-11-11T18:03:23.246Z"
   },
   {
    "duration": 149,
    "start_time": "2022-11-11T18:03:23.401Z"
   },
   {
    "duration": 184,
    "start_time": "2022-11-11T18:03:23.554Z"
   },
   {
    "duration": 312,
    "start_time": "2022-11-11T18:03:23.740Z"
   },
   {
    "duration": 405,
    "start_time": "2022-11-11T18:03:24.055Z"
   },
   {
    "duration": 274,
    "start_time": "2022-11-11T18:03:24.462Z"
   },
   {
    "duration": 411,
    "start_time": "2022-11-11T18:03:24.738Z"
   },
   {
    "duration": 9,
    "start_time": "2022-11-11T18:03:25.152Z"
   },
   {
    "duration": 288,
    "start_time": "2022-11-11T18:03:25.163Z"
   },
   {
    "duration": 141,
    "start_time": "2022-11-11T18:03:25.453Z"
   },
   {
    "duration": 191,
    "start_time": "2022-11-11T18:03:25.596Z"
   },
   {
    "duration": 305,
    "start_time": "2022-11-11T18:03:25.788Z"
   },
   {
    "duration": 166,
    "start_time": "2022-11-11T18:03:26.095Z"
   },
   {
    "duration": 189,
    "start_time": "2022-11-11T18:03:26.263Z"
   },
   {
    "duration": 111,
    "start_time": "2022-11-11T18:03:26.454Z"
   },
   {
    "duration": 552,
    "start_time": "2022-11-11T18:05:21.297Z"
   },
   {
    "duration": 156,
    "start_time": "2022-11-11T18:06:18.248Z"
   },
   {
    "duration": 214,
    "start_time": "2022-11-11T18:08:39.309Z"
   },
   {
    "duration": 3,
    "start_time": "2022-11-11T18:11:45.138Z"
   },
   {
    "duration": 172,
    "start_time": "2022-11-11T18:12:13.594Z"
   },
   {
    "duration": 3,
    "start_time": "2022-11-11T18:16:33.542Z"
   },
   {
    "duration": 200,
    "start_time": "2022-11-11T18:16:54.870Z"
   },
   {
    "duration": 179,
    "start_time": "2022-11-11T18:19:01.276Z"
   },
   {
    "duration": 13,
    "start_time": "2022-11-11T18:29:47.952Z"
   },
   {
    "duration": 24,
    "start_time": "2022-11-11T18:30:19.840Z"
   },
   {
    "duration": 23,
    "start_time": "2022-11-11T18:30:51.886Z"
   },
   {
    "duration": 9,
    "start_time": "2022-11-11T18:31:32.861Z"
   },
   {
    "duration": 8,
    "start_time": "2022-11-11T18:31:53.495Z"
   },
   {
    "duration": 7,
    "start_time": "2022-11-11T18:34:48.003Z"
   },
   {
    "duration": 776,
    "start_time": "2022-11-11T18:34:59.615Z"
   },
   {
    "duration": 34,
    "start_time": "2022-11-11T18:35:00.393Z"
   },
   {
    "duration": 5,
    "start_time": "2022-11-11T18:35:00.428Z"
   },
   {
    "duration": 30,
    "start_time": "2022-11-11T18:35:00.435Z"
   },
   {
    "duration": 22,
    "start_time": "2022-11-11T18:35:00.467Z"
   },
   {
    "duration": 35,
    "start_time": "2022-11-11T18:35:00.491Z"
   },
   {
    "duration": 72,
    "start_time": "2022-11-11T18:35:00.527Z"
   },
   {
    "duration": 47,
    "start_time": "2022-11-11T18:35:00.601Z"
   },
   {
    "duration": 24,
    "start_time": "2022-11-11T18:35:00.650Z"
   },
   {
    "duration": 246,
    "start_time": "2022-11-11T18:35:00.677Z"
   },
   {
    "duration": 11,
    "start_time": "2022-11-11T18:35:00.925Z"
   },
   {
    "duration": 66,
    "start_time": "2022-11-11T18:35:00.938Z"
   },
   {
    "duration": 9,
    "start_time": "2022-11-11T18:35:01.006Z"
   },
   {
    "duration": 43,
    "start_time": "2022-11-11T18:35:01.017Z"
   },
   {
    "duration": 31,
    "start_time": "2022-11-11T18:35:01.062Z"
   },
   {
    "duration": 34,
    "start_time": "2022-11-11T18:35:01.096Z"
   },
   {
    "duration": 29,
    "start_time": "2022-11-11T18:35:01.131Z"
   },
   {
    "duration": 20,
    "start_time": "2022-11-11T18:35:01.162Z"
   },
   {
    "duration": 22,
    "start_time": "2022-11-11T18:35:01.183Z"
   },
   {
    "duration": 280,
    "start_time": "2022-11-11T18:35:01.206Z"
   },
   {
    "duration": 221,
    "start_time": "2022-11-11T18:35:01.487Z"
   },
   {
    "duration": 324,
    "start_time": "2022-11-11T18:35:01.709Z"
   },
   {
    "duration": 261,
    "start_time": "2022-11-11T18:35:02.035Z"
   },
   {
    "duration": 152,
    "start_time": "2022-11-11T18:35:02.298Z"
   },
   {
    "duration": 171,
    "start_time": "2022-11-11T18:35:02.451Z"
   },
   {
    "duration": 154,
    "start_time": "2022-11-11T18:35:02.623Z"
   },
   {
    "duration": 160,
    "start_time": "2022-11-11T18:35:02.779Z"
   },
   {
    "duration": 191,
    "start_time": "2022-11-11T18:35:02.944Z"
   },
   {
    "duration": 283,
    "start_time": "2022-11-11T18:35:03.137Z"
   },
   {
    "duration": 349,
    "start_time": "2022-11-11T18:35:03.421Z"
   },
   {
    "duration": 307,
    "start_time": "2022-11-11T18:35:03.772Z"
   },
   {
    "duration": 426,
    "start_time": "2022-11-11T18:35:04.081Z"
   },
   {
    "duration": 10,
    "start_time": "2022-11-11T18:35:04.509Z"
   },
   {
    "duration": 284,
    "start_time": "2022-11-11T18:35:04.521Z"
   },
   {
    "duration": 132,
    "start_time": "2022-11-11T18:35:04.807Z"
   },
   {
    "duration": 176,
    "start_time": "2022-11-11T18:35:04.940Z"
   },
   {
    "duration": 290,
    "start_time": "2022-11-11T18:35:05.118Z"
   },
   {
    "duration": 170,
    "start_time": "2022-11-11T18:35:05.410Z"
   },
   {
    "duration": 181,
    "start_time": "2022-11-11T18:35:05.581Z"
   },
   {
    "duration": 172,
    "start_time": "2022-11-11T18:35:05.764Z"
   },
   {
    "duration": 172,
    "start_time": "2022-11-11T18:35:05.939Z"
   },
   {
    "duration": 178,
    "start_time": "2022-11-11T18:35:06.113Z"
   },
   {
    "duration": 179,
    "start_time": "2022-11-11T18:35:06.293Z"
   },
   {
    "duration": 26,
    "start_time": "2022-11-11T18:35:06.474Z"
   },
   {
    "duration": 8,
    "start_time": "2022-11-11T18:35:06.502Z"
   },
   {
    "duration": 26,
    "start_time": "2022-11-11T18:35:06.512Z"
   },
   {
    "duration": 93,
    "start_time": "2022-11-11T18:35:06.540Z"
   },
   {
    "duration": 4,
    "start_time": "2022-11-11T18:35:17.963Z"
   },
   {
    "duration": 19,
    "start_time": "2022-11-11T18:38:59.743Z"
   },
   {
    "duration": 174,
    "start_time": "2022-11-11T18:41:33.389Z"
   },
   {
    "duration": 771,
    "start_time": "2022-11-12T07:41:32.856Z"
   },
   {
    "duration": 37,
    "start_time": "2022-11-12T07:41:33.630Z"
   },
   {
    "duration": 17,
    "start_time": "2022-11-12T07:41:33.669Z"
   },
   {
    "duration": 19,
    "start_time": "2022-11-12T07:41:33.687Z"
   },
   {
    "duration": 17,
    "start_time": "2022-11-12T07:41:33.708Z"
   },
   {
    "duration": 34,
    "start_time": "2022-11-12T07:41:33.727Z"
   },
   {
    "duration": 32,
    "start_time": "2022-11-12T07:41:33.762Z"
   },
   {
    "duration": 29,
    "start_time": "2022-11-12T07:41:33.797Z"
   },
   {
    "duration": 9,
    "start_time": "2022-11-12T07:41:33.828Z"
   },
   {
    "duration": 221,
    "start_time": "2022-11-12T07:41:33.839Z"
   },
   {
    "duration": 11,
    "start_time": "2022-11-12T07:41:34.062Z"
   },
   {
    "duration": 46,
    "start_time": "2022-11-12T07:41:34.075Z"
   },
   {
    "duration": 6,
    "start_time": "2022-11-12T07:41:34.123Z"
   },
   {
    "duration": 4,
    "start_time": "2022-11-12T07:41:34.132Z"
   },
   {
    "duration": 11,
    "start_time": "2022-11-12T07:41:34.138Z"
   },
   {
    "duration": 5,
    "start_time": "2022-11-12T07:41:34.151Z"
   },
   {
    "duration": 10,
    "start_time": "2022-11-12T07:41:34.158Z"
   },
   {
    "duration": 11,
    "start_time": "2022-11-12T07:41:34.170Z"
   },
   {
    "duration": 27,
    "start_time": "2022-11-12T07:41:34.183Z"
   },
   {
    "duration": 256,
    "start_time": "2022-11-12T07:41:34.212Z"
   },
   {
    "duration": 207,
    "start_time": "2022-11-12T07:41:34.470Z"
   },
   {
    "duration": 311,
    "start_time": "2022-11-12T07:41:34.679Z"
   },
   {
    "duration": 259,
    "start_time": "2022-11-12T07:41:34.992Z"
   },
   {
    "duration": 139,
    "start_time": "2022-11-12T07:41:35.252Z"
   },
   {
    "duration": 147,
    "start_time": "2022-11-12T07:41:35.404Z"
   },
   {
    "duration": 158,
    "start_time": "2022-11-12T07:41:35.552Z"
   },
   {
    "duration": 133,
    "start_time": "2022-11-12T07:41:35.711Z"
   },
   {
    "duration": 155,
    "start_time": "2022-11-12T07:41:35.845Z"
   },
   {
    "duration": 262,
    "start_time": "2022-11-12T07:41:36.004Z"
   },
   {
    "duration": 338,
    "start_time": "2022-11-12T07:41:36.268Z"
   },
   {
    "duration": 254,
    "start_time": "2022-11-12T07:41:36.608Z"
   },
   {
    "duration": 353,
    "start_time": "2022-11-12T07:41:36.864Z"
   },
   {
    "duration": 8,
    "start_time": "2022-11-12T07:41:37.219Z"
   },
   {
    "duration": 373,
    "start_time": "2022-11-12T07:41:37.229Z"
   },
   {
    "duration": 130,
    "start_time": "2022-11-12T07:41:37.605Z"
   },
   {
    "duration": 176,
    "start_time": "2022-11-12T07:41:37.737Z"
   },
   {
    "duration": 273,
    "start_time": "2022-11-12T07:41:37.914Z"
   },
   {
    "duration": 166,
    "start_time": "2022-11-12T07:41:38.189Z"
   },
   {
    "duration": 202,
    "start_time": "2022-11-12T07:41:38.356Z"
   },
   {
    "duration": 162,
    "start_time": "2022-11-12T07:41:38.560Z"
   },
   {
    "duration": 170,
    "start_time": "2022-11-12T07:41:38.726Z"
   },
   {
    "duration": 162,
    "start_time": "2022-11-12T07:41:38.898Z"
   },
   {
    "duration": 166,
    "start_time": "2022-11-12T07:41:39.062Z"
   },
   {
    "duration": 22,
    "start_time": "2022-11-12T07:41:39.229Z"
   },
   {
    "duration": 7,
    "start_time": "2022-11-12T07:41:39.252Z"
   },
   {
    "duration": 9,
    "start_time": "2022-11-12T07:41:39.261Z"
   },
   {
    "duration": 214,
    "start_time": "2022-11-12T07:41:39.271Z"
   },
   {
    "duration": 218,
    "start_time": "2022-11-12T08:45:28.544Z"
   },
   {
    "duration": 159,
    "start_time": "2022-11-12T08:47:38.242Z"
   },
   {
    "duration": 720,
    "start_time": "2022-11-12T08:50:53.870Z"
   },
   {
    "duration": 31,
    "start_time": "2022-11-12T08:50:54.592Z"
   },
   {
    "duration": 5,
    "start_time": "2022-11-12T08:50:54.624Z"
   },
   {
    "duration": 11,
    "start_time": "2022-11-12T08:50:54.630Z"
   },
   {
    "duration": 5,
    "start_time": "2022-11-12T08:50:54.642Z"
   },
   {
    "duration": 6,
    "start_time": "2022-11-12T08:50:54.649Z"
   },
   {
    "duration": 12,
    "start_time": "2022-11-12T08:50:54.657Z"
   },
   {
    "duration": 37,
    "start_time": "2022-11-12T08:50:54.671Z"
   },
   {
    "duration": 10,
    "start_time": "2022-11-12T08:50:54.710Z"
   },
   {
    "duration": 228,
    "start_time": "2022-11-12T08:50:54.722Z"
   },
   {
    "duration": 9,
    "start_time": "2022-11-12T08:50:54.952Z"
   },
   {
    "duration": 43,
    "start_time": "2022-11-12T08:50:54.963Z"
   },
   {
    "duration": 8,
    "start_time": "2022-11-12T08:50:55.008Z"
   },
   {
    "duration": 11,
    "start_time": "2022-11-12T08:50:55.017Z"
   },
   {
    "duration": 12,
    "start_time": "2022-11-12T08:50:55.030Z"
   },
   {
    "duration": 10,
    "start_time": "2022-11-12T08:50:55.043Z"
   },
   {
    "duration": 5,
    "start_time": "2022-11-12T08:50:55.055Z"
   },
   {
    "duration": 10,
    "start_time": "2022-11-12T08:50:55.062Z"
   },
   {
    "duration": 33,
    "start_time": "2022-11-12T08:50:55.073Z"
   },
   {
    "duration": 234,
    "start_time": "2022-11-12T08:50:55.108Z"
   },
   {
    "duration": 190,
    "start_time": "2022-11-12T08:50:55.343Z"
   },
   {
    "duration": 288,
    "start_time": "2022-11-12T08:50:55.535Z"
   },
   {
    "duration": 248,
    "start_time": "2022-11-12T08:50:55.825Z"
   },
   {
    "duration": 160,
    "start_time": "2022-11-12T08:50:56.075Z"
   },
   {
    "duration": 149,
    "start_time": "2022-11-12T08:50:56.237Z"
   },
   {
    "duration": 140,
    "start_time": "2022-11-12T08:50:56.387Z"
   },
   {
    "duration": 136,
    "start_time": "2022-11-12T08:50:56.529Z"
   },
   {
    "duration": 149,
    "start_time": "2022-11-12T08:50:56.668Z"
   },
   {
    "duration": 264,
    "start_time": "2022-11-12T08:50:56.819Z"
   },
   {
    "duration": 350,
    "start_time": "2022-11-12T08:50:57.086Z"
   },
   {
    "duration": 240,
    "start_time": "2022-11-12T08:50:57.438Z"
   },
   {
    "duration": 373,
    "start_time": "2022-11-12T08:50:57.679Z"
   },
   {
    "duration": 8,
    "start_time": "2022-11-12T08:50:58.054Z"
   },
   {
    "duration": 287,
    "start_time": "2022-11-12T08:50:58.063Z"
   },
   {
    "duration": 125,
    "start_time": "2022-11-12T08:50:58.352Z"
   },
   {
    "duration": 162,
    "start_time": "2022-11-12T08:50:58.479Z"
   },
   {
    "duration": 262,
    "start_time": "2022-11-12T08:50:58.642Z"
   },
   {
    "duration": 151,
    "start_time": "2022-11-12T08:50:58.906Z"
   },
   {
    "duration": 183,
    "start_time": "2022-11-12T08:50:59.058Z"
   },
   {
    "duration": 202,
    "start_time": "2022-11-12T08:50:59.243Z"
   },
   {
    "duration": 142,
    "start_time": "2022-11-12T08:50:59.447Z"
   },
   {
    "duration": 161,
    "start_time": "2022-11-12T08:50:59.591Z"
   },
   {
    "duration": 159,
    "start_time": "2022-11-12T08:50:59.754Z"
   },
   {
    "duration": 179,
    "start_time": "2022-11-12T08:50:59.914Z"
   },
   {
    "duration": 26,
    "start_time": "2022-11-12T08:51:00.095Z"
   },
   {
    "duration": 8,
    "start_time": "2022-11-12T08:51:00.123Z"
   },
   {
    "duration": 31,
    "start_time": "2022-11-12T08:51:00.133Z"
   },
   {
    "duration": 186,
    "start_time": "2022-11-12T08:51:00.166Z"
   },
   {
    "duration": 44,
    "start_time": "2022-11-15T17:37:16.094Z"
   },
   {
    "duration": 1062,
    "start_time": "2022-11-15T17:37:26.057Z"
   },
   {
    "duration": 31,
    "start_time": "2022-11-15T17:37:27.121Z"
   },
   {
    "duration": 5,
    "start_time": "2022-11-15T17:37:27.154Z"
   },
   {
    "duration": 16,
    "start_time": "2022-11-15T17:37:27.161Z"
   },
   {
    "duration": 6,
    "start_time": "2022-11-15T17:37:27.179Z"
   },
   {
    "duration": 15,
    "start_time": "2022-11-15T17:37:27.186Z"
   },
   {
    "duration": 17,
    "start_time": "2022-11-15T17:37:27.203Z"
   },
   {
    "duration": 13,
    "start_time": "2022-11-15T17:37:27.221Z"
   },
   {
    "duration": 7,
    "start_time": "2022-11-15T17:37:27.236Z"
   },
   {
    "duration": 204,
    "start_time": "2022-11-15T17:37:27.245Z"
   },
   {
    "duration": 9,
    "start_time": "2022-11-15T17:37:27.450Z"
   },
   {
    "duration": 38,
    "start_time": "2022-11-15T17:37:27.461Z"
   },
   {
    "duration": 7,
    "start_time": "2022-11-15T17:37:27.501Z"
   },
   {
    "duration": 10,
    "start_time": "2022-11-15T17:37:27.509Z"
   },
   {
    "duration": 11,
    "start_time": "2022-11-15T17:37:27.521Z"
   },
   {
    "duration": 6,
    "start_time": "2022-11-15T17:37:27.533Z"
   },
   {
    "duration": 40,
    "start_time": "2022-11-15T17:37:27.540Z"
   },
   {
    "duration": 27,
    "start_time": "2022-11-15T17:37:27.581Z"
   },
   {
    "duration": 34,
    "start_time": "2022-11-15T17:37:27.609Z"
   },
   {
    "duration": 232,
    "start_time": "2022-11-15T17:37:27.644Z"
   },
   {
    "duration": 171,
    "start_time": "2022-11-15T17:37:27.877Z"
   },
   {
    "duration": 271,
    "start_time": "2022-11-15T17:37:28.049Z"
   },
   {
    "duration": 240,
    "start_time": "2022-11-15T17:37:28.322Z"
   },
   {
    "duration": 136,
    "start_time": "2022-11-15T17:37:28.564Z"
   },
   {
    "duration": 138,
    "start_time": "2022-11-15T17:37:28.701Z"
   },
   {
    "duration": 119,
    "start_time": "2022-11-15T17:37:28.841Z"
   },
   {
    "duration": 118,
    "start_time": "2022-11-15T17:37:28.962Z"
   },
   {
    "duration": 153,
    "start_time": "2022-11-15T17:37:29.084Z"
   },
   {
    "duration": 238,
    "start_time": "2022-11-15T17:37:29.238Z"
   },
   {
    "duration": 293,
    "start_time": "2022-11-15T17:37:29.478Z"
   },
   {
    "duration": 221,
    "start_time": "2022-11-15T17:37:29.773Z"
   },
   {
    "duration": 345,
    "start_time": "2022-11-15T17:37:29.996Z"
   },
   {
    "duration": 8,
    "start_time": "2022-11-15T17:37:30.342Z"
   },
   {
    "duration": 237,
    "start_time": "2022-11-15T17:37:30.351Z"
   },
   {
    "duration": 107,
    "start_time": "2022-11-15T17:37:30.590Z"
   },
   {
    "duration": 151,
    "start_time": "2022-11-15T17:37:30.699Z"
   },
   {
    "duration": 266,
    "start_time": "2022-11-15T17:37:30.852Z"
   },
   {
    "duration": 138,
    "start_time": "2022-11-15T17:37:31.120Z"
   },
   {
    "duration": 176,
    "start_time": "2022-11-15T17:37:31.260Z"
   },
   {
    "duration": 229,
    "start_time": "2022-11-15T17:37:31.438Z"
   },
   {
    "duration": 139,
    "start_time": "2022-11-15T17:37:31.669Z"
   },
   {
    "duration": 140,
    "start_time": "2022-11-15T17:37:31.810Z"
   },
   {
    "duration": 150,
    "start_time": "2022-11-15T17:37:31.951Z"
   },
   {
    "duration": 155,
    "start_time": "2022-11-15T17:37:32.103Z"
   },
   {
    "duration": 30,
    "start_time": "2022-11-15T17:37:32.259Z"
   },
   {
    "duration": 7,
    "start_time": "2022-11-15T17:37:32.290Z"
   },
   {
    "duration": 14,
    "start_time": "2022-11-15T17:37:32.298Z"
   },
   {
    "duration": 159,
    "start_time": "2022-11-15T17:37:32.314Z"
   },
   {
    "duration": 5,
    "start_time": "2022-11-15T17:38:01.336Z"
   },
   {
    "duration": 7,
    "start_time": "2022-11-15T17:39:16.977Z"
   },
   {
    "duration": 70,
    "start_time": "2022-11-15T18:00:38.845Z"
   },
   {
    "duration": 672,
    "start_time": "2022-11-15T18:02:01.688Z"
   },
   {
    "duration": 29,
    "start_time": "2022-11-15T18:02:02.361Z"
   },
   {
    "duration": 4,
    "start_time": "2022-11-15T18:02:02.391Z"
   },
   {
    "duration": 32,
    "start_time": "2022-11-15T18:02:02.396Z"
   },
   {
    "duration": 40,
    "start_time": "2022-11-15T18:02:02.430Z"
   },
   {
    "duration": 33,
    "start_time": "2022-11-15T18:02:02.471Z"
   },
   {
    "duration": 28,
    "start_time": "2022-11-15T18:02:02.505Z"
   },
   {
    "duration": 24,
    "start_time": "2022-11-15T18:02:02.535Z"
   },
   {
    "duration": 21,
    "start_time": "2022-11-15T18:02:02.560Z"
   },
   {
    "duration": 12,
    "start_time": "2022-11-15T18:02:02.583Z"
   },
   {
    "duration": 208,
    "start_time": "2022-11-15T18:02:02.596Z"
   },
   {
    "duration": 10,
    "start_time": "2022-11-15T18:02:02.806Z"
   },
   {
    "duration": 52,
    "start_time": "2022-11-15T18:02:02.817Z"
   },
   {
    "duration": 8,
    "start_time": "2022-11-15T18:02:02.871Z"
   },
   {
    "duration": 15,
    "start_time": "2022-11-15T18:02:02.881Z"
   },
   {
    "duration": 16,
    "start_time": "2022-11-15T18:02:02.898Z"
   },
   {
    "duration": 7,
    "start_time": "2022-11-15T18:02:02.915Z"
   },
   {
    "duration": 7,
    "start_time": "2022-11-15T18:02:02.923Z"
   },
   {
    "duration": 34,
    "start_time": "2022-11-15T18:02:02.932Z"
   },
   {
    "duration": 72,
    "start_time": "2022-11-15T18:02:02.968Z"
   },
   {
    "duration": 0,
    "start_time": "2022-11-15T18:02:03.043Z"
   },
   {
    "duration": 0,
    "start_time": "2022-11-15T18:02:03.044Z"
   },
   {
    "duration": 0,
    "start_time": "2022-11-15T18:02:03.045Z"
   },
   {
    "duration": 0,
    "start_time": "2022-11-15T18:02:03.047Z"
   },
   {
    "duration": 0,
    "start_time": "2022-11-15T18:02:03.048Z"
   },
   {
    "duration": 0,
    "start_time": "2022-11-15T18:02:03.049Z"
   },
   {
    "duration": 0,
    "start_time": "2022-11-15T18:02:03.051Z"
   },
   {
    "duration": 0,
    "start_time": "2022-11-15T18:02:03.052Z"
   },
   {
    "duration": 0,
    "start_time": "2022-11-15T18:02:03.077Z"
   },
   {
    "duration": 0,
    "start_time": "2022-11-15T18:02:03.079Z"
   },
   {
    "duration": 0,
    "start_time": "2022-11-15T18:02:03.080Z"
   },
   {
    "duration": 0,
    "start_time": "2022-11-15T18:02:03.082Z"
   },
   {
    "duration": 0,
    "start_time": "2022-11-15T18:02:03.082Z"
   },
   {
    "duration": 0,
    "start_time": "2022-11-15T18:02:03.083Z"
   },
   {
    "duration": 1,
    "start_time": "2022-11-15T18:02:03.084Z"
   },
   {
    "duration": 0,
    "start_time": "2022-11-15T18:02:03.085Z"
   },
   {
    "duration": 0,
    "start_time": "2022-11-15T18:02:03.086Z"
   },
   {
    "duration": 0,
    "start_time": "2022-11-15T18:02:03.087Z"
   },
   {
    "duration": 0,
    "start_time": "2022-11-15T18:02:03.088Z"
   },
   {
    "duration": 0,
    "start_time": "2022-11-15T18:02:03.089Z"
   },
   {
    "duration": 0,
    "start_time": "2022-11-15T18:02:03.090Z"
   },
   {
    "duration": 0,
    "start_time": "2022-11-15T18:02:03.091Z"
   },
   {
    "duration": 0,
    "start_time": "2022-11-15T18:02:03.092Z"
   },
   {
    "duration": 0,
    "start_time": "2022-11-15T18:02:03.093Z"
   },
   {
    "duration": 0,
    "start_time": "2022-11-15T18:02:03.094Z"
   },
   {
    "duration": 0,
    "start_time": "2022-11-15T18:02:03.095Z"
   },
   {
    "duration": 0,
    "start_time": "2022-11-15T18:02:03.096Z"
   },
   {
    "duration": 0,
    "start_time": "2022-11-15T18:02:03.097Z"
   },
   {
    "duration": 0,
    "start_time": "2022-11-15T18:02:03.098Z"
   },
   {
    "duration": 7,
    "start_time": "2022-11-15T18:03:36.281Z"
   },
   {
    "duration": 46,
    "start_time": "2022-11-16T17:06:02.983Z"
   },
   {
    "duration": 932,
    "start_time": "2022-11-16T17:06:11.499Z"
   },
   {
    "duration": 35,
    "start_time": "2022-11-16T17:06:12.433Z"
   },
   {
    "duration": 4,
    "start_time": "2022-11-16T17:06:12.469Z"
   },
   {
    "duration": 10,
    "start_time": "2022-11-16T17:06:12.475Z"
   },
   {
    "duration": 5,
    "start_time": "2022-11-16T17:06:12.486Z"
   },
   {
    "duration": 29,
    "start_time": "2022-11-16T17:06:12.493Z"
   },
   {
    "duration": 4,
    "start_time": "2022-11-16T17:06:12.523Z"
   },
   {
    "duration": 11,
    "start_time": "2022-11-16T17:06:12.529Z"
   },
   {
    "duration": 13,
    "start_time": "2022-11-16T17:06:12.541Z"
   },
   {
    "duration": 8,
    "start_time": "2022-11-16T17:06:12.556Z"
   },
   {
    "duration": 219,
    "start_time": "2022-11-16T17:06:12.565Z"
   },
   {
    "duration": 10,
    "start_time": "2022-11-16T17:06:12.786Z"
   },
   {
    "duration": 44,
    "start_time": "2022-11-16T17:06:12.798Z"
   },
   {
    "duration": 7,
    "start_time": "2022-11-16T17:06:12.844Z"
   },
   {
    "duration": 4,
    "start_time": "2022-11-16T17:06:12.853Z"
   },
   {
    "duration": 16,
    "start_time": "2022-11-16T17:06:12.859Z"
   },
   {
    "duration": 8,
    "start_time": "2022-11-16T17:06:12.877Z"
   },
   {
    "duration": 26,
    "start_time": "2022-11-16T17:06:12.887Z"
   },
   {
    "duration": 11,
    "start_time": "2022-11-16T17:06:12.915Z"
   },
   {
    "duration": 69,
    "start_time": "2022-11-16T17:06:12.927Z"
   },
   {
    "duration": 0,
    "start_time": "2022-11-16T17:06:13.013Z"
   },
   {
    "duration": 0,
    "start_time": "2022-11-16T17:06:13.014Z"
   },
   {
    "duration": 0,
    "start_time": "2022-11-16T17:06:13.015Z"
   },
   {
    "duration": 0,
    "start_time": "2022-11-16T17:06:13.016Z"
   },
   {
    "duration": 0,
    "start_time": "2022-11-16T17:06:13.017Z"
   },
   {
    "duration": 0,
    "start_time": "2022-11-16T17:06:13.018Z"
   },
   {
    "duration": 0,
    "start_time": "2022-11-16T17:06:13.019Z"
   },
   {
    "duration": 0,
    "start_time": "2022-11-16T17:06:13.020Z"
   },
   {
    "duration": 0,
    "start_time": "2022-11-16T17:06:13.021Z"
   },
   {
    "duration": 0,
    "start_time": "2022-11-16T17:06:13.022Z"
   },
   {
    "duration": 0,
    "start_time": "2022-11-16T17:06:13.023Z"
   },
   {
    "duration": 0,
    "start_time": "2022-11-16T17:06:13.025Z"
   },
   {
    "duration": 0,
    "start_time": "2022-11-16T17:06:13.026Z"
   },
   {
    "duration": 0,
    "start_time": "2022-11-16T17:06:13.027Z"
   },
   {
    "duration": 0,
    "start_time": "2022-11-16T17:06:13.028Z"
   },
   {
    "duration": 0,
    "start_time": "2022-11-16T17:06:13.029Z"
   },
   {
    "duration": 0,
    "start_time": "2022-11-16T17:06:13.030Z"
   },
   {
    "duration": 0,
    "start_time": "2022-11-16T17:06:13.031Z"
   },
   {
    "duration": 0,
    "start_time": "2022-11-16T17:06:13.032Z"
   },
   {
    "duration": 0,
    "start_time": "2022-11-16T17:06:13.033Z"
   },
   {
    "duration": 0,
    "start_time": "2022-11-16T17:06:13.034Z"
   },
   {
    "duration": 0,
    "start_time": "2022-11-16T17:06:13.035Z"
   },
   {
    "duration": 0,
    "start_time": "2022-11-16T17:06:13.036Z"
   },
   {
    "duration": 0,
    "start_time": "2022-11-16T17:06:13.037Z"
   },
   {
    "duration": 0,
    "start_time": "2022-11-16T17:06:13.038Z"
   },
   {
    "duration": 0,
    "start_time": "2022-11-16T17:06:13.039Z"
   },
   {
    "duration": 0,
    "start_time": "2022-11-16T17:06:13.040Z"
   },
   {
    "duration": 0,
    "start_time": "2022-11-16T17:06:13.041Z"
   },
   {
    "duration": 0,
    "start_time": "2022-11-16T17:06:13.042Z"
   },
   {
    "duration": 11,
    "start_time": "2022-11-16T17:06:25.888Z"
   },
   {
    "duration": 10,
    "start_time": "2022-11-16T17:06:46.957Z"
   },
   {
    "duration": 8,
    "start_time": "2022-11-16T17:07:01.357Z"
   },
   {
    "duration": 7,
    "start_time": "2022-11-16T17:07:10.619Z"
   },
   {
    "duration": 5,
    "start_time": "2022-11-16T17:17:36.139Z"
   },
   {
    "duration": 4,
    "start_time": "2022-11-16T17:18:00.224Z"
   },
   {
    "duration": 5,
    "start_time": "2022-11-16T17:18:31.743Z"
   },
   {
    "duration": 5,
    "start_time": "2022-11-16T17:20:11.247Z"
   },
   {
    "duration": 3,
    "start_time": "2022-11-16T17:20:14.440Z"
   },
   {
    "duration": 5,
    "start_time": "2022-11-16T17:20:17.072Z"
   },
   {
    "duration": 17,
    "start_time": "2022-11-16T17:22:28.634Z"
   },
   {
    "duration": 4,
    "start_time": "2022-11-16T17:26:21.057Z"
   },
   {
    "duration": 4,
    "start_time": "2022-11-16T17:27:46.503Z"
   },
   {
    "duration": 5,
    "start_time": "2022-11-16T17:28:35.910Z"
   },
   {
    "duration": 4,
    "start_time": "2022-11-16T17:28:48.768Z"
   },
   {
    "duration": 4,
    "start_time": "2022-11-16T17:30:23.525Z"
   },
   {
    "duration": 5,
    "start_time": "2022-11-16T17:30:46.548Z"
   },
   {
    "duration": 93,
    "start_time": "2022-11-16T17:31:42.957Z"
   },
   {
    "duration": 145,
    "start_time": "2022-11-16T17:32:01.383Z"
   },
   {
    "duration": 5,
    "start_time": "2022-11-16T17:32:24.187Z"
   },
   {
    "duration": 4,
    "start_time": "2022-11-16T17:33:38.114Z"
   },
   {
    "duration": 1169,
    "start_time": "2022-11-16T17:41:13.771Z"
   },
   {
    "duration": 655,
    "start_time": "2022-11-16T17:41:32.452Z"
   },
   {
    "duration": 30,
    "start_time": "2022-11-16T17:41:33.109Z"
   },
   {
    "duration": 4,
    "start_time": "2022-11-16T17:41:33.140Z"
   },
   {
    "duration": 17,
    "start_time": "2022-11-16T17:41:33.146Z"
   },
   {
    "duration": 5,
    "start_time": "2022-11-16T17:41:33.164Z"
   },
   {
    "duration": 27,
    "start_time": "2022-11-16T17:41:33.171Z"
   },
   {
    "duration": 13,
    "start_time": "2022-11-16T17:41:33.200Z"
   },
   {
    "duration": 13,
    "start_time": "2022-11-16T17:41:33.215Z"
   },
   {
    "duration": 20,
    "start_time": "2022-11-16T17:41:33.230Z"
   },
   {
    "duration": 6,
    "start_time": "2022-11-16T17:41:33.253Z"
   },
   {
    "duration": 12,
    "start_time": "2022-11-16T17:41:33.261Z"
   },
   {
    "duration": 12,
    "start_time": "2022-11-16T17:41:33.275Z"
   },
   {
    "duration": 13,
    "start_time": "2022-11-16T17:41:33.288Z"
   },
   {
    "duration": 36,
    "start_time": "2022-11-16T17:41:33.302Z"
   },
   {
    "duration": 10,
    "start_time": "2022-11-16T17:41:33.340Z"
   },
   {
    "duration": 11,
    "start_time": "2022-11-16T17:41:33.351Z"
   },
   {
    "duration": 17,
    "start_time": "2022-11-16T17:41:33.364Z"
   },
   {
    "duration": 12,
    "start_time": "2022-11-16T17:41:33.382Z"
   },
   {
    "duration": 20,
    "start_time": "2022-11-16T17:41:33.395Z"
   },
   {
    "duration": 8,
    "start_time": "2022-11-16T17:41:33.416Z"
   },
   {
    "duration": 84,
    "start_time": "2022-11-16T17:41:33.425Z"
   },
   {
    "duration": 6,
    "start_time": "2022-11-16T17:41:33.511Z"
   },
   {
    "duration": 16,
    "start_time": "2022-11-16T17:41:33.519Z"
   },
   {
    "duration": 1190,
    "start_time": "2022-11-16T17:41:33.537Z"
   },
   {
    "duration": 0,
    "start_time": "2022-11-16T17:41:34.729Z"
   },
   {
    "duration": 0,
    "start_time": "2022-11-16T17:41:34.730Z"
   },
   {
    "duration": 0,
    "start_time": "2022-11-16T17:41:34.731Z"
   },
   {
    "duration": 0,
    "start_time": "2022-11-16T17:41:34.732Z"
   },
   {
    "duration": 0,
    "start_time": "2022-11-16T17:41:34.733Z"
   },
   {
    "duration": 0,
    "start_time": "2022-11-16T17:41:34.734Z"
   },
   {
    "duration": 0,
    "start_time": "2022-11-16T17:41:34.735Z"
   },
   {
    "duration": 0,
    "start_time": "2022-11-16T17:41:34.736Z"
   },
   {
    "duration": 0,
    "start_time": "2022-11-16T17:41:34.737Z"
   },
   {
    "duration": 0,
    "start_time": "2022-11-16T17:41:34.738Z"
   },
   {
    "duration": 0,
    "start_time": "2022-11-16T17:41:34.740Z"
   },
   {
    "duration": 0,
    "start_time": "2022-11-16T17:41:34.740Z"
   },
   {
    "duration": 0,
    "start_time": "2022-11-16T17:41:34.742Z"
   },
   {
    "duration": 0,
    "start_time": "2022-11-16T17:41:34.743Z"
   },
   {
    "duration": 0,
    "start_time": "2022-11-16T17:41:34.743Z"
   },
   {
    "duration": 0,
    "start_time": "2022-11-16T17:41:34.744Z"
   },
   {
    "duration": 0,
    "start_time": "2022-11-16T17:41:34.745Z"
   },
   {
    "duration": 0,
    "start_time": "2022-11-16T17:41:34.746Z"
   },
   {
    "duration": 0,
    "start_time": "2022-11-16T17:41:34.747Z"
   },
   {
    "duration": 0,
    "start_time": "2022-11-16T17:41:34.748Z"
   },
   {
    "duration": 0,
    "start_time": "2022-11-16T17:41:34.749Z"
   },
   {
    "duration": 0,
    "start_time": "2022-11-16T17:41:34.750Z"
   },
   {
    "duration": 0,
    "start_time": "2022-11-16T17:41:34.751Z"
   },
   {
    "duration": 0,
    "start_time": "2022-11-16T17:41:34.752Z"
   },
   {
    "duration": 0,
    "start_time": "2022-11-16T17:41:34.754Z"
   },
   {
    "duration": 0,
    "start_time": "2022-11-16T17:41:34.755Z"
   },
   {
    "duration": 0,
    "start_time": "2022-11-16T17:41:34.756Z"
   },
   {
    "duration": 0,
    "start_time": "2022-11-16T17:41:34.757Z"
   },
   {
    "duration": 0,
    "start_time": "2022-11-16T17:41:34.758Z"
   },
   {
    "duration": 0,
    "start_time": "2022-11-16T17:41:34.759Z"
   },
   {
    "duration": 0,
    "start_time": "2022-11-16T17:41:34.760Z"
   },
   {
    "duration": 0,
    "start_time": "2022-11-16T17:41:34.761Z"
   },
   {
    "duration": 0,
    "start_time": "2022-11-16T17:41:34.762Z"
   },
   {
    "duration": 0,
    "start_time": "2022-11-16T17:41:34.763Z"
   },
   {
    "duration": 0,
    "start_time": "2022-11-16T17:41:34.764Z"
   },
   {
    "duration": 5,
    "start_time": "2022-11-16T17:42:23.968Z"
   },
   {
    "duration": 6,
    "start_time": "2022-11-16T17:42:55.416Z"
   },
   {
    "duration": 4,
    "start_time": "2022-11-16T17:43:56.225Z"
   },
   {
    "duration": 4,
    "start_time": "2022-11-16T17:44:16.457Z"
   },
   {
    "duration": 4,
    "start_time": "2022-11-16T17:45:37.990Z"
   },
   {
    "duration": 6,
    "start_time": "2022-11-16T17:45:39.215Z"
   },
   {
    "duration": 6,
    "start_time": "2022-11-16T17:45:39.983Z"
   },
   {
    "duration": 5,
    "start_time": "2022-11-16T17:45:40.582Z"
   },
   {
    "duration": 11,
    "start_time": "2022-11-16T17:45:41.230Z"
   },
   {
    "duration": 8,
    "start_time": "2022-11-16T17:45:41.917Z"
   },
   {
    "duration": 294,
    "start_time": "2022-11-16T17:45:49.047Z"
   },
   {
    "duration": 196,
    "start_time": "2022-11-16T17:45:55.319Z"
   },
   {
    "duration": 213,
    "start_time": "2022-11-16T17:46:08.304Z"
   },
   {
    "duration": 309,
    "start_time": "2022-11-16T17:46:10.295Z"
   },
   {
    "duration": 131,
    "start_time": "2022-11-16T17:46:16.382Z"
   },
   {
    "duration": 130,
    "start_time": "2022-11-16T17:46:18.125Z"
   },
   {
    "duration": 130,
    "start_time": "2022-11-16T17:46:20.501Z"
   },
   {
    "duration": 115,
    "start_time": "2022-11-16T17:46:21.686Z"
   },
   {
    "duration": 212,
    "start_time": "2022-11-16T17:46:30.718Z"
   },
   {
    "duration": 235,
    "start_time": "2022-11-16T17:46:32.975Z"
   },
   {
    "duration": 210,
    "start_time": "2022-11-16T17:46:34.977Z"
   },
   {
    "duration": 229,
    "start_time": "2022-11-16T17:46:37.950Z"
   },
   {
    "duration": 351,
    "start_time": "2022-11-16T17:46:47.969Z"
   },
   {
    "duration": 10,
    "start_time": "2022-11-16T17:46:49.910Z"
   },
   {
    "duration": 320,
    "start_time": "2022-11-16T17:46:53.574Z"
   },
   {
    "duration": 105,
    "start_time": "2022-11-16T17:46:54.969Z"
   },
   {
    "duration": 164,
    "start_time": "2022-11-16T17:52:05.905Z"
   },
   {
    "duration": 153,
    "start_time": "2022-11-16T17:56:28.342Z"
   },
   {
    "duration": 133,
    "start_time": "2022-11-16T17:58:05.204Z"
   },
   {
    "duration": 136,
    "start_time": "2022-11-16T17:59:12.938Z"
   },
   {
    "duration": 213,
    "start_time": "2022-11-16T18:00:25.353Z"
   },
   {
    "duration": 134,
    "start_time": "2022-11-16T18:07:48.501Z"
   },
   {
    "duration": 133,
    "start_time": "2022-11-16T18:09:09.202Z"
   },
   {
    "duration": 145,
    "start_time": "2022-11-16T18:09:12.688Z"
   },
   {
    "duration": 172,
    "start_time": "2022-11-16T18:09:14.856Z"
   },
   {
    "duration": 25,
    "start_time": "2022-11-16T18:09:17.248Z"
   },
   {
    "duration": 8,
    "start_time": "2022-11-16T18:09:19.495Z"
   },
   {
    "duration": 7,
    "start_time": "2022-11-16T18:09:20.512Z"
   },
   {
    "duration": 154,
    "start_time": "2022-11-16T18:09:42.712Z"
   },
   {
    "duration": 219,
    "start_time": "2022-11-16T18:30:53.588Z"
   },
   {
    "duration": 119,
    "start_time": "2022-11-16T18:30:59.899Z"
   },
   {
    "duration": 106,
    "start_time": "2022-11-16T18:31:12.957Z"
   },
   {
    "duration": 282,
    "start_time": "2022-11-16T18:31:30.123Z"
   },
   {
    "duration": 111,
    "start_time": "2022-11-16T18:31:39.739Z"
   },
   {
    "duration": 115,
    "start_time": "2022-11-16T18:31:52.018Z"
   },
   {
    "duration": 112,
    "start_time": "2022-11-16T18:32:22.818Z"
   },
   {
    "duration": 123,
    "start_time": "2022-11-16T18:32:32.138Z"
   },
   {
    "duration": 1165,
    "start_time": "2022-11-17T07:00:32.441Z"
   },
   {
    "duration": 39,
    "start_time": "2022-11-17T07:00:33.608Z"
   },
   {
    "duration": 19,
    "start_time": "2022-11-17T07:00:33.649Z"
   },
   {
    "duration": 45,
    "start_time": "2022-11-17T07:00:33.670Z"
   },
   {
    "duration": 11,
    "start_time": "2022-11-17T07:00:33.718Z"
   },
   {
    "duration": 51,
    "start_time": "2022-11-17T07:00:33.732Z"
   },
   {
    "duration": 21,
    "start_time": "2022-11-17T07:00:33.785Z"
   },
   {
    "duration": 28,
    "start_time": "2022-11-17T07:00:33.807Z"
   },
   {
    "duration": 29,
    "start_time": "2022-11-17T07:00:33.837Z"
   },
   {
    "duration": 25,
    "start_time": "2022-11-17T07:00:33.869Z"
   },
   {
    "duration": 20,
    "start_time": "2022-11-17T07:00:33.895Z"
   },
   {
    "duration": 13,
    "start_time": "2022-11-17T07:00:33.917Z"
   },
   {
    "duration": 39,
    "start_time": "2022-11-17T07:00:33.932Z"
   },
   {
    "duration": 32,
    "start_time": "2022-11-17T07:00:33.973Z"
   },
   {
    "duration": 23,
    "start_time": "2022-11-17T07:00:34.007Z"
   },
   {
    "duration": 22,
    "start_time": "2022-11-17T07:00:34.032Z"
   },
   {
    "duration": 17,
    "start_time": "2022-11-17T07:00:34.056Z"
   },
   {
    "duration": 12,
    "start_time": "2022-11-17T07:00:34.075Z"
   },
   {
    "duration": 21,
    "start_time": "2022-11-17T07:00:34.089Z"
   },
   {
    "duration": 19,
    "start_time": "2022-11-17T07:00:34.112Z"
   },
   {
    "duration": 111,
    "start_time": "2022-11-17T07:00:34.133Z"
   },
   {
    "duration": 6,
    "start_time": "2022-11-17T07:00:34.246Z"
   },
   {
    "duration": 30,
    "start_time": "2022-11-17T07:00:34.254Z"
   },
   {
    "duration": 29,
    "start_time": "2022-11-17T07:00:34.285Z"
   },
   {
    "duration": 22,
    "start_time": "2022-11-17T07:00:34.315Z"
   },
   {
    "duration": 53,
    "start_time": "2022-11-17T07:00:34.339Z"
   },
   {
    "duration": 20,
    "start_time": "2022-11-17T07:00:34.394Z"
   },
   {
    "duration": 47,
    "start_time": "2022-11-17T07:00:34.419Z"
   },
   {
    "duration": 42,
    "start_time": "2022-11-17T07:00:34.468Z"
   },
   {
    "duration": 36,
    "start_time": "2022-11-17T07:00:34.513Z"
   },
   {
    "duration": 33,
    "start_time": "2022-11-17T07:00:34.551Z"
   },
   {
    "duration": 20,
    "start_time": "2022-11-17T07:00:34.586Z"
   },
   {
    "duration": 17,
    "start_time": "2022-11-17T07:00:34.609Z"
   },
   {
    "duration": 397,
    "start_time": "2022-11-17T07:00:34.627Z"
   },
   {
    "duration": 252,
    "start_time": "2022-11-17T07:00:35.026Z"
   },
   {
    "duration": 283,
    "start_time": "2022-11-17T07:00:35.281Z"
   },
   {
    "duration": 267,
    "start_time": "2022-11-17T07:00:35.566Z"
   },
   {
    "duration": 156,
    "start_time": "2022-11-17T07:00:35.835Z"
   },
   {
    "duration": 156,
    "start_time": "2022-11-17T07:00:35.993Z"
   },
   {
    "duration": 149,
    "start_time": "2022-11-17T07:00:36.155Z"
   },
   {
    "duration": 270,
    "start_time": "2022-11-17T07:00:36.306Z"
   },
   {
    "duration": 178,
    "start_time": "2022-11-17T07:00:36.579Z"
   },
   {
    "duration": 291,
    "start_time": "2022-11-17T07:00:36.759Z"
   },
   {
    "duration": 272,
    "start_time": "2022-11-17T07:00:37.052Z"
   },
   {
    "duration": 305,
    "start_time": "2022-11-17T07:00:37.327Z"
   },
   {
    "duration": 135,
    "start_time": "2022-11-17T07:00:37.634Z"
   },
   {
    "duration": 140,
    "start_time": "2022-11-17T07:00:37.770Z"
   },
   {
    "duration": 9,
    "start_time": "2022-11-17T07:00:37.911Z"
   },
   {
    "duration": 367,
    "start_time": "2022-11-17T07:00:37.921Z"
   },
   {
    "duration": 133,
    "start_time": "2022-11-17T07:00:38.290Z"
   },
   {
    "duration": 187,
    "start_time": "2022-11-17T07:00:38.425Z"
   },
   {
    "duration": 174,
    "start_time": "2022-11-17T07:00:38.614Z"
   },
   {
    "duration": 188,
    "start_time": "2022-11-17T07:00:38.789Z"
   },
   {
    "duration": 148,
    "start_time": "2022-11-17T07:00:38.979Z"
   },
   {
    "duration": 208,
    "start_time": "2022-11-17T07:00:39.128Z"
   },
   {
    "duration": 169,
    "start_time": "2022-11-17T07:00:39.338Z"
   },
   {
    "duration": 149,
    "start_time": "2022-11-17T07:00:39.509Z"
   },
   {
    "duration": 170,
    "start_time": "2022-11-17T07:00:39.660Z"
   },
   {
    "duration": 168,
    "start_time": "2022-11-17T07:00:39.832Z"
   },
   {
    "duration": 173,
    "start_time": "2022-11-17T07:00:40.001Z"
   },
   {
    "duration": 22,
    "start_time": "2022-11-17T07:00:40.176Z"
   },
   {
    "duration": 6,
    "start_time": "2022-11-17T07:00:40.200Z"
   },
   {
    "duration": 10,
    "start_time": "2022-11-17T07:00:40.208Z"
   },
   {
    "duration": 196,
    "start_time": "2022-11-17T07:00:40.219Z"
   },
   {
    "duration": 39,
    "start_time": "2022-11-17T07:05:31.396Z"
   },
   {
    "duration": 9,
    "start_time": "2022-11-17T07:05:39.583Z"
   },
   {
    "duration": 7,
    "start_time": "2022-11-17T07:05:55.390Z"
   },
   {
    "duration": 5,
    "start_time": "2022-11-17T07:10:30.172Z"
   },
   {
    "duration": 764,
    "start_time": "2022-11-17T07:24:48.026Z"
   },
   {
    "duration": 32,
    "start_time": "2022-11-17T07:24:48.792Z"
   },
   {
    "duration": 6,
    "start_time": "2022-11-17T07:24:48.825Z"
   },
   {
    "duration": 22,
    "start_time": "2022-11-17T07:24:48.833Z"
   },
   {
    "duration": 25,
    "start_time": "2022-11-17T07:24:48.857Z"
   },
   {
    "duration": 38,
    "start_time": "2022-11-17T07:24:48.884Z"
   },
   {
    "duration": 11,
    "start_time": "2022-11-17T07:24:48.924Z"
   },
   {
    "duration": 23,
    "start_time": "2022-11-17T07:24:48.937Z"
   },
   {
    "duration": 30,
    "start_time": "2022-11-17T07:24:48.962Z"
   },
   {
    "duration": 48,
    "start_time": "2022-11-17T07:24:48.995Z"
   },
   {
    "duration": 32,
    "start_time": "2022-11-17T07:24:49.045Z"
   },
   {
    "duration": 21,
    "start_time": "2022-11-17T07:24:49.079Z"
   },
   {
    "duration": 24,
    "start_time": "2022-11-17T07:24:49.102Z"
   },
   {
    "duration": 28,
    "start_time": "2022-11-17T07:24:49.128Z"
   },
   {
    "duration": 6,
    "start_time": "2022-11-17T07:24:49.158Z"
   },
   {
    "duration": 8,
    "start_time": "2022-11-17T07:24:49.170Z"
   },
   {
    "duration": 24,
    "start_time": "2022-11-17T07:24:49.181Z"
   },
   {
    "duration": 27,
    "start_time": "2022-11-17T07:24:49.207Z"
   },
   {
    "duration": 26,
    "start_time": "2022-11-17T07:24:49.236Z"
   },
   {
    "duration": 34,
    "start_time": "2022-11-17T07:24:49.264Z"
   },
   {
    "duration": 122,
    "start_time": "2022-11-17T07:24:49.300Z"
   },
   {
    "duration": 7,
    "start_time": "2022-11-17T07:24:49.423Z"
   },
   {
    "duration": 26,
    "start_time": "2022-11-17T07:24:49.431Z"
   },
   {
    "duration": 26,
    "start_time": "2022-11-17T07:24:49.459Z"
   },
   {
    "duration": 14,
    "start_time": "2022-11-17T07:24:49.487Z"
   },
   {
    "duration": 23,
    "start_time": "2022-11-17T07:24:49.503Z"
   },
   {
    "duration": 30,
    "start_time": "2022-11-17T07:24:49.527Z"
   },
   {
    "duration": 5,
    "start_time": "2022-11-17T07:24:49.563Z"
   },
   {
    "duration": 6,
    "start_time": "2022-11-17T07:24:49.570Z"
   },
   {
    "duration": 11,
    "start_time": "2022-11-17T07:24:49.578Z"
   },
   {
    "duration": 7,
    "start_time": "2022-11-17T07:24:49.591Z"
   },
   {
    "duration": 8,
    "start_time": "2022-11-17T07:24:49.600Z"
   },
   {
    "duration": 15,
    "start_time": "2022-11-17T07:24:49.610Z"
   },
   {
    "duration": 34,
    "start_time": "2022-11-17T07:24:49.627Z"
   },
   {
    "duration": 325,
    "start_time": "2022-11-17T07:24:49.663Z"
   },
   {
    "duration": 228,
    "start_time": "2022-11-17T07:24:49.990Z"
   },
   {
    "duration": 259,
    "start_time": "2022-11-17T07:24:50.219Z"
   },
   {
    "duration": 269,
    "start_time": "2022-11-17T07:24:50.480Z"
   },
   {
    "duration": 148,
    "start_time": "2022-11-17T07:24:50.751Z"
   },
   {
    "duration": 168,
    "start_time": "2022-11-17T07:24:50.901Z"
   },
   {
    "duration": 154,
    "start_time": "2022-11-17T07:24:51.071Z"
   },
   {
    "duration": 162,
    "start_time": "2022-11-17T07:24:51.228Z"
   },
   {
    "duration": 245,
    "start_time": "2022-11-17T07:24:51.392Z"
   },
   {
    "duration": 319,
    "start_time": "2022-11-17T07:24:51.640Z"
   },
   {
    "duration": 273,
    "start_time": "2022-11-17T07:24:51.961Z"
   },
   {
    "duration": 276,
    "start_time": "2022-11-17T07:24:52.236Z"
   },
   {
    "duration": 143,
    "start_time": "2022-11-17T07:24:52.514Z"
   },
   {
    "duration": 165,
    "start_time": "2022-11-17T07:24:52.658Z"
   },
   {
    "duration": 8,
    "start_time": "2022-11-17T07:24:52.825Z"
   },
   {
    "duration": 328,
    "start_time": "2022-11-17T07:24:52.834Z"
   },
   {
    "duration": 216,
    "start_time": "2022-11-17T07:24:53.164Z"
   },
   {
    "duration": 181,
    "start_time": "2022-11-17T07:24:53.382Z"
   },
   {
    "duration": 264,
    "start_time": "2022-11-17T07:24:53.565Z"
   },
   {
    "duration": 195,
    "start_time": "2022-11-17T07:24:53.830Z"
   },
   {
    "duration": 161,
    "start_time": "2022-11-17T07:24:54.027Z"
   },
   {
    "duration": 226,
    "start_time": "2022-11-17T07:24:54.189Z"
   },
   {
    "duration": 205,
    "start_time": "2022-11-17T07:24:54.416Z"
   },
   {
    "duration": 219,
    "start_time": "2022-11-17T07:24:54.624Z"
   },
   {
    "duration": 186,
    "start_time": "2022-11-17T07:24:54.845Z"
   },
   {
    "duration": 222,
    "start_time": "2022-11-17T07:24:55.033Z"
   },
   {
    "duration": 163,
    "start_time": "2022-11-17T07:24:55.258Z"
   },
   {
    "duration": 32,
    "start_time": "2022-11-17T07:24:55.423Z"
   },
   {
    "duration": 8,
    "start_time": "2022-11-17T07:24:55.458Z"
   },
   {
    "duration": 14,
    "start_time": "2022-11-17T07:24:55.468Z"
   },
   {
    "duration": 180,
    "start_time": "2022-11-17T07:24:55.483Z"
   },
   {
    "duration": 48,
    "start_time": "2022-11-18T09:37:05.642Z"
   },
   {
    "duration": 1180,
    "start_time": "2022-11-18T09:37:13.400Z"
   },
   {
    "duration": 35,
    "start_time": "2022-11-18T09:37:14.582Z"
   },
   {
    "duration": 5,
    "start_time": "2022-11-18T09:37:14.618Z"
   },
   {
    "duration": 19,
    "start_time": "2022-11-18T09:37:14.625Z"
   },
   {
    "duration": 16,
    "start_time": "2022-11-18T09:37:14.645Z"
   },
   {
    "duration": 25,
    "start_time": "2022-11-18T09:37:14.663Z"
   },
   {
    "duration": 14,
    "start_time": "2022-11-18T09:37:14.690Z"
   },
   {
    "duration": 106,
    "start_time": "2022-11-18T09:37:14.706Z"
   },
   {
    "duration": 0,
    "start_time": "2022-11-18T09:37:14.816Z"
   },
   {
    "duration": 0,
    "start_time": "2022-11-18T09:37:14.817Z"
   },
   {
    "duration": 0,
    "start_time": "2022-11-18T09:37:14.818Z"
   },
   {
    "duration": 0,
    "start_time": "2022-11-18T09:37:14.820Z"
   },
   {
    "duration": 0,
    "start_time": "2022-11-18T09:37:14.821Z"
   },
   {
    "duration": 0,
    "start_time": "2022-11-18T09:37:14.822Z"
   },
   {
    "duration": 0,
    "start_time": "2022-11-18T09:37:14.823Z"
   },
   {
    "duration": 0,
    "start_time": "2022-11-18T09:37:14.824Z"
   },
   {
    "duration": 0,
    "start_time": "2022-11-18T09:37:14.825Z"
   },
   {
    "duration": 0,
    "start_time": "2022-11-18T09:37:14.827Z"
   },
   {
    "duration": 0,
    "start_time": "2022-11-18T09:37:14.828Z"
   },
   {
    "duration": 0,
    "start_time": "2022-11-18T09:37:14.829Z"
   },
   {
    "duration": 0,
    "start_time": "2022-11-18T09:37:14.830Z"
   },
   {
    "duration": 0,
    "start_time": "2022-11-18T09:37:14.831Z"
   },
   {
    "duration": 0,
    "start_time": "2022-11-18T09:37:14.833Z"
   },
   {
    "duration": 0,
    "start_time": "2022-11-18T09:37:14.834Z"
   },
   {
    "duration": 0,
    "start_time": "2022-11-18T09:37:14.835Z"
   },
   {
    "duration": 0,
    "start_time": "2022-11-18T09:37:14.836Z"
   },
   {
    "duration": 0,
    "start_time": "2022-11-18T09:37:14.837Z"
   },
   {
    "duration": 0,
    "start_time": "2022-11-18T09:37:14.838Z"
   },
   {
    "duration": 0,
    "start_time": "2022-11-18T09:37:14.839Z"
   },
   {
    "duration": 0,
    "start_time": "2022-11-18T09:37:14.840Z"
   },
   {
    "duration": 0,
    "start_time": "2022-11-18T09:37:14.841Z"
   },
   {
    "duration": 0,
    "start_time": "2022-11-18T09:37:14.842Z"
   },
   {
    "duration": 0,
    "start_time": "2022-11-18T09:37:14.843Z"
   },
   {
    "duration": 0,
    "start_time": "2022-11-18T09:37:14.844Z"
   },
   {
    "duration": 0,
    "start_time": "2022-11-18T09:37:14.845Z"
   },
   {
    "duration": 0,
    "start_time": "2022-11-18T09:37:14.847Z"
   },
   {
    "duration": 0,
    "start_time": "2022-11-18T09:37:14.848Z"
   },
   {
    "duration": 0,
    "start_time": "2022-11-18T09:37:14.849Z"
   },
   {
    "duration": 0,
    "start_time": "2022-11-18T09:37:14.850Z"
   },
   {
    "duration": 0,
    "start_time": "2022-11-18T09:37:14.851Z"
   },
   {
    "duration": 0,
    "start_time": "2022-11-18T09:37:14.852Z"
   },
   {
    "duration": 0,
    "start_time": "2022-11-18T09:37:14.913Z"
   },
   {
    "duration": 0,
    "start_time": "2022-11-18T09:37:14.914Z"
   },
   {
    "duration": 0,
    "start_time": "2022-11-18T09:37:14.915Z"
   },
   {
    "duration": 0,
    "start_time": "2022-11-18T09:37:14.917Z"
   },
   {
    "duration": 0,
    "start_time": "2022-11-18T09:37:14.918Z"
   },
   {
    "duration": 0,
    "start_time": "2022-11-18T09:37:14.919Z"
   },
   {
    "duration": 0,
    "start_time": "2022-11-18T09:37:14.921Z"
   },
   {
    "duration": 0,
    "start_time": "2022-11-18T09:37:14.922Z"
   },
   {
    "duration": 0,
    "start_time": "2022-11-18T09:37:14.923Z"
   },
   {
    "duration": 0,
    "start_time": "2022-11-18T09:37:14.925Z"
   },
   {
    "duration": 0,
    "start_time": "2022-11-18T09:37:14.926Z"
   },
   {
    "duration": 0,
    "start_time": "2022-11-18T09:37:14.927Z"
   },
   {
    "duration": 0,
    "start_time": "2022-11-18T09:37:14.930Z"
   },
   {
    "duration": 0,
    "start_time": "2022-11-18T09:37:14.931Z"
   },
   {
    "duration": 0,
    "start_time": "2022-11-18T09:37:14.931Z"
   },
   {
    "duration": 0,
    "start_time": "2022-11-18T09:37:14.932Z"
   },
   {
    "duration": 0,
    "start_time": "2022-11-18T09:37:14.933Z"
   },
   {
    "duration": 0,
    "start_time": "2022-11-18T09:37:14.934Z"
   },
   {
    "duration": 0,
    "start_time": "2022-11-18T09:37:14.935Z"
   },
   {
    "duration": 0,
    "start_time": "2022-11-18T09:37:14.936Z"
   },
   {
    "duration": 0,
    "start_time": "2022-11-18T09:37:14.937Z"
   },
   {
    "duration": 0,
    "start_time": "2022-11-18T09:37:14.938Z"
   },
   {
    "duration": 0,
    "start_time": "2022-11-18T09:37:14.940Z"
   },
   {
    "duration": 1,
    "start_time": "2022-11-18T09:37:14.940Z"
   },
   {
    "duration": 19,
    "start_time": "2022-11-18T09:37:46.506Z"
   },
   {
    "duration": 14,
    "start_time": "2022-11-18T09:39:04.755Z"
   },
   {
    "duration": 13,
    "start_time": "2022-11-18T09:41:23.607Z"
   },
   {
    "duration": 7,
    "start_time": "2022-11-18T09:46:48.010Z"
   },
   {
    "duration": 12,
    "start_time": "2022-11-18T09:46:58.154Z"
   },
   {
    "duration": 9,
    "start_time": "2022-11-18T09:46:59.657Z"
   },
   {
    "duration": 7,
    "start_time": "2022-11-18T09:47:04.608Z"
   },
   {
    "duration": 6,
    "start_time": "2022-11-18T09:47:06.754Z"
   },
   {
    "duration": 6,
    "start_time": "2022-11-18T09:47:07.608Z"
   },
   {
    "duration": 15,
    "start_time": "2022-11-18T09:47:09.312Z"
   },
   {
    "duration": 94,
    "start_time": "2022-11-18T09:47:19.504Z"
   },
   {
    "duration": 7,
    "start_time": "2022-11-18T09:47:20.426Z"
   },
   {
    "duration": 3,
    "start_time": "2022-11-18T09:51:01.462Z"
   },
   {
    "duration": 6,
    "start_time": "2022-11-18T09:56:04.185Z"
   },
   {
    "duration": 10,
    "start_time": "2022-11-18T10:00:21.212Z"
   },
   {
    "duration": 8,
    "start_time": "2022-11-18T10:00:48.428Z"
   },
   {
    "duration": 7,
    "start_time": "2022-11-18T10:00:58.611Z"
   },
   {
    "duration": 6,
    "start_time": "2022-11-18T10:08:25.550Z"
   },
   {
    "duration": 8,
    "start_time": "2022-11-18T10:08:55.710Z"
   },
   {
    "duration": 5,
    "start_time": "2022-11-18T10:10:01.724Z"
   },
   {
    "duration": 7,
    "start_time": "2022-11-18T10:10:13.530Z"
   },
   {
    "duration": 9,
    "start_time": "2022-11-18T10:15:02.038Z"
   },
   {
    "duration": 8,
    "start_time": "2022-11-18T10:15:05.734Z"
   },
   {
    "duration": 5,
    "start_time": "2022-11-18T10:15:20.678Z"
   },
   {
    "duration": 6,
    "start_time": "2022-11-18T10:15:21.917Z"
   },
   {
    "duration": 5,
    "start_time": "2022-11-18T10:15:22.577Z"
   },
   {
    "duration": 6,
    "start_time": "2022-11-18T10:15:23.149Z"
   },
   {
    "duration": 11,
    "start_time": "2022-11-18T10:15:23.734Z"
   },
   {
    "duration": 9,
    "start_time": "2022-11-18T10:15:25.777Z"
   },
   {
    "duration": 242,
    "start_time": "2022-11-18T10:15:46.198Z"
   },
   {
    "duration": 16,
    "start_time": "2022-11-18T10:18:11.587Z"
   },
   {
    "duration": 8,
    "start_time": "2022-11-18T10:18:30.107Z"
   },
   {
    "duration": 5,
    "start_time": "2022-11-18T10:19:06.785Z"
   },
   {
    "duration": 4,
    "start_time": "2022-11-18T10:19:10.275Z"
   },
   {
    "duration": 8,
    "start_time": "2022-11-18T10:19:23.602Z"
   },
   {
    "duration": 15,
    "start_time": "2022-11-18T10:20:32.365Z"
   },
   {
    "duration": 15,
    "start_time": "2022-11-18T10:20:34.809Z"
   },
   {
    "duration": 9,
    "start_time": "2022-11-18T10:20:40.592Z"
   },
   {
    "duration": 10,
    "start_time": "2022-11-18T10:21:03.793Z"
   },
   {
    "duration": 8,
    "start_time": "2022-11-18T10:23:20.550Z"
   },
   {
    "duration": 200,
    "start_time": "2022-11-18T10:24:48.582Z"
   },
   {
    "duration": 289,
    "start_time": "2022-11-18T10:26:44.611Z"
   },
   {
    "duration": 806,
    "start_time": "2022-11-18T10:30:13.481Z"
   },
   {
    "duration": 39,
    "start_time": "2022-11-18T10:30:14.289Z"
   },
   {
    "duration": 6,
    "start_time": "2022-11-18T10:30:14.330Z"
   },
   {
    "duration": 26,
    "start_time": "2022-11-18T10:30:14.338Z"
   },
   {
    "duration": 17,
    "start_time": "2022-11-18T10:30:14.365Z"
   },
   {
    "duration": 27,
    "start_time": "2022-11-18T10:30:14.384Z"
   },
   {
    "duration": 11,
    "start_time": "2022-11-18T10:30:14.413Z"
   },
   {
    "duration": 55,
    "start_time": "2022-11-18T10:30:14.426Z"
   },
   {
    "duration": 39,
    "start_time": "2022-11-18T10:30:14.483Z"
   },
   {
    "duration": 37,
    "start_time": "2022-11-18T10:30:14.525Z"
   },
   {
    "duration": 13,
    "start_time": "2022-11-18T10:30:14.563Z"
   },
   {
    "duration": 23,
    "start_time": "2022-11-18T10:30:14.578Z"
   },
   {
    "duration": 48,
    "start_time": "2022-11-18T10:30:14.603Z"
   },
   {
    "duration": 106,
    "start_time": "2022-11-18T10:30:14.652Z"
   },
   {
    "duration": 6,
    "start_time": "2022-11-18T10:30:14.760Z"
   },
   {
    "duration": 32,
    "start_time": "2022-11-18T10:30:14.768Z"
   },
   {
    "duration": 13,
    "start_time": "2022-11-18T10:30:14.802Z"
   },
   {
    "duration": 40,
    "start_time": "2022-11-18T10:30:14.817Z"
   },
   {
    "duration": 46,
    "start_time": "2022-11-18T10:30:14.859Z"
   },
   {
    "duration": 41,
    "start_time": "2022-11-18T10:30:14.907Z"
   },
   {
    "duration": 13,
    "start_time": "2022-11-18T10:30:14.950Z"
   },
   {
    "duration": 16,
    "start_time": "2022-11-18T10:30:14.965Z"
   },
   {
    "duration": 57,
    "start_time": "2022-11-18T10:30:14.983Z"
   },
   {
    "duration": 19,
    "start_time": "2022-11-18T10:30:15.042Z"
   },
   {
    "duration": 330,
    "start_time": "2022-11-18T10:30:15.063Z"
   },
   {
    "duration": 217,
    "start_time": "2022-11-18T10:30:15.395Z"
   },
   {
    "duration": 255,
    "start_time": "2022-11-18T10:30:15.614Z"
   },
   {
    "duration": 276,
    "start_time": "2022-11-18T10:30:15.873Z"
   },
   {
    "duration": 168,
    "start_time": "2022-11-18T10:30:16.151Z"
   },
   {
    "duration": 199,
    "start_time": "2022-11-18T10:30:16.321Z"
   },
   {
    "duration": 175,
    "start_time": "2022-11-18T10:30:16.522Z"
   },
   {
    "duration": 142,
    "start_time": "2022-11-18T10:30:16.699Z"
   },
   {
    "duration": 240,
    "start_time": "2022-11-18T10:30:16.843Z"
   },
   {
    "duration": 279,
    "start_time": "2022-11-18T10:30:17.084Z"
   },
   {
    "duration": 278,
    "start_time": "2022-11-18T10:30:17.365Z"
   },
   {
    "duration": 267,
    "start_time": "2022-11-18T10:30:17.644Z"
   },
   {
    "duration": 140,
    "start_time": "2022-11-18T10:30:17.913Z"
   },
   {
    "duration": 148,
    "start_time": "2022-11-18T10:30:18.055Z"
   },
   {
    "duration": 17,
    "start_time": "2022-11-18T10:30:18.205Z"
   },
   {
    "duration": 290,
    "start_time": "2022-11-18T10:30:18.224Z"
   },
   {
    "duration": 218,
    "start_time": "2022-11-18T10:30:18.516Z"
   },
   {
    "duration": 188,
    "start_time": "2022-11-18T10:30:18.736Z"
   },
   {
    "duration": 189,
    "start_time": "2022-11-18T10:30:18.926Z"
   },
   {
    "duration": 194,
    "start_time": "2022-11-18T10:30:19.118Z"
   },
   {
    "duration": 248,
    "start_time": "2022-11-18T10:30:19.314Z"
   },
   {
    "duration": 173,
    "start_time": "2022-11-18T10:30:19.564Z"
   },
   {
    "duration": 159,
    "start_time": "2022-11-18T10:30:19.739Z"
   },
   {
    "duration": 183,
    "start_time": "2022-11-18T10:30:19.900Z"
   },
   {
    "duration": 190,
    "start_time": "2022-11-18T10:30:20.085Z"
   },
   {
    "duration": 187,
    "start_time": "2022-11-18T10:30:20.277Z"
   },
   {
    "duration": 25,
    "start_time": "2022-11-18T10:30:20.466Z"
   },
   {
    "duration": 22,
    "start_time": "2022-11-18T10:30:20.493Z"
   },
   {
    "duration": 9,
    "start_time": "2022-11-18T10:30:20.517Z"
   },
   {
    "duration": 192,
    "start_time": "2022-11-18T10:30:20.527Z"
   },
   {
    "duration": 965,
    "start_time": "2022-11-19T05:42:17.499Z"
   },
   {
    "duration": 28,
    "start_time": "2022-11-19T05:42:18.466Z"
   },
   {
    "duration": 4,
    "start_time": "2022-11-19T05:42:18.496Z"
   },
   {
    "duration": 7,
    "start_time": "2022-11-19T05:42:18.502Z"
   },
   {
    "duration": 10,
    "start_time": "2022-11-19T05:42:18.511Z"
   },
   {
    "duration": 20,
    "start_time": "2022-11-19T05:42:18.522Z"
   },
   {
    "duration": 4,
    "start_time": "2022-11-19T05:42:18.543Z"
   },
   {
    "duration": 14,
    "start_time": "2022-11-19T05:42:18.549Z"
   },
   {
    "duration": 7,
    "start_time": "2022-11-19T05:42:18.565Z"
   },
   {
    "duration": 5,
    "start_time": "2022-11-19T05:42:18.575Z"
   },
   {
    "duration": 6,
    "start_time": "2022-11-19T05:42:18.581Z"
   },
   {
    "duration": 11,
    "start_time": "2022-11-19T05:42:18.588Z"
   },
   {
    "duration": 28,
    "start_time": "2022-11-19T05:42:18.600Z"
   },
   {
    "duration": 81,
    "start_time": "2022-11-19T05:42:18.630Z"
   },
   {
    "duration": 6,
    "start_time": "2022-11-19T05:42:18.720Z"
   },
   {
    "duration": 15,
    "start_time": "2022-11-19T05:42:18.727Z"
   },
   {
    "duration": 5,
    "start_time": "2022-11-19T05:42:18.744Z"
   },
   {
    "duration": 5,
    "start_time": "2022-11-19T05:42:18.750Z"
   },
   {
    "duration": 8,
    "start_time": "2022-11-19T05:42:18.757Z"
   },
   {
    "duration": 12,
    "start_time": "2022-11-19T05:42:18.766Z"
   },
   {
    "duration": 6,
    "start_time": "2022-11-19T05:42:18.780Z"
   },
   {
    "duration": 7,
    "start_time": "2022-11-19T05:42:18.787Z"
   },
   {
    "duration": 27,
    "start_time": "2022-11-19T05:42:18.795Z"
   },
   {
    "duration": 6,
    "start_time": "2022-11-19T05:42:18.823Z"
   },
   {
    "duration": 290,
    "start_time": "2022-11-19T05:42:18.831Z"
   },
   {
    "duration": 171,
    "start_time": "2022-11-19T05:42:19.123Z"
   },
   {
    "duration": 204,
    "start_time": "2022-11-19T05:42:19.295Z"
   },
   {
    "duration": 221,
    "start_time": "2022-11-19T05:42:19.502Z"
   },
   {
    "duration": 136,
    "start_time": "2022-11-19T05:42:19.725Z"
   },
   {
    "duration": 139,
    "start_time": "2022-11-19T05:42:19.862Z"
   },
   {
    "duration": 128,
    "start_time": "2022-11-19T05:42:20.003Z"
   },
   {
    "duration": 125,
    "start_time": "2022-11-19T05:42:20.133Z"
   },
   {
    "duration": 200,
    "start_time": "2022-11-19T05:42:20.259Z"
   },
   {
    "duration": 229,
    "start_time": "2022-11-19T05:42:20.461Z"
   },
   {
    "duration": 223,
    "start_time": "2022-11-19T05:42:20.691Z"
   },
   {
    "duration": 212,
    "start_time": "2022-11-19T05:42:20.915Z"
   },
   {
    "duration": 114,
    "start_time": "2022-11-19T05:42:21.128Z"
   },
   {
    "duration": 123,
    "start_time": "2022-11-19T05:42:21.245Z"
   },
   {
    "duration": 8,
    "start_time": "2022-11-19T05:42:21.370Z"
   },
   {
    "duration": 266,
    "start_time": "2022-11-19T05:42:21.380Z"
   },
   {
    "duration": 180,
    "start_time": "2022-11-19T05:42:21.647Z"
   },
   {
    "duration": 161,
    "start_time": "2022-11-19T05:42:21.828Z"
   },
   {
    "duration": 158,
    "start_time": "2022-11-19T05:42:21.991Z"
   },
   {
    "duration": 144,
    "start_time": "2022-11-19T05:42:22.150Z"
   },
   {
    "duration": 204,
    "start_time": "2022-11-19T05:42:22.296Z"
   },
   {
    "duration": 144,
    "start_time": "2022-11-19T05:42:22.502Z"
   },
   {
    "duration": 135,
    "start_time": "2022-11-19T05:42:22.648Z"
   },
   {
    "duration": 146,
    "start_time": "2022-11-19T05:42:22.784Z"
   },
   {
    "duration": 154,
    "start_time": "2022-11-19T05:42:22.932Z"
   },
   {
    "duration": 154,
    "start_time": "2022-11-19T05:42:23.088Z"
   },
   {
    "duration": 21,
    "start_time": "2022-11-19T05:42:23.244Z"
   },
   {
    "duration": 46,
    "start_time": "2022-11-19T05:42:23.267Z"
   },
   {
    "duration": 42,
    "start_time": "2022-11-19T05:42:23.315Z"
   },
   {
    "duration": 191,
    "start_time": "2022-11-19T05:42:23.358Z"
   },
   {
    "duration": 49,
    "start_time": "2022-11-19T15:32:35.282Z"
   },
   {
    "duration": 956,
    "start_time": "2022-11-19T15:32:45.025Z"
   },
   {
    "duration": 41,
    "start_time": "2022-11-19T15:32:45.982Z"
   },
   {
    "duration": 4,
    "start_time": "2022-11-19T15:32:46.025Z"
   },
   {
    "duration": 10,
    "start_time": "2022-11-19T15:32:46.031Z"
   },
   {
    "duration": 5,
    "start_time": "2022-11-19T15:32:46.042Z"
   },
   {
    "duration": 13,
    "start_time": "2022-11-19T15:32:46.049Z"
   },
   {
    "duration": 5,
    "start_time": "2022-11-19T15:32:46.063Z"
   },
   {
    "duration": 12,
    "start_time": "2022-11-19T15:32:46.070Z"
   },
   {
    "duration": 7,
    "start_time": "2022-11-19T15:32:46.083Z"
   },
   {
    "duration": 31,
    "start_time": "2022-11-19T15:32:46.092Z"
   },
   {
    "duration": 9,
    "start_time": "2022-11-19T15:32:46.127Z"
   },
   {
    "duration": 6,
    "start_time": "2022-11-19T15:32:46.138Z"
   },
   {
    "duration": 15,
    "start_time": "2022-11-19T15:32:46.145Z"
   },
   {
    "duration": 35,
    "start_time": "2022-11-19T15:32:46.162Z"
   },
   {
    "duration": 4,
    "start_time": "2022-11-19T15:32:46.199Z"
   },
   {
    "duration": 16,
    "start_time": "2022-11-19T15:32:46.204Z"
   },
   {
    "duration": 9,
    "start_time": "2022-11-19T15:32:46.224Z"
   },
   {
    "duration": 6,
    "start_time": "2022-11-19T15:32:46.235Z"
   },
   {
    "duration": 9,
    "start_time": "2022-11-19T15:32:46.242Z"
   },
   {
    "duration": 5,
    "start_time": "2022-11-19T15:32:46.253Z"
   },
   {
    "duration": 6,
    "start_time": "2022-11-19T15:32:46.259Z"
   },
   {
    "duration": 9,
    "start_time": "2022-11-19T15:32:46.266Z"
   },
   {
    "duration": 6,
    "start_time": "2022-11-19T15:32:46.276Z"
   },
   {
    "duration": 277,
    "start_time": "2022-11-19T15:32:46.284Z"
   },
   {
    "duration": 196,
    "start_time": "2022-11-19T15:32:46.563Z"
   },
   {
    "duration": 302,
    "start_time": "2022-11-19T15:32:46.761Z"
   },
   {
    "duration": 245,
    "start_time": "2022-11-19T15:32:47.065Z"
   },
   {
    "duration": 131,
    "start_time": "2022-11-19T15:32:47.316Z"
   },
   {
    "duration": 151,
    "start_time": "2022-11-19T15:32:47.448Z"
   },
   {
    "duration": 137,
    "start_time": "2022-11-19T15:32:47.601Z"
   },
   {
    "duration": 119,
    "start_time": "2022-11-19T15:32:47.739Z"
   },
   {
    "duration": 167,
    "start_time": "2022-11-19T15:32:47.860Z"
   },
   {
    "duration": 248,
    "start_time": "2022-11-19T15:32:48.031Z"
   },
   {
    "duration": 324,
    "start_time": "2022-11-19T15:32:48.281Z"
   },
   {
    "duration": 233,
    "start_time": "2022-11-19T15:32:48.606Z"
   },
   {
    "duration": 121,
    "start_time": "2022-11-19T15:32:48.841Z"
   },
   {
    "duration": 129,
    "start_time": "2022-11-19T15:32:48.964Z"
   },
   {
    "duration": 24,
    "start_time": "2022-11-19T15:32:49.095Z"
   },
   {
    "duration": 275,
    "start_time": "2022-11-19T15:32:49.131Z"
   },
   {
    "duration": 109,
    "start_time": "2022-11-19T15:32:49.407Z"
   },
   {
    "duration": 160,
    "start_time": "2022-11-19T15:32:49.521Z"
   },
   {
    "duration": 165,
    "start_time": "2022-11-19T15:32:49.682Z"
   },
   {
    "duration": 254,
    "start_time": "2022-11-19T15:32:49.849Z"
   },
   {
    "duration": 257,
    "start_time": "2022-11-19T15:32:50.104Z"
   },
   {
    "duration": 172,
    "start_time": "2022-11-19T15:32:50.363Z"
   },
   {
    "duration": 146,
    "start_time": "2022-11-19T15:32:50.536Z"
   },
   {
    "duration": 158,
    "start_time": "2022-11-19T15:32:50.684Z"
   },
   {
    "duration": 171,
    "start_time": "2022-11-19T15:32:50.843Z"
   },
   {
    "duration": 175,
    "start_time": "2022-11-19T15:32:51.016Z"
   },
   {
    "duration": 34,
    "start_time": "2022-11-19T15:32:51.193Z"
   },
   {
    "duration": 16,
    "start_time": "2022-11-19T15:32:51.229Z"
   },
   {
    "duration": 25,
    "start_time": "2022-11-19T15:32:51.247Z"
   },
   {
    "duration": 174,
    "start_time": "2022-11-19T15:32:51.273Z"
   },
   {
    "duration": 735,
    "start_time": "2022-11-20T03:36:33.802Z"
   },
   {
    "duration": 36,
    "start_time": "2022-11-20T03:36:34.540Z"
   },
   {
    "duration": 13,
    "start_time": "2022-11-20T03:36:34.578Z"
   },
   {
    "duration": 7,
    "start_time": "2022-11-20T03:36:34.593Z"
   },
   {
    "duration": 6,
    "start_time": "2022-11-20T03:36:34.602Z"
   },
   {
    "duration": 12,
    "start_time": "2022-11-20T03:36:34.621Z"
   },
   {
    "duration": 9,
    "start_time": "2022-11-20T03:36:34.635Z"
   },
   {
    "duration": 12,
    "start_time": "2022-11-20T03:36:34.645Z"
   },
   {
    "duration": 10,
    "start_time": "2022-11-20T03:36:34.658Z"
   },
   {
    "duration": 5,
    "start_time": "2022-11-20T03:36:34.670Z"
   },
   {
    "duration": 16,
    "start_time": "2022-11-20T03:36:34.676Z"
   },
   {
    "duration": 8,
    "start_time": "2022-11-20T03:36:34.693Z"
   },
   {
    "duration": 23,
    "start_time": "2022-11-20T03:36:34.702Z"
   },
   {
    "duration": 34,
    "start_time": "2022-11-20T03:36:34.727Z"
   },
   {
    "duration": 4,
    "start_time": "2022-11-20T03:36:34.763Z"
   },
   {
    "duration": 5,
    "start_time": "2022-11-20T03:36:34.769Z"
   },
   {
    "duration": 6,
    "start_time": "2022-11-20T03:36:34.776Z"
   },
   {
    "duration": 5,
    "start_time": "2022-11-20T03:36:34.784Z"
   },
   {
    "duration": 38,
    "start_time": "2022-11-20T03:36:34.791Z"
   },
   {
    "duration": 5,
    "start_time": "2022-11-20T03:36:34.830Z"
   },
   {
    "duration": 9,
    "start_time": "2022-11-20T03:36:34.836Z"
   },
   {
    "duration": 10,
    "start_time": "2022-11-20T03:36:34.846Z"
   },
   {
    "duration": 6,
    "start_time": "2022-11-20T03:36:34.858Z"
   },
   {
    "duration": 264,
    "start_time": "2022-11-20T03:36:34.866Z"
   },
   {
    "duration": 218,
    "start_time": "2022-11-20T03:36:35.132Z"
   },
   {
    "duration": 259,
    "start_time": "2022-11-20T03:36:35.352Z"
   },
   {
    "duration": 221,
    "start_time": "2022-11-20T03:36:35.612Z"
   },
   {
    "duration": 130,
    "start_time": "2022-11-20T03:36:35.836Z"
   },
   {
    "duration": 136,
    "start_time": "2022-11-20T03:36:35.967Z"
   },
   {
    "duration": 130,
    "start_time": "2022-11-20T03:36:36.105Z"
   },
   {
    "duration": 111,
    "start_time": "2022-11-20T03:36:36.237Z"
   },
   {
    "duration": 143,
    "start_time": "2022-11-20T03:36:36.351Z"
   },
   {
    "duration": 238,
    "start_time": "2022-11-20T03:36:36.496Z"
   },
   {
    "duration": 293,
    "start_time": "2022-11-20T03:36:36.735Z"
   },
   {
    "duration": 217,
    "start_time": "2022-11-20T03:36:37.029Z"
   },
   {
    "duration": 112,
    "start_time": "2022-11-20T03:36:37.248Z"
   },
   {
    "duration": 119,
    "start_time": "2022-11-20T03:36:37.362Z"
   },
   {
    "duration": 8,
    "start_time": "2022-11-20T03:36:37.483Z"
   },
   {
    "duration": 237,
    "start_time": "2022-11-20T03:36:37.492Z"
   },
   {
    "duration": 102,
    "start_time": "2022-11-20T03:36:37.731Z"
   },
   {
    "duration": 158,
    "start_time": "2022-11-20T03:36:37.834Z"
   },
   {
    "duration": 162,
    "start_time": "2022-11-20T03:36:37.993Z"
   },
   {
    "duration": 222,
    "start_time": "2022-11-20T03:36:38.157Z"
   },
   {
    "duration": 195,
    "start_time": "2022-11-20T03:36:38.381Z"
   },
   {
    "duration": 131,
    "start_time": "2022-11-20T03:36:38.578Z"
   },
   {
    "duration": 134,
    "start_time": "2022-11-20T03:36:38.710Z"
   },
   {
    "duration": 142,
    "start_time": "2022-11-20T03:36:38.845Z"
   },
   {
    "duration": 155,
    "start_time": "2022-11-20T03:36:38.989Z"
   },
   {
    "duration": 154,
    "start_time": "2022-11-20T03:36:39.145Z"
   },
   {
    "duration": 28,
    "start_time": "2022-11-20T03:36:39.301Z"
   },
   {
    "duration": 7,
    "start_time": "2022-11-20T03:36:39.330Z"
   },
   {
    "duration": 10,
    "start_time": "2022-11-20T03:36:39.338Z"
   },
   {
    "duration": 155,
    "start_time": "2022-11-20T03:36:39.350Z"
   }
  ],
  "kernelspec": {
   "display_name": "Python 3 (ipykernel)",
   "language": "python",
   "name": "python3"
  },
  "language_info": {
   "codemirror_mode": {
    "name": "ipython",
    "version": 3
   },
   "file_extension": ".py",
   "mimetype": "text/x-python",
   "name": "python",
   "nbconvert_exporter": "python",
   "pygments_lexer": "ipython3",
   "version": "3.11.5"
  },
  "toc": {
   "base_numbering": 1,
   "nav_menu": {},
   "number_sections": true,
   "sideBar": true,
   "skip_h1_title": true,
   "title_cell": "Table of Contents",
   "title_sidebar": "Contents",
   "toc_cell": false,
   "toc_position": {},
   "toc_section_display": true,
   "toc_window_display": true
  }
 },
 "nbformat": 4,
 "nbformat_minor": 2
}
